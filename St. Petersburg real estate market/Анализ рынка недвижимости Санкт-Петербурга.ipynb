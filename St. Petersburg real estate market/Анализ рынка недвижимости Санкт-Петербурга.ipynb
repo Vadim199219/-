{
 "cells": [
  {
   "cell_type": "markdown",
   "metadata": {},
   "source": [
    "# Исследование объявлений о продаже квартир\n",
    "\n",
    "В вашем распоряжении данные сервиса Яндекс.Недвижимость — архив объявлений о продаже квартир в Санкт-Петербурге и соседних населённых пунктов за несколько лет. Нужно научиться определять рыночную стоимость объектов недвижимости. Ваша задача — установить параметры. Это позволит построить автоматизированную систему: она отследит аномалии и мошенническую деятельность. \n",
    "\n",
    "По каждой квартире на продажу доступны два вида данных. Первые вписаны пользователем, вторые — получены автоматически на основе картографических данных. Например, расстояние до центра, аэропорта, ближайшего парка и водоёма. "
   ]
  },
  {
   "cell_type": "markdown",
   "metadata": {},
   "source": [
    "### Общая информация: "
   ]
  },
  {
   "cell_type": "code",
   "execution_count": 1,
   "metadata": {},
   "outputs": [
    {
     "data": {
      "text/html": [
       "<div>\n",
       "<style scoped>\n",
       "    .dataframe tbody tr th:only-of-type {\n",
       "        vertical-align: middle;\n",
       "    }\n",
       "\n",
       "    .dataframe tbody tr th {\n",
       "        vertical-align: top;\n",
       "    }\n",
       "\n",
       "    .dataframe thead th {\n",
       "        text-align: right;\n",
       "    }\n",
       "</style>\n",
       "<table border=\"1\" class=\"dataframe\">\n",
       "  <thead>\n",
       "    <tr style=\"text-align: right;\">\n",
       "      <th></th>\n",
       "      <th>total_images\\tlast_price\\ttotal_area\\tfirst_day_exposition\\trooms\\tceiling_height\\tfloors_total\\tliving_area\\tfloor\\tis_apartment\\tstudio\\topen_plan\\tkitchen_area\\tbalcony\\tlocality_name\\tairports_nearest\\tcityCenters_nearest\\tparks_around3000\\tparks_nearest\\tponds_around3000\\tponds_nearest\\tdays_exposition</th>\n",
       "    </tr>\n",
       "  </thead>\n",
       "  <tbody>\n",
       "    <tr>\n",
       "      <th>0</th>\n",
       "      <td>20\\t13000000.0\\t108.0\\t2019-03-07T00:00:00\\t3\\...</td>\n",
       "    </tr>\n",
       "    <tr>\n",
       "      <th>1</th>\n",
       "      <td>7\\t3350000.0\\t40.4\\t2018-12-04T00:00:00\\t1\\t\\t...</td>\n",
       "    </tr>\n",
       "    <tr>\n",
       "      <th>2</th>\n",
       "      <td>10\\t5196000.0\\t56.0\\t2015-08-20T00:00:00\\t2\\t\\...</td>\n",
       "    </tr>\n",
       "    <tr>\n",
       "      <th>3</th>\n",
       "      <td>0\\t64900000.0\\t159.0\\t2015-07-24T00:00:00\\t3\\t...</td>\n",
       "    </tr>\n",
       "    <tr>\n",
       "      <th>4</th>\n",
       "      <td>2\\t10000000.0\\t100.0\\t2018-06-19T00:00:00\\t2\\t...</td>\n",
       "    </tr>\n",
       "  </tbody>\n",
       "</table>\n",
       "</div>"
      ],
      "text/plain": [
       "  total_images\\tlast_price\\ttotal_area\\tfirst_day_exposition\\trooms\\tceiling_height\\tfloors_total\\tliving_area\\tfloor\\tis_apartment\\tstudio\\topen_plan\\tkitchen_area\\tbalcony\\tlocality_name\\tairports_nearest\\tcityCenters_nearest\\tparks_around3000\\tparks_nearest\\tponds_around3000\\tponds_nearest\\tdays_exposition\n",
       "0  20\\t13000000.0\\t108.0\\t2019-03-07T00:00:00\\t3\\...                                                                                                                                                                                                                                                                  \n",
       "1  7\\t3350000.0\\t40.4\\t2018-12-04T00:00:00\\t1\\t\\t...                                                                                                                                                                                                                                                                  \n",
       "2  10\\t5196000.0\\t56.0\\t2015-08-20T00:00:00\\t2\\t\\...                                                                                                                                                                                                                                                                  \n",
       "3  0\\t64900000.0\\t159.0\\t2015-07-24T00:00:00\\t3\\t...                                                                                                                                                                                                                                                                  \n",
       "4  2\\t10000000.0\\t100.0\\t2018-06-19T00:00:00\\t2\\t...                                                                                                                                                                                                                                                                  "
      ]
     },
     "execution_count": 1,
     "metadata": {},
     "output_type": "execute_result"
    }
   ],
   "source": [
    "# Загрузил библиотеку Pandas. Сохраним базу данных в переменной data и вывел первые 5 строк датафрейма:\n",
    "import pandas as pd\n",
    "data = pd.read_csv('/datasets/real_estate_data.csv')\n",
    "data.head()"
   ]
  },
  {
   "cell_type": "code",
   "execution_count": 2,
   "metadata": {},
   "outputs": [
    {
     "data": {
      "text/html": [
       "<div>\n",
       "<style scoped>\n",
       "    .dataframe tbody tr th:only-of-type {\n",
       "        vertical-align: middle;\n",
       "    }\n",
       "\n",
       "    .dataframe tbody tr th {\n",
       "        vertical-align: top;\n",
       "    }\n",
       "\n",
       "    .dataframe thead th {\n",
       "        text-align: right;\n",
       "    }\n",
       "</style>\n",
       "<table border=\"1\" class=\"dataframe\">\n",
       "  <thead>\n",
       "    <tr style=\"text-align: right;\">\n",
       "      <th></th>\n",
       "      <th>total_images</th>\n",
       "      <th>last_price</th>\n",
       "      <th>total_area</th>\n",
       "      <th>first_day_exposition</th>\n",
       "      <th>rooms</th>\n",
       "      <th>ceiling_height</th>\n",
       "      <th>floors_total</th>\n",
       "      <th>living_area</th>\n",
       "      <th>floor</th>\n",
       "      <th>is_apartment</th>\n",
       "      <th>...</th>\n",
       "      <th>kitchen_area</th>\n",
       "      <th>balcony</th>\n",
       "      <th>locality_name</th>\n",
       "      <th>airports_nearest</th>\n",
       "      <th>cityCenters_nearest</th>\n",
       "      <th>parks_around3000</th>\n",
       "      <th>parks_nearest</th>\n",
       "      <th>ponds_around3000</th>\n",
       "      <th>ponds_nearest</th>\n",
       "      <th>days_exposition</th>\n",
       "    </tr>\n",
       "  </thead>\n",
       "  <tbody>\n",
       "    <tr>\n",
       "      <th>0</th>\n",
       "      <td>20</td>\n",
       "      <td>13000000.0</td>\n",
       "      <td>108.0</td>\n",
       "      <td>2019-03-07T00:00:00</td>\n",
       "      <td>3</td>\n",
       "      <td>2.70</td>\n",
       "      <td>16.0</td>\n",
       "      <td>51.0</td>\n",
       "      <td>8</td>\n",
       "      <td>NaN</td>\n",
       "      <td>...</td>\n",
       "      <td>25.0</td>\n",
       "      <td>NaN</td>\n",
       "      <td>Санкт-Петербург</td>\n",
       "      <td>18863.0</td>\n",
       "      <td>16028.0</td>\n",
       "      <td>1.0</td>\n",
       "      <td>482.0</td>\n",
       "      <td>2.0</td>\n",
       "      <td>755.0</td>\n",
       "      <td>NaN</td>\n",
       "    </tr>\n",
       "    <tr>\n",
       "      <th>1</th>\n",
       "      <td>7</td>\n",
       "      <td>3350000.0</td>\n",
       "      <td>40.4</td>\n",
       "      <td>2018-12-04T00:00:00</td>\n",
       "      <td>1</td>\n",
       "      <td>NaN</td>\n",
       "      <td>11.0</td>\n",
       "      <td>18.6</td>\n",
       "      <td>1</td>\n",
       "      <td>NaN</td>\n",
       "      <td>...</td>\n",
       "      <td>11.0</td>\n",
       "      <td>2.0</td>\n",
       "      <td>посёлок Шушары</td>\n",
       "      <td>12817.0</td>\n",
       "      <td>18603.0</td>\n",
       "      <td>0.0</td>\n",
       "      <td>NaN</td>\n",
       "      <td>0.0</td>\n",
       "      <td>NaN</td>\n",
       "      <td>81.0</td>\n",
       "    </tr>\n",
       "    <tr>\n",
       "      <th>2</th>\n",
       "      <td>10</td>\n",
       "      <td>5196000.0</td>\n",
       "      <td>56.0</td>\n",
       "      <td>2015-08-20T00:00:00</td>\n",
       "      <td>2</td>\n",
       "      <td>NaN</td>\n",
       "      <td>5.0</td>\n",
       "      <td>34.3</td>\n",
       "      <td>4</td>\n",
       "      <td>NaN</td>\n",
       "      <td>...</td>\n",
       "      <td>8.3</td>\n",
       "      <td>0.0</td>\n",
       "      <td>Санкт-Петербург</td>\n",
       "      <td>21741.0</td>\n",
       "      <td>13933.0</td>\n",
       "      <td>1.0</td>\n",
       "      <td>90.0</td>\n",
       "      <td>2.0</td>\n",
       "      <td>574.0</td>\n",
       "      <td>558.0</td>\n",
       "    </tr>\n",
       "    <tr>\n",
       "      <th>3</th>\n",
       "      <td>0</td>\n",
       "      <td>64900000.0</td>\n",
       "      <td>159.0</td>\n",
       "      <td>2015-07-24T00:00:00</td>\n",
       "      <td>3</td>\n",
       "      <td>NaN</td>\n",
       "      <td>14.0</td>\n",
       "      <td>NaN</td>\n",
       "      <td>9</td>\n",
       "      <td>NaN</td>\n",
       "      <td>...</td>\n",
       "      <td>NaN</td>\n",
       "      <td>0.0</td>\n",
       "      <td>Санкт-Петербург</td>\n",
       "      <td>28098.0</td>\n",
       "      <td>6800.0</td>\n",
       "      <td>2.0</td>\n",
       "      <td>84.0</td>\n",
       "      <td>3.0</td>\n",
       "      <td>234.0</td>\n",
       "      <td>424.0</td>\n",
       "    </tr>\n",
       "    <tr>\n",
       "      <th>4</th>\n",
       "      <td>2</td>\n",
       "      <td>10000000.0</td>\n",
       "      <td>100.0</td>\n",
       "      <td>2018-06-19T00:00:00</td>\n",
       "      <td>2</td>\n",
       "      <td>3.03</td>\n",
       "      <td>14.0</td>\n",
       "      <td>32.0</td>\n",
       "      <td>13</td>\n",
       "      <td>NaN</td>\n",
       "      <td>...</td>\n",
       "      <td>41.0</td>\n",
       "      <td>NaN</td>\n",
       "      <td>Санкт-Петербург</td>\n",
       "      <td>31856.0</td>\n",
       "      <td>8098.0</td>\n",
       "      <td>2.0</td>\n",
       "      <td>112.0</td>\n",
       "      <td>1.0</td>\n",
       "      <td>48.0</td>\n",
       "      <td>121.0</td>\n",
       "    </tr>\n",
       "  </tbody>\n",
       "</table>\n",
       "<p>5 rows × 22 columns</p>\n",
       "</div>"
      ],
      "text/plain": [
       "   total_images  last_price  total_area first_day_exposition  rooms  \\\n",
       "0            20  13000000.0       108.0  2019-03-07T00:00:00      3   \n",
       "1             7   3350000.0        40.4  2018-12-04T00:00:00      1   \n",
       "2            10   5196000.0        56.0  2015-08-20T00:00:00      2   \n",
       "3             0  64900000.0       159.0  2015-07-24T00:00:00      3   \n",
       "4             2  10000000.0       100.0  2018-06-19T00:00:00      2   \n",
       "\n",
       "   ceiling_height  floors_total  living_area  floor is_apartment  ...  \\\n",
       "0            2.70          16.0         51.0      8          NaN  ...   \n",
       "1             NaN          11.0         18.6      1          NaN  ...   \n",
       "2             NaN           5.0         34.3      4          NaN  ...   \n",
       "3             NaN          14.0          NaN      9          NaN  ...   \n",
       "4            3.03          14.0         32.0     13          NaN  ...   \n",
       "\n",
       "   kitchen_area  balcony    locality_name  airports_nearest  \\\n",
       "0          25.0      NaN  Санкт-Петербург           18863.0   \n",
       "1          11.0      2.0   посёлок Шушары           12817.0   \n",
       "2           8.3      0.0  Санкт-Петербург           21741.0   \n",
       "3           NaN      0.0  Санкт-Петербург           28098.0   \n",
       "4          41.0      NaN  Санкт-Петербург           31856.0   \n",
       "\n",
       "  cityCenters_nearest  parks_around3000  parks_nearest  ponds_around3000  \\\n",
       "0             16028.0               1.0          482.0               2.0   \n",
       "1             18603.0               0.0            NaN               0.0   \n",
       "2             13933.0               1.0           90.0               2.0   \n",
       "3              6800.0               2.0           84.0               3.0   \n",
       "4              8098.0               2.0          112.0               1.0   \n",
       "\n",
       "   ponds_nearest  days_exposition  \n",
       "0          755.0              NaN  \n",
       "1            NaN             81.0  \n",
       "2          574.0            558.0  \n",
       "3          234.0            424.0  \n",
       "4           48.0            121.0  \n",
       "\n",
       "[5 rows x 22 columns]"
      ]
     },
     "execution_count": 2,
     "metadata": {},
     "output_type": "execute_result"
    }
   ],
   "source": [
    "# Данные в датафрейме слились. Указал, в качестве разделителя, знак табуляции \\t. Затем еще раз вывел первые 5 строк:\n",
    "data = pd.read_csv('/datasets/real_estate_data.csv', sep='\\t')\n",
    "data.head()"
   ]
  },
  {
   "cell_type": "code",
   "execution_count": 3,
   "metadata": {},
   "outputs": [
    {
     "name": "stdout",
     "output_type": "stream",
     "text": [
      "<class 'pandas.core.frame.DataFrame'>\n",
      "RangeIndex: 23699 entries, 0 to 23698\n",
      "Data columns (total 22 columns):\n",
      " #   Column                Non-Null Count  Dtype  \n",
      "---  ------                --------------  -----  \n",
      " 0   total_images          23699 non-null  int64  \n",
      " 1   last_price            23699 non-null  float64\n",
      " 2   total_area            23699 non-null  float64\n",
      " 3   first_day_exposition  23699 non-null  object \n",
      " 4   rooms                 23699 non-null  int64  \n",
      " 5   ceiling_height        14504 non-null  float64\n",
      " 6   floors_total          23613 non-null  float64\n",
      " 7   living_area           21796 non-null  float64\n",
      " 8   floor                 23699 non-null  int64  \n",
      " 9   is_apartment          2775 non-null   object \n",
      " 10  studio                23699 non-null  bool   \n",
      " 11  open_plan             23699 non-null  bool   \n",
      " 12  kitchen_area          21421 non-null  float64\n",
      " 13  balcony               12180 non-null  float64\n",
      " 14  locality_name         23650 non-null  object \n",
      " 15  airports_nearest      18157 non-null  float64\n",
      " 16  cityCenters_nearest   18180 non-null  float64\n",
      " 17  parks_around3000      18181 non-null  float64\n",
      " 18  parks_nearest         8079 non-null   float64\n",
      " 19  ponds_around3000      18181 non-null  float64\n",
      " 20  ponds_nearest         9110 non-null   float64\n",
      " 21  days_exposition       20518 non-null  float64\n",
      "dtypes: bool(2), float64(14), int64(3), object(3)\n",
      "memory usage: 3.7+ MB\n"
     ]
    }
   ],
   "source": [
    "# Вывел атрибуты датафрейма:\n",
    "data.info()"
   ]
  },
  {
   "cell_type": "code",
   "execution_count": 4,
   "metadata": {},
   "outputs": [
    {
     "data": {
      "text/html": [
       "<div>\n",
       "<style scoped>\n",
       "    .dataframe tbody tr th:only-of-type {\n",
       "        vertical-align: middle;\n",
       "    }\n",
       "\n",
       "    .dataframe tbody tr th {\n",
       "        vertical-align: top;\n",
       "    }\n",
       "\n",
       "    .dataframe thead th {\n",
       "        text-align: right;\n",
       "    }\n",
       "</style>\n",
       "<table border=\"1\" class=\"dataframe\">\n",
       "  <thead>\n",
       "    <tr style=\"text-align: right;\">\n",
       "      <th></th>\n",
       "      <th>total_images</th>\n",
       "      <th>last_price</th>\n",
       "      <th>total_area</th>\n",
       "      <th>rooms</th>\n",
       "      <th>ceiling_height</th>\n",
       "      <th>floors_total</th>\n",
       "      <th>living_area</th>\n",
       "      <th>floor</th>\n",
       "      <th>kitchen_area</th>\n",
       "      <th>balcony</th>\n",
       "      <th>airports_nearest</th>\n",
       "      <th>cityCenters_nearest</th>\n",
       "      <th>parks_around3000</th>\n",
       "      <th>parks_nearest</th>\n",
       "      <th>ponds_around3000</th>\n",
       "      <th>ponds_nearest</th>\n",
       "      <th>days_exposition</th>\n",
       "    </tr>\n",
       "  </thead>\n",
       "  <tbody>\n",
       "    <tr>\n",
       "      <th>count</th>\n",
       "      <td>23699.000000</td>\n",
       "      <td>2.369900e+04</td>\n",
       "      <td>23699.000000</td>\n",
       "      <td>23699.000000</td>\n",
       "      <td>14504.000000</td>\n",
       "      <td>23613.000000</td>\n",
       "      <td>21796.000000</td>\n",
       "      <td>23699.000000</td>\n",
       "      <td>21421.000000</td>\n",
       "      <td>12180.000000</td>\n",
       "      <td>18157.000000</td>\n",
       "      <td>18180.000000</td>\n",
       "      <td>18181.000000</td>\n",
       "      <td>8079.000000</td>\n",
       "      <td>18181.000000</td>\n",
       "      <td>9110.000000</td>\n",
       "      <td>20518.000000</td>\n",
       "    </tr>\n",
       "    <tr>\n",
       "      <th>mean</th>\n",
       "      <td>9.858475</td>\n",
       "      <td>6.541549e+06</td>\n",
       "      <td>60.348651</td>\n",
       "      <td>2.070636</td>\n",
       "      <td>2.771499</td>\n",
       "      <td>10.673824</td>\n",
       "      <td>34.457852</td>\n",
       "      <td>5.892358</td>\n",
       "      <td>10.569807</td>\n",
       "      <td>1.150082</td>\n",
       "      <td>28793.672193</td>\n",
       "      <td>14191.277833</td>\n",
       "      <td>0.611408</td>\n",
       "      <td>490.804555</td>\n",
       "      <td>0.770255</td>\n",
       "      <td>517.980900</td>\n",
       "      <td>180.888634</td>\n",
       "    </tr>\n",
       "    <tr>\n",
       "      <th>std</th>\n",
       "      <td>5.682529</td>\n",
       "      <td>1.088701e+07</td>\n",
       "      <td>35.654083</td>\n",
       "      <td>1.078405</td>\n",
       "      <td>1.261056</td>\n",
       "      <td>6.597173</td>\n",
       "      <td>22.030445</td>\n",
       "      <td>4.885249</td>\n",
       "      <td>5.905438</td>\n",
       "      <td>1.071300</td>\n",
       "      <td>12630.880622</td>\n",
       "      <td>8608.386210</td>\n",
       "      <td>0.802074</td>\n",
       "      <td>342.317995</td>\n",
       "      <td>0.938346</td>\n",
       "      <td>277.720643</td>\n",
       "      <td>219.727988</td>\n",
       "    </tr>\n",
       "    <tr>\n",
       "      <th>min</th>\n",
       "      <td>0.000000</td>\n",
       "      <td>1.219000e+04</td>\n",
       "      <td>12.000000</td>\n",
       "      <td>0.000000</td>\n",
       "      <td>1.000000</td>\n",
       "      <td>1.000000</td>\n",
       "      <td>2.000000</td>\n",
       "      <td>1.000000</td>\n",
       "      <td>1.300000</td>\n",
       "      <td>0.000000</td>\n",
       "      <td>0.000000</td>\n",
       "      <td>181.000000</td>\n",
       "      <td>0.000000</td>\n",
       "      <td>1.000000</td>\n",
       "      <td>0.000000</td>\n",
       "      <td>13.000000</td>\n",
       "      <td>1.000000</td>\n",
       "    </tr>\n",
       "    <tr>\n",
       "      <th>25%</th>\n",
       "      <td>6.000000</td>\n",
       "      <td>3.400000e+06</td>\n",
       "      <td>40.000000</td>\n",
       "      <td>1.000000</td>\n",
       "      <td>2.520000</td>\n",
       "      <td>5.000000</td>\n",
       "      <td>18.600000</td>\n",
       "      <td>2.000000</td>\n",
       "      <td>7.000000</td>\n",
       "      <td>0.000000</td>\n",
       "      <td>18585.000000</td>\n",
       "      <td>9238.000000</td>\n",
       "      <td>0.000000</td>\n",
       "      <td>288.000000</td>\n",
       "      <td>0.000000</td>\n",
       "      <td>294.000000</td>\n",
       "      <td>45.000000</td>\n",
       "    </tr>\n",
       "    <tr>\n",
       "      <th>50%</th>\n",
       "      <td>9.000000</td>\n",
       "      <td>4.650000e+06</td>\n",
       "      <td>52.000000</td>\n",
       "      <td>2.000000</td>\n",
       "      <td>2.650000</td>\n",
       "      <td>9.000000</td>\n",
       "      <td>30.000000</td>\n",
       "      <td>4.000000</td>\n",
       "      <td>9.100000</td>\n",
       "      <td>1.000000</td>\n",
       "      <td>26726.000000</td>\n",
       "      <td>13098.500000</td>\n",
       "      <td>0.000000</td>\n",
       "      <td>455.000000</td>\n",
       "      <td>1.000000</td>\n",
       "      <td>502.000000</td>\n",
       "      <td>95.000000</td>\n",
       "    </tr>\n",
       "    <tr>\n",
       "      <th>75%</th>\n",
       "      <td>14.000000</td>\n",
       "      <td>6.800000e+06</td>\n",
       "      <td>69.900000</td>\n",
       "      <td>3.000000</td>\n",
       "      <td>2.800000</td>\n",
       "      <td>16.000000</td>\n",
       "      <td>42.300000</td>\n",
       "      <td>8.000000</td>\n",
       "      <td>12.000000</td>\n",
       "      <td>2.000000</td>\n",
       "      <td>37273.000000</td>\n",
       "      <td>16293.000000</td>\n",
       "      <td>1.000000</td>\n",
       "      <td>612.000000</td>\n",
       "      <td>1.000000</td>\n",
       "      <td>729.000000</td>\n",
       "      <td>232.000000</td>\n",
       "    </tr>\n",
       "    <tr>\n",
       "      <th>max</th>\n",
       "      <td>50.000000</td>\n",
       "      <td>7.630000e+08</td>\n",
       "      <td>900.000000</td>\n",
       "      <td>19.000000</td>\n",
       "      <td>100.000000</td>\n",
       "      <td>60.000000</td>\n",
       "      <td>409.700000</td>\n",
       "      <td>33.000000</td>\n",
       "      <td>112.000000</td>\n",
       "      <td>5.000000</td>\n",
       "      <td>84869.000000</td>\n",
       "      <td>65968.000000</td>\n",
       "      <td>3.000000</td>\n",
       "      <td>3190.000000</td>\n",
       "      <td>3.000000</td>\n",
       "      <td>1344.000000</td>\n",
       "      <td>1580.000000</td>\n",
       "    </tr>\n",
       "  </tbody>\n",
       "</table>\n",
       "</div>"
      ],
      "text/plain": [
       "       total_images    last_price    total_area         rooms  ceiling_height  \\\n",
       "count  23699.000000  2.369900e+04  23699.000000  23699.000000    14504.000000   \n",
       "mean       9.858475  6.541549e+06     60.348651      2.070636        2.771499   \n",
       "std        5.682529  1.088701e+07     35.654083      1.078405        1.261056   \n",
       "min        0.000000  1.219000e+04     12.000000      0.000000        1.000000   \n",
       "25%        6.000000  3.400000e+06     40.000000      1.000000        2.520000   \n",
       "50%        9.000000  4.650000e+06     52.000000      2.000000        2.650000   \n",
       "75%       14.000000  6.800000e+06     69.900000      3.000000        2.800000   \n",
       "max       50.000000  7.630000e+08    900.000000     19.000000      100.000000   \n",
       "\n",
       "       floors_total   living_area         floor  kitchen_area       balcony  \\\n",
       "count  23613.000000  21796.000000  23699.000000  21421.000000  12180.000000   \n",
       "mean      10.673824     34.457852      5.892358     10.569807      1.150082   \n",
       "std        6.597173     22.030445      4.885249      5.905438      1.071300   \n",
       "min        1.000000      2.000000      1.000000      1.300000      0.000000   \n",
       "25%        5.000000     18.600000      2.000000      7.000000      0.000000   \n",
       "50%        9.000000     30.000000      4.000000      9.100000      1.000000   \n",
       "75%       16.000000     42.300000      8.000000     12.000000      2.000000   \n",
       "max       60.000000    409.700000     33.000000    112.000000      5.000000   \n",
       "\n",
       "       airports_nearest  cityCenters_nearest  parks_around3000  parks_nearest  \\\n",
       "count      18157.000000         18180.000000      18181.000000    8079.000000   \n",
       "mean       28793.672193         14191.277833          0.611408     490.804555   \n",
       "std        12630.880622          8608.386210          0.802074     342.317995   \n",
       "min            0.000000           181.000000          0.000000       1.000000   \n",
       "25%        18585.000000          9238.000000          0.000000     288.000000   \n",
       "50%        26726.000000         13098.500000          0.000000     455.000000   \n",
       "75%        37273.000000         16293.000000          1.000000     612.000000   \n",
       "max        84869.000000         65968.000000          3.000000    3190.000000   \n",
       "\n",
       "       ponds_around3000  ponds_nearest  days_exposition  \n",
       "count      18181.000000    9110.000000     20518.000000  \n",
       "mean           0.770255     517.980900       180.888634  \n",
       "std            0.938346     277.720643       219.727988  \n",
       "min            0.000000      13.000000         1.000000  \n",
       "25%            0.000000     294.000000        45.000000  \n",
       "50%            1.000000     502.000000        95.000000  \n",
       "75%            1.000000     729.000000       232.000000  \n",
       "max            3.000000    1344.000000      1580.000000  "
      ]
     },
     "execution_count": 4,
     "metadata": {},
     "output_type": "execute_result"
    }
   ],
   "source": [
    "# Числовое описание значений каждого столбца датафрейма:\n",
    "data.describe()"
   ]
  },
  {
   "cell_type": "code",
   "execution_count": 5,
   "metadata": {},
   "outputs": [
    {
     "data": {
      "image/png": "[encoded data removed]",
      "text/plain": [
       "<Figure size 1080x1440 with 20 Axes>"
      ]
     },
     "metadata": {
      "needs_background": "light"
     },
     "output_type": "display_data"
    }
   ],
   "source": [
    "# Гистограммы по каждому столбцу датафрейма:\n",
    "import matplotlib.pyplot as plt\n",
    "data.hist(figsize=(15, 20))\n",
    "plt.show()"
   ]
  },
  {
   "cell_type": "markdown",
   "metadata": {},
   "source": [
    "**Вывод:**\n",
    "Всего в датафрейме 23699 строки, в нескольких столбцах обнаружены пропуски и аномалии.\n",
    "Дублирующих строк не выявлено."
   ]
  },
  {
   "cell_type": "markdown",
   "metadata": {},
   "source": [
    "### Предобработка данных:"
   ]
  },
  {
   "cell_type": "code",
   "execution_count": 6,
   "metadata": {},
   "outputs": [
    {
     "data": {
      "text/plain": [
       "total_images                0\n",
       "last_price                  0\n",
       "total_area                  0\n",
       "first_day_exposition        0\n",
       "rooms                       0\n",
       "ceiling_height           9195\n",
       "floors_total               86\n",
       "living_area              1903\n",
       "floor                       0\n",
       "is_apartment            20924\n",
       "studio                      0\n",
       "open_plan                   0\n",
       "kitchen_area             2278\n",
       "balcony                 11519\n",
       "locality_name              49\n",
       "airports_nearest         5542\n",
       "cityCenters_nearest      5519\n",
       "parks_around3000         5518\n",
       "parks_nearest           15620\n",
       "ponds_around3000         5518\n",
       "ponds_nearest           14589\n",
       "days_exposition          3181\n",
       "dtype: int64"
      ]
     },
     "execution_count": 6,
     "metadata": {},
     "output_type": "execute_result"
    }
   ],
   "source": [
    "# Количетво пропусков в каждом столбце датафрейма:\n",
    "data.isna().sum()"
   ]
  },
  {
   "cell_type": "code",
   "execution_count": 7,
   "metadata": {},
   "outputs": [],
   "source": [
    "# Заменил пропуски в столбце со статусом помещения на False, т.к. в связи со спецификой юридического оформления апартаментов, продавцы должны указывать это в объявлении.\n",
    "data['is_apartment'] = data['is_apartment'].fillna(False)\n",
    "\n",
    "# Поменял пропуски в столбцах, где логично предположить что отсутствие данных означает отсутствие рассматриваемого параметра/фактора в разрезе конкретного объекта недвижимости.\n",
    "data['balcony'] = data['balcony'].fillna(0)\n",
    "data['parks_around3000'] = data['parks_around3000'].fillna(0)\n",
    "data['ponds_around3000'] = data['ponds_around3000'].fillna(0)"
   ]
  },
  {
   "cell_type": "markdown",
   "metadata": {},
   "source": [
    "Также была рассмотрена возможность замены на ноль столбцов с расстоянием до ближайших объектов (таких как пруд, парк, аэропорт, центр города), однако от этой идеи решено было отказаться, т.к. замена на ноль будет восприниматься, как нахождение данных объектов недвижимости в непосредственной близости к парку, пруду и т.д.\n",
    "\n",
    "Остальные пропуски на данном этапе заменять не имеет смысла, т.к. логичную замену предположить затруднительно.\n",
    "\n",
    "Среди возможных причин, которые привели к пропускам, могут быть:\n",
    "* во-первых, человеческий фактор (например, пользователь элементарно не внес информацию по конкретному параметру в объявлении)\n",
    "* во-вторых, машинный фактор (например, не все парки и озера могут быть обозначены в системе, а значит не могут быть определены автоматически и привязаны к конкретному объекту недвижимости по территориальному принципу)"
   ]
  },
  {
   "cell_type": "code",
   "execution_count": 8,
   "metadata": {},
   "outputs": [],
   "source": [
    "# Изменил тип данных с вещественных на целочисленные:\n",
    "data['last_price'] = data['last_price'].astype('int32')\n",
    "data['balcony'] = data['balcony'].astype('int32')\n",
    "data['parks_around3000'] = data['parks_around3000'].astype('int32')\n",
    "data['ponds_around3000'] = data['ponds_around3000'].astype('int32')\n",
    "\n",
    "# Перевел дату в формат без времени, т.к. у всех объявлений оно стоит стандартное 00:00\n",
    "data['first_day_exposition'] = pd.to_datetime(data['first_day_exposition'], format = '%Y-%m-%d')"
   ]
  },
  {
   "cell_type": "markdown",
   "metadata": {},
   "source": [
    "В выбранных столбцах был изменен тип значений по следующим причинам:\n",
    "\n",
    "* Из вещественного в целочисленные - переведены столбцы, значения в которых нельзя разделить на дробные части.\n",
    "* изменен формат даты, т.к. объявление не привязывалось ко времени размещения, только к дате."
   ]
  },
  {
   "cell_type": "code",
   "execution_count": 9,
   "metadata": {},
   "outputs": [
    {
     "data": {
      "text/plain": [
       "array(['Санкт-Петербург', 'посёлок Шушары', 'городской посёлок Янино-1',\n",
       "       'посёлок Парголово', 'посёлок Мурино', 'Ломоносов', 'Сертолово',\n",
       "       'Петергоф', 'Пушкин', 'деревня Кудрово', 'Коммунар', 'Колпино',\n",
       "       'поселок городского типа Красный Бор', 'Гатчина', 'поселок Мурино',\n",
       "       'деревня Фёдоровское', 'Выборг', 'Кронштадт', 'Кировск',\n",
       "       'деревня Новое Девяткино', 'посёлок Металлострой',\n",
       "       'посёлок городского типа Лебяжье',\n",
       "       'посёлок городского типа Сиверский', 'поселок Молодцово',\n",
       "       'поселок городского типа Кузьмоловский',\n",
       "       'садовое товарищество Новая Ропша', 'Павловск',\n",
       "       'деревня Пикколово', 'Всеволожск', 'Волхов', 'Кингисепп',\n",
       "       'Приозерск', 'Сестрорецк', 'деревня Куттузи', 'посёлок Аннино',\n",
       "       'поселок городского типа Ефимовский', 'посёлок Плодовое',\n",
       "       'деревня Заклинье', 'поселок Торковичи', 'поселок Первомайское',\n",
       "       'Красное Село', 'посёлок Понтонный', 'Сясьстрой', 'деревня Старая',\n",
       "       'деревня Лесколово', 'посёлок Новый Свет', 'Сланцы',\n",
       "       'село Путилово', 'Ивангород', 'Мурино', 'Шлиссельбург',\n",
       "       'Никольское', 'Зеленогорск', 'Сосновый Бор', 'поселок Новый Свет',\n",
       "       'деревня Оржицы', 'деревня Кальтино', 'Кудрово',\n",
       "       'поселок Романовка', 'посёлок Бугры', 'поселок Бугры',\n",
       "       'поселок городского типа Рощино', 'Кириши', 'Луга', 'Волосово',\n",
       "       'Отрадное', 'село Павлово', 'поселок Оредеж', 'село Копорье',\n",
       "       'посёлок городского типа Красный Бор', 'посёлок Молодёжное',\n",
       "       'Тихвин', 'посёлок Победа', 'деревня Нурма',\n",
       "       'поселок городского типа Синявино', 'Тосно',\n",
       "       'посёлок городского типа Кузьмоловский', 'посёлок Стрельна',\n",
       "       'Бокситогорск', 'посёлок Александровская', 'деревня Лопухинка',\n",
       "       'Пикалёво', 'поселок Терволово',\n",
       "       'поселок городского типа Советский', 'Подпорожье',\n",
       "       'посёлок Петровское', 'посёлок городского типа Токсово',\n",
       "       'поселок Сельцо', 'посёлок городского типа Вырица',\n",
       "       'деревня Кипень', 'деревня Келози', 'деревня Вартемяги',\n",
       "       'посёлок Тельмана', 'поселок Севастьяново',\n",
       "       'городской поселок Большая Ижора', nan,\n",
       "       'городской посёлок Павлово', 'деревня Агалатово',\n",
       "       'посёлок Новогорелово', 'городской посёлок Лесогорский',\n",
       "       'деревня Лаголово', 'поселок Цвелодубово',\n",
       "       'поселок городского типа Рахья', 'поселок городского типа Вырица',\n",
       "       'деревня Белогорка', 'поселок Заводской',\n",
       "       'городской посёлок Новоселье', 'деревня Большие Колпаны',\n",
       "       'деревня Горбунки', 'деревня Батово', 'деревня Заневка',\n",
       "       'деревня Иссад', 'Приморск', 'городской посёлок Фёдоровское',\n",
       "       'деревня Мистолово', 'Новая Ладога', 'поселок Зимитицы',\n",
       "       'поселок Барышево', 'деревня Разметелево',\n",
       "       'поселок городского типа имени Свердлова', 'деревня Пеники',\n",
       "       'поселок Рябово', 'деревня Пудомяги', 'поселок станции Корнево',\n",
       "       'деревня Низино', 'деревня Бегуницы', 'посёлок Поляны',\n",
       "       'городской посёлок Мга', 'поселок Елизаветино',\n",
       "       'посёлок городского типа Кузнечное', 'деревня Колтуши',\n",
       "       'поселок Запорожское', 'посёлок городского типа Рощино',\n",
       "       'деревня Гостилицы', 'деревня Малое Карлино',\n",
       "       'посёлок Мичуринское', 'посёлок городского типа имени Морозова',\n",
       "       'посёлок Песочный', 'посёлок Сосново', 'деревня Аро',\n",
       "       'поселок Ильичёво', 'посёлок городского типа Тайцы',\n",
       "       'деревня Малое Верево', 'деревня Извара', 'поселок станции Вещево',\n",
       "       'село Паша', 'деревня Калитино',\n",
       "       'посёлок городского типа Ульяновка', 'деревня Чудской Бор',\n",
       "       'поселок городского типа Дубровка', 'деревня Мины',\n",
       "       'поселок Войсковицы', 'посёлок городского типа имени Свердлова',\n",
       "       'деревня Коркино', 'посёлок Ропша',\n",
       "       'поселок городского типа Приладожский', 'посёлок Щеглово',\n",
       "       'посёлок Гаврилово', 'Лодейное Поле', 'деревня Рабитицы',\n",
       "       'поселок городского типа Никольский', 'деревня Кузьмолово',\n",
       "       'деревня Малые Колпаны', 'поселок Тельмана',\n",
       "       'посёлок Петро-Славянка', 'городской посёлок Назия',\n",
       "       'посёлок Репино', 'посёлок Ильичёво', 'поселок Углово',\n",
       "       'поселок Старая Малукса', 'садовое товарищество Рахья',\n",
       "       'поселок Аннино', 'поселок Победа', 'деревня Меньково',\n",
       "       'деревня Старые Бегуницы', 'посёлок Сапёрный', 'поселок Семрино',\n",
       "       'поселок Гаврилово', 'поселок Глажево', 'поселок Кобринское',\n",
       "       'деревня Гарболово', 'деревня Юкки',\n",
       "       'поселок станции Приветнинское', 'деревня Мануйлово',\n",
       "       'деревня Пчева', 'поселок Поляны', 'поселок Цвылёво',\n",
       "       'поселок Мельниково', 'посёлок Пудость', 'посёлок Усть-Луга',\n",
       "       'Светогорск', 'Любань', 'поселок Селезнёво',\n",
       "       'поселок городского типа Рябово', 'Каменногорск', 'деревня Кривко',\n",
       "       'поселок Глебычево', 'деревня Парицы', 'поселок Жилпосёлок',\n",
       "       'посёлок городского типа Мга', 'городской поселок Янино-1',\n",
       "       'посёлок Войскорово', 'село Никольское', 'посёлок Терволово',\n",
       "       'поселок Стеклянный', 'посёлок городского типа Важины',\n",
       "       'посёлок Мыза-Ивановка', 'село Русско-Высоцкое',\n",
       "       'поселок городского типа Лебяжье',\n",
       "       'поселок городского типа Форносово', 'село Старая Ладога',\n",
       "       'поселок Житково', 'городской посёлок Виллози', 'деревня Лампово',\n",
       "       'деревня Шпаньково', 'деревня Лаврики', 'посёлок Сумино',\n",
       "       'посёлок Возрождение', 'деревня Старосиверская',\n",
       "       'посёлок Кикерино', 'поселок Возрождение',\n",
       "       'деревня Старое Хинколово', 'посёлок Пригородный',\n",
       "       'посёлок Торфяное', 'городской посёлок Будогощь',\n",
       "       'поселок Суходолье', 'поселок Красная Долина', 'деревня Хапо-Ое',\n",
       "       'поселок городского типа Дружная Горка', 'поселок Лисий Нос',\n",
       "       'деревня Яльгелево', 'посёлок Стеклянный', 'село Рождествено',\n",
       "       'деревня Старополье', 'посёлок Левашово', 'деревня Сяськелево',\n",
       "       'деревня Камышовка',\n",
       "       'садоводческое некоммерческое товарищество Лесная Поляна',\n",
       "       'деревня Хязельки', 'поселок Жилгородок',\n",
       "       'посёлок городского типа Павлово', 'деревня Ялгино',\n",
       "       'поселок Новый Учхоз', 'городской посёлок Рощино',\n",
       "       'поселок Гончарово', 'поселок Почап', 'посёлок Сапёрное',\n",
       "       'посёлок Платформа 69-й километр', 'поселок Каложицы',\n",
       "       'деревня Фалилеево', 'деревня Пельгора',\n",
       "       'поселок городского типа Лесогорский', 'деревня Торошковичи',\n",
       "       'посёлок Белоостров', 'посёлок Алексеевка', 'поселок Серебрянский',\n",
       "       'поселок Лукаши', 'поселок Петровское', 'деревня Щеглово',\n",
       "       'поселок Мичуринское', 'деревня Тарасово', 'поселок Кингисеппский',\n",
       "       'посёлок при железнодорожной станции Вещево', 'поселок Ушаки',\n",
       "       'деревня Котлы', 'деревня Сижно', 'деревня Торосово',\n",
       "       'посёлок Форт Красная Горка', 'поселок городского типа Токсово',\n",
       "       'деревня Новолисино', 'посёлок станции Громово', 'деревня Глинка',\n",
       "       'посёлок Мельниково', 'поселок городского типа Назия',\n",
       "       'деревня Старая Пустошь', 'поселок Коммунары', 'поселок Починок',\n",
       "       'посёлок городского типа Вознесенье', 'деревня Разбегаево',\n",
       "       'посёлок городского типа Рябово', 'поселок Гладкое',\n",
       "       'посёлок при железнодорожной станции Приветнинское',\n",
       "       'поселок Тёсово-4', 'посёлок Жилгородок', 'деревня Бор',\n",
       "       'посёлок Коробицыно', 'деревня Большая Вруда', 'деревня Курковицы',\n",
       "       'посёлок Лисий Нос', 'городской посёлок Советский',\n",
       "       'посёлок Кобралово', 'деревня Суоранда', 'поселок Кобралово',\n",
       "       'поселок городского типа Кондратьево',\n",
       "       'коттеджный поселок Счастье', 'поселок Любань', 'деревня Реброво',\n",
       "       'деревня Зимитицы', 'деревня Тойворово', 'поселок Семиозерье',\n",
       "       'поселок Лесное', 'поселок Совхозный', 'поселок Усть-Луга',\n",
       "       'посёлок Ленинское', 'посёлок Суйда',\n",
       "       'посёлок городского типа Форносово', 'деревня Нижние Осельки',\n",
       "       'посёлок станции Свирь', 'поселок Перово', 'Высоцк',\n",
       "       'поселок Гарболово', 'село Шум', 'поселок Котельский',\n",
       "       'поселок станции Лужайка', 'деревня Большая Пустомержа',\n",
       "       'поселок Красносельское', 'деревня Вахнова Кара', 'деревня Пижма',\n",
       "       'коттеджный поселок Кивеннапа Север', 'поселок Коробицыно',\n",
       "       'поселок Ромашки', 'посёлок Перово', 'деревня Каськово',\n",
       "       'деревня Куровицы', 'посёлок Плоское', 'поселок Сумино',\n",
       "       'поселок городского типа Большая Ижора', 'поселок Кирпичное',\n",
       "       'деревня Ям-Тесово', 'деревня Раздолье', 'деревня Терпилицы',\n",
       "       'посёлок Шугозеро', 'деревня Ваганово', 'поселок Пушное',\n",
       "       'садовое товарищество Садко', 'посёлок Усть-Ижора',\n",
       "       'деревня Выскатка', 'городской посёлок Свирьстрой',\n",
       "       'поселок Громово', 'деревня Кисельня', 'посёлок Старая Малукса',\n",
       "       'деревня Трубников Бор', 'поселок Калитино',\n",
       "       'посёлок Высокоключевой', 'садовое товарищество Приладожский',\n",
       "       'посёлок Пансионат Зелёный Бор', 'деревня Ненимяки',\n",
       "       'поселок Пансионат Зелёный Бор', 'деревня Снегирёвка',\n",
       "       'деревня Рапполово', 'деревня Пустынка', 'поселок Рабитицы',\n",
       "       'деревня Большой Сабск', 'деревня Русско', 'деревня Лупполово',\n",
       "       'деревня Большое Рейзино', 'деревня Малая Романовка',\n",
       "       'поселок Дружноселье', 'поселок Пчевжа', 'поселок Володарское',\n",
       "       'деревня Нижняя', 'коттеджный посёлок Лесное', 'деревня Тихковицы',\n",
       "       'деревня Борисова Грива', 'посёлок Дзержинского'], dtype=object)"
      ]
     },
     "execution_count": 9,
     "metadata": {},
     "output_type": "execute_result"
    }
   ],
   "source": [
    "# Проверил датафрейм на уникальные названия населенных пунктов\n",
    "data['locality_name'].unique()"
   ]
  },
  {
   "cell_type": "code",
   "execution_count": 10,
   "metadata": {},
   "outputs": [
    {
     "data": {
      "text/plain": [
       "array(['Санкт-Петербург', 'Шушары', 'Янино-1', 'Парголово', 'Мурино',\n",
       "       'Ломоносов', 'Сертолово', 'Петергоф', 'Пушкин', 'Кудрово',\n",
       "       'Коммунар', 'Колпино', 'Красный Бор', 'Гатчина', 'Фёдоровское',\n",
       "       'Выборг', 'Кронштадт', 'Кировск', 'Новое Девяткино',\n",
       "       'Металлострой', 'Лебяжье', 'Сиверский', 'Молодцово',\n",
       "       'Кузьмоловский', 'Новая Ропша', 'Павловск', 'Пикколово',\n",
       "       'Всеволожск', 'Волхов', 'Кингисепп', 'Приозерск', 'Сестрорецк',\n",
       "       'Куттузи', 'Аннино', 'Ефимовский', 'Плодовое', 'Заклинье',\n",
       "       'Торковичи', 'Первомайское', 'Красное Село', 'Понтонный',\n",
       "       'Сясьстрой', 'Старая', 'Лесколово', 'Новый Свет', 'Сланцы',\n",
       "       'Путилово', 'Ивангород', 'Шлиссельбург', 'Никольское',\n",
       "       'Зеленогорск', 'Сосновый Бор', 'Оржицы', 'Кальтино', 'Романовка',\n",
       "       'Бугры', 'Рощино', 'Кириши', 'Луга', 'Волосово', 'Отрадное',\n",
       "       'Павлово', 'Оредеж', 'Копорье', 'Молодёжное', 'Тихвин', 'Победа',\n",
       "       'Нурма', 'Синявино', 'Тосно', 'Стрельна', 'Бокситогорск',\n",
       "       'Александровская', 'Лопухинка', 'Пикалёво', 'Терволово',\n",
       "       'Советский', 'Подпорожье', 'Петровское', 'Токсово', 'Сельцо',\n",
       "       'Вырица', 'Кипень', 'Келози', 'Вартемяги', 'Тельмана',\n",
       "       'Севастьяново', 'Большая Ижора', nan, 'Агалатово', 'Новогорелово',\n",
       "       'Лесогорский', 'Лаголово', 'Цвелодубово', 'Рахья', 'Белогорка',\n",
       "       'Заводской', 'Новоселье', 'Большие Колпаны', 'Горбунки', 'Батово',\n",
       "       'Заневка', 'Иссад', 'Приморск', 'Мистолово', 'Новая Ладога',\n",
       "       'Зимитицы', 'Барышево', 'Разметелево', 'имени Свердлова', 'Пеники',\n",
       "       'Рябово', 'Пудомяги', 'Корнево', 'Низино', 'Бегуницы', 'Поляны',\n",
       "       'Мга', 'Елизаветино', 'Кузнечное', 'Колтуши', 'Запорожское',\n",
       "       'Гостилицы', 'Малое Карлино', 'Мичуринское', 'имени Морозова',\n",
       "       'Песочный', 'Сосново', 'Аро', 'Ильичёво', 'Тайцы', 'Малое Верево',\n",
       "       'Извара', 'Вещево', 'Паша', 'Калитино', 'Ульяновка', 'Чудской Бор',\n",
       "       'Дубровка', 'Мины', 'Войсковицы', 'Коркино', 'Ропша',\n",
       "       'Приладожский', 'Щеглово', 'Гаврилово', 'Лодейное Поле',\n",
       "       'Рабитицы', 'Никольский', 'Кузьмолово', 'Малые Колпаны',\n",
       "       'Петро-Славянка', 'Назия', 'Репино', 'Углово', 'Старая Малукса',\n",
       "       'Меньково', 'Старые Бегуницы', 'Сапёрный', 'Семрино', 'Глажево',\n",
       "       'Кобринское', 'Гарболово', 'Юкки', 'Приветнинское', 'Мануйлово',\n",
       "       'Пчева', 'Цвылёво', 'Мельниково', 'Пудость', 'Усть-Луга',\n",
       "       'Светогорск', 'Любань', 'Селезнёво', 'Каменногорск', 'Кривко',\n",
       "       'Глебычево', 'Парицы', 'Жилпосёлок', 'Войскорово', 'Стеклянный',\n",
       "       'Важины', 'Мыза-Ивановка', 'Русско-Высоцкое', 'Форносово',\n",
       "       'Старая Ладога', 'Житково', 'Виллози', 'Лампово', 'Шпаньково',\n",
       "       'Лаврики', 'Сумино', 'Возрождение', 'Старосиверская', 'Кикерино',\n",
       "       'Старое Хинколово', 'Пригородный', 'Торфяное', 'Будогощь',\n",
       "       'Суходолье', 'Красная Долина', 'Хапо-Ое', 'Дружная Горка',\n",
       "       'Лисий Нос', 'Яльгелево', 'Рождествено', 'Старополье', 'Левашово',\n",
       "       'Сяськелево', 'Камышовка', 'Лесная Поляна', 'Хязельки',\n",
       "       'Жилгородок', 'Ялгино', 'Новый Учхоз', 'Гончарово', 'Почап',\n",
       "       'Сапёрное', 'Платформа 69-й километр', 'Каложицы', 'Фалилеево',\n",
       "       'Пельгора', 'Торошковичи', 'Белоостров', 'Алексеевка',\n",
       "       'Серебрянский', 'Лукаши', 'Тарасово', 'Кингисеппский', ' Вещево',\n",
       "       'Ушаки', 'Котлы', 'Сижно', 'Торосово', 'Форт Красная Горка',\n",
       "       'Новолисино', 'Громово', 'Глинка', 'Старая Пустошь', 'Коммунары',\n",
       "       'Починок', 'Вознесенье', 'Разбегаево', 'Гладкое', ' Приветнинское',\n",
       "       'Тёсово-4', 'Бор', 'Коробицыно', 'Большая Вруда', 'Курковицы',\n",
       "       'Кобралово', 'Суоранда', 'Кондратьево', 'Счастье', 'Реброво',\n",
       "       'Тойворово', 'Семиозерье', 'Лесное', 'Совхозный', 'Ленинское',\n",
       "       'Суйда', 'Нижние Осельки', 'Свирь', 'Перово', 'Высоцк', 'Шум',\n",
       "       'Котельский', 'Лужайка', 'Большая Пустомержа', 'Красносельское',\n",
       "       'Вахнова Кара', 'Пижма', 'Кивеннапа Север', 'Ромашки', 'Каськово',\n",
       "       'Куровицы', 'Плоское', 'Кирпичное', 'Ям-Тесово', 'Раздолье',\n",
       "       'Терпилицы', 'Шугозеро', 'Ваганово', 'Пушное', 'Садко',\n",
       "       'Усть-Ижора', 'Выскатка', 'Свирьстрой', 'Кисельня',\n",
       "       'Трубников Бор', 'Высокоключевой', 'Пансионат Зелёный Бор',\n",
       "       'Ненимяки', 'Снегирёвка', 'Рапполово', 'Пустынка', 'Большой Сабск',\n",
       "       'Русско', 'Лупполово', 'Большое Рейзино', 'Малая Романовка',\n",
       "       'Дружноселье', 'Пчевжа', 'Володарское', 'Нижняя', 'Тихковицы',\n",
       "       'Борисова Грива', 'Дзержинского'], dtype=object)"
      ]
     },
     "execution_count": 10,
     "metadata": {},
     "output_type": "execute_result"
    }
   ],
   "source": [
    "# Удалил из названий населенных пунктов их тип, исключив тем самым неявные дубликаты:\n",
    "types = ['посёлок ', 'поселок ', 'деревня ', 'городского ', 'типа ', 'садовое товарищество ', 'городской ', 'станции ', 'село ', 'садоводческое ', 'некоммерческое ', 'товарищество ', 'садовое ', 'при железнодорожной станции ', 'коттеджный ', 'при железнодорожной']\n",
    "\n",
    "for type in types:\n",
    "    data['locality_name'] = data['locality_name'].str.replace(type, '')\n",
    "    \n",
    "# Проверил датафрейм на уникальные названия населенных пунктов еще раз:\n",
    "data['locality_name'].unique()"
   ]
  },
  {
   "cell_type": "markdown",
   "metadata": {},
   "source": [
    "В столбце locality_name названия населенных пунктов были приведены к единому виду путем отсеивания типа населенного пункта."
   ]
  },
  {
   "cell_type": "code",
   "execution_count": 11,
   "metadata": {},
   "outputs": [
    {
     "data": {
      "image/png": "[encoded data removed]",
      "text/plain": [
       "<Figure size 432x288 with 1 Axes>"
      ]
     },
     "metadata": {
      "needs_background": "light"
     },
     "output_type": "display_data"
    },
    {
     "data": {
      "image/png": "[encoded data removed]",
      "text/plain": [
       "<Figure size 432x288 with 1 Axes>"
      ]
     },
     "metadata": {
      "needs_background": "light"
     },
     "output_type": "display_data"
    }
   ],
   "source": [
    "# Построил гистограмму по столбцу living_area:\n",
    "plt.hist(data['living_area'], bins=30, range=(100, 410))\n",
    "plt.title('Жилая площадь')\n",
    "plt.xlabel('Квадратные метры')\n",
    "plt.ylabel('Количество квартир')\n",
    "plt.show()\n",
    "\n",
    "# Построил гистограмму по столбцу kitchen_area:\n",
    "plt.hist(data['kitchen_area'], bins=20, range=(30, 115))\n",
    "plt.title('Площадь кухни')\n",
    "plt.xlabel('Квадратные метры')\n",
    "plt.ylabel('Количество квартир')\n",
    "plt.show()"
   ]
  },
  {
   "cell_type": "code",
   "execution_count": 12,
   "metadata": {},
   "outputs": [],
   "source": [
    "# Удалил строки с выбивающимися значениями жилой площади и площади кухни:\n",
    "data=data.query('living_area <= 200')\n",
    "data=data.query('kitchen_area <= 50')\n",
    "\n",
    "# Посчитал медианные коэффициенты жилой и кухонной площади, на основе которых высчитаем жилую и кухонную площадь для каждой строки с пропущенными значениями:\n",
    "living_coefficient = data['living_area'].median() / data['total_area'].median()\n",
    "kitchen_coefficient = data['kitchen_area'].median() / data['total_area'].median()\n",
    "data['living_area'].fillna(data['total_area'] * living_coefficient, inplace=True)\n",
    "data['kitchen_area'].fillna(data['total_area'] * kitchen_coefficient, inplace=True)"
   ]
  },
  {
   "cell_type": "code",
   "execution_count": 13,
   "metadata": {},
   "outputs": [
    {
     "name": "stderr",
     "output_type": "stream",
     "text": [
      "/opt/conda/lib/python3.9/site-packages/numpy/lib/nanfunctions.py:1117: RuntimeWarning: Mean of empty slice\n",
      "  return np.nanmean(a, axis, out=out, keepdims=keepdims)\n",
      "/opt/conda/lib/python3.9/site-packages/numpy/lib/nanfunctions.py:1117: RuntimeWarning: Mean of empty slice\n",
      "  return np.nanmean(a, axis, out=out, keepdims=keepdims)\n",
      "/opt/conda/lib/python3.9/site-packages/numpy/lib/nanfunctions.py:1117: RuntimeWarning: Mean of empty slice\n",
      "  return np.nanmean(a, axis, out=out, keepdims=keepdims)\n",
      "/opt/conda/lib/python3.9/site-packages/numpy/lib/nanfunctions.py:1117: RuntimeWarning: Mean of empty slice\n",
      "  return np.nanmean(a, axis, out=out, keepdims=keepdims)\n",
      "/opt/conda/lib/python3.9/site-packages/numpy/lib/nanfunctions.py:1117: RuntimeWarning: Mean of empty slice\n",
      "  return np.nanmean(a, axis, out=out, keepdims=keepdims)\n",
      "/opt/conda/lib/python3.9/site-packages/numpy/lib/nanfunctions.py:1117: RuntimeWarning: Mean of empty slice\n",
      "  return np.nanmean(a, axis, out=out, keepdims=keepdims)\n",
      "/opt/conda/lib/python3.9/site-packages/numpy/lib/nanfunctions.py:1117: RuntimeWarning: Mean of empty slice\n",
      "  return np.nanmean(a, axis, out=out, keepdims=keepdims)\n",
      "/opt/conda/lib/python3.9/site-packages/numpy/lib/nanfunctions.py:1117: RuntimeWarning: Mean of empty slice\n",
      "  return np.nanmean(a, axis, out=out, keepdims=keepdims)\n",
      "/opt/conda/lib/python3.9/site-packages/numpy/lib/nanfunctions.py:1117: RuntimeWarning: Mean of empty slice\n",
      "  return np.nanmean(a, axis, out=out, keepdims=keepdims)\n",
      "/opt/conda/lib/python3.9/site-packages/numpy/lib/nanfunctions.py:1117: RuntimeWarning: Mean of empty slice\n",
      "  return np.nanmean(a, axis, out=out, keepdims=keepdims)\n",
      "/opt/conda/lib/python3.9/site-packages/numpy/lib/nanfunctions.py:1117: RuntimeWarning: Mean of empty slice\n",
      "  return np.nanmean(a, axis, out=out, keepdims=keepdims)\n",
      "/opt/conda/lib/python3.9/site-packages/numpy/lib/nanfunctions.py:1117: RuntimeWarning: Mean of empty slice\n",
      "  return np.nanmean(a, axis, out=out, keepdims=keepdims)\n",
      "/opt/conda/lib/python3.9/site-packages/numpy/lib/nanfunctions.py:1117: RuntimeWarning: Mean of empty slice\n",
      "  return np.nanmean(a, axis, out=out, keepdims=keepdims)\n",
      "/opt/conda/lib/python3.9/site-packages/numpy/lib/nanfunctions.py:1117: RuntimeWarning: Mean of empty slice\n",
      "  return np.nanmean(a, axis, out=out, keepdims=keepdims)\n",
      "/opt/conda/lib/python3.9/site-packages/numpy/lib/nanfunctions.py:1117: RuntimeWarning: Mean of empty slice\n",
      "  return np.nanmean(a, axis, out=out, keepdims=keepdims)\n",
      "/opt/conda/lib/python3.9/site-packages/numpy/lib/nanfunctions.py:1117: RuntimeWarning: Mean of empty slice\n",
      "  return np.nanmean(a, axis, out=out, keepdims=keepdims)\n",
      "/opt/conda/lib/python3.9/site-packages/numpy/lib/nanfunctions.py:1117: RuntimeWarning: Mean of empty slice\n",
      "  return np.nanmean(a, axis, out=out, keepdims=keepdims)\n",
      "/opt/conda/lib/python3.9/site-packages/numpy/lib/nanfunctions.py:1117: RuntimeWarning: Mean of empty slice\n",
      "  return np.nanmean(a, axis, out=out, keepdims=keepdims)\n",
      "/opt/conda/lib/python3.9/site-packages/numpy/lib/nanfunctions.py:1117: RuntimeWarning: Mean of empty slice\n",
      "  return np.nanmean(a, axis, out=out, keepdims=keepdims)\n",
      "/opt/conda/lib/python3.9/site-packages/numpy/lib/nanfunctions.py:1117: RuntimeWarning: Mean of empty slice\n",
      "  return np.nanmean(a, axis, out=out, keepdims=keepdims)\n",
      "/opt/conda/lib/python3.9/site-packages/numpy/lib/nanfunctions.py:1117: RuntimeWarning: Mean of empty slice\n",
      "  return np.nanmean(a, axis, out=out, keepdims=keepdims)\n",
      "/opt/conda/lib/python3.9/site-packages/numpy/lib/nanfunctions.py:1117: RuntimeWarning: Mean of empty slice\n",
      "  return np.nanmean(a, axis, out=out, keepdims=keepdims)\n",
      "/opt/conda/lib/python3.9/site-packages/numpy/lib/nanfunctions.py:1117: RuntimeWarning: Mean of empty slice\n",
      "  return np.nanmean(a, axis, out=out, keepdims=keepdims)\n",
      "/opt/conda/lib/python3.9/site-packages/numpy/lib/nanfunctions.py:1117: RuntimeWarning: Mean of empty slice\n",
      "  return np.nanmean(a, axis, out=out, keepdims=keepdims)\n",
      "/opt/conda/lib/python3.9/site-packages/numpy/lib/nanfunctions.py:1117: RuntimeWarning: Mean of empty slice\n",
      "  return np.nanmean(a, axis, out=out, keepdims=keepdims)\n",
      "/opt/conda/lib/python3.9/site-packages/numpy/lib/nanfunctions.py:1117: RuntimeWarning: Mean of empty slice\n",
      "  return np.nanmean(a, axis, out=out, keepdims=keepdims)\n",
      "/opt/conda/lib/python3.9/site-packages/numpy/lib/nanfunctions.py:1117: RuntimeWarning: Mean of empty slice\n",
      "  return np.nanmean(a, axis, out=out, keepdims=keepdims)\n",
      "/opt/conda/lib/python3.9/site-packages/numpy/lib/nanfunctions.py:1117: RuntimeWarning: Mean of empty slice\n",
      "  return np.nanmean(a, axis, out=out, keepdims=keepdims)\n",
      "/opt/conda/lib/python3.9/site-packages/numpy/lib/nanfunctions.py:1117: RuntimeWarning: Mean of empty slice\n",
      "  return np.nanmean(a, axis, out=out, keepdims=keepdims)\n",
      "/opt/conda/lib/python3.9/site-packages/numpy/lib/nanfunctions.py:1117: RuntimeWarning: Mean of empty slice\n",
      "  return np.nanmean(a, axis, out=out, keepdims=keepdims)\n",
      "/opt/conda/lib/python3.9/site-packages/numpy/lib/nanfunctions.py:1117: RuntimeWarning: Mean of empty slice\n",
      "  return np.nanmean(a, axis, out=out, keepdims=keepdims)\n",
      "/opt/conda/lib/python3.9/site-packages/numpy/lib/nanfunctions.py:1117: RuntimeWarning: Mean of empty slice\n",
      "  return np.nanmean(a, axis, out=out, keepdims=keepdims)\n",
      "/opt/conda/lib/python3.9/site-packages/numpy/lib/nanfunctions.py:1117: RuntimeWarning: Mean of empty slice\n",
      "  return np.nanmean(a, axis, out=out, keepdims=keepdims)\n",
      "/opt/conda/lib/python3.9/site-packages/numpy/lib/nanfunctions.py:1117: RuntimeWarning: Mean of empty slice\n",
      "  return np.nanmean(a, axis, out=out, keepdims=keepdims)\n",
      "/opt/conda/lib/python3.9/site-packages/numpy/lib/nanfunctions.py:1117: RuntimeWarning: Mean of empty slice\n",
      "  return np.nanmean(a, axis, out=out, keepdims=keepdims)\n",
      "/opt/conda/lib/python3.9/site-packages/numpy/lib/nanfunctions.py:1117: RuntimeWarning: Mean of empty slice\n",
      "  return np.nanmean(a, axis, out=out, keepdims=keepdims)\n",
      "/opt/conda/lib/python3.9/site-packages/numpy/lib/nanfunctions.py:1117: RuntimeWarning: Mean of empty slice\n",
      "  return np.nanmean(a, axis, out=out, keepdims=keepdims)\n",
      "/opt/conda/lib/python3.9/site-packages/numpy/lib/nanfunctions.py:1117: RuntimeWarning: Mean of empty slice\n",
      "  return np.nanmean(a, axis, out=out, keepdims=keepdims)\n",
      "/opt/conda/lib/python3.9/site-packages/numpy/lib/nanfunctions.py:1117: RuntimeWarning: Mean of empty slice\n",
      "  return np.nanmean(a, axis, out=out, keepdims=keepdims)\n",
      "/opt/conda/lib/python3.9/site-packages/numpy/lib/nanfunctions.py:1117: RuntimeWarning: Mean of empty slice\n",
      "  return np.nanmean(a, axis, out=out, keepdims=keepdims)\n",
      "/opt/conda/lib/python3.9/site-packages/numpy/lib/nanfunctions.py:1117: RuntimeWarning: Mean of empty slice\n",
      "  return np.nanmean(a, axis, out=out, keepdims=keepdims)\n",
      "/opt/conda/lib/python3.9/site-packages/numpy/lib/nanfunctions.py:1117: RuntimeWarning: Mean of empty slice\n",
      "  return np.nanmean(a, axis, out=out, keepdims=keepdims)\n",
      "/opt/conda/lib/python3.9/site-packages/numpy/lib/nanfunctions.py:1117: RuntimeWarning: Mean of empty slice\n",
      "  return np.nanmean(a, axis, out=out, keepdims=keepdims)\n",
      "/opt/conda/lib/python3.9/site-packages/numpy/lib/nanfunctions.py:1117: RuntimeWarning: Mean of empty slice\n",
      "  return np.nanmean(a, axis, out=out, keepdims=keepdims)\n",
      "/opt/conda/lib/python3.9/site-packages/numpy/lib/nanfunctions.py:1117: RuntimeWarning: Mean of empty slice\n",
      "  return np.nanmean(a, axis, out=out, keepdims=keepdims)\n",
      "/opt/conda/lib/python3.9/site-packages/numpy/lib/nanfunctions.py:1117: RuntimeWarning: Mean of empty slice\n",
      "  return np.nanmean(a, axis, out=out, keepdims=keepdims)\n",
      "/opt/conda/lib/python3.9/site-packages/numpy/lib/nanfunctions.py:1117: RuntimeWarning: Mean of empty slice\n",
      "  return np.nanmean(a, axis, out=out, keepdims=keepdims)\n",
      "/opt/conda/lib/python3.9/site-packages/numpy/lib/nanfunctions.py:1117: RuntimeWarning: Mean of empty slice\n",
      "  return np.nanmean(a, axis, out=out, keepdims=keepdims)\n",
      "/opt/conda/lib/python3.9/site-packages/numpy/lib/nanfunctions.py:1117: RuntimeWarning: Mean of empty slice\n",
      "  return np.nanmean(a, axis, out=out, keepdims=keepdims)\n",
      "/opt/conda/lib/python3.9/site-packages/numpy/lib/nanfunctions.py:1117: RuntimeWarning: Mean of empty slice\n",
      "  return np.nanmean(a, axis, out=out, keepdims=keepdims)\n",
      "/opt/conda/lib/python3.9/site-packages/numpy/lib/nanfunctions.py:1117: RuntimeWarning: Mean of empty slice\n",
      "  return np.nanmean(a, axis, out=out, keepdims=keepdims)\n",
      "/opt/conda/lib/python3.9/site-packages/numpy/lib/nanfunctions.py:1117: RuntimeWarning: Mean of empty slice\n",
      "  return np.nanmean(a, axis, out=out, keepdims=keepdims)\n",
      "/opt/conda/lib/python3.9/site-packages/numpy/lib/nanfunctions.py:1117: RuntimeWarning: Mean of empty slice\n",
      "  return np.nanmean(a, axis, out=out, keepdims=keepdims)\n",
      "/opt/conda/lib/python3.9/site-packages/numpy/lib/nanfunctions.py:1117: RuntimeWarning: Mean of empty slice\n",
      "  return np.nanmean(a, axis, out=out, keepdims=keepdims)\n",
      "/opt/conda/lib/python3.9/site-packages/numpy/lib/nanfunctions.py:1117: RuntimeWarning: Mean of empty slice\n",
      "  return np.nanmean(a, axis, out=out, keepdims=keepdims)\n",
      "/opt/conda/lib/python3.9/site-packages/numpy/lib/nanfunctions.py:1117: RuntimeWarning: Mean of empty slice\n",
      "  return np.nanmean(a, axis, out=out, keepdims=keepdims)\n",
      "/opt/conda/lib/python3.9/site-packages/numpy/lib/nanfunctions.py:1117: RuntimeWarning: Mean of empty slice\n",
      "  return np.nanmean(a, axis, out=out, keepdims=keepdims)\n",
      "/opt/conda/lib/python3.9/site-packages/numpy/lib/nanfunctions.py:1117: RuntimeWarning: Mean of empty slice\n",
      "  return np.nanmean(a, axis, out=out, keepdims=keepdims)\n",
      "/opt/conda/lib/python3.9/site-packages/numpy/lib/nanfunctions.py:1117: RuntimeWarning: Mean of empty slice\n",
      "  return np.nanmean(a, axis, out=out, keepdims=keepdims)\n",
      "/opt/conda/lib/python3.9/site-packages/numpy/lib/nanfunctions.py:1117: RuntimeWarning: Mean of empty slice\n",
      "  return np.nanmean(a, axis, out=out, keepdims=keepdims)\n",
      "/opt/conda/lib/python3.9/site-packages/numpy/lib/nanfunctions.py:1117: RuntimeWarning: Mean of empty slice\n",
      "  return np.nanmean(a, axis, out=out, keepdims=keepdims)\n",
      "/opt/conda/lib/python3.9/site-packages/numpy/lib/nanfunctions.py:1117: RuntimeWarning: Mean of empty slice\n",
      "  return np.nanmean(a, axis, out=out, keepdims=keepdims)\n",
      "/opt/conda/lib/python3.9/site-packages/numpy/lib/nanfunctions.py:1117: RuntimeWarning: Mean of empty slice\n",
      "  return np.nanmean(a, axis, out=out, keepdims=keepdims)\n",
      "/opt/conda/lib/python3.9/site-packages/numpy/lib/nanfunctions.py:1117: RuntimeWarning: Mean of empty slice\n",
      "  return np.nanmean(a, axis, out=out, keepdims=keepdims)\n",
      "/opt/conda/lib/python3.9/site-packages/numpy/lib/nanfunctions.py:1117: RuntimeWarning: Mean of empty slice\n",
      "  return np.nanmean(a, axis, out=out, keepdims=keepdims)\n",
      "/opt/conda/lib/python3.9/site-packages/numpy/lib/nanfunctions.py:1117: RuntimeWarning: Mean of empty slice\n",
      "  return np.nanmean(a, axis, out=out, keepdims=keepdims)\n",
      "/opt/conda/lib/python3.9/site-packages/numpy/lib/nanfunctions.py:1117: RuntimeWarning: Mean of empty slice\n",
      "  return np.nanmean(a, axis, out=out, keepdims=keepdims)\n",
      "/opt/conda/lib/python3.9/site-packages/numpy/lib/nanfunctions.py:1117: RuntimeWarning: Mean of empty slice\n",
      "  return np.nanmean(a, axis, out=out, keepdims=keepdims)\n",
      "/opt/conda/lib/python3.9/site-packages/numpy/lib/nanfunctions.py:1117: RuntimeWarning: Mean of empty slice\n",
      "  return np.nanmean(a, axis, out=out, keepdims=keepdims)\n",
      "/opt/conda/lib/python3.9/site-packages/numpy/lib/nanfunctions.py:1117: RuntimeWarning: Mean of empty slice\n",
      "  return np.nanmean(a, axis, out=out, keepdims=keepdims)\n",
      "/opt/conda/lib/python3.9/site-packages/numpy/lib/nanfunctions.py:1117: RuntimeWarning: Mean of empty slice\n",
      "  return np.nanmean(a, axis, out=out, keepdims=keepdims)\n",
      "/opt/conda/lib/python3.9/site-packages/numpy/lib/nanfunctions.py:1117: RuntimeWarning: Mean of empty slice\n",
      "  return np.nanmean(a, axis, out=out, keepdims=keepdims)\n",
      "/opt/conda/lib/python3.9/site-packages/numpy/lib/nanfunctions.py:1117: RuntimeWarning: Mean of empty slice\n",
      "  return np.nanmean(a, axis, out=out, keepdims=keepdims)\n",
      "/opt/conda/lib/python3.9/site-packages/numpy/lib/nanfunctions.py:1117: RuntimeWarning: Mean of empty slice\n",
      "  return np.nanmean(a, axis, out=out, keepdims=keepdims)\n",
      "/opt/conda/lib/python3.9/site-packages/numpy/lib/nanfunctions.py:1117: RuntimeWarning: Mean of empty slice\n",
      "  return np.nanmean(a, axis, out=out, keepdims=keepdims)\n",
      "/opt/conda/lib/python3.9/site-packages/numpy/lib/nanfunctions.py:1117: RuntimeWarning: Mean of empty slice\n",
      "  return np.nanmean(a, axis, out=out, keepdims=keepdims)\n",
      "/opt/conda/lib/python3.9/site-packages/numpy/lib/nanfunctions.py:1117: RuntimeWarning: Mean of empty slice\n",
      "  return np.nanmean(a, axis, out=out, keepdims=keepdims)\n",
      "/opt/conda/lib/python3.9/site-packages/numpy/lib/nanfunctions.py:1117: RuntimeWarning: Mean of empty slice\n",
      "  return np.nanmean(a, axis, out=out, keepdims=keepdims)\n",
      "/opt/conda/lib/python3.9/site-packages/numpy/lib/nanfunctions.py:1117: RuntimeWarning: Mean of empty slice\n",
      "  return np.nanmean(a, axis, out=out, keepdims=keepdims)\n",
      "/opt/conda/lib/python3.9/site-packages/numpy/lib/nanfunctions.py:1117: RuntimeWarning: Mean of empty slice\n",
      "  return np.nanmean(a, axis, out=out, keepdims=keepdims)\n",
      "/opt/conda/lib/python3.9/site-packages/numpy/lib/nanfunctions.py:1117: RuntimeWarning: Mean of empty slice\n",
      "  return np.nanmean(a, axis, out=out, keepdims=keepdims)\n",
      "/opt/conda/lib/python3.9/site-packages/numpy/lib/nanfunctions.py:1117: RuntimeWarning: Mean of empty slice\n",
      "  return np.nanmean(a, axis, out=out, keepdims=keepdims)\n",
      "/opt/conda/lib/python3.9/site-packages/numpy/lib/nanfunctions.py:1117: RuntimeWarning: Mean of empty slice\n",
      "  return np.nanmean(a, axis, out=out, keepdims=keepdims)\n",
      "/opt/conda/lib/python3.9/site-packages/numpy/lib/nanfunctions.py:1117: RuntimeWarning: Mean of empty slice\n",
      "  return np.nanmean(a, axis, out=out, keepdims=keepdims)\n",
      "/opt/conda/lib/python3.9/site-packages/numpy/lib/nanfunctions.py:1117: RuntimeWarning: Mean of empty slice\n",
      "  return np.nanmean(a, axis, out=out, keepdims=keepdims)\n",
      "/opt/conda/lib/python3.9/site-packages/numpy/lib/nanfunctions.py:1117: RuntimeWarning: Mean of empty slice\n",
      "  return np.nanmean(a, axis, out=out, keepdims=keepdims)\n",
      "/opt/conda/lib/python3.9/site-packages/numpy/lib/nanfunctions.py:1117: RuntimeWarning: Mean of empty slice\n",
      "  return np.nanmean(a, axis, out=out, keepdims=keepdims)\n",
      "/opt/conda/lib/python3.9/site-packages/numpy/lib/nanfunctions.py:1117: RuntimeWarning: Mean of empty slice\n",
      "  return np.nanmean(a, axis, out=out, keepdims=keepdims)\n",
      "/opt/conda/lib/python3.9/site-packages/numpy/lib/nanfunctions.py:1117: RuntimeWarning: Mean of empty slice\n",
      "  return np.nanmean(a, axis, out=out, keepdims=keepdims)\n",
      "/opt/conda/lib/python3.9/site-packages/numpy/lib/nanfunctions.py:1117: RuntimeWarning: Mean of empty slice\n",
      "  return np.nanmean(a, axis, out=out, keepdims=keepdims)\n",
      "/opt/conda/lib/python3.9/site-packages/numpy/lib/nanfunctions.py:1117: RuntimeWarning: Mean of empty slice\n",
      "  return np.nanmean(a, axis, out=out, keepdims=keepdims)\n",
      "/opt/conda/lib/python3.9/site-packages/numpy/lib/nanfunctions.py:1117: RuntimeWarning: Mean of empty slice\n",
      "  return np.nanmean(a, axis, out=out, keepdims=keepdims)\n",
      "/opt/conda/lib/python3.9/site-packages/numpy/lib/nanfunctions.py:1117: RuntimeWarning: Mean of empty slice\n",
      "  return np.nanmean(a, axis, out=out, keepdims=keepdims)\n",
      "/opt/conda/lib/python3.9/site-packages/numpy/lib/nanfunctions.py:1117: RuntimeWarning: Mean of empty slice\n",
      "  return np.nanmean(a, axis, out=out, keepdims=keepdims)\n",
      "/opt/conda/lib/python3.9/site-packages/numpy/lib/nanfunctions.py:1117: RuntimeWarning: Mean of empty slice\n",
      "  return np.nanmean(a, axis, out=out, keepdims=keepdims)\n",
      "/opt/conda/lib/python3.9/site-packages/numpy/lib/nanfunctions.py:1117: RuntimeWarning: Mean of empty slice\n",
      "  return np.nanmean(a, axis, out=out, keepdims=keepdims)\n",
      "/opt/conda/lib/python3.9/site-packages/numpy/lib/nanfunctions.py:1117: RuntimeWarning: Mean of empty slice\n",
      "  return np.nanmean(a, axis, out=out, keepdims=keepdims)\n",
      "/opt/conda/lib/python3.9/site-packages/numpy/lib/nanfunctions.py:1117: RuntimeWarning: Mean of empty slice\n",
      "  return np.nanmean(a, axis, out=out, keepdims=keepdims)\n",
      "/opt/conda/lib/python3.9/site-packages/numpy/lib/nanfunctions.py:1117: RuntimeWarning: Mean of empty slice\n",
      "  return np.nanmean(a, axis, out=out, keepdims=keepdims)\n",
      "/opt/conda/lib/python3.9/site-packages/numpy/lib/nanfunctions.py:1117: RuntimeWarning: Mean of empty slice\n",
      "  return np.nanmean(a, axis, out=out, keepdims=keepdims)\n",
      "/opt/conda/lib/python3.9/site-packages/numpy/lib/nanfunctions.py:1117: RuntimeWarning: Mean of empty slice\n",
      "  return np.nanmean(a, axis, out=out, keepdims=keepdims)\n",
      "/opt/conda/lib/python3.9/site-packages/numpy/lib/nanfunctions.py:1117: RuntimeWarning: Mean of empty slice\n",
      "  return np.nanmean(a, axis, out=out, keepdims=keepdims)\n",
      "/opt/conda/lib/python3.9/site-packages/numpy/lib/nanfunctions.py:1117: RuntimeWarning: Mean of empty slice\n",
      "  return np.nanmean(a, axis, out=out, keepdims=keepdims)\n",
      "/opt/conda/lib/python3.9/site-packages/numpy/lib/nanfunctions.py:1117: RuntimeWarning: Mean of empty slice\n",
      "  return np.nanmean(a, axis, out=out, keepdims=keepdims)\n",
      "/opt/conda/lib/python3.9/site-packages/numpy/lib/nanfunctions.py:1117: RuntimeWarning: Mean of empty slice\n",
      "  return np.nanmean(a, axis, out=out, keepdims=keepdims)\n",
      "/opt/conda/lib/python3.9/site-packages/numpy/lib/nanfunctions.py:1117: RuntimeWarning: Mean of empty slice\n",
      "  return np.nanmean(a, axis, out=out, keepdims=keepdims)\n",
      "/opt/conda/lib/python3.9/site-packages/numpy/lib/nanfunctions.py:1117: RuntimeWarning: Mean of empty slice\n",
      "  return np.nanmean(a, axis, out=out, keepdims=keepdims)\n",
      "/opt/conda/lib/python3.9/site-packages/numpy/lib/nanfunctions.py:1117: RuntimeWarning: Mean of empty slice\n",
      "  return np.nanmean(a, axis, out=out, keepdims=keepdims)\n",
      "/opt/conda/lib/python3.9/site-packages/numpy/lib/nanfunctions.py:1117: RuntimeWarning: Mean of empty slice\n",
      "  return np.nanmean(a, axis, out=out, keepdims=keepdims)\n",
      "/opt/conda/lib/python3.9/site-packages/numpy/lib/nanfunctions.py:1117: RuntimeWarning: Mean of empty slice\n",
      "  return np.nanmean(a, axis, out=out, keepdims=keepdims)\n",
      "/opt/conda/lib/python3.9/site-packages/numpy/lib/nanfunctions.py:1117: RuntimeWarning: Mean of empty slice\n",
      "  return np.nanmean(a, axis, out=out, keepdims=keepdims)\n",
      "/opt/conda/lib/python3.9/site-packages/numpy/lib/nanfunctions.py:1117: RuntimeWarning: Mean of empty slice\n",
      "  return np.nanmean(a, axis, out=out, keepdims=keepdims)\n",
      "/opt/conda/lib/python3.9/site-packages/numpy/lib/nanfunctions.py:1117: RuntimeWarning: Mean of empty slice\n",
      "  return np.nanmean(a, axis, out=out, keepdims=keepdims)\n",
      "/opt/conda/lib/python3.9/site-packages/numpy/lib/nanfunctions.py:1117: RuntimeWarning: Mean of empty slice\n",
      "  return np.nanmean(a, axis, out=out, keepdims=keepdims)\n",
      "/opt/conda/lib/python3.9/site-packages/numpy/lib/nanfunctions.py:1117: RuntimeWarning: Mean of empty slice\n",
      "  return np.nanmean(a, axis, out=out, keepdims=keepdims)\n",
      "/opt/conda/lib/python3.9/site-packages/numpy/lib/nanfunctions.py:1117: RuntimeWarning: Mean of empty slice\n",
      "  return np.nanmean(a, axis, out=out, keepdims=keepdims)\n",
      "/opt/conda/lib/python3.9/site-packages/numpy/lib/nanfunctions.py:1117: RuntimeWarning: Mean of empty slice\n",
      "  return np.nanmean(a, axis, out=out, keepdims=keepdims)\n",
      "/opt/conda/lib/python3.9/site-packages/numpy/lib/nanfunctions.py:1117: RuntimeWarning: Mean of empty slice\n",
      "  return np.nanmean(a, axis, out=out, keepdims=keepdims)\n",
      "/opt/conda/lib/python3.9/site-packages/numpy/lib/nanfunctions.py:1117: RuntimeWarning: Mean of empty slice\n",
      "  return np.nanmean(a, axis, out=out, keepdims=keepdims)\n",
      "/opt/conda/lib/python3.9/site-packages/numpy/lib/nanfunctions.py:1117: RuntimeWarning: Mean of empty slice\n",
      "  return np.nanmean(a, axis, out=out, keepdims=keepdims)\n",
      "/opt/conda/lib/python3.9/site-packages/numpy/lib/nanfunctions.py:1117: RuntimeWarning: Mean of empty slice\n",
      "  return np.nanmean(a, axis, out=out, keepdims=keepdims)\n",
      "/opt/conda/lib/python3.9/site-packages/numpy/lib/nanfunctions.py:1117: RuntimeWarning: Mean of empty slice\n",
      "  return np.nanmean(a, axis, out=out, keepdims=keepdims)\n",
      "/opt/conda/lib/python3.9/site-packages/numpy/lib/nanfunctions.py:1117: RuntimeWarning: Mean of empty slice\n",
      "  return np.nanmean(a, axis, out=out, keepdims=keepdims)\n",
      "/opt/conda/lib/python3.9/site-packages/numpy/lib/nanfunctions.py:1117: RuntimeWarning: Mean of empty slice\n",
      "  return np.nanmean(a, axis, out=out, keepdims=keepdims)\n",
      "/opt/conda/lib/python3.9/site-packages/numpy/lib/nanfunctions.py:1117: RuntimeWarning: Mean of empty slice\n",
      "  return np.nanmean(a, axis, out=out, keepdims=keepdims)\n",
      "/opt/conda/lib/python3.9/site-packages/numpy/lib/nanfunctions.py:1117: RuntimeWarning: Mean of empty slice\n",
      "  return np.nanmean(a, axis, out=out, keepdims=keepdims)\n",
      "/opt/conda/lib/python3.9/site-packages/numpy/lib/nanfunctions.py:1117: RuntimeWarning: Mean of empty slice\n",
      "  return np.nanmean(a, axis, out=out, keepdims=keepdims)\n",
      "/opt/conda/lib/python3.9/site-packages/numpy/lib/nanfunctions.py:1117: RuntimeWarning: Mean of empty slice\n",
      "  return np.nanmean(a, axis, out=out, keepdims=keepdims)\n",
      "/opt/conda/lib/python3.9/site-packages/numpy/lib/nanfunctions.py:1117: RuntimeWarning: Mean of empty slice\n",
      "  return np.nanmean(a, axis, out=out, keepdims=keepdims)\n",
      "/opt/conda/lib/python3.9/site-packages/numpy/lib/nanfunctions.py:1117: RuntimeWarning: Mean of empty slice\n",
      "  return np.nanmean(a, axis, out=out, keepdims=keepdims)\n",
      "/opt/conda/lib/python3.9/site-packages/numpy/lib/nanfunctions.py:1117: RuntimeWarning: Mean of empty slice\n",
      "  return np.nanmean(a, axis, out=out, keepdims=keepdims)\n",
      "/opt/conda/lib/python3.9/site-packages/numpy/lib/nanfunctions.py:1117: RuntimeWarning: Mean of empty slice\n",
      "  return np.nanmean(a, axis, out=out, keepdims=keepdims)\n",
      "/opt/conda/lib/python3.9/site-packages/numpy/lib/nanfunctions.py:1117: RuntimeWarning: Mean of empty slice\n",
      "  return np.nanmean(a, axis, out=out, keepdims=keepdims)\n",
      "/opt/conda/lib/python3.9/site-packages/numpy/lib/nanfunctions.py:1117: RuntimeWarning: Mean of empty slice\n",
      "  return np.nanmean(a, axis, out=out, keepdims=keepdims)\n",
      "/opt/conda/lib/python3.9/site-packages/numpy/lib/nanfunctions.py:1117: RuntimeWarning: Mean of empty slice\n",
      "  return np.nanmean(a, axis, out=out, keepdims=keepdims)\n",
      "/opt/conda/lib/python3.9/site-packages/numpy/lib/nanfunctions.py:1117: RuntimeWarning: Mean of empty slice\n",
      "  return np.nanmean(a, axis, out=out, keepdims=keepdims)\n",
      "/opt/conda/lib/python3.9/site-packages/numpy/lib/nanfunctions.py:1117: RuntimeWarning: Mean of empty slice\n",
      "  return np.nanmean(a, axis, out=out, keepdims=keepdims)\n",
      "/opt/conda/lib/python3.9/site-packages/numpy/lib/nanfunctions.py:1117: RuntimeWarning: Mean of empty slice\n",
      "  return np.nanmean(a, axis, out=out, keepdims=keepdims)\n",
      "/opt/conda/lib/python3.9/site-packages/numpy/lib/nanfunctions.py:1117: RuntimeWarning: Mean of empty slice\n",
      "  return np.nanmean(a, axis, out=out, keepdims=keepdims)\n",
      "/opt/conda/lib/python3.9/site-packages/numpy/lib/nanfunctions.py:1117: RuntimeWarning: Mean of empty slice\n",
      "  return np.nanmean(a, axis, out=out, keepdims=keepdims)\n",
      "/opt/conda/lib/python3.9/site-packages/numpy/lib/nanfunctions.py:1117: RuntimeWarning: Mean of empty slice\n",
      "  return np.nanmean(a, axis, out=out, keepdims=keepdims)\n",
      "/opt/conda/lib/python3.9/site-packages/numpy/lib/nanfunctions.py:1117: RuntimeWarning: Mean of empty slice\n",
      "  return np.nanmean(a, axis, out=out, keepdims=keepdims)\n",
      "/opt/conda/lib/python3.9/site-packages/numpy/lib/nanfunctions.py:1117: RuntimeWarning: Mean of empty slice\n",
      "  return np.nanmean(a, axis, out=out, keepdims=keepdims)\n",
      "/opt/conda/lib/python3.9/site-packages/numpy/lib/nanfunctions.py:1117: RuntimeWarning: Mean of empty slice\n",
      "  return np.nanmean(a, axis, out=out, keepdims=keepdims)\n",
      "/opt/conda/lib/python3.9/site-packages/numpy/lib/nanfunctions.py:1117: RuntimeWarning: Mean of empty slice\n",
      "  return np.nanmean(a, axis, out=out, keepdims=keepdims)\n",
      "/opt/conda/lib/python3.9/site-packages/numpy/lib/nanfunctions.py:1117: RuntimeWarning: Mean of empty slice\n",
      "  return np.nanmean(a, axis, out=out, keepdims=keepdims)\n",
      "/opt/conda/lib/python3.9/site-packages/numpy/lib/nanfunctions.py:1117: RuntimeWarning: Mean of empty slice\n",
      "  return np.nanmean(a, axis, out=out, keepdims=keepdims)\n",
      "/opt/conda/lib/python3.9/site-packages/numpy/lib/nanfunctions.py:1117: RuntimeWarning: Mean of empty slice\n",
      "  return np.nanmean(a, axis, out=out, keepdims=keepdims)\n",
      "/opt/conda/lib/python3.9/site-packages/numpy/lib/nanfunctions.py:1117: RuntimeWarning: Mean of empty slice\n",
      "  return np.nanmean(a, axis, out=out, keepdims=keepdims)\n",
      "/opt/conda/lib/python3.9/site-packages/numpy/lib/nanfunctions.py:1117: RuntimeWarning: Mean of empty slice\n",
      "  return np.nanmean(a, axis, out=out, keepdims=keepdims)\n",
      "/opt/conda/lib/python3.9/site-packages/numpy/lib/nanfunctions.py:1117: RuntimeWarning: Mean of empty slice\n",
      "  return np.nanmean(a, axis, out=out, keepdims=keepdims)\n",
      "/opt/conda/lib/python3.9/site-packages/numpy/lib/nanfunctions.py:1117: RuntimeWarning: Mean of empty slice\n",
      "  return np.nanmean(a, axis, out=out, keepdims=keepdims)\n",
      "/opt/conda/lib/python3.9/site-packages/numpy/lib/nanfunctions.py:1117: RuntimeWarning: Mean of empty slice\n",
      "  return np.nanmean(a, axis, out=out, keepdims=keepdims)\n",
      "/opt/conda/lib/python3.9/site-packages/numpy/lib/nanfunctions.py:1117: RuntimeWarning: Mean of empty slice\n",
      "  return np.nanmean(a, axis, out=out, keepdims=keepdims)\n",
      "/opt/conda/lib/python3.9/site-packages/numpy/lib/nanfunctions.py:1117: RuntimeWarning: Mean of empty slice\n",
      "  return np.nanmean(a, axis, out=out, keepdims=keepdims)\n",
      "/opt/conda/lib/python3.9/site-packages/numpy/lib/nanfunctions.py:1117: RuntimeWarning: Mean of empty slice\n",
      "  return np.nanmean(a, axis, out=out, keepdims=keepdims)\n",
      "/opt/conda/lib/python3.9/site-packages/numpy/lib/nanfunctions.py:1117: RuntimeWarning: Mean of empty slice\n",
      "  return np.nanmean(a, axis, out=out, keepdims=keepdims)\n",
      "/opt/conda/lib/python3.9/site-packages/numpy/lib/nanfunctions.py:1117: RuntimeWarning: Mean of empty slice\n",
      "  return np.nanmean(a, axis, out=out, keepdims=keepdims)\n",
      "/opt/conda/lib/python3.9/site-packages/numpy/lib/nanfunctions.py:1117: RuntimeWarning: Mean of empty slice\n",
      "  return np.nanmean(a, axis, out=out, keepdims=keepdims)\n",
      "/opt/conda/lib/python3.9/site-packages/numpy/lib/nanfunctions.py:1117: RuntimeWarning: Mean of empty slice\n",
      "  return np.nanmean(a, axis, out=out, keepdims=keepdims)\n",
      "/opt/conda/lib/python3.9/site-packages/numpy/lib/nanfunctions.py:1117: RuntimeWarning: Mean of empty slice\n",
      "  return np.nanmean(a, axis, out=out, keepdims=keepdims)\n",
      "/opt/conda/lib/python3.9/site-packages/numpy/lib/nanfunctions.py:1117: RuntimeWarning: Mean of empty slice\n",
      "  return np.nanmean(a, axis, out=out, keepdims=keepdims)\n",
      "/opt/conda/lib/python3.9/site-packages/numpy/lib/nanfunctions.py:1117: RuntimeWarning: Mean of empty slice\n",
      "  return np.nanmean(a, axis, out=out, keepdims=keepdims)\n",
      "/opt/conda/lib/python3.9/site-packages/numpy/lib/nanfunctions.py:1117: RuntimeWarning: Mean of empty slice\n",
      "  return np.nanmean(a, axis, out=out, keepdims=keepdims)\n",
      "/opt/conda/lib/python3.9/site-packages/numpy/lib/nanfunctions.py:1117: RuntimeWarning: Mean of empty slice\n",
      "  return np.nanmean(a, axis, out=out, keepdims=keepdims)\n",
      "/opt/conda/lib/python3.9/site-packages/numpy/lib/nanfunctions.py:1117: RuntimeWarning: Mean of empty slice\n",
      "  return np.nanmean(a, axis, out=out, keepdims=keepdims)\n",
      "/opt/conda/lib/python3.9/site-packages/numpy/lib/nanfunctions.py:1117: RuntimeWarning: Mean of empty slice\n",
      "  return np.nanmean(a, axis, out=out, keepdims=keepdims)\n",
      "/opt/conda/lib/python3.9/site-packages/numpy/lib/nanfunctions.py:1117: RuntimeWarning: Mean of empty slice\n",
      "  return np.nanmean(a, axis, out=out, keepdims=keepdims)\n",
      "/opt/conda/lib/python3.9/site-packages/numpy/lib/nanfunctions.py:1117: RuntimeWarning: Mean of empty slice\n",
      "  return np.nanmean(a, axis, out=out, keepdims=keepdims)\n",
      "/opt/conda/lib/python3.9/site-packages/numpy/lib/nanfunctions.py:1117: RuntimeWarning: Mean of empty slice\n",
      "  return np.nanmean(a, axis, out=out, keepdims=keepdims)\n",
      "/opt/conda/lib/python3.9/site-packages/numpy/lib/nanfunctions.py:1117: RuntimeWarning: Mean of empty slice\n",
      "  return np.nanmean(a, axis, out=out, keepdims=keepdims)\n",
      "/opt/conda/lib/python3.9/site-packages/numpy/lib/nanfunctions.py:1117: RuntimeWarning: Mean of empty slice\n",
      "  return np.nanmean(a, axis, out=out, keepdims=keepdims)\n",
      "/opt/conda/lib/python3.9/site-packages/numpy/lib/nanfunctions.py:1117: RuntimeWarning: Mean of empty slice\n",
      "  return np.nanmean(a, axis, out=out, keepdims=keepdims)\n",
      "/opt/conda/lib/python3.9/site-packages/numpy/lib/nanfunctions.py:1117: RuntimeWarning: Mean of empty slice\n",
      "  return np.nanmean(a, axis, out=out, keepdims=keepdims)\n",
      "/opt/conda/lib/python3.9/site-packages/numpy/lib/nanfunctions.py:1117: RuntimeWarning: Mean of empty slice\n",
      "  return np.nanmean(a, axis, out=out, keepdims=keepdims)\n",
      "/opt/conda/lib/python3.9/site-packages/numpy/lib/nanfunctions.py:1117: RuntimeWarning: Mean of empty slice\n",
      "  return np.nanmean(a, axis, out=out, keepdims=keepdims)\n",
      "/opt/conda/lib/python3.9/site-packages/numpy/lib/nanfunctions.py:1117: RuntimeWarning: Mean of empty slice\n",
      "  return np.nanmean(a, axis, out=out, keepdims=keepdims)\n",
      "/opt/conda/lib/python3.9/site-packages/numpy/lib/nanfunctions.py:1117: RuntimeWarning: Mean of empty slice\n",
      "  return np.nanmean(a, axis, out=out, keepdims=keepdims)\n",
      "/opt/conda/lib/python3.9/site-packages/numpy/lib/nanfunctions.py:1117: RuntimeWarning: Mean of empty slice\n",
      "  return np.nanmean(a, axis, out=out, keepdims=keepdims)\n",
      "/opt/conda/lib/python3.9/site-packages/numpy/lib/nanfunctions.py:1117: RuntimeWarning: Mean of empty slice\n",
      "  return np.nanmean(a, axis, out=out, keepdims=keepdims)\n",
      "/opt/conda/lib/python3.9/site-packages/numpy/lib/nanfunctions.py:1117: RuntimeWarning: Mean of empty slice\n",
      "  return np.nanmean(a, axis, out=out, keepdims=keepdims)\n",
      "/opt/conda/lib/python3.9/site-packages/numpy/lib/nanfunctions.py:1117: RuntimeWarning: Mean of empty slice\n",
      "  return np.nanmean(a, axis, out=out, keepdims=keepdims)\n",
      "/opt/conda/lib/python3.9/site-packages/numpy/lib/nanfunctions.py:1117: RuntimeWarning: Mean of empty slice\n",
      "  return np.nanmean(a, axis, out=out, keepdims=keepdims)\n"
     ]
    }
   ],
   "source": [
    "# Привел высоту потолков, ошибочно записанную в сантиметрах к размеру в метрах, заполним пропуски медианным значением по столбцу и удалим строки в которых потолки ниже 2 метров и выше 10 метров:\n",
    "data['ceiling_height'] = data['ceiling_height'].where(data['ceiling_height'] < 25.0, data['ceiling_height']/10)\n",
    "data['ceiling_height'] = data.groupby(['locality_name', 'floors_total'])['ceiling_height'].apply(lambda x: x.fillna(x.median()))\n",
    "data['ceiling_height'].fillna(data['ceiling_height'].median(), inplace=True)\n",
    "data = data[(data['ceiling_height'] >= 2.0) & (data['ceiling_height'] <= 10.0)]\n",
    "\n",
    "# Удалил из датафрейма строки, в которых отсутствует название населенного пункта и этажность здания (49 и 36 строк, соответственно):\n",
    "data.dropna(subset=['locality_name'], inplace=True)\n",
    "data.dropna(subset=['floors_total'], inplace=True)\n",
    "\n",
    "# Перевел значения столбца floors_total в целочисленный тип:\n",
    "data['floors_total'] = data['floors_total'].astype('int32')\n",
    "\n",
    "# Перевел значения столбца is_apartment в булев тип:\n",
    "data['is_apartment'] = data['is_apartment'].astype(bool)\n",
    "\n",
    "# В датафрейме есть строки, в которых значение столбца rooms равняется нулю, что не может быть правдой. Удалил такие строки:\n",
    "data = data[(data['rooms'] > 0) & (data['rooms'] < 10)]"
   ]
  },
  {
   "cell_type": "markdown",
   "metadata": {},
   "source": [
    "Согласен, нужно было проверить на графике. \n",
    "* Теперь же решил ограничить жилую площадь - не более 200 кв. метров\n",
    "* Площадь кухни - не более 50 кв. метров\n",
    "\n",
    "И на основании новой выборки, заполнить рассчитать коэффициенты по медианным значениям."
   ]
  },
  {
   "cell_type": "code",
   "execution_count": 14,
   "metadata": {},
   "outputs": [
    {
     "data": {
      "text/plain": [
       "0"
      ]
     },
     "execution_count": 14,
     "metadata": {},
     "output_type": "execute_result"
    }
   ],
   "source": [
    "# Проверил датафрейма на количество строк-дубликатов\n",
    "data.duplicated().sum()"
   ]
  },
  {
   "cell_type": "code",
   "execution_count": 15,
   "metadata": {},
   "outputs": [
    {
     "data": {
      "text/plain": [
       "total_images                0\n",
       "last_price                  0\n",
       "total_area                  0\n",
       "first_day_exposition        0\n",
       "rooms                       0\n",
       "ceiling_height              0\n",
       "floors_total                0\n",
       "living_area                 0\n",
       "floor                       0\n",
       "is_apartment                0\n",
       "studio                      0\n",
       "open_plan                   0\n",
       "kitchen_area                0\n",
       "balcony                     0\n",
       "locality_name               0\n",
       "airports_nearest         4660\n",
       "cityCenters_nearest      4641\n",
       "parks_around3000            0\n",
       "parks_nearest           13637\n",
       "ponds_around3000            0\n",
       "ponds_nearest           12815\n",
       "days_exposition          2871\n",
       "dtype: int64"
      ]
     },
     "execution_count": 15,
     "metadata": {},
     "output_type": "execute_result"
    }
   ],
   "source": [
    "# Повторно проверил датафрейм на наличие пропусков в столбцах:\n",
    "data.isna().sum()"
   ]
  },
  {
   "cell_type": "code",
   "execution_count": 16,
   "metadata": {},
   "outputs": [
    {
     "name": "stdout",
     "output_type": "stream",
     "text": [
      "<class 'pandas.core.frame.DataFrame'>\n",
      "Int64Index: 20825 entries, 0 to 23698\n",
      "Data columns (total 22 columns):\n",
      " #   Column                Non-Null Count  Dtype         \n",
      "---  ------                --------------  -----         \n",
      " 0   total_images          20825 non-null  int64         \n",
      " 1   last_price            20825 non-null  int32         \n",
      " 2   total_area            20825 non-null  float64       \n",
      " 3   first_day_exposition  20825 non-null  datetime64[ns]\n",
      " 4   rooms                 20825 non-null  int64         \n",
      " 5   ceiling_height        20825 non-null  float64       \n",
      " 6   floors_total          20825 non-null  int32         \n",
      " 7   living_area           20825 non-null  float64       \n",
      " 8   floor                 20825 non-null  int64         \n",
      " 9   is_apartment          20825 non-null  bool          \n",
      " 10  studio                20825 non-null  bool          \n",
      " 11  open_plan             20825 non-null  bool          \n",
      " 12  kitchen_area          20825 non-null  float64       \n",
      " 13  balcony               20825 non-null  int32         \n",
      " 14  locality_name         20825 non-null  object        \n",
      " 15  airports_nearest      16165 non-null  float64       \n",
      " 16  cityCenters_nearest   16184 non-null  float64       \n",
      " 17  parks_around3000      20825 non-null  int32         \n",
      " 18  parks_nearest         7188 non-null   float64       \n",
      " 19  ponds_around3000      20825 non-null  int32         \n",
      " 20  ponds_nearest         8010 non-null   float64       \n",
      " 21  days_exposition       17954 non-null  float64       \n",
      "dtypes: bool(3), datetime64[ns](1), float64(9), int32(5), int64(3), object(1)\n",
      "memory usage: 2.8+ MB\n"
     ]
    }
   ],
   "source": [
    "# Еще раз вывел аттрибуты датафрейми, после обработки:\n",
    "data.info()"
   ]
  },
  {
   "cell_type": "code",
   "execution_count": 17,
   "metadata": {},
   "outputs": [
    {
     "data": {
      "text/plain": [
       "array([[<AxesSubplot:title={'center':'total_images'}>,\n",
       "        <AxesSubplot:title={'center':'last_price'}>,\n",
       "        <AxesSubplot:title={'center':'total_area'}>,\n",
       "        <AxesSubplot:title={'center':'first_day_exposition'}>],\n",
       "       [<AxesSubplot:title={'center':'rooms'}>,\n",
       "        <AxesSubplot:title={'center':'ceiling_height'}>,\n",
       "        <AxesSubplot:title={'center':'floors_total'}>,\n",
       "        <AxesSubplot:title={'center':'living_area'}>],\n",
       "       [<AxesSubplot:title={'center':'floor'}>,\n",
       "        <AxesSubplot:title={'center':'kitchen_area'}>,\n",
       "        <AxesSubplot:title={'center':'balcony'}>,\n",
       "        <AxesSubplot:title={'center':'airports_nearest'}>],\n",
       "       [<AxesSubplot:title={'center':'cityCenters_nearest'}>,\n",
       "        <AxesSubplot:title={'center':'parks_around3000'}>,\n",
       "        <AxesSubplot:title={'center':'parks_nearest'}>,\n",
       "        <AxesSubplot:title={'center':'ponds_around3000'}>],\n",
       "       [<AxesSubplot:title={'center':'ponds_nearest'}>,\n",
       "        <AxesSubplot:title={'center':'days_exposition'}>, <AxesSubplot:>,\n",
       "        <AxesSubplot:>]], dtype=object)"
      ]
     },
     "execution_count": 17,
     "metadata": {},
     "output_type": "execute_result"
    },
    {
     "data": {
      "image/png": "[encoded data removed]",
      "text/plain": [
       "<Figure size 1080x1440 with 20 Axes>"
      ]
     },
     "metadata": {
      "needs_background": "light"
     },
     "output_type": "display_data"
    }
   ],
   "source": [
    "data.hist(figsize=(15, 20))"
   ]
  },
  {
   "cell_type": "markdown",
   "metadata": {},
   "source": [
    "**Выводы:**\n",
    "\n",
    "В ходе предобработки данных были обнаружены и обработаны пропуски и аномалии исходного датафрейма.\n",
    "\n",
    "В частности были обнаружены следующие особенности: \n",
    "* В столбце is_apartment были обнаружены пропуски в 20924 строках. из оставшихся 2775 строк лишь 49 имело значение True. Главным образом это связано с тем, что данный тип недвижимости начал активно распространяться относительно недавно, плюс имеет ряд особенностей при юридическом оформлении. Поэтому было принято решение заменить пропуски  данном столбце нулями. \n",
    "* Не указанное количество балконов в столбце balcony будем рассатривать как их отсутствие. Впрочем как и отстутствие информации о парках и прудах в радиусе 3000 метров. Заполним пропуски в этих столбцах нулями.\n",
    "* Пропуски в столбцах с расстоянием до ближайших объектов (парков - parks_nearest, прудов - ponds_nearest, аэропортов - airports_nearest, центра города - cityCenters_nearest) оставим как есть, т.к. если заполнить их нулями, то получим ситуацию, когда объект недвижимости расположен прямо у рассматриваемого объекта. А логичную замену предложить не возможно.\n",
    "* Также было выявлено, что в дате размещения объявления не учитывалось время. В связи с этим дата была переведена в формат: \"%Y-%m-%d\".\n",
    "* Логично было предположить, что пропуски в столбце days_exposition связаны с тем, что объявления были размещены менее суток. Возможно продавцу повезло и продажа недвижимости прошла в день размещения объявления. Однако такие случае в жизни редкость. Скорее всего в объявлениях были допущены ошибки и они были оперативно сняты с публикации. Или при выгрузке данных данные о длительности публикации были утеряны. Также нельзя исключать теорию, что данные объявления до сих пор размещены и поэтому количество дней не отображается, т.к. число ежедневно меняется. В общем, из-за нехватки информации, на данном этапе было принято решение оставить пропуски в этом столбце без изменений.\n",
    "* В столбце locality_name названия населенных пунктов были приведены к единому виду путем отсеивания типа населенного пункта. Это было необходимо, чтобы избавиться от неявных дубликатов.\n",
    "* В столбце ceiling_height некоторые значения высоты потолков были указаны в дециметрах. Их значение было откорректировано и приведено в метрах. Пропущенные значения данного столбца были заменены на медианое значение высоты потолков по группировке названия населенного пункта и этажности здания. Также из датафрейма были исключены строки, в которых значение высоты потолков было менее 2 метров и более 10 метров. Хотя по нормам строительства высота потолков в квартирах вариируется от 2,5 до 4,5 метров.\n",
    "* Из датафрейма были удалены строки, в которых отсутствует название населенного пункта и этажность здания (49 и 36 строк, соответственно), т.к. восстановить их не представляется возможным, а их удельный вес выборке слишком мал.\n",
    "* В датафрейме были строки, в которых значение столбца rooms равняется нулю, что не может быть правдой. Он были удалены. Впрочем как и объекты недвижимости, в которых 10 и более комнат, по причине того, что их количество крайне мало и может рассматриваться как аномалия.\n",
    "* И важным моментом считаю восстановление данных по жилой и кухонной площади квартир. Данные показатели пригодятся нам для дальнейшего исследования. Рискну предположить, что можно заполнить пропуски рассчитав средний коэффициент по каждой из площадей рассчитав отношение их среднего значения по всему датафрейму к среднему значению общей площади квартир также по всей базе. На основании этих коэффициентов рассчитаем значения для каждой строки умножив соответствующий коэффициент на показателб общей площади квартиры."
   ]
  },
  {
   "cell_type": "code",
   "execution_count": 18,
   "metadata": {},
   "outputs": [],
   "source": [
    "# Добавил столбец, в котором будет рассчитана стоимость одного квадратного метра для каждого объявления:\n",
    "data['cost_per_meter'] = (data['last_price'] / data['total_area']).round(2)\n",
    "\n",
    "# Добавил столбцы с днем недели, месяцем и годом:\n",
    "data['weekday'] = data['first_day_exposition'].dt.weekday\n",
    "data['month'] = data['first_day_exposition'].dt.month\n",
    "data['year'] = data['first_day_exposition'].dt.year\n",
    "\n",
    "# Добавил столбец, в котором пропишем тип этажа квартиры:\n",
    "def floor_type(number):\n",
    "    if number['floor'] == 1:\n",
    "        return 'первый'\n",
    "    elif number['floor'] == number['floors_total']:\n",
    "        return 'последний'\n",
    "    else:\n",
    "        return 'другой'    \n",
    "data['floor_type'] = data.apply(floor_type, axis=1)\n",
    "\n",
    "# Добавил столбец, с расстоянием до центра города в км ,округленным до целых:\n",
    "data['cityCenters_nearest_km'] = (data['cityCenters_nearest']/1000).round()\n"
   ]
  },
  {
   "cell_type": "code",
   "execution_count": 19,
   "metadata": {},
   "outputs": [
    {
     "data": {
      "text/html": [
       "<div>\n",
       "<style scoped>\n",
       "    .dataframe tbody tr th:only-of-type {\n",
       "        vertical-align: middle;\n",
       "    }\n",
       "\n",
       "    .dataframe tbody tr th {\n",
       "        vertical-align: top;\n",
       "    }\n",
       "\n",
       "    .dataframe thead th {\n",
       "        text-align: right;\n",
       "    }\n",
       "</style>\n",
       "<table border=\"1\" class=\"dataframe\">\n",
       "  <thead>\n",
       "    <tr style=\"text-align: right;\">\n",
       "      <th></th>\n",
       "      <th>total_images</th>\n",
       "      <th>last_price</th>\n",
       "      <th>total_area</th>\n",
       "      <th>first_day_exposition</th>\n",
       "      <th>rooms</th>\n",
       "      <th>ceiling_height</th>\n",
       "      <th>floors_total</th>\n",
       "      <th>living_area</th>\n",
       "      <th>floor</th>\n",
       "      <th>is_apartment</th>\n",
       "      <th>...</th>\n",
       "      <th>parks_nearest</th>\n",
       "      <th>ponds_around3000</th>\n",
       "      <th>ponds_nearest</th>\n",
       "      <th>days_exposition</th>\n",
       "      <th>cost_per_meter</th>\n",
       "      <th>weekday</th>\n",
       "      <th>month</th>\n",
       "      <th>year</th>\n",
       "      <th>floor_type</th>\n",
       "      <th>cityCenters_nearest_km</th>\n",
       "    </tr>\n",
       "  </thead>\n",
       "  <tbody>\n",
       "    <tr>\n",
       "      <th>0</th>\n",
       "      <td>20</td>\n",
       "      <td>13000000</td>\n",
       "      <td>108.0</td>\n",
       "      <td>2019-03-07</td>\n",
       "      <td>3</td>\n",
       "      <td>2.70</td>\n",
       "      <td>16</td>\n",
       "      <td>51.0</td>\n",
       "      <td>8</td>\n",
       "      <td>False</td>\n",
       "      <td>...</td>\n",
       "      <td>482.0</td>\n",
       "      <td>2</td>\n",
       "      <td>755.0</td>\n",
       "      <td>NaN</td>\n",
       "      <td>120370.37</td>\n",
       "      <td>3</td>\n",
       "      <td>3</td>\n",
       "      <td>2019</td>\n",
       "      <td>другой</td>\n",
       "      <td>16.0</td>\n",
       "    </tr>\n",
       "    <tr>\n",
       "      <th>1</th>\n",
       "      <td>7</td>\n",
       "      <td>3350000</td>\n",
       "      <td>40.4</td>\n",
       "      <td>2018-12-04</td>\n",
       "      <td>1</td>\n",
       "      <td>2.65</td>\n",
       "      <td>11</td>\n",
       "      <td>18.6</td>\n",
       "      <td>1</td>\n",
       "      <td>False</td>\n",
       "      <td>...</td>\n",
       "      <td>NaN</td>\n",
       "      <td>0</td>\n",
       "      <td>NaN</td>\n",
       "      <td>81.0</td>\n",
       "      <td>82920.79</td>\n",
       "      <td>1</td>\n",
       "      <td>12</td>\n",
       "      <td>2018</td>\n",
       "      <td>первый</td>\n",
       "      <td>19.0</td>\n",
       "    </tr>\n",
       "    <tr>\n",
       "      <th>2</th>\n",
       "      <td>10</td>\n",
       "      <td>5196000</td>\n",
       "      <td>56.0</td>\n",
       "      <td>2015-08-20</td>\n",
       "      <td>2</td>\n",
       "      <td>2.60</td>\n",
       "      <td>5</td>\n",
       "      <td>34.3</td>\n",
       "      <td>4</td>\n",
       "      <td>False</td>\n",
       "      <td>...</td>\n",
       "      <td>90.0</td>\n",
       "      <td>2</td>\n",
       "      <td>574.0</td>\n",
       "      <td>558.0</td>\n",
       "      <td>92785.71</td>\n",
       "      <td>3</td>\n",
       "      <td>8</td>\n",
       "      <td>2015</td>\n",
       "      <td>другой</td>\n",
       "      <td>14.0</td>\n",
       "    </tr>\n",
       "    <tr>\n",
       "      <th>4</th>\n",
       "      <td>2</td>\n",
       "      <td>10000000</td>\n",
       "      <td>100.0</td>\n",
       "      <td>2018-06-19</td>\n",
       "      <td>2</td>\n",
       "      <td>3.03</td>\n",
       "      <td>14</td>\n",
       "      <td>32.0</td>\n",
       "      <td>13</td>\n",
       "      <td>False</td>\n",
       "      <td>...</td>\n",
       "      <td>112.0</td>\n",
       "      <td>1</td>\n",
       "      <td>48.0</td>\n",
       "      <td>121.0</td>\n",
       "      <td>100000.00</td>\n",
       "      <td>1</td>\n",
       "      <td>6</td>\n",
       "      <td>2018</td>\n",
       "      <td>другой</td>\n",
       "      <td>8.0</td>\n",
       "    </tr>\n",
       "    <tr>\n",
       "      <th>5</th>\n",
       "      <td>10</td>\n",
       "      <td>2890000</td>\n",
       "      <td>30.4</td>\n",
       "      <td>2018-09-10</td>\n",
       "      <td>1</td>\n",
       "      <td>2.70</td>\n",
       "      <td>12</td>\n",
       "      <td>14.4</td>\n",
       "      <td>5</td>\n",
       "      <td>False</td>\n",
       "      <td>...</td>\n",
       "      <td>NaN</td>\n",
       "      <td>0</td>\n",
       "      <td>NaN</td>\n",
       "      <td>55.0</td>\n",
       "      <td>95065.79</td>\n",
       "      <td>0</td>\n",
       "      <td>9</td>\n",
       "      <td>2018</td>\n",
       "      <td>другой</td>\n",
       "      <td>NaN</td>\n",
       "    </tr>\n",
       "  </tbody>\n",
       "</table>\n",
       "<p>5 rows × 28 columns</p>\n",
       "</div>"
      ],
      "text/plain": [
       "   total_images  last_price  total_area first_day_exposition  rooms  \\\n",
       "0            20    13000000       108.0           2019-03-07      3   \n",
       "1             7     3350000        40.4           2018-12-04      1   \n",
       "2            10     5196000        56.0           2015-08-20      2   \n",
       "4             2    10000000       100.0           2018-06-19      2   \n",
       "5            10     2890000        30.4           2018-09-10      1   \n",
       "\n",
       "   ceiling_height  floors_total  living_area  floor  is_apartment  ...  \\\n",
       "0            2.70            16         51.0      8         False  ...   \n",
       "1            2.65            11         18.6      1         False  ...   \n",
       "2            2.60             5         34.3      4         False  ...   \n",
       "4            3.03            14         32.0     13         False  ...   \n",
       "5            2.70            12         14.4      5         False  ...   \n",
       "\n",
       "   parks_nearest  ponds_around3000  ponds_nearest  days_exposition  \\\n",
       "0          482.0                 2          755.0              NaN   \n",
       "1            NaN                 0            NaN             81.0   \n",
       "2           90.0                 2          574.0            558.0   \n",
       "4          112.0                 1           48.0            121.0   \n",
       "5            NaN                 0            NaN             55.0   \n",
       "\n",
       "  cost_per_meter  weekday  month  year  floor_type  cityCenters_nearest_km  \n",
       "0      120370.37        3      3  2019      другой                    16.0  \n",
       "1       82920.79        1     12  2018      первый                    19.0  \n",
       "2       92785.71        3      8  2015      другой                    14.0  \n",
       "4      100000.00        1      6  2018      другой                     8.0  \n",
       "5       95065.79        0      9  2018      другой                     NaN  \n",
       "\n",
       "[5 rows x 28 columns]"
      ]
     },
     "execution_count": 19,
     "metadata": {},
     "output_type": "execute_result"
    }
   ],
   "source": [
    "# Вывел первые 5 строк датафрейма после добавления новых столбцов:\n",
    "data.head()"
   ]
  },
  {
   "cell_type": "code",
   "execution_count": 20,
   "metadata": {},
   "outputs": [
    {
     "data": {
      "text/html": [
       "<div>\n",
       "<style scoped>\n",
       "    .dataframe tbody tr th:only-of-type {\n",
       "        vertical-align: middle;\n",
       "    }\n",
       "\n",
       "    .dataframe tbody tr th {\n",
       "        vertical-align: top;\n",
       "    }\n",
       "\n",
       "    .dataframe thead th {\n",
       "        text-align: right;\n",
       "    }\n",
       "</style>\n",
       "<table border=\"1\" class=\"dataframe\">\n",
       "  <thead>\n",
       "    <tr style=\"text-align: right;\">\n",
       "      <th></th>\n",
       "      <th>total_images</th>\n",
       "      <th>last_price</th>\n",
       "      <th>total_area</th>\n",
       "      <th>rooms</th>\n",
       "      <th>ceiling_height</th>\n",
       "      <th>floors_total</th>\n",
       "      <th>living_area</th>\n",
       "      <th>floor</th>\n",
       "      <th>kitchen_area</th>\n",
       "      <th>balcony</th>\n",
       "      <th>...</th>\n",
       "      <th>parks_around3000</th>\n",
       "      <th>parks_nearest</th>\n",
       "      <th>ponds_around3000</th>\n",
       "      <th>ponds_nearest</th>\n",
       "      <th>days_exposition</th>\n",
       "      <th>cost_per_meter</th>\n",
       "      <th>weekday</th>\n",
       "      <th>month</th>\n",
       "      <th>year</th>\n",
       "      <th>cityCenters_nearest_km</th>\n",
       "    </tr>\n",
       "  </thead>\n",
       "  <tbody>\n",
       "    <tr>\n",
       "      <th>count</th>\n",
       "      <td>20825.000000</td>\n",
       "      <td>2.082500e+04</td>\n",
       "      <td>20825.000000</td>\n",
       "      <td>20825.000000</td>\n",
       "      <td>20825.000000</td>\n",
       "      <td>20825.000000</td>\n",
       "      <td>20825.000000</td>\n",
       "      <td>20825.000000</td>\n",
       "      <td>20825.000000</td>\n",
       "      <td>20825.000000</td>\n",
       "      <td>...</td>\n",
       "      <td>20825.000000</td>\n",
       "      <td>7188.000000</td>\n",
       "      <td>20825.000000</td>\n",
       "      <td>8010.000000</td>\n",
       "      <td>17954.000000</td>\n",
       "      <td>2.082500e+04</td>\n",
       "      <td>20825.000000</td>\n",
       "      <td>20825.000000</td>\n",
       "      <td>20825.000000</td>\n",
       "      <td>16184.000000</td>\n",
       "    </tr>\n",
       "    <tr>\n",
       "      <th>mean</th>\n",
       "      <td>10.083842</td>\n",
       "      <td>6.282070e+06</td>\n",
       "      <td>59.717991</td>\n",
       "      <td>2.082113</td>\n",
       "      <td>2.706069</td>\n",
       "      <td>10.572005</td>\n",
       "      <td>34.191557</td>\n",
       "      <td>5.838992</td>\n",
       "      <td>10.366293</td>\n",
       "      <td>0.619784</td>\n",
       "      <td>...</td>\n",
       "      <td>0.473373</td>\n",
       "      <td>488.305231</td>\n",
       "      <td>0.591261</td>\n",
       "      <td>520.323346</td>\n",
       "      <td>185.113624</td>\n",
       "      <td>9.870788e+04</td>\n",
       "      <td>2.547563</td>\n",
       "      <td>6.424922</td>\n",
       "      <td>2017.355246</td>\n",
       "      <td>14.272553</td>\n",
       "    </tr>\n",
       "    <tr>\n",
       "      <th>std</th>\n",
       "      <td>5.670724</td>\n",
       "      <td>7.572926e+06</td>\n",
       "      <td>30.501333</td>\n",
       "      <td>1.020995</td>\n",
       "      <td>0.248226</td>\n",
       "      <td>6.519763</td>\n",
       "      <td>19.756439</td>\n",
       "      <td>4.816291</td>\n",
       "      <td>5.137737</td>\n",
       "      <td>0.969459</td>\n",
       "      <td>...</td>\n",
       "      <td>0.748846</td>\n",
       "      <td>337.671429</td>\n",
       "      <td>0.883722</td>\n",
       "      <td>277.701421</td>\n",
       "      <td>221.527446</td>\n",
       "      <td>4.617839e+04</td>\n",
       "      <td>1.781785</td>\n",
       "      <td>3.466741</td>\n",
       "      <td>1.043702</td>\n",
       "      <td>8.673044</td>\n",
       "    </tr>\n",
       "    <tr>\n",
       "      <th>min</th>\n",
       "      <td>0.000000</td>\n",
       "      <td>1.219000e+04</td>\n",
       "      <td>14.000000</td>\n",
       "      <td>1.000000</td>\n",
       "      <td>2.000000</td>\n",
       "      <td>1.000000</td>\n",
       "      <td>2.000000</td>\n",
       "      <td>1.000000</td>\n",
       "      <td>1.300000</td>\n",
       "      <td>0.000000</td>\n",
       "      <td>...</td>\n",
       "      <td>0.000000</td>\n",
       "      <td>1.000000</td>\n",
       "      <td>0.000000</td>\n",
       "      <td>13.000000</td>\n",
       "      <td>1.000000</td>\n",
       "      <td>1.118300e+02</td>\n",
       "      <td>0.000000</td>\n",
       "      <td>1.000000</td>\n",
       "      <td>2014.000000</td>\n",
       "      <td>0.000000</td>\n",
       "    </tr>\n",
       "    <tr>\n",
       "      <th>25%</th>\n",
       "      <td>6.000000</td>\n",
       "      <td>3.500000e+06</td>\n",
       "      <td>40.400000</td>\n",
       "      <td>1.000000</td>\n",
       "      <td>2.550000</td>\n",
       "      <td>5.000000</td>\n",
       "      <td>18.800000</td>\n",
       "      <td>2.000000</td>\n",
       "      <td>7.000000</td>\n",
       "      <td>0.000000</td>\n",
       "      <td>...</td>\n",
       "      <td>0.000000</td>\n",
       "      <td>288.000000</td>\n",
       "      <td>0.000000</td>\n",
       "      <td>295.000000</td>\n",
       "      <td>45.000000</td>\n",
       "      <td>7.688928e+04</td>\n",
       "      <td>1.000000</td>\n",
       "      <td>3.000000</td>\n",
       "      <td>2017.000000</td>\n",
       "      <td>9.000000</td>\n",
       "    </tr>\n",
       "    <tr>\n",
       "      <th>50%</th>\n",
       "      <td>10.000000</td>\n",
       "      <td>4.690000e+06</td>\n",
       "      <td>52.000000</td>\n",
       "      <td>2.000000</td>\n",
       "      <td>2.650000</td>\n",
       "      <td>9.000000</td>\n",
       "      <td>30.000000</td>\n",
       "      <td>4.000000</td>\n",
       "      <td>9.000000</td>\n",
       "      <td>0.000000</td>\n",
       "      <td>...</td>\n",
       "      <td>0.000000</td>\n",
       "      <td>454.000000</td>\n",
       "      <td>0.000000</td>\n",
       "      <td>504.000000</td>\n",
       "      <td>102.000000</td>\n",
       "      <td>9.483204e+04</td>\n",
       "      <td>3.000000</td>\n",
       "      <td>6.000000</td>\n",
       "      <td>2017.000000</td>\n",
       "      <td>13.000000</td>\n",
       "    </tr>\n",
       "    <tr>\n",
       "      <th>75%</th>\n",
       "      <td>14.000000</td>\n",
       "      <td>6.750000e+06</td>\n",
       "      <td>69.610000</td>\n",
       "      <td>3.000000</td>\n",
       "      <td>2.750000</td>\n",
       "      <td>15.000000</td>\n",
       "      <td>42.400000</td>\n",
       "      <td>8.000000</td>\n",
       "      <td>12.000000</td>\n",
       "      <td>1.000000</td>\n",
       "      <td>...</td>\n",
       "      <td>1.000000</td>\n",
       "      <td>611.000000</td>\n",
       "      <td>1.000000</td>\n",
       "      <td>733.000000</td>\n",
       "      <td>238.000000</td>\n",
       "      <td>1.136364e+05</td>\n",
       "      <td>4.000000</td>\n",
       "      <td>10.000000</td>\n",
       "      <td>2018.000000</td>\n",
       "      <td>16.000000</td>\n",
       "    </tr>\n",
       "    <tr>\n",
       "      <th>max</th>\n",
       "      <td>50.000000</td>\n",
       "      <td>3.300000e+08</td>\n",
       "      <td>413.500000</td>\n",
       "      <td>9.000000</td>\n",
       "      <td>10.000000</td>\n",
       "      <td>60.000000</td>\n",
       "      <td>200.000000</td>\n",
       "      <td>33.000000</td>\n",
       "      <td>50.000000</td>\n",
       "      <td>5.000000</td>\n",
       "      <td>...</td>\n",
       "      <td>3.000000</td>\n",
       "      <td>3190.000000</td>\n",
       "      <td>3.000000</td>\n",
       "      <td>1344.000000</td>\n",
       "      <td>1580.000000</td>\n",
       "      <td>1.736842e+06</td>\n",
       "      <td>6.000000</td>\n",
       "      <td>12.000000</td>\n",
       "      <td>2019.000000</td>\n",
       "      <td>66.000000</td>\n",
       "    </tr>\n",
       "  </tbody>\n",
       "</table>\n",
       "<p>8 rows × 22 columns</p>\n",
       "</div>"
      ],
      "text/plain": [
       "       total_images    last_price    total_area         rooms  ceiling_height  \\\n",
       "count  20825.000000  2.082500e+04  20825.000000  20825.000000    20825.000000   \n",
       "mean      10.083842  6.282070e+06     59.717991      2.082113        2.706069   \n",
       "std        5.670724  7.572926e+06     30.501333      1.020995        0.248226   \n",
       "min        0.000000  1.219000e+04     14.000000      1.000000        2.000000   \n",
       "25%        6.000000  3.500000e+06     40.400000      1.000000        2.550000   \n",
       "50%       10.000000  4.690000e+06     52.000000      2.000000        2.650000   \n",
       "75%       14.000000  6.750000e+06     69.610000      3.000000        2.750000   \n",
       "max       50.000000  3.300000e+08    413.500000      9.000000       10.000000   \n",
       "\n",
       "       floors_total   living_area         floor  kitchen_area       balcony  \\\n",
       "count  20825.000000  20825.000000  20825.000000  20825.000000  20825.000000   \n",
       "mean      10.572005     34.191557      5.838992     10.366293      0.619784   \n",
       "std        6.519763     19.756439      4.816291      5.137737      0.969459   \n",
       "min        1.000000      2.000000      1.000000      1.300000      0.000000   \n",
       "25%        5.000000     18.800000      2.000000      7.000000      0.000000   \n",
       "50%        9.000000     30.000000      4.000000      9.000000      0.000000   \n",
       "75%       15.000000     42.400000      8.000000     12.000000      1.000000   \n",
       "max       60.000000    200.000000     33.000000     50.000000      5.000000   \n",
       "\n",
       "       ...  parks_around3000  parks_nearest  ponds_around3000  ponds_nearest  \\\n",
       "count  ...      20825.000000    7188.000000      20825.000000    8010.000000   \n",
       "mean   ...          0.473373     488.305231          0.591261     520.323346   \n",
       "std    ...          0.748846     337.671429          0.883722     277.701421   \n",
       "min    ...          0.000000       1.000000          0.000000      13.000000   \n",
       "25%    ...          0.000000     288.000000          0.000000     295.000000   \n",
       "50%    ...          0.000000     454.000000          0.000000     504.000000   \n",
       "75%    ...          1.000000     611.000000          1.000000     733.000000   \n",
       "max    ...          3.000000    3190.000000          3.000000    1344.000000   \n",
       "\n",
       "       days_exposition  cost_per_meter       weekday         month  \\\n",
       "count     17954.000000    2.082500e+04  20825.000000  20825.000000   \n",
       "mean        185.113624    9.870788e+04      2.547563      6.424922   \n",
       "std         221.527446    4.617839e+04      1.781785      3.466741   \n",
       "min           1.000000    1.118300e+02      0.000000      1.000000   \n",
       "25%          45.000000    7.688928e+04      1.000000      3.000000   \n",
       "50%         102.000000    9.483204e+04      3.000000      6.000000   \n",
       "75%         238.000000    1.136364e+05      4.000000     10.000000   \n",
       "max        1580.000000    1.736842e+06      6.000000     12.000000   \n",
       "\n",
       "               year  cityCenters_nearest_km  \n",
       "count  20825.000000            16184.000000  \n",
       "mean    2017.355246               14.272553  \n",
       "std        1.043702                8.673044  \n",
       "min     2014.000000                0.000000  \n",
       "25%     2017.000000                9.000000  \n",
       "50%     2017.000000               13.000000  \n",
       "75%     2018.000000               16.000000  \n",
       "max     2019.000000               66.000000  \n",
       "\n",
       "[8 rows x 22 columns]"
      ]
     },
     "execution_count": 20,
     "metadata": {},
     "output_type": "execute_result"
    }
   ],
   "source": [
    "# Числовое описание данных датафрейма по каждому столбцу:\n",
    "data.describe()"
   ]
  },
  {
   "cell_type": "markdown",
   "metadata": {},
   "source": [
    "### Исследовательский анализ данных:"
   ]
  },
  {
   "cell_type": "code",
   "execution_count": 21,
   "metadata": {},
   "outputs": [
    {
     "data": {
      "image/png": "[encoded data removed]",
      "text/plain": [
       "<Figure size 432x288 with 1 Axes>"
      ]
     },
     "metadata": {
      "needs_background": "light"
     },
     "output_type": "display_data"
    },
    {
     "name": "stdout",
     "output_type": "stream",
     "text": [
      "Недвижимость с наибольшей общей площадью:\n",
      "14991    413.5\n",
      "8822     398.0\n",
      "5042     380.0\n",
      "21990    373.1\n",
      "19961    365.0\n",
      "10569    347.5\n",
      "20820    342.0\n",
      "16179    336.0\n",
      "14591    327.2\n",
      "11087    320.0\n",
      "Name: total_area, dtype: float64\n"
     ]
    },
    {
     "data": {
      "image/png": "[encoded data removed]",
      "text/plain": [
       "<Figure size 432x288 with 1 Axes>"
      ]
     },
     "metadata": {
      "needs_background": "light"
     },
     "output_type": "display_data"
    },
    {
     "name": "stdout",
     "output_type": "stream",
     "text": [
      "Недвижимость с наибольшей жилой площадью:\n",
      "10246    200.0\n",
      "13397    199.0\n",
      "5042     198.0\n",
      "6728     195.0\n",
      "7939     194.0\n",
      "4199     193.5\n",
      "7694     193.0\n",
      "11087    190.0\n",
      "1188     188.7\n",
      "20820    187.0\n",
      "Name: living_area, dtype: float64\n"
     ]
    },
    {
     "data": {
      "image/png": "[encoded data removed]",
      "text/plain": [
       "<Figure size 432x288 with 1 Axes>"
      ]
     },
     "metadata": {
      "needs_background": "light"
     },
     "output_type": "display_data"
    },
    {
     "name": "stdout",
     "output_type": "stream",
     "text": [
      "Недвижимость с наибольшей площадью кухни:\n",
      "656      50.0\n",
      "511      50.0\n",
      "19267    50.0\n",
      "51       50.0\n",
      "2356     50.0\n",
      "21923    50.0\n",
      "10001    50.0\n",
      "5135     50.0\n",
      "5042     50.0\n",
      "21331    49.4\n",
      "Name: kitchen_area, dtype: float64\n"
     ]
    }
   ],
   "source": [
    "# Гистограмма по общей площади объектов недвижимости:\n",
    "plt.hist(data['total_area'], bins=30, range=(10, 200))\n",
    "plt.title('Общая площадь квартир')\n",
    "plt.xlabel('Квадратные метры')\n",
    "plt.ylabel('Количество квартир')\n",
    "plt.show()\n",
    "print('Недвижимость с наибольшей общей площадью:')\n",
    "print(data['total_area'].sort_values(ascending=False).head(10))\n",
    "\n",
    "# Гистограмма по жилой площади объектов недвижимости:\n",
    "plt.hist(data['living_area'], bins=30, range=(1, 100))\n",
    "plt.title('Жилая площадь')\n",
    "plt.xlabel('Квадратные метры')\n",
    "plt.ylabel('Количество квартир')\n",
    "plt.show()\n",
    "print('Недвижимость с наибольшей жилой площадью:')\n",
    "print(data['living_area'].sort_values(ascending=False).head(10))\n",
    "\n",
    "# Гистограмма по площади кухни:\n",
    "plt.hist(data['kitchen_area'], bins=30, range=(1, 40))\n",
    "plt.title('Площадь кухни')\n",
    "plt.xlabel('Квадратные метры')\n",
    "plt.ylabel('Количество квартир')\n",
    "plt.show()\n",
    "print('Недвижимость с наибольшей площадью кухни:')\n",
    "print(data['kitchen_area'].sort_values(ascending=False).head(10))"
   ]
  },
  {
   "cell_type": "code",
   "execution_count": 22,
   "metadata": {},
   "outputs": [
    {
     "data": {
      "image/png": "[encoded data removed]",
      "text/plain": [
       "<Figure size 432x288 with 1 Axes>"
      ]
     },
     "metadata": {
      "needs_background": "light"
     },
     "output_type": "display_data"
    },
    {
     "name": "stdout",
     "output_type": "stream",
     "text": [
      "Квартиры с наибольшей ценой:\n",
      "1436     330000000\n",
      "22831    289238400\n",
      "16461    245000000\n",
      "8900     190870000\n",
      "19155    160000000\n",
      "2536     159984000\n",
      "16495    159000000\n",
      "22229    148000000\n",
      "13864    130000000\n",
      "1928     125000000\n",
      "Name: last_price, dtype: int32\n"
     ]
    }
   ],
   "source": [
    "# Гистограмма по стоимости объектов недвижимости:\n",
    "plt.hist(data['last_price'], bins=30, range=(10, 20000000))\n",
    "plt.title('Цена объекта')\n",
    "plt.xlabel('Цена на момент снятия с публикации')\n",
    "plt.ylabel('Количество квартир')\n",
    "plt.show()\n",
    "print('Квартиры с наибольшей ценой:')\n",
    "print(data['last_price'].sort_values(ascending=False).head(10))"
   ]
  },
  {
   "cell_type": "code",
   "execution_count": 23,
   "metadata": {},
   "outputs": [
    {
     "data": {
      "image/png": "[encoded data removed]",
      "text/plain": [
       "<Figure size 432x288 with 1 Axes>"
      ]
     },
     "metadata": {
      "needs_background": "light"
     },
     "output_type": "display_data"
    },
    {
     "name": "stdout",
     "output_type": "stream",
     "text": [
      "Размещения объявлений по количеству комнат в объекте недвижимости:\n",
      "rooms\n",
      "1    7056\n",
      "2    7084\n",
      "3    5229\n",
      "4    1045\n",
      "5     267\n",
      "6      92\n",
      "7      39\n",
      "8       8\n",
      "9       5\n",
      "Name: rooms, dtype: int64\n"
     ]
    },
    {
     "data": {
      "image/png": "[encoded data removed]",
      "text/plain": [
       "<Figure size 432x288 with 1 Axes>"
      ]
     },
     "metadata": {
      "needs_background": "light"
     },
     "output_type": "display_data"
    },
    {
     "name": "stdout",
     "output_type": "stream",
     "text": [
      "Недвижимость с наибольшей высотой потолков:\n",
      "22869    10.0\n",
      "5863      8.3\n",
      "15743     8.0\n",
      "3474      8.0\n",
      "20264     6.0\n",
      "7578      5.5\n",
      "464       5.2\n",
      "21923     4.9\n",
      "2802      4.8\n",
      "19142     4.7\n",
      "Name: ceiling_height, dtype: float64\n"
     ]
    }
   ],
   "source": [
    "# Гистограмма по количеству комнат в квартире:\n",
    "plt.hist(data['rooms'], bins=9, range=(1, 9))\n",
    "plt.title('Количество комнат в квартире')\n",
    "plt.xlabel('Количество комнат')\n",
    "plt.ylabel('Количество квартир')\n",
    "plt.show()\n",
    "print('Размещения объявлений по количеству комнат в объекте недвижимости:')\n",
    "print(data.groupby('rooms')['rooms'].count())\n",
    "\n",
    "# Гистограмма по высоте потолков:\n",
    "plt.hist(data['ceiling_height'], bins=10, range=(1, 5))\n",
    "plt.title('Высота потолков')\n",
    "plt.xlabel('Метры')\n",
    "plt.ylabel('Количество квартир')\n",
    "plt.show()\n",
    "print('Недвижимость с наибольшей высотой потолков:')\n",
    "print(data['ceiling_height'].sort_values(ascending=False).head(10))"
   ]
  },
  {
   "cell_type": "code",
   "execution_count": 24,
   "metadata": {},
   "outputs": [
    {
     "data": {
      "image/png": "[encoded data removed]",
      "text/plain": [
       "<Figure size 432x288 with 1 Axes>"
      ]
     },
     "metadata": {
      "needs_background": "light"
     },
     "output_type": "display_data"
    },
    {
     "name": "stdout",
     "output_type": "stream",
     "text": [
      "Распределение продаваемых квартир по этажам:\n",
      "floor\n",
      "1     2551\n",
      "2     2935\n",
      "3     2742\n",
      "4     2510\n",
      "5     2328\n",
      "6     1143\n",
      "7     1070\n",
      "8      962\n",
      "9      941\n",
      "10     601\n",
      "11     459\n",
      "12     457\n",
      "13     312\n",
      "14     293\n",
      "15     291\n",
      "16     276\n",
      "17     188\n",
      "18     151\n",
      "19     117\n",
      "20      94\n",
      "21     102\n",
      "22      95\n",
      "23      84\n",
      "24      52\n",
      "25      35\n",
      "26      22\n",
      "27       8\n",
      "28       1\n",
      "29       1\n",
      "30       1\n",
      "31       1\n",
      "32       1\n",
      "33       1\n",
      "Name: floor, dtype: int64\n"
     ]
    },
    {
     "data": {
      "image/png": "[encoded data removed]",
      "text/plain": [
       "<Figure size 432x288 with 1 Axes>"
      ]
     },
     "metadata": {
      "needs_background": "light"
     },
     "output_type": "display_data"
    },
    {
     "name": "stdout",
     "output_type": "stream",
     "text": [
      "Распределение продаваемых квартир по типу этажей:\n",
      "floor_type\n",
      "другой       15306\n",
      "первый        2551\n",
      "последний     2968\n",
      "Name: floor_type, dtype: int64\n"
     ]
    },
    {
     "data": {
      "image/png": "[encoded data removed]",
      "text/plain": [
       "<Figure size 432x288 with 1 Axes>"
      ]
     },
     "metadata": {
      "needs_background": "light"
     },
     "output_type": "display_data"
    },
    {
     "name": "stdout",
     "output_type": "stream",
     "text": [
      "Распределение по общему количеству этажей в домах из объявлений:\n",
      "floors_total\n",
      "1       19\n",
      "2      342\n",
      "3      577\n",
      "4     1029\n",
      "5     5145\n",
      "6      816\n",
      "7      528\n",
      "8      341\n",
      "9     3461\n",
      "10    1046\n",
      "11     171\n",
      "12    1221\n",
      "13     199\n",
      "14     494\n",
      "15     311\n",
      "16    1215\n",
      "17     742\n",
      "18     409\n",
      "19     267\n",
      "20     227\n",
      "21     119\n",
      "22     243\n",
      "23     297\n",
      "24     389\n",
      "25     911\n",
      "26     110\n",
      "27     147\n",
      "28      20\n",
      "29       1\n",
      "33       1\n",
      "35      22\n",
      "36       3\n",
      "52       1\n",
      "60       1\n",
      "Name: floors_total, dtype: int64\n"
     ]
    }
   ],
   "source": [
    "# Гистограмма по этажу, на котором расположена квартира:\n",
    "plt.hist(data['floor'], bins=9, range=(1, 10))\n",
    "plt.title('Этажи квартир из объявлений')\n",
    "plt.xlabel('Этаж')\n",
    "plt.ylabel('Количество квартир')\n",
    "plt.show()\n",
    "print('Распределение продаваемых квартир по этажам:')\n",
    "print(data.groupby('floor')['floor'].count())\n",
    "\n",
    "# Гистограмма по типу этажа, на котором расположена квартира:\n",
    "plt.hist(data['floor_type'], bins=3, range=(0, 2))\n",
    "plt.title('Тип этажа квартир из объявлений')\n",
    "plt.xlabel('Тип этажа')\n",
    "plt.ylabel('Количество квартир')\n",
    "plt.show()\n",
    "print('Распределение продаваемых квартир по типу этажей:')\n",
    "print(data.groupby('floor_type')['floor_type'].count())\n",
    "\n",
    "# Гистограмма по общему количеству этажей в домах:\n",
    "plt.hist(data['floors_total'], bins=30, range=(1, 30))\n",
    "plt.title('Количество этажей в домах из объявлений')\n",
    "plt.xlabel('Этаж')\n",
    "plt.ylabel('Количество квартир')\n",
    "plt.show()\n",
    "print('Распределение по общему количеству этажей в домах из объявлений:')\n",
    "print(data.groupby('floors_total')['floors_total'].count())"
   ]
  },
  {
   "cell_type": "code",
   "execution_count": 25,
   "metadata": {},
   "outputs": [
    {
     "data": {
      "image/png": "[encoded data removed]",
      "text/plain": [
       "<Figure size 432x288 with 1 Axes>"
      ]
     },
     "metadata": {
      "needs_background": "light"
     },
     "output_type": "display_data"
    },
    {
     "name": "stdout",
     "output_type": "stream",
     "text": [
      "Наиболее близкие к центру объекты недвижимости:\n",
      "13694    181.0\n",
      "1182     208.0\n",
      "8614     215.0\n",
      "1934     287.0\n",
      "20873    291.0\n",
      "7726     318.0\n",
      "13919    318.0\n",
      "11492    318.0\n",
      "1109     318.0\n",
      "10377    318.0\n",
      "Name: cityCenters_nearest, dtype: float64\n"
     ]
    },
    {
     "data": {
      "image/png": "[encoded data removed]",
      "text/plain": [
       "<Figure size 432x288 with 1 Axes>"
      ]
     },
     "metadata": {
      "needs_background": "light"
     },
     "output_type": "display_data"
    },
    {
     "name": "stdout",
     "output_type": "stream",
     "text": [
      "Квартиры, с наименьшим расстоянием до ближайшего аэропорта:\n",
      "21085       0.0\n",
      "4017     6450.0\n",
      "12899    6450.0\n",
      "7778     6914.0\n",
      "23150    6949.0\n",
      "22283    6989.0\n",
      "5062     6989.0\n",
      "11294    6989.0\n",
      "15633    6989.0\n",
      "10059    6989.0\n",
      "Name: airports_nearest, dtype: float64\n"
     ]
    },
    {
     "data": {
      "image/png": "[encoded data removed]",
      "text/plain": [
       "<Figure size 432x288 with 1 Axes>"
      ]
     },
     "metadata": {
      "needs_background": "light"
     },
     "output_type": "display_data"
    },
    {
     "name": "stdout",
     "output_type": "stream",
     "text": [
      "Квартиры, с наименьшим расстоянием до ближайшего парка:\n",
      "14624     1.0\n",
      "11949     3.0\n",
      "9344      7.0\n",
      "2527      9.0\n",
      "189      10.0\n",
      "19093    10.0\n",
      "7788     10.0\n",
      "214      10.0\n",
      "21773    10.0\n",
      "15296    10.0\n",
      "Name: parks_nearest, dtype: float64\n"
     ]
    }
   ],
   "source": [
    "# Гистограмма по удаленности от центра города:\n",
    "plt.hist(data['cityCenters_nearest'], bins=30, range=(100, 35000))\n",
    "plt.title('Расстояние до центра города')\n",
    "plt.xlabel('Расстояние в метрах')\n",
    "plt.ylabel('Количество квартир')\n",
    "plt.show()\n",
    "print('Наиболее близкие к центру объекты недвижимости:')\n",
    "print(data['cityCenters_nearest'].sort_values(ascending=True).head(10))\n",
    "\n",
    "# Гистограмма по расстоянию до ближайшего аэропорта:\n",
    "plt.hist(data['airports_nearest'], bins=30, range=(6000, 45000))\n",
    "plt.title('Расстояние до ближайшего аэропорта')\n",
    "plt.xlabel('Расстояние в метрах')\n",
    "plt.ylabel('Количество квартир')\n",
    "plt.show()\n",
    "print('Квартиры, с наименьшим расстоянием до ближайшего аэропорта:')\n",
    "print(data['airports_nearest'].sort_values(ascending=True).head(10))\n",
    "\n",
    "# Гистограмма по расстоянию до ближайшего парка:\n",
    "plt.hist(data['parks_nearest'], bins=30, range=(100, 1000))\n",
    "plt.title('Расстояние до ближайшего парка')\n",
    "plt.xlabel('Расстояние в метрах')\n",
    "plt.ylabel('Количество квартир')\n",
    "plt.show()\n",
    "print('Квартиры, с наименьшим расстоянием до ближайшего парка:')\n",
    "print(data['parks_nearest'].sort_values(ascending=True).head(10))"
   ]
  },
  {
   "cell_type": "code",
   "execution_count": 26,
   "metadata": {},
   "outputs": [
    {
     "data": {
      "image/png": "[encoded data removed]",
      "text/plain": [
       "<Figure size 432x288 with 1 Axes>"
      ]
     },
     "metadata": {
      "needs_background": "light"
     },
     "output_type": "display_data"
    },
    {
     "name": "stdout",
     "output_type": "stream",
     "text": [
      "Размещения объявлений по дням недели:\n",
      "weekday\n",
      "0    3225\n",
      "1    3698\n",
      "2    3489\n",
      "3    3801\n",
      "4    3525\n",
      "5    1648\n",
      "6    1439\n",
      "Name: weekday, dtype: int64\n"
     ]
    },
    {
     "data": {
      "image/png": "[encoded data removed]",
      "text/plain": [
       "<Figure size 432x288 with 1 Axes>"
      ]
     },
     "metadata": {
      "needs_background": "light"
     },
     "output_type": "display_data"
    },
    {
     "name": "stdout",
     "output_type": "stream",
     "text": [
      "Размещения объявлений по месяцам:\n",
      "month\n",
      "1     1243\n",
      "2     2297\n",
      "3     2258\n",
      "4     2123\n",
      "5     1124\n",
      "6     1557\n",
      "7     1471\n",
      "8     1538\n",
      "9     1814\n",
      "10    1919\n",
      "11    2155\n",
      "12    1326\n",
      "Name: month, dtype: int64\n"
     ]
    }
   ],
   "source": [
    "# Гистограмма по дню размещения объявления:\n",
    "plt.hist(data['weekday'], bins=7, range=(0, 6))\n",
    "plt.title('День размещения объявления')\n",
    "plt.xlabel('День недели')\n",
    "plt.ylabel('Количество квартир')\n",
    "plt.show()\n",
    "print('Размещения объявлений по дням недели:')\n",
    "print(data.groupby('weekday')['weekday'].count())\n",
    "\n",
    "# Гистограмма по месяцу размещения объявления:\n",
    "plt.hist(data['month'], bins=12, range=(1, 12))\n",
    "plt.title('Месяц размещения объявления')\n",
    "plt.xlabel('Месяц')\n",
    "plt.ylabel('Количество квартир')\n",
    "plt.show()\n",
    "print('Размещения объявлений по месяцам:')\n",
    "print(data.groupby('month')['month'].count())"
   ]
  },
  {
   "cell_type": "markdown",
   "metadata": {},
   "source": [
    "**Рассмотрим значения в столбцах подробнее:**\n",
    "\n",
    "* **Общая площадь квартир** - основная масса недвижимости в объявлениях имеет общую площадь 30-50 метров. Пик значений приходится именно на 50 метров.\n",
    "* **Жилая площадь** - рассматривая показатели жилой площади, имеем 2 пика значений: 16-20 кв. метров и 30 кв. метров.\n",
    "* **Площадь кухни** - средняя площадь кухни в рассматриваемой базе 5-10 кв. метров. Имеем явный тренд - чем больше размер кухни, тем меньше квартир в выборке.\n",
    "* **Цена объекта** - на гистограмме виден один ярковыраженный пик на уровне 3,25 млн. руб.  \n",
    "* **Количество вомнат в квартире** - среднее количество комнат в объявлениях из датафрейма - 1-2. Чуть реже встречаются трехкомнатные квартиры. Чем больше комнат, тем меньше вариантов. Также можно предположить, исходя из большого числа комнат, что часть объектов - не квартиры, а частные дома.\n",
    "* **Высота потолков** - основная масса квартир имеет потолки высотой 2-3 метра, что вполне отражает текущие нормы строительства - от 2,5 до 4,5 метров. Конечно, встречаются и более высокие потолки, но тут тоже можно сделать предположение, что это частные дома с индивидуальной планировкой.\n",
    "* **Этажи объектов из объявлений** - как видно из гистограммы, большинство квартир расположены на 2-5 этажах. Заметно сильное падение (в 2 раза) количества квартир, расположенных на 6 и более этажах. Возможно это связано стем, что продается в основном старый фонд (хрущевки), высотой именно 5 этажей.\n",
    "* **Тип этажа квартиры** - как и было логично предположить, большая часть объектов расположена не на первом или последнем этаже дома. Доля тех, что расположены на первом или последнем этаже составляет примерно по 25% от тех, что попали в категорию \"другие\".\n",
    "* **Общее количество этажей в доме** - на гистограмме четко видны 2 пика - 5 и 9 этажей. Это, скорее всего, связано опять же с тем, что активно продается вторичное жилье, те самые советкие пяти и девятиэтажки.\n",
    "* **Расстояние до центра города** - в среднем, объекты из объявлений в датафрейме расположены в границе 12,5-17,5 км. НАиболее приближенная к центру квартира - расположена в 181 метре. \n",
    "* **Расстояние до ближайшего аэропорта** - довольно хаотичная гистограмма не имеющая системности. В основном это связано со множеством объектов, к которым можно привязаться. Так, например, насколько мне известно, основной аэропорт Ленинградской области - Пулково. Было бы логично, как и в случае с центром города, опираться именно на него. В противном случае, близость к аэропорту фактор довольно условный. Его можно рассматривать как минусом (шум от турбин самолетов), так и плюсом (экономия времени при частых перелетах).\n",
    "* **Расстояние до ближайшего парка** - тоже фактор довольно специфический, но в отличие от аэропорта, важен сам факт наличия парка, а не привязка к конкретному объекту. Основная доля квартир расположена в пределах 200-700 метров от ближайшего парка. Пик значений - на уровне 500 метров.\n",
    "* **День размещения объявления** - сразу бросается в глаза уменьшение количества размещений объявлений о продаже недвижимости в субботу и воскресенье. Скорее всего это связано с тем, что в выходные дни, люди менее активны и стараются сделать важные дела в будние. \n",
    "* **Месяц размещения объявления** - прослеживается сезонность в объемах размещаемых объявлений. Пользователи активнее выставляют объекты на продажу весной (с марта по май) и осенью (сентябрь-ноябрь). Летом количество размещений заметно проседает, что может быть, главным образом, связано с сезоном отпусков. Также видно падение в период с декабря по январь, тут тоже не маловажный фактор - выходные дни в новогодние праздники.\n",
    "\n"
   ]
  },
  {
   "cell_type": "markdown",
   "metadata": {},
   "source": [
    "**Как быстро продавались квартиры:**"
   ]
  },
  {
   "cell_type": "code",
   "execution_count": 27,
   "metadata": {},
   "outputs": [
    {
     "data": {
      "image/png": "[encoded data removed]",
      "text/plain": [
       "<Figure size 432x288 with 1 Axes>"
      ]
     },
     "metadata": {
      "needs_background": "light"
     },
     "output_type": "display_data"
    },
    {
     "data": {
      "image/png": "[encoded data removed]",
      "text/plain": [
       "<Figure size 432x288 with 1 Axes>"
      ]
     },
     "metadata": {
      "needs_background": "light"
     },
     "output_type": "display_data"
    },
    {
     "data": {
      "image/png": "[encoded data removed]",
      "text/plain": [
       "<Figure size 432x288 with 1 Axes>"
      ]
     },
     "metadata": {
      "needs_background": "light"
     },
     "output_type": "display_data"
    },
    {
     "name": "stdout",
     "output_type": "stream",
     "text": [
      "Максимальное количество дней: 1580.0\n",
      "Минимальное количество дней: 1.0\n",
      "Среднее значение: 185.11362370502394\n",
      "Медианное значение: 102.0\n",
      "\n",
      "count    17954.000000\n",
      "mean       185.113624\n",
      "std        221.527446\n",
      "min          1.000000\n",
      "25%         45.000000\n",
      "50%        102.000000\n",
      "75%        238.000000\n",
      "max       1580.000000\n",
      "Name: days_exposition, dtype: float64\n"
     ]
    }
   ],
   "source": [
    "# Гистограмма по столбцу days_exposition с количеством дней размещения объявления (от публикации до снятия), а также выведем минимальное и максимальное значение:\n",
    "plt.hist(data['days_exposition'], bins=100, range=(100, 1580))\n",
    "plt.title('Количество дней размещения объявления')\n",
    "plt.xlabel('Количество дней')\n",
    "plt.ylabel('Количество квартир')\n",
    "plt.show()\n",
    "\n",
    "plt.hist(data['days_exposition'], bins=5, range=(1, 5))\n",
    "plt.title('Количество дней размещения объявления')\n",
    "plt.xlabel('Количество дней')\n",
    "plt.ylabel('Количество квартир')\n",
    "plt.show()\n",
    "\n",
    "plt.hist(data['days_exposition'], bins=30, range=(800, 1600))\n",
    "plt.title('Количество дней размещения объявления')\n",
    "plt.xlabel('Количество дней')\n",
    "plt.ylabel('Количество квартир')\n",
    "plt.show()\n",
    "\n",
    "print('Максимальное количество дней:', data['days_exposition'].max())\n",
    "print('Минимальное количество дней:', data['days_exposition'].min())\n",
    "\n",
    "# Среднеарифметическое значение и медиана:\n",
    "print('Среднее значение:', data['days_exposition'].mean())\n",
    "print('Медианное значение:', data['days_exposition'].median())\n",
    "print()\n",
    "print(data['days_exposition'].describe())"
   ]
  },
  {
   "cell_type": "markdown",
   "metadata": {},
   "source": [
    "* **Если рассмотреть график более подробно, то можно было бы посчитать аномальными значения от 0 до 2 (включительно), уж слишком резкий перепад значений идет между 2 и 3.** *Да, такие быстрые продажи в жизни имеют место быть, однако в нашем случае их количество слишком мало и их удаление не должно было бы повлиять на ход исследования.*\n",
    "\n",
    "* **Зайдя с противоположной стороны, уже проведя исследование до конца, ограничил бы дни размещения объявлений значениями 1200.** *Предположу, что причиной могло быть то, что пользователи, после продажи, просто забыли закрыть свое объявление и оно так и продолжало висеть. Альтернативной версией может быть сбой на сервисе и часть объявлений не изменила статус на закрытый.*\n",
    "\n",
    "* В любом случае, если взять ранее рассчитанные среднее (181 день) и медиану (96 дней), то из-за выбивающихся значений рассматривать среднее было бы неправильно. **Предположил бы, что рационально было бы рассматривать средним сроком размещения объявления именно медианное значение. А как раз среднее значение (более 180 дней), как долгое.**"
   ]
  },
  {
   "cell_type": "markdown",
   "metadata": {},
   "source": [
    "**Подитожим:**\n",
    "\n",
    "Время размещения объявлений мы разделили на 5 условных категорий:\n",
    "\n",
    "* **Очень быстрые** - до 30 дней\n",
    "* **Быстрые** - от 31 до 60 дней\n",
    "* **Средние** - от 61 до 180 дней\n",
    "* **Долгие** - от 181 до 360 дней\n",
    "* **Необычно долгие** - более 360 дней\n",
    "\n",
    "При этом 3396 объявлений остались пустыми, в силу невозможности восстановить данные по сроку их размещения. Их выделили отдельной категорией **неопределено**.\n",
    "\n"
   ]
  },
  {
   "cell_type": "markdown",
   "metadata": {},
   "source": [
    "**Факторы, имеющие наибольшее всего влияние на общую (полную) стоимость объекта:**\n",
    "\n",
    "Проверим, зависит ли цена от:"
   ]
  },
  {
   "cell_type": "code",
   "execution_count": 28,
   "metadata": {},
   "outputs": [
    {
     "data": {
      "image/png": "[encoded data removed]",
      "text/plain": [
       "<Figure size 432x288 with 1 Axes>"
      ]
     },
     "metadata": {
      "needs_background": "light"
     },
     "output_type": "display_data"
    },
    {
     "name": "stdout",
     "output_type": "stream",
     "text": [
      "Коэффициент корреляции между полной стоимостью объекта и общей площадью: 0.6696929766997475\n"
     ]
    },
    {
     "data": {
      "image/png": "[encoded data removed]",
      "text/plain": [
       "<Figure size 432x288 with 1 Axes>"
      ]
     },
     "metadata": {
      "needs_background": "light"
     },
     "output_type": "display_data"
    },
    {
     "name": "stdout",
     "output_type": "stream",
     "text": [
      "Коэффициент корреляции между полной стоимостью объекта и жилой площадью: 0.5895647878408606\n"
     ]
    },
    {
     "data": {
      "image/png": "[encoded data removed]",
      "text/plain": [
       "<Figure size 432x288 with 1 Axes>"
      ]
     },
     "metadata": {
      "needs_background": "light"
     },
     "output_type": "display_data"
    },
    {
     "name": "stdout",
     "output_type": "stream",
     "text": [
      "Коэффициент корреляции между полной стоимостью объекта и площадью кухни: 0.4890461767017618\n"
     ]
    },
    {
     "data": {
      "image/png": "[encoded data removed]",
      "text/plain": [
       "<Figure size 360x216 with 1 Axes>"
      ]
     },
     "metadata": {
      "needs_background": "light"
     },
     "output_type": "display_data"
    },
    {
     "name": "stdout",
     "output_type": "stream",
     "text": [
      "Коэффициент корреляции между полной стоимостью объекта и количеством комнат: 0.39924895342466515\n"
     ]
    },
    {
     "data": {
      "image/png": "[encoded data removed]",
      "text/plain": [
       "<Figure size 360x216 with 1 Axes>"
      ]
     },
     "metadata": {
      "needs_background": "light"
     },
     "output_type": "display_data"
    },
    {
     "data": {
      "image/png": "[encoded data removed]",
      "text/plain": [
       "<Figure size 360x216 with 1 Axes>"
      ]
     },
     "metadata": {
      "needs_background": "light"
     },
     "output_type": "display_data"
    },
    {
     "data": {
      "image/png": "[encoded data removed]",
      "text/plain": [
       "<Figure size 360x216 with 1 Axes>"
      ]
     },
     "metadata": {
      "needs_background": "light"
     },
     "output_type": "display_data"
    },
    {
     "data": {
      "image/png": "[encoded data removed]",
      "text/plain": [
       "<Figure size 360x216 with 1 Axes>"
      ]
     },
     "metadata": {
      "needs_background": "light"
     },
     "output_type": "display_data"
    }
   ],
   "source": [
    "# Общей площади:\n",
    "data.plot(x='total_area', y='last_price', kind='scatter', alpha=0.15)\n",
    "plt.title('Зависимость между полной стоимостью объекта и общей площадью')\n",
    "plt.show()\n",
    "print('Коэффициент корреляции между полной стоимостью объекта и общей площадью:', data['last_price'].corr(data['total_area']))\n",
    "\n",
    "# Жилой площади:\n",
    "data.plot(x='living_area', y='last_price', kind='scatter', alpha=0.15)\n",
    "plt.title('Зависимость между полной стоимостью объекта и жилой площадью')\n",
    "plt.show()\n",
    "print('Коэффициент корреляции между полной стоимостью объекта и жилой площадью:', data['last_price'].corr(data['living_area']))\n",
    "\n",
    "# Площади кухни:\n",
    "data.plot(x='kitchen_area', y='last_price', kind='scatter', alpha=0.15)\n",
    "plt.title('Зависимость между полной стоимостью объекта и площадью кухни')\n",
    "plt.show()\n",
    "print('Коэффициент корреляции между полной стоимостью объекта и площадью кухни:', data['last_price'].corr(data['kitchen_area']))\n",
    "\n",
    "# Количества комнат:\n",
    "data.pivot_table(index='rooms', values='last_price', aggfunc=('median')).plot(y='last_price', kind='bar', figsize=(5,3))\n",
    "plt.title('Зависимость между полной стоимостью объекта и количеством комнат')\n",
    "plt.show()\n",
    "print('Коэффициент корреляции между полной стоимостью объекта и количеством комнат:', data['last_price'].corr(data['rooms']))\n",
    "\n",
    "# Типа этажа, на котором расположена квартира (первый, последний, другой):\n",
    "data.pivot_table(index='floor_type', values='last_price', aggfunc=('median')).plot(y='last_price', kind='bar', figsize=(5,3))\n",
    "plt.title('Зависимость итоговой стоимости от категории этажа')\n",
    "\n",
    "# От дня размещения:\n",
    "data.pivot_table(index='weekday', values='last_price', aggfunc=('median')).plot(y='last_price', kind='bar', figsize=(5,3))\n",
    "plt.title('Зависимость итоговой стоимости от дня размещения')\n",
    "plt.show()\n",
    "\n",
    "# От месяца размещения:\n",
    "data.pivot_table(index='month', values='last_price', aggfunc=('median')).plot(y='last_price', kind='bar', figsize=(5,3))\n",
    "plt.title('Зависимость итоговой стоимости от месяца размещения')\n",
    "plt.show()\n",
    "\n",
    "# От года размещения:\n",
    "data.pivot_table(index='year', values='last_price', aggfunc=('median')).plot(y='last_price', kind='bar', figsize=(5,3))\n",
    "plt.title('Зависимость итоговой стоимости от года размещения')\n",
    "plt.show()"
   ]
  },
  {
   "cell_type": "markdown",
   "metadata": {},
   "source": [
    "**Рассмотрел зависимость итоговой цены от различных факторов подробнее:**\n",
    "\n",
    "* В первую очередь, исследуем влияние факторов площади на итоговую цену недвижимости. Как видно из рассчитанных коэффициентов корреляции Пирсона, наибольшее действие оказывает фактор **общей площади - 0,64**. Чуть меньшее влияние у ** жилой площади - 0,57**. И еще меньше у **площади кухни - 0,50**. Смотря на все 3 фактора, видно, что параметры площади имеют заметное влияние на стоимость объектов недвижимости. Нельзя назвать ее высокой, но и низкой тоже не назовешь.\n",
    "* Такой показатель как **количество комнат** имеет умеренное влияние на цену. Коэффициент корреляции Пирсона, равный 0,36, это подтверждает. Видно, что данный показатель менее важен при формировании цены, чем показатели площади обекта.\n",
    "* Что касается **категории этажа**, то исходя из построенной столбчатой диаграммы (построенным по медианным значениям), видно заметное проседание в цене вариантов, расположенных на первых этажах. Впрочем последние этажи также проигрывают промежуточным.\n",
    "* **День, месяц и год**, внимательно рассмотрев графики по каждому из этих факторов, становится очевидно, что они практически никак не влияют на итоговую цену. Единственное, что бросается в глаза - резкое падение цен после 2014 года, после чего они держатся примерно на одном уровне.\n"
   ]
  },
  {
   "cell_type": "markdown",
   "metadata": {},
   "source": [
    "**Исследовал параметр средней цены квадратного метра:**"
   ]
  },
  {
   "cell_type": "code",
   "execution_count": 29,
   "metadata": {},
   "outputs": [
    {
     "name": "stdout",
     "output_type": "stream",
     "text": [
      "                         count         median\n",
      "                cost_per_meter cost_per_meter\n",
      "locality_name                                \n",
      "Санкт-Петербург          13962     104123.245\n",
      "Мурино                     459      85582.260\n",
      "Шушары                     392      77223.320\n",
      "Кудрово                    376      95675.475\n",
      "Всеволожск                 357      65789.470\n",
      "Пушкин                     333     100000.000\n",
      "Колпино                    322      74723.745\n",
      "Гатчина                    290      67746.285\n",
      "Парголово                  288      92271.975\n",
      "Выборг                     190      58357.385\n",
      "\n",
      "Населенный пункт с наибольшей ценой за квадратный метр:\n",
      "                       count         median\n",
      "              cost_per_meter cost_per_meter\n",
      "locality_name                              \n",
      "Репино                     2      127678.57\n",
      "\n",
      "Населенный пункт с наименьшей ценой за квадратный метр:\n",
      "                       count         median\n",
      "              cost_per_meter cost_per_meter\n",
      "locality_name                              \n",
      "Старополье                 1       10368.66\n"
     ]
    }
   ],
   "source": [
    "# средняя цену квадратного метра в населенных пунктах с наибольшим количеством объявлений:\n",
    "locality_name_data = data.pivot_table(index='locality_name', values='cost_per_meter', aggfunc=['count', 'median']).sort_values(by=[('count', 'cost_per_meter')], ascending=False)\n",
    "print(locality_name_data.head(10))\n",
    "print()\n",
    "\n",
    "# Населенные пункты с наибольшей и наименьшей ценой за квадратный метр недвижимости:\n",
    "print('Населенный пункт с наибольшей ценой за квадратный метр:')\n",
    "print(locality_name_data[locality_name_data[('median', 'cost_per_meter')] == locality_name_data[('median', 'cost_per_meter')].max()])\n",
    "print()\n",
    "print('Населенный пункт с наименьшей ценой за квадратный метр:')\n",
    "print(locality_name_data[locality_name_data[('median', 'cost_per_meter')] == locality_name_data[('median', 'cost_per_meter')].min()])"
   ]
  },
  {
   "cell_type": "markdown",
   "metadata": {},
   "source": [
    "**Исследовал объявления по объектам недвижимости в Санкт-Петербурге:**"
   ]
  },
  {
   "cell_type": "code",
   "execution_count": 30,
   "metadata": {},
   "outputs": [
    {
     "name": "stdout",
     "output_type": "stream",
     "text": [
      "                        last_price\n",
      "cityCenters_nearest_km            \n",
      "0.0                       13500000\n",
      "1.0                       11500000\n",
      "2.0                       10000000\n",
      "3.0                        8375000\n",
      "4.0                        9000000\n",
      "5.0                        9000000\n",
      "6.0                        8600000\n",
      "7.0                        7600000\n",
      "8.0                        7500000\n",
      "9.0                        5400000\n",
      "10.0                       5000000\n",
      "11.0                       5000000\n",
      "12.0                       5000000\n",
      "13.0                       5200000\n",
      "14.0                       4899000\n",
      "15.0                       4900000\n",
      "16.0                       4800000\n",
      "17.0                       4600000\n",
      "18.0                       4310000\n",
      "19.0                       4500000\n",
      "20.0                       5900000\n",
      "21.0                       4910699\n",
      "22.0                       4800000\n",
      "23.0                       4590000\n",
      "24.0                       3540000\n",
      "25.0                       4085000\n",
      "26.0                       3347500\n",
      "27.0                       8300000\n",
      "28.0                       4990000\n",
      "29.0                       4700000\n"
     ]
    },
    {
     "data": {
      "image/png": "[encoded data removed]",
      "text/plain": [
       "<Figure size 576x288 with 1 Axes>"
      ]
     },
     "metadata": {
      "needs_background": "light"
     },
     "output_type": "display_data"
    }
   ],
   "source": [
    "# Вывел недвижимость, находящуюся в Санкт-Петербурге, в отдельную переменную:\n",
    "spb_data = data.query('locality_name == \"Санкт-Петербург\"').pivot_table(index='cityCenters_nearest_km', values='last_price', aggfunc='median')\n",
    "print(spb_data)\n",
    "\n",
    "# Для наглядности построил столбчатую диаграмму:\n",
    "spb_data.plot(y='last_price', kind='bar', figsize=(8,4))\n",
    "plt.title('Зависимость итоговой стоимости от удаленности к центру города')\n",
    "plt.show()"
   ]
  },
  {
   "cell_type": "markdown",
   "metadata": {},
   "source": [
    "**Общие закономерности ценообразования в Санкт-Петербурге:**\n",
    "\n",
    "* Наиболее дорогая недвижимость, что логично, располагается в пределах 1 км от центра города. Медианное значение конечной цены - 17,5 млн\n",
    "* Ко второй категории по стоимости следует отнести недвижимость, расположенную в пределах от 1 до 3 км. Цены на данном участке варьируются от 10 до 12 млн.\n",
    "* Третья категория - участок в радиусе от 3 до 8 км. Диапазон медианных цен от 7,5 до 9,5 млн. Отдельно следует отметить значительное падение цен (-1,5 млн) между вторым и третьим км.\n",
    "  \n",
    "**Важно!** среди оставшихся значений выбивается уровень цен на 27м километре от центра города. Могу предположить, что там расположен какой-то элитный поселок с дорогой недвижимостью или дома/квартиры на береговой линии финского залива. Именно за счет этого медианная цена в данном радиусе соразмерна с ценами третьей категории.\n",
    "\n",
    "* Остальные объявления, начиная с 9 км и дальшенаходятся примерно в одной ценовой категории 4-5 млн. Небольшой взлет на участке 20-21 км также может быть связан с расположенной на данном участке элитной недвижимостью.\n"
   ]
  },
  {
   "cell_type": "markdown",
   "metadata": {},
   "source": [
    "**Общие выводы исследования:**\n",
    "Было проведено исследование рынка недвижимости Санкт-Петербурга и ленинградской области периода 2014-2019 годо на основе данных сервиса \"Яндекс.Недвижимость\".\n",
    "\n",
    "\n",
    "* **В ходе исследования были изучены изначальные данные, а также проведена их предварительная обработка, а именно:**\n",
    "  - Заменили часть пропусков на подходящие по логике значения,\n",
    "  - Проверили датафрейм на наличие строк-дубликатов,\n",
    "  - Обработали аномальные значения.\n",
    "  \n",
    "  \n",
    "* **В ходе работы были добавлены следущие столбцы:**\n",
    "  - цена одного квадратного метра;\n",
    "  - день недели публикации объявления;\n",
    "  - месяц публикации объявления;\n",
    "  - год публикации объявления;\n",
    "  - тип этажа квартиры (значения — «первый», «последний», «другой»);\n",
    "  - расстояние до центра города в километрах (переведите из м в км и округлите до целых значений).\n",
    "  \n",
    "  \n",
    "* **Были изучены основные параметры параметры квартир, что позволило сформировать образ среднестатистической квартиры в данном регионе:**\n",
    "  - Общая площадь = 40 кв. метров\n",
    "  - Жилая площадь = 20 кв. метров\n",
    "  - Площадь кухни = 7,5 кв. метров\n",
    "  - Итоговая стоимость = 3,25 млн\n",
    "  - Количество комнат = 1-2\n",
    "  - Высота потолков = 2,7 м\n",
    "  - Этаж = 2-5(но не последний)\n",
    "  - Количество этажей в доме = 5\n",
    "  - Растояние до центра города = 15 км\n",
    "  \n",
    "  \n",
    "* **Были изучены темпы продажи квартир:**\n",
    "  - Среднее значение = 181 день\n",
    "  - Медианнное = 96 дней\n",
    "  \n",
    "  *Объявления были разделены на 5 категорий:*\n",
    "  - *Очень быстрые* - до 30 дней (**3661 объявлений**)\n",
    "  - *Быстрые* - от 31 до 60 дней (**3830 объявлений**)\n",
    "  - *Средние* - от 61 до 180 дней (**6286 объявлений**)\n",
    "  - *Долгие* - от 181 до 360 дней (**3287 объявлений**)\n",
    "  - *Необычно долгие* - более 360 дней (**3091 объявлений**)\n",
    "  - Оббъявления без информации о сроке размещения были отнесены к категории - *неопределено* (**3197 объектов**)\n",
    "   \n",
    "   \n",
    "* **Были изучены факторы, влияющие на итоговую стоимость недвижимости:** \n",
    "  - Среди таковых, по расчитанному коэффициенту корреляции Пирсона, выделяются параметры площади объекта (общая, жилая и кухонная) 0,64, 0,57 и 0,50, что может рассматриваться как заметное влияние, но не безусловное. \n",
    "  - Также, как показало дальнейшее исследование, сильное влияние на ценообразование имеет такой фактор как удаленность от центра города. \n",
    "  - Помимо этого, столбчатая диаграмма показала, что тип этажа также имеет значение. Недвижимость на первых и последних этажах стоит меньше, чем расположенная в промежутке между ними. \n",
    "  - Влияние даты размещения объявления (день недели, месяц ,год) приближено к нулю и фактически не влияет на цену.\n",
    "\n",
    "\n",
    "* **Иследована стоимость квадратного метра в разных населенных пунктах**:\n",
    "  - В ходе работы было выявлено, что наибольшее количество объектов недвижимости было расположено в Санкт-Петербурге (66% от общего числа объявлений, оставшихся после предобработки данных)\n",
    "  - Помимо этого было определено, что наибольшая средняя стоимость квадратного метра недвижимости в Санкт-Петербурге (104650 за кв. метр). \n",
    "  - Наименьшая стоимость кв. метра принадлежит Старополью (11000 за кв. метр и всего 3 объявления)\n",
    "  \n",
    "  \n",
    "* **Иследованы цены на недвижимость в Санкт-Петербурге. В частности зависимость цены от удаленности от центра:**\n",
    "    Исследование показало, что Санкт-петербург можно разделить на 4 ценовых зоны:\n",
    "    - До 1 км - центр города. Медианное значение конечной цены = 17,5 млн.\n",
    "    - От 1 до 3 км - в шаговой доступности до центра города. Медианная цена 10-12 млн.\n",
    "    - От 3 до 8 км - промежутоные варианты. Цена варьируется от 7,5 до 9,5 млн.\n",
    "    - Более 8 км от центра города - спальные районы. Цена 4-5 млн"
   ]
  }
 ],
 "metadata": {
  "ExecuteTimeLog": [
   {
    "duration": 480,
    "start_time": "2023-01-11T10:33:17.667Z"
   },
   {
    "duration": 0,
    "start_time": "2023-01-11T10:33:18.151Z"
   },
   {
    "duration": 0,
    "start_time": "2023-01-11T10:33:18.152Z"
   },
   {
    "duration": 0,
    "start_time": "2023-01-11T10:33:18.154Z"
   },
   {
    "duration": 0,
    "start_time": "2023-01-11T10:33:18.155Z"
   },
   {
    "duration": 0,
    "start_time": "2023-01-11T10:33:18.156Z"
   },
   {
    "duration": 0,
    "start_time": "2023-01-11T10:33:18.157Z"
   },
   {
    "duration": 0,
    "start_time": "2023-01-11T10:33:18.158Z"
   },
   {
    "duration": 0,
    "start_time": "2023-01-11T10:33:18.159Z"
   },
   {
    "duration": 0,
    "start_time": "2023-01-11T10:33:18.161Z"
   },
   {
    "duration": 0,
    "start_time": "2023-01-11T10:33:18.163Z"
   },
   {
    "duration": 0,
    "start_time": "2023-01-11T10:33:18.164Z"
   },
   {
    "duration": 0,
    "start_time": "2023-01-11T10:33:18.165Z"
   },
   {
    "duration": 0,
    "start_time": "2023-01-11T10:33:18.167Z"
   },
   {
    "duration": 0,
    "start_time": "2023-01-11T10:33:18.168Z"
   },
   {
    "duration": 0,
    "start_time": "2023-01-11T10:33:18.169Z"
   },
   {
    "duration": 0,
    "start_time": "2023-01-11T10:33:18.170Z"
   },
   {
    "duration": 0,
    "start_time": "2023-01-11T10:33:18.172Z"
   },
   {
    "duration": 0,
    "start_time": "2023-01-11T10:33:18.173Z"
   },
   {
    "duration": 0,
    "start_time": "2023-01-11T10:33:18.174Z"
   },
   {
    "duration": 0,
    "start_time": "2023-01-11T10:33:18.175Z"
   },
   {
    "duration": 13,
    "start_time": "2023-01-11T10:33:29.468Z"
   },
   {
    "duration": 204,
    "start_time": "2023-01-11T10:33:39.502Z"
   },
   {
    "duration": 16,
    "start_time": "2023-01-11T10:33:40.492Z"
   },
   {
    "duration": 127,
    "start_time": "2023-01-11T10:33:45.223Z"
   },
   {
    "duration": 17,
    "start_time": "2023-01-11T10:33:46.571Z"
   },
   {
    "duration": 77,
    "start_time": "2023-01-11T10:33:46.752Z"
   },
   {
    "duration": 2596,
    "start_time": "2023-01-11T10:33:47.197Z"
   },
   {
    "duration": 12,
    "start_time": "2023-01-11T10:33:49.795Z"
   },
   {
    "duration": 16,
    "start_time": "2023-01-11T10:33:49.809Z"
   },
   {
    "duration": 30,
    "start_time": "2023-01-11T10:33:49.827Z"
   },
   {
    "duration": 8,
    "start_time": "2023-01-11T10:33:49.858Z"
   },
   {
    "duration": 217,
    "start_time": "2023-01-11T10:33:49.991Z"
   },
   {
    "duration": 487,
    "start_time": "2023-01-11T10:33:50.689Z"
   },
   {
    "duration": 22,
    "start_time": "2023-01-11T10:33:51.177Z"
   },
   {
    "duration": 8,
    "start_time": "2023-01-11T10:33:51.355Z"
   },
   {
    "duration": 13,
    "start_time": "2023-01-11T10:33:51.581Z"
   },
   {
    "duration": 2331,
    "start_time": "2023-01-11T10:33:51.791Z"
   },
   {
    "duration": 369,
    "start_time": "2023-01-11T10:33:54.125Z"
   },
   {
    "duration": 27,
    "start_time": "2023-01-11T10:33:54.496Z"
   },
   {
    "duration": 108,
    "start_time": "2023-01-11T10:33:54.524Z"
   },
   {
    "duration": 681,
    "start_time": "2023-01-11T10:33:54.633Z"
   },
   {
    "duration": 212,
    "start_time": "2023-01-11T10:33:55.317Z"
   },
   {
    "duration": 334,
    "start_time": "2023-01-11T10:33:55.530Z"
   },
   {
    "duration": 467,
    "start_time": "2023-01-11T10:33:55.866Z"
   },
   {
    "duration": 567,
    "start_time": "2023-01-11T10:33:56.336Z"
   },
   {
    "duration": 449,
    "start_time": "2023-01-11T10:33:56.905Z"
   },
   {
    "duration": 52,
    "start_time": "2023-01-11T14:31:39.927Z"
   },
   {
    "duration": 749,
    "start_time": "2023-01-11T14:33:03.513Z"
   },
   {
    "duration": 93,
    "start_time": "2023-01-11T14:33:04.264Z"
   },
   {
    "duration": 20,
    "start_time": "2023-01-11T14:33:04.359Z"
   },
   {
    "duration": 81,
    "start_time": "2023-01-11T14:33:04.381Z"
   },
   {
    "duration": 2444,
    "start_time": "2023-01-11T14:33:04.464Z"
   },
   {
    "duration": 10,
    "start_time": "2023-01-11T14:33:06.911Z"
   },
   {
    "duration": 15,
    "start_time": "2023-01-11T14:33:06.922Z"
   },
   {
    "duration": 41,
    "start_time": "2023-01-11T14:33:06.938Z"
   },
   {
    "duration": 29,
    "start_time": "2023-01-11T14:33:06.981Z"
   },
   {
    "duration": 203,
    "start_time": "2023-01-11T14:33:07.013Z"
   },
   {
    "duration": 461,
    "start_time": "2023-01-11T14:33:07.217Z"
   },
   {
    "duration": 21,
    "start_time": "2023-01-11T14:33:07.679Z"
   },
   {
    "duration": 8,
    "start_time": "2023-01-11T14:33:07.701Z"
   },
   {
    "duration": 39,
    "start_time": "2023-01-11T14:33:07.711Z"
   },
   {
    "duration": 2306,
    "start_time": "2023-01-11T14:33:07.752Z"
   },
   {
    "duration": 342,
    "start_time": "2023-01-11T14:33:10.060Z"
   },
   {
    "duration": 25,
    "start_time": "2023-01-11T14:33:10.404Z"
   },
   {
    "duration": 105,
    "start_time": "2023-01-11T14:33:10.431Z"
   },
   {
    "duration": 705,
    "start_time": "2023-01-11T14:33:10.538Z"
   },
   {
    "duration": 195,
    "start_time": "2023-01-11T14:33:11.245Z"
   },
   {
    "duration": 354,
    "start_time": "2023-01-11T14:33:11.441Z"
   },
   {
    "duration": 474,
    "start_time": "2023-01-11T14:33:11.797Z"
   },
   {
    "duration": 552,
    "start_time": "2023-01-11T14:33:12.278Z"
   },
   {
    "duration": 442,
    "start_time": "2023-01-11T14:33:12.832Z"
   },
   {
    "duration": 199,
    "start_time": "2023-01-11T14:33:26.437Z"
   },
   {
    "duration": 227,
    "start_time": "2023-01-11T14:33:53.865Z"
   },
   {
    "duration": 210,
    "start_time": "2023-01-11T14:34:08.100Z"
   },
   {
    "duration": 315,
    "start_time": "2023-01-11T14:34:46.827Z"
   },
   {
    "duration": 352,
    "start_time": "2023-01-11T14:35:52.027Z"
   },
   {
    "duration": 287,
    "start_time": "2023-01-11T14:36:06.243Z"
   },
   {
    "duration": 447,
    "start_time": "2023-01-11T14:36:18.794Z"
   },
   {
    "duration": 285,
    "start_time": "2023-01-11T14:37:04.760Z"
   },
   {
    "duration": 262,
    "start_time": "2023-01-11T14:37:18.626Z"
   },
   {
    "duration": 282,
    "start_time": "2023-01-11T14:37:31.810Z"
   },
   {
    "duration": 301,
    "start_time": "2023-01-11T14:38:52.314Z"
   },
   {
    "duration": 536,
    "start_time": "2023-01-11T14:39:14.504Z"
   },
   {
    "duration": 380,
    "start_time": "2023-01-11T14:39:24.945Z"
   },
   {
    "duration": 300,
    "start_time": "2023-01-11T14:39:36.600Z"
   },
   {
    "duration": 910,
    "start_time": "2023-01-11T14:39:41.544Z"
   },
   {
    "duration": 240,
    "start_time": "2023-01-11T14:39:49.712Z"
   },
   {
    "duration": 246,
    "start_time": "2023-01-11T14:41:11.707Z"
   },
   {
    "duration": 280,
    "start_time": "2023-01-11T14:41:28.279Z"
   },
   {
    "duration": 201,
    "start_time": "2023-01-11T14:41:39.656Z"
   },
   {
    "duration": 171,
    "start_time": "2023-01-11T14:43:10.002Z"
   },
   {
    "duration": 236,
    "start_time": "2023-01-11T14:50:34.731Z"
   },
   {
    "duration": 221,
    "start_time": "2023-01-11T14:50:47.858Z"
   },
   {
    "duration": 192,
    "start_time": "2023-01-11T14:51:10.730Z"
   },
   {
    "duration": 457,
    "start_time": "2023-01-11T14:51:29.170Z"
   },
   {
    "duration": 741,
    "start_time": "2023-01-11T14:52:57.213Z"
   },
   {
    "duration": 297,
    "start_time": "2023-01-11T14:53:37.281Z"
   },
   {
    "duration": 577,
    "start_time": "2023-01-11T14:55:04.409Z"
   },
   {
    "duration": 463,
    "start_time": "2023-01-11T14:55:27.072Z"
   },
   {
    "duration": 425,
    "start_time": "2023-01-11T14:55:40.465Z"
   },
   {
    "duration": 450,
    "start_time": "2023-01-11T14:55:51.232Z"
   },
   {
    "duration": 802,
    "start_time": "2023-01-11T14:57:25.433Z"
   },
   {
    "duration": 633,
    "start_time": "2023-01-11T14:57:38.712Z"
   },
   {
    "duration": 825,
    "start_time": "2023-01-11T15:04:44.208Z"
   },
   {
    "duration": 626,
    "start_time": "2023-01-11T15:04:59.974Z"
   },
   {
    "duration": 601,
    "start_time": "2023-01-11T15:17:54.088Z"
   },
   {
    "duration": 769,
    "start_time": "2023-01-11T15:18:14.752Z"
   },
   {
    "duration": 602,
    "start_time": "2023-01-11T15:18:43.024Z"
   },
   {
    "duration": 468,
    "start_time": "2023-01-11T15:28:13.839Z"
   },
   {
    "duration": 102,
    "start_time": "2023-01-11T15:28:14.310Z"
   },
   {
    "duration": 15,
    "start_time": "2023-01-11T15:28:14.414Z"
   },
   {
    "duration": 89,
    "start_time": "2023-01-11T15:28:14.431Z"
   },
   {
    "duration": 2230,
    "start_time": "2023-01-11T15:28:14.522Z"
   },
   {
    "duration": 10,
    "start_time": "2023-01-11T15:28:16.755Z"
   },
   {
    "duration": 13,
    "start_time": "2023-01-11T15:28:16.767Z"
   },
   {
    "duration": 18,
    "start_time": "2023-01-11T15:28:16.781Z"
   },
   {
    "duration": 6,
    "start_time": "2023-01-11T15:28:16.801Z"
   },
   {
    "duration": 199,
    "start_time": "2023-01-11T15:28:16.809Z"
   },
   {
    "duration": 458,
    "start_time": "2023-01-11T15:28:24.142Z"
   },
   {
    "duration": 532,
    "start_time": "2023-01-11T15:32:08.965Z"
   },
   {
    "duration": 103,
    "start_time": "2023-01-11T15:32:09.499Z"
   },
   {
    "duration": 16,
    "start_time": "2023-01-11T15:32:09.605Z"
   },
   {
    "duration": 86,
    "start_time": "2023-01-11T15:32:09.623Z"
   },
   {
    "duration": 2317,
    "start_time": "2023-01-11T15:32:09.711Z"
   },
   {
    "duration": 10,
    "start_time": "2023-01-11T15:32:12.030Z"
   },
   {
    "duration": 9,
    "start_time": "2023-01-11T15:32:12.041Z"
   },
   {
    "duration": 20,
    "start_time": "2023-01-11T15:32:12.051Z"
   },
   {
    "duration": 8,
    "start_time": "2023-01-11T15:32:12.072Z"
   },
   {
    "duration": 198,
    "start_time": "2023-01-11T15:32:12.082Z"
   },
   {
    "duration": 555,
    "start_time": "2023-01-11T15:32:36.174Z"
   },
   {
    "duration": 776,
    "start_time": "2023-01-11T15:33:23.849Z"
   },
   {
    "duration": 526,
    "start_time": "2023-01-11T15:35:58.105Z"
   },
   {
    "duration": 116,
    "start_time": "2023-01-11T15:35:58.634Z"
   },
   {
    "duration": 16,
    "start_time": "2023-01-11T15:35:58.751Z"
   },
   {
    "duration": 93,
    "start_time": "2023-01-11T15:35:58.777Z"
   },
   {
    "duration": 2400,
    "start_time": "2023-01-11T15:35:58.877Z"
   },
   {
    "duration": 11,
    "start_time": "2023-01-11T15:36:01.278Z"
   },
   {
    "duration": 23,
    "start_time": "2023-01-11T15:36:01.290Z"
   },
   {
    "duration": 39,
    "start_time": "2023-01-11T15:36:01.315Z"
   },
   {
    "duration": 7,
    "start_time": "2023-01-11T15:36:01.356Z"
   },
   {
    "duration": 218,
    "start_time": "2023-01-11T15:36:01.365Z"
   },
   {
    "duration": 361,
    "start_time": "2023-01-11T15:36:06.801Z"
   },
   {
    "duration": 442,
    "start_time": "2023-01-11T15:36:26.057Z"
   },
   {
    "duration": 616,
    "start_time": "2023-01-11T15:36:47.361Z"
   },
   {
    "duration": 438,
    "start_time": "2023-01-11T15:36:57.001Z"
   },
   {
    "duration": 494,
    "start_time": "2023-01-11T15:37:17.023Z"
   },
   {
    "duration": 678,
    "start_time": "2023-01-11T15:37:23.802Z"
   },
   {
    "duration": 432,
    "start_time": "2023-01-11T15:39:14.991Z"
   },
   {
    "duration": 318,
    "start_time": "2023-01-11T15:39:35.393Z"
   },
   {
    "duration": 516,
    "start_time": "2023-01-11T15:50:48.718Z"
   },
   {
    "duration": 113,
    "start_time": "2023-01-11T15:50:49.237Z"
   },
   {
    "duration": 16,
    "start_time": "2023-01-11T15:50:49.352Z"
   },
   {
    "duration": 79,
    "start_time": "2023-01-11T15:50:49.378Z"
   },
   {
    "duration": 2478,
    "start_time": "2023-01-11T15:50:49.458Z"
   },
   {
    "duration": 11,
    "start_time": "2023-01-11T15:50:51.939Z"
   },
   {
    "duration": 16,
    "start_time": "2023-01-11T15:50:51.952Z"
   },
   {
    "duration": 18,
    "start_time": "2023-01-11T15:50:51.970Z"
   },
   {
    "duration": 7,
    "start_time": "2023-01-11T15:50:51.990Z"
   },
   {
    "duration": 207,
    "start_time": "2023-01-11T15:50:52.000Z"
   },
   {
    "duration": 354,
    "start_time": "2023-01-11T15:50:52.209Z"
   },
   {
    "duration": 25,
    "start_time": "2023-01-11T15:50:55.643Z"
   },
   {
    "duration": 488,
    "start_time": "2023-01-11T15:50:58.538Z"
   },
   {
    "duration": 90,
    "start_time": "2023-01-11T15:51:14.456Z"
   },
   {
    "duration": 110,
    "start_time": "2023-01-11T15:51:14.549Z"
   },
   {
    "duration": 43,
    "start_time": "2023-01-11T15:51:14.661Z"
   },
   {
    "duration": 89,
    "start_time": "2023-01-11T15:51:14.706Z"
   },
   {
    "duration": 2139,
    "start_time": "2023-01-11T15:51:14.796Z"
   },
   {
    "duration": 12,
    "start_time": "2023-01-11T15:51:16.937Z"
   },
   {
    "duration": 32,
    "start_time": "2023-01-11T15:51:16.951Z"
   },
   {
    "duration": 12,
    "start_time": "2023-01-11T15:51:16.985Z"
   },
   {
    "duration": 8,
    "start_time": "2023-01-11T15:51:16.999Z"
   },
   {
    "duration": 212,
    "start_time": "2023-01-11T15:51:17.010Z"
   },
   {
    "duration": 348,
    "start_time": "2023-01-11T15:51:17.224Z"
   },
   {
    "duration": 20,
    "start_time": "2023-01-11T15:51:17.577Z"
   },
   {
    "duration": 562,
    "start_time": "2023-01-11T15:51:17.599Z"
   },
   {
    "duration": 30,
    "start_time": "2023-01-11T15:51:18.163Z"
   },
   {
    "duration": 9,
    "start_time": "2023-01-11T15:51:18.195Z"
   },
   {
    "duration": 19,
    "start_time": "2023-01-11T15:51:18.206Z"
   },
   {
    "duration": 2384,
    "start_time": "2023-01-11T15:51:18.228Z"
   },
   {
    "duration": 464,
    "start_time": "2023-01-11T15:51:20.614Z"
   },
   {
    "duration": 26,
    "start_time": "2023-01-11T15:51:21.080Z"
   },
   {
    "duration": 109,
    "start_time": "2023-01-11T15:51:21.107Z"
   },
   {
    "duration": 574,
    "start_time": "2023-01-11T15:51:21.218Z"
   },
   {
    "duration": 215,
    "start_time": "2023-01-11T15:51:21.794Z"
   },
   {
    "duration": 338,
    "start_time": "2023-01-11T15:51:22.011Z"
   },
   {
    "duration": 465,
    "start_time": "2023-01-11T15:51:22.351Z"
   },
   {
    "duration": 578,
    "start_time": "2023-01-11T15:51:22.818Z"
   },
   {
    "duration": 319,
    "start_time": "2023-01-11T15:51:23.398Z"
   },
   {
    "duration": 829,
    "start_time": "2023-01-11T15:51:23.719Z"
   },
   {
    "duration": 1453,
    "start_time": "2023-01-11T15:51:24.552Z"
   },
   {
    "duration": 38,
    "start_time": "2023-01-11T15:51:26.007Z"
   },
   {
    "duration": 343,
    "start_time": "2023-01-11T15:51:26.047Z"
   },
   {
    "duration": 507,
    "start_time": "2023-01-11T15:52:14.336Z"
   },
   {
    "duration": 99,
    "start_time": "2023-01-11T15:52:14.845Z"
   },
   {
    "duration": 15,
    "start_time": "2023-01-11T15:52:14.946Z"
   },
   {
    "duration": 79,
    "start_time": "2023-01-11T15:52:14.977Z"
   },
   {
    "duration": 2332,
    "start_time": "2023-01-11T15:52:15.061Z"
   },
   {
    "duration": 11,
    "start_time": "2023-01-11T15:52:17.395Z"
   },
   {
    "duration": 12,
    "start_time": "2023-01-11T15:52:17.408Z"
   },
   {
    "duration": 18,
    "start_time": "2023-01-11T15:52:17.422Z"
   },
   {
    "duration": 7,
    "start_time": "2023-01-11T15:52:17.442Z"
   },
   {
    "duration": 233,
    "start_time": "2023-01-11T15:52:17.451Z"
   },
   {
    "duration": 294,
    "start_time": "2023-01-11T15:52:35.609Z"
   },
   {
    "duration": 326,
    "start_time": "2023-01-11T15:52:55.809Z"
   },
   {
    "duration": 313,
    "start_time": "2023-01-11T15:53:13.601Z"
   },
   {
    "duration": 455,
    "start_time": "2023-01-11T15:53:36.530Z"
   },
   {
    "duration": 322,
    "start_time": "2023-01-11T15:53:42.993Z"
   },
   {
    "duration": 322,
    "start_time": "2023-01-11T15:54:05.152Z"
   },
   {
    "duration": 337,
    "start_time": "2023-01-11T15:54:13.721Z"
   },
   {
    "duration": 297,
    "start_time": "2023-01-11T15:54:26.727Z"
   },
   {
    "duration": 436,
    "start_time": "2023-01-11T15:54:42.456Z"
   },
   {
    "duration": 546,
    "start_time": "2023-01-11T15:56:31.586Z"
   },
   {
    "duration": 101,
    "start_time": "2023-01-11T15:56:32.134Z"
   },
   {
    "duration": 15,
    "start_time": "2023-01-11T15:56:32.237Z"
   },
   {
    "duration": 89,
    "start_time": "2023-01-11T15:56:32.254Z"
   },
   {
    "duration": 2416,
    "start_time": "2023-01-11T15:56:32.344Z"
   },
   {
    "duration": 518,
    "start_time": "2023-01-11T15:57:26.709Z"
   },
   {
    "duration": 98,
    "start_time": "2023-01-11T15:57:27.230Z"
   },
   {
    "duration": 15,
    "start_time": "2023-01-11T15:57:27.329Z"
   },
   {
    "duration": 96,
    "start_time": "2023-01-11T15:57:27.346Z"
   },
   {
    "duration": 2490,
    "start_time": "2023-01-11T15:57:27.443Z"
   },
   {
    "duration": 88,
    "start_time": "2023-01-11T15:57:45.131Z"
   },
   {
    "duration": 99,
    "start_time": "2023-01-11T15:57:45.221Z"
   },
   {
    "duration": 14,
    "start_time": "2023-01-11T15:57:45.322Z"
   },
   {
    "duration": 96,
    "start_time": "2023-01-11T15:57:45.338Z"
   },
   {
    "duration": 2026,
    "start_time": "2023-01-11T15:57:45.436Z"
   },
   {
    "duration": 18,
    "start_time": "2023-01-11T15:57:47.464Z"
   },
   {
    "duration": 8,
    "start_time": "2023-01-11T15:57:47.484Z"
   },
   {
    "duration": 92,
    "start_time": "2023-01-11T15:57:47.494Z"
   },
   {
    "duration": 14,
    "start_time": "2023-01-11T15:58:11.672Z"
   },
   {
    "duration": 17,
    "start_time": "2023-01-11T15:58:28.741Z"
   },
   {
    "duration": 559,
    "start_time": "2023-01-11T15:59:25.142Z"
   },
   {
    "duration": 105,
    "start_time": "2023-01-11T15:59:25.703Z"
   },
   {
    "duration": 17,
    "start_time": "2023-01-11T15:59:25.809Z"
   },
   {
    "duration": 108,
    "start_time": "2023-01-11T15:59:25.829Z"
   },
   {
    "duration": 2309,
    "start_time": "2023-01-11T15:59:25.939Z"
   },
   {
    "duration": 11,
    "start_time": "2023-01-11T15:59:28.251Z"
   },
   {
    "duration": 8,
    "start_time": "2023-01-11T15:59:28.265Z"
   },
   {
    "duration": 20,
    "start_time": "2023-01-11T15:59:28.275Z"
   },
   {
    "duration": 481,
    "start_time": "2023-01-11T15:59:55.420Z"
   },
   {
    "duration": 124,
    "start_time": "2023-01-11T15:59:55.904Z"
   },
   {
    "duration": 17,
    "start_time": "2023-01-11T15:59:56.030Z"
   },
   {
    "duration": 120,
    "start_time": "2023-01-11T15:59:56.050Z"
   },
   {
    "duration": 2280,
    "start_time": "2023-01-11T15:59:56.172Z"
   },
   {
    "duration": 14,
    "start_time": "2023-01-11T15:59:58.455Z"
   },
   {
    "duration": 28,
    "start_time": "2023-01-11T15:59:58.472Z"
   },
   {
    "duration": 38,
    "start_time": "2023-01-11T15:59:58.503Z"
   },
   {
    "duration": 38,
    "start_time": "2023-01-11T15:59:58.544Z"
   },
   {
    "duration": 230,
    "start_time": "2023-01-11T15:59:58.586Z"
   },
   {
    "duration": 330,
    "start_time": "2023-01-11T15:59:58.817Z"
   },
   {
    "duration": 33,
    "start_time": "2023-01-11T15:59:59.149Z"
   },
   {
    "duration": 529,
    "start_time": "2023-01-11T15:59:59.184Z"
   },
   {
    "duration": 22,
    "start_time": "2023-01-11T15:59:59.715Z"
   },
   {
    "duration": 10,
    "start_time": "2023-01-11T15:59:59.739Z"
   },
   {
    "duration": 42,
    "start_time": "2023-01-11T15:59:59.751Z"
   },
   {
    "duration": 2429,
    "start_time": "2023-01-11T15:59:59.795Z"
   },
   {
    "duration": 310,
    "start_time": "2023-01-11T16:00:02.226Z"
   },
   {
    "duration": 26,
    "start_time": "2023-01-11T16:00:02.538Z"
   },
   {
    "duration": 96,
    "start_time": "2023-01-11T16:00:02.565Z"
   },
   {
    "duration": 640,
    "start_time": "2023-01-11T16:00:02.663Z"
   },
   {
    "duration": 205,
    "start_time": "2023-01-11T16:00:03.305Z"
   },
   {
    "duration": 327,
    "start_time": "2023-01-11T16:00:03.511Z"
   },
   {
    "duration": 457,
    "start_time": "2023-01-11T16:00:03.840Z"
   },
   {
    "duration": 741,
    "start_time": "2023-01-11T16:00:04.298Z"
   },
   {
    "duration": 310,
    "start_time": "2023-01-11T16:00:05.041Z"
   },
   {
    "duration": 607,
    "start_time": "2023-01-11T16:00:05.352Z"
   },
   {
    "duration": 1482,
    "start_time": "2023-01-11T16:00:05.962Z"
   },
   {
    "duration": 33,
    "start_time": "2023-01-11T16:00:07.445Z"
   },
   {
    "duration": 297,
    "start_time": "2023-01-11T16:00:07.480Z"
   },
   {
    "duration": 739,
    "start_time": "2023-01-11T17:16:44.894Z"
   },
   {
    "duration": 97,
    "start_time": "2023-01-11T17:16:45.635Z"
   },
   {
    "duration": 15,
    "start_time": "2023-01-11T17:16:45.733Z"
   },
   {
    "duration": 83,
    "start_time": "2023-01-11T17:16:45.751Z"
   },
   {
    "duration": 2477,
    "start_time": "2023-01-11T17:16:45.835Z"
   },
   {
    "duration": 11,
    "start_time": "2023-01-11T17:16:48.314Z"
   },
   {
    "duration": 8,
    "start_time": "2023-01-11T17:16:48.327Z"
   },
   {
    "duration": 16,
    "start_time": "2023-01-11T17:16:48.336Z"
   },
   {
    "duration": 7,
    "start_time": "2023-01-11T17:16:48.354Z"
   },
   {
    "duration": 225,
    "start_time": "2023-01-11T17:16:48.363Z"
   },
   {
    "duration": 308,
    "start_time": "2023-01-11T17:16:48.589Z"
   },
   {
    "duration": 25,
    "start_time": "2023-01-11T17:16:48.899Z"
   },
   {
    "duration": 471,
    "start_time": "2023-01-11T17:16:48.926Z"
   },
   {
    "duration": 31,
    "start_time": "2023-01-11T17:16:49.399Z"
   },
   {
    "duration": 9,
    "start_time": "2023-01-11T17:16:49.432Z"
   },
   {
    "duration": 15,
    "start_time": "2023-01-11T17:16:49.442Z"
   },
   {
    "duration": 2276,
    "start_time": "2023-01-11T17:16:49.459Z"
   },
   {
    "duration": 377,
    "start_time": "2023-01-11T17:16:51.737Z"
   },
   {
    "duration": 27,
    "start_time": "2023-01-11T17:16:52.116Z"
   },
   {
    "duration": 109,
    "start_time": "2023-01-11T17:16:52.145Z"
   },
   {
    "duration": 508,
    "start_time": "2023-01-11T17:16:52.257Z"
   },
   {
    "duration": 185,
    "start_time": "2023-01-11T17:16:52.767Z"
   },
   {
    "duration": 324,
    "start_time": "2023-01-11T17:16:52.953Z"
   },
   {
    "duration": 426,
    "start_time": "2023-01-11T17:16:53.278Z"
   },
   {
    "duration": 770,
    "start_time": "2023-01-11T17:16:53.705Z"
   },
   {
    "duration": 286,
    "start_time": "2023-01-11T17:16:54.477Z"
   },
   {
    "duration": 661,
    "start_time": "2023-01-11T17:16:54.764Z"
   },
   {
    "duration": 1622,
    "start_time": "2023-01-11T17:16:55.428Z"
   },
   {
    "duration": 30,
    "start_time": "2023-01-11T17:16:57.052Z"
   },
   {
    "duration": 335,
    "start_time": "2023-01-11T17:16:57.083Z"
   }
  ],
  "kernelspec": {
   "display_name": "Python 3 (ipykernel)",
   "language": "python",
   "name": "python3"
  },
  "language_info": {
   "codemirror_mode": {
    "name": "ipython",
    "version": 3
   },
   "file_extension": ".py",
   "mimetype": "text/x-python",
   "name": "python",
   "nbconvert_exporter": "python",
   "pygments_lexer": "ipython3",
   "version": "3.10.9"
  },
  "toc": {
   "base_numbering": 1,
   "nav_menu": {},
   "number_sections": true,
   "sideBar": true,
   "skip_h1_title": true,
   "title_cell": "Table of Contents",
   "title_sidebar": "Contents",
   "toc_cell": false,
   "toc_position": {},
   "toc_section_display": true,
   "toc_window_display": false
  }
 },
 "nbformat": 4,
 "nbformat_minor": 2
}
