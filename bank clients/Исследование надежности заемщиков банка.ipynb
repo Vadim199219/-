{
 "cells": [
  {
   "cell_type": "markdown",
   "id": "6ea2ea8e",
   "metadata": {
    "deletable": false,
    "editable": false,
    "id": "c81daeeb"
   },
   "source": [
    "# Исследование надежности заемщиков\n"
   ]
  },
  {
   "cell_type": "markdown",
   "id": "3cac639c",
   "metadata": {
    "deletable": false,
    "editable": false,
    "id": "827c20bf"
   },
   "source": [
    "Во второй части проекта вы выполните шаги 3 и 4. Их вручную проверит ревьюер.\n",
    "Чтобы вам не пришлось писать код заново для шагов 1 и 2, мы добавили авторские решения в ячейки с кодом. \n",
    "\n"
   ]
  },
  {
   "cell_type": "markdown",
   "id": "e3cf5e1b",
   "metadata": {
    "deletable": false,
    "editable": false,
    "id": "744d7639"
   },
   "source": [
    "## Откройте таблицу и изучите общую информацию о данных"
   ]
  },
  {
   "cell_type": "markdown",
   "id": "2e9b04ab",
   "metadata": {
    "deletable": false,
    "editable": false,
    "id": "e7a14c31"
   },
   "source": [
    "**Задание 1. Импортируйте библиотеку pandas. Считайте данные из csv-файла в датафрейм и сохраните в переменную `data`. Путь к файлу:**\n",
    "\n",
    "`/datasets/data.csv`"
   ]
  },
  {
   "cell_type": "code",
   "execution_count": 1,
   "id": "44f69a02",
   "metadata": {
    "deletable": false,
    "id": "7bcf75c9"
   },
   "outputs": [],
   "source": [
    "import pandas as pd\n",
    "\n",
    "try:\n",
    "    data = pd.read_csv('/datasets/data.csv')\n",
    "except:\n",
    "    data = pd.read_csv('https://code.s3.yandex.net/datasets/data.csv')"
   ]
  },
  {
   "cell_type": "markdown",
   "id": "e9b91e44",
   "metadata": {
    "deletable": false,
    "editable": false,
    "id": "b8038fe3"
   },
   "source": [
    "**Задание 2. Выведите первые 20 строчек датафрейма `data` на экран.**"
   ]
  },
  {
   "cell_type": "code",
   "execution_count": 2,
   "id": "a3925d46",
   "metadata": {
    "deletable": false,
    "id": "2a7cab99",
    "outputId": "1a8f3ef2-d323-4ec2-ddf7-89670b5944c4"
   },
   "outputs": [
    {
     "data": {
      "text/html": [
       "<div>\n",
       "<style scoped>\n",
       "    .dataframe tbody tr th:only-of-type {\n",
       "        vertical-align: middle;\n",
       "    }\n",
       "\n",
       "    .dataframe tbody tr th {\n",
       "        vertical-align: top;\n",
       "    }\n",
       "\n",
       "    .dataframe thead th {\n",
       "        text-align: right;\n",
       "    }\n",
       "</style>\n",
       "<table border=\"1\" class=\"dataframe\">\n",
       "  <thead>\n",
       "    <tr style=\"text-align: right;\">\n",
       "      <th></th>\n",
       "      <th>children</th>\n",
       "      <th>days_employed</th>\n",
       "      <th>dob_years</th>\n",
       "      <th>education</th>\n",
       "      <th>education_id</th>\n",
       "      <th>family_status</th>\n",
       "      <th>family_status_id</th>\n",
       "      <th>gender</th>\n",
       "      <th>income_type</th>\n",
       "      <th>debt</th>\n",
       "      <th>total_income</th>\n",
       "      <th>purpose</th>\n",
       "    </tr>\n",
       "  </thead>\n",
       "  <tbody>\n",
       "    <tr>\n",
       "      <th>0</th>\n",
       "      <td>1</td>\n",
       "      <td>-8437.673028</td>\n",
       "      <td>42</td>\n",
       "      <td>высшее</td>\n",
       "      <td>0</td>\n",
       "      <td>женат / замужем</td>\n",
       "      <td>0</td>\n",
       "      <td>F</td>\n",
       "      <td>сотрудник</td>\n",
       "      <td>0</td>\n",
       "      <td>253875.639453</td>\n",
       "      <td>покупка жилья</td>\n",
       "    </tr>\n",
       "    <tr>\n",
       "      <th>1</th>\n",
       "      <td>1</td>\n",
       "      <td>-4024.803754</td>\n",
       "      <td>36</td>\n",
       "      <td>среднее</td>\n",
       "      <td>1</td>\n",
       "      <td>женат / замужем</td>\n",
       "      <td>0</td>\n",
       "      <td>F</td>\n",
       "      <td>сотрудник</td>\n",
       "      <td>0</td>\n",
       "      <td>112080.014102</td>\n",
       "      <td>приобретение автомобиля</td>\n",
       "    </tr>\n",
       "    <tr>\n",
       "      <th>2</th>\n",
       "      <td>0</td>\n",
       "      <td>-5623.422610</td>\n",
       "      <td>33</td>\n",
       "      <td>Среднее</td>\n",
       "      <td>1</td>\n",
       "      <td>женат / замужем</td>\n",
       "      <td>0</td>\n",
       "      <td>M</td>\n",
       "      <td>сотрудник</td>\n",
       "      <td>0</td>\n",
       "      <td>145885.952297</td>\n",
       "      <td>покупка жилья</td>\n",
       "    </tr>\n",
       "    <tr>\n",
       "      <th>3</th>\n",
       "      <td>3</td>\n",
       "      <td>-4124.747207</td>\n",
       "      <td>32</td>\n",
       "      <td>среднее</td>\n",
       "      <td>1</td>\n",
       "      <td>женат / замужем</td>\n",
       "      <td>0</td>\n",
       "      <td>M</td>\n",
       "      <td>сотрудник</td>\n",
       "      <td>0</td>\n",
       "      <td>267628.550329</td>\n",
       "      <td>дополнительное образование</td>\n",
       "    </tr>\n",
       "    <tr>\n",
       "      <th>4</th>\n",
       "      <td>0</td>\n",
       "      <td>340266.072047</td>\n",
       "      <td>53</td>\n",
       "      <td>среднее</td>\n",
       "      <td>1</td>\n",
       "      <td>гражданский брак</td>\n",
       "      <td>1</td>\n",
       "      <td>F</td>\n",
       "      <td>пенсионер</td>\n",
       "      <td>0</td>\n",
       "      <td>158616.077870</td>\n",
       "      <td>сыграть свадьбу</td>\n",
       "    </tr>\n",
       "    <tr>\n",
       "      <th>5</th>\n",
       "      <td>0</td>\n",
       "      <td>-926.185831</td>\n",
       "      <td>27</td>\n",
       "      <td>высшее</td>\n",
       "      <td>0</td>\n",
       "      <td>гражданский брак</td>\n",
       "      <td>1</td>\n",
       "      <td>M</td>\n",
       "      <td>компаньон</td>\n",
       "      <td>0</td>\n",
       "      <td>255763.565419</td>\n",
       "      <td>покупка жилья</td>\n",
       "    </tr>\n",
       "    <tr>\n",
       "      <th>6</th>\n",
       "      <td>0</td>\n",
       "      <td>-2879.202052</td>\n",
       "      <td>43</td>\n",
       "      <td>высшее</td>\n",
       "      <td>0</td>\n",
       "      <td>женат / замужем</td>\n",
       "      <td>0</td>\n",
       "      <td>F</td>\n",
       "      <td>компаньон</td>\n",
       "      <td>0</td>\n",
       "      <td>240525.971920</td>\n",
       "      <td>операции с жильем</td>\n",
       "    </tr>\n",
       "    <tr>\n",
       "      <th>7</th>\n",
       "      <td>0</td>\n",
       "      <td>-152.779569</td>\n",
       "      <td>50</td>\n",
       "      <td>СРЕДНЕЕ</td>\n",
       "      <td>1</td>\n",
       "      <td>женат / замужем</td>\n",
       "      <td>0</td>\n",
       "      <td>M</td>\n",
       "      <td>сотрудник</td>\n",
       "      <td>0</td>\n",
       "      <td>135823.934197</td>\n",
       "      <td>образование</td>\n",
       "    </tr>\n",
       "    <tr>\n",
       "      <th>8</th>\n",
       "      <td>2</td>\n",
       "      <td>-6929.865299</td>\n",
       "      <td>35</td>\n",
       "      <td>ВЫСШЕЕ</td>\n",
       "      <td>0</td>\n",
       "      <td>гражданский брак</td>\n",
       "      <td>1</td>\n",
       "      <td>F</td>\n",
       "      <td>сотрудник</td>\n",
       "      <td>0</td>\n",
       "      <td>95856.832424</td>\n",
       "      <td>на проведение свадьбы</td>\n",
       "    </tr>\n",
       "    <tr>\n",
       "      <th>9</th>\n",
       "      <td>0</td>\n",
       "      <td>-2188.756445</td>\n",
       "      <td>41</td>\n",
       "      <td>среднее</td>\n",
       "      <td>1</td>\n",
       "      <td>женат / замужем</td>\n",
       "      <td>0</td>\n",
       "      <td>M</td>\n",
       "      <td>сотрудник</td>\n",
       "      <td>0</td>\n",
       "      <td>144425.938277</td>\n",
       "      <td>покупка жилья для семьи</td>\n",
       "    </tr>\n",
       "    <tr>\n",
       "      <th>10</th>\n",
       "      <td>2</td>\n",
       "      <td>-4171.483647</td>\n",
       "      <td>36</td>\n",
       "      <td>высшее</td>\n",
       "      <td>0</td>\n",
       "      <td>женат / замужем</td>\n",
       "      <td>0</td>\n",
       "      <td>M</td>\n",
       "      <td>компаньон</td>\n",
       "      <td>0</td>\n",
       "      <td>113943.491460</td>\n",
       "      <td>покупка недвижимости</td>\n",
       "    </tr>\n",
       "    <tr>\n",
       "      <th>11</th>\n",
       "      <td>0</td>\n",
       "      <td>-792.701887</td>\n",
       "      <td>40</td>\n",
       "      <td>среднее</td>\n",
       "      <td>1</td>\n",
       "      <td>женат / замужем</td>\n",
       "      <td>0</td>\n",
       "      <td>F</td>\n",
       "      <td>сотрудник</td>\n",
       "      <td>0</td>\n",
       "      <td>77069.234271</td>\n",
       "      <td>покупка коммерческой недвижимости</td>\n",
       "    </tr>\n",
       "    <tr>\n",
       "      <th>12</th>\n",
       "      <td>0</td>\n",
       "      <td>NaN</td>\n",
       "      <td>65</td>\n",
       "      <td>среднее</td>\n",
       "      <td>1</td>\n",
       "      <td>гражданский брак</td>\n",
       "      <td>1</td>\n",
       "      <td>M</td>\n",
       "      <td>пенсионер</td>\n",
       "      <td>0</td>\n",
       "      <td>NaN</td>\n",
       "      <td>сыграть свадьбу</td>\n",
       "    </tr>\n",
       "    <tr>\n",
       "      <th>13</th>\n",
       "      <td>0</td>\n",
       "      <td>-1846.641941</td>\n",
       "      <td>54</td>\n",
       "      <td>неоконченное высшее</td>\n",
       "      <td>2</td>\n",
       "      <td>женат / замужем</td>\n",
       "      <td>0</td>\n",
       "      <td>F</td>\n",
       "      <td>сотрудник</td>\n",
       "      <td>0</td>\n",
       "      <td>130458.228857</td>\n",
       "      <td>приобретение автомобиля</td>\n",
       "    </tr>\n",
       "    <tr>\n",
       "      <th>14</th>\n",
       "      <td>0</td>\n",
       "      <td>-1844.956182</td>\n",
       "      <td>56</td>\n",
       "      <td>высшее</td>\n",
       "      <td>0</td>\n",
       "      <td>гражданский брак</td>\n",
       "      <td>1</td>\n",
       "      <td>F</td>\n",
       "      <td>компаньон</td>\n",
       "      <td>1</td>\n",
       "      <td>165127.911772</td>\n",
       "      <td>покупка жилой недвижимости</td>\n",
       "    </tr>\n",
       "    <tr>\n",
       "      <th>15</th>\n",
       "      <td>1</td>\n",
       "      <td>-972.364419</td>\n",
       "      <td>26</td>\n",
       "      <td>среднее</td>\n",
       "      <td>1</td>\n",
       "      <td>женат / замужем</td>\n",
       "      <td>0</td>\n",
       "      <td>F</td>\n",
       "      <td>сотрудник</td>\n",
       "      <td>0</td>\n",
       "      <td>116820.904450</td>\n",
       "      <td>строительство собственной недвижимости</td>\n",
       "    </tr>\n",
       "    <tr>\n",
       "      <th>16</th>\n",
       "      <td>0</td>\n",
       "      <td>-1719.934226</td>\n",
       "      <td>35</td>\n",
       "      <td>среднее</td>\n",
       "      <td>1</td>\n",
       "      <td>женат / замужем</td>\n",
       "      <td>0</td>\n",
       "      <td>F</td>\n",
       "      <td>сотрудник</td>\n",
       "      <td>0</td>\n",
       "      <td>289202.704229</td>\n",
       "      <td>недвижимость</td>\n",
       "    </tr>\n",
       "    <tr>\n",
       "      <th>17</th>\n",
       "      <td>0</td>\n",
       "      <td>-2369.999720</td>\n",
       "      <td>33</td>\n",
       "      <td>высшее</td>\n",
       "      <td>0</td>\n",
       "      <td>гражданский брак</td>\n",
       "      <td>1</td>\n",
       "      <td>M</td>\n",
       "      <td>сотрудник</td>\n",
       "      <td>0</td>\n",
       "      <td>90410.586745</td>\n",
       "      <td>строительство недвижимости</td>\n",
       "    </tr>\n",
       "    <tr>\n",
       "      <th>18</th>\n",
       "      <td>0</td>\n",
       "      <td>400281.136913</td>\n",
       "      <td>53</td>\n",
       "      <td>среднее</td>\n",
       "      <td>1</td>\n",
       "      <td>вдовец / вдова</td>\n",
       "      <td>2</td>\n",
       "      <td>F</td>\n",
       "      <td>пенсионер</td>\n",
       "      <td>0</td>\n",
       "      <td>56823.777243</td>\n",
       "      <td>на покупку подержанного автомобиля</td>\n",
       "    </tr>\n",
       "    <tr>\n",
       "      <th>19</th>\n",
       "      <td>0</td>\n",
       "      <td>-10038.818549</td>\n",
       "      <td>48</td>\n",
       "      <td>СРЕДНЕЕ</td>\n",
       "      <td>1</td>\n",
       "      <td>в разводе</td>\n",
       "      <td>3</td>\n",
       "      <td>F</td>\n",
       "      <td>сотрудник</td>\n",
       "      <td>0</td>\n",
       "      <td>242831.107982</td>\n",
       "      <td>на покупку своего автомобиля</td>\n",
       "    </tr>\n",
       "  </tbody>\n",
       "</table>\n",
       "</div>"
      ],
      "text/plain": [
       "    children  days_employed  dob_years            education  education_id  \\\n",
       "0          1   -8437.673028         42               высшее             0   \n",
       "1          1   -4024.803754         36              среднее             1   \n",
       "2          0   -5623.422610         33              Среднее             1   \n",
       "3          3   -4124.747207         32              среднее             1   \n",
       "4          0  340266.072047         53              среднее             1   \n",
       "5          0    -926.185831         27               высшее             0   \n",
       "6          0   -2879.202052         43               высшее             0   \n",
       "7          0    -152.779569         50              СРЕДНЕЕ             1   \n",
       "8          2   -6929.865299         35               ВЫСШЕЕ             0   \n",
       "9          0   -2188.756445         41              среднее             1   \n",
       "10         2   -4171.483647         36               высшее             0   \n",
       "11         0    -792.701887         40              среднее             1   \n",
       "12         0            NaN         65              среднее             1   \n",
       "13         0   -1846.641941         54  неоконченное высшее             2   \n",
       "14         0   -1844.956182         56               высшее             0   \n",
       "15         1    -972.364419         26              среднее             1   \n",
       "16         0   -1719.934226         35              среднее             1   \n",
       "17         0   -2369.999720         33               высшее             0   \n",
       "18         0  400281.136913         53              среднее             1   \n",
       "19         0  -10038.818549         48              СРЕДНЕЕ             1   \n",
       "\n",
       "       family_status  family_status_id gender income_type  debt  \\\n",
       "0    женат / замужем                 0      F   сотрудник     0   \n",
       "1    женат / замужем                 0      F   сотрудник     0   \n",
       "2    женат / замужем                 0      M   сотрудник     0   \n",
       "3    женат / замужем                 0      M   сотрудник     0   \n",
       "4   гражданский брак                 1      F   пенсионер     0   \n",
       "5   гражданский брак                 1      M   компаньон     0   \n",
       "6    женат / замужем                 0      F   компаньон     0   \n",
       "7    женат / замужем                 0      M   сотрудник     0   \n",
       "8   гражданский брак                 1      F   сотрудник     0   \n",
       "9    женат / замужем                 0      M   сотрудник     0   \n",
       "10   женат / замужем                 0      M   компаньон     0   \n",
       "11   женат / замужем                 0      F   сотрудник     0   \n",
       "12  гражданский брак                 1      M   пенсионер     0   \n",
       "13   женат / замужем                 0      F   сотрудник     0   \n",
       "14  гражданский брак                 1      F   компаньон     1   \n",
       "15   женат / замужем                 0      F   сотрудник     0   \n",
       "16   женат / замужем                 0      F   сотрудник     0   \n",
       "17  гражданский брак                 1      M   сотрудник     0   \n",
       "18    вдовец / вдова                 2      F   пенсионер     0   \n",
       "19         в разводе                 3      F   сотрудник     0   \n",
       "\n",
       "     total_income                                 purpose  \n",
       "0   253875.639453                           покупка жилья  \n",
       "1   112080.014102                 приобретение автомобиля  \n",
       "2   145885.952297                           покупка жилья  \n",
       "3   267628.550329              дополнительное образование  \n",
       "4   158616.077870                         сыграть свадьбу  \n",
       "5   255763.565419                           покупка жилья  \n",
       "6   240525.971920                       операции с жильем  \n",
       "7   135823.934197                             образование  \n",
       "8    95856.832424                   на проведение свадьбы  \n",
       "9   144425.938277                 покупка жилья для семьи  \n",
       "10  113943.491460                    покупка недвижимости  \n",
       "11   77069.234271       покупка коммерческой недвижимости  \n",
       "12            NaN                         сыграть свадьбу  \n",
       "13  130458.228857                 приобретение автомобиля  \n",
       "14  165127.911772              покупка жилой недвижимости  \n",
       "15  116820.904450  строительство собственной недвижимости  \n",
       "16  289202.704229                            недвижимость  \n",
       "17   90410.586745              строительство недвижимости  \n",
       "18   56823.777243      на покупку подержанного автомобиля  \n",
       "19  242831.107982            на покупку своего автомобиля  "
      ]
     },
     "execution_count": 2,
     "metadata": {},
     "output_type": "execute_result"
    }
   ],
   "source": [
    "data.head(20)"
   ]
  },
  {
   "cell_type": "markdown",
   "id": "d4620104",
   "metadata": {
    "deletable": false,
    "editable": false,
    "id": "1c12e233"
   },
   "source": [
    "**Задание 3. Выведите основную информацию о датафрейме с помощью метода `info()`.**"
   ]
  },
  {
   "cell_type": "code",
   "execution_count": 3,
   "id": "72f86e44",
   "metadata": {
    "deletable": false,
    "id": "2b757bca",
    "outputId": "15376089-8dad-46c9-b520-c05248d43158"
   },
   "outputs": [
    {
     "name": "stdout",
     "output_type": "stream",
     "text": [
      "<class 'pandas.core.frame.DataFrame'>\n",
      "RangeIndex: 21525 entries, 0 to 21524\n",
      "Data columns (total 12 columns):\n",
      " #   Column            Non-Null Count  Dtype  \n",
      "---  ------            --------------  -----  \n",
      " 0   children          21525 non-null  int64  \n",
      " 1   days_employed     19351 non-null  float64\n",
      " 2   dob_years         21525 non-null  int64  \n",
      " 3   education         21525 non-null  object \n",
      " 4   education_id      21525 non-null  int64  \n",
      " 5   family_status     21525 non-null  object \n",
      " 6   family_status_id  21525 non-null  int64  \n",
      " 7   gender            21525 non-null  object \n",
      " 8   income_type       21525 non-null  object \n",
      " 9   debt              21525 non-null  int64  \n",
      " 10  total_income      19351 non-null  float64\n",
      " 11  purpose           21525 non-null  object \n",
      "dtypes: float64(2), int64(5), object(5)\n",
      "memory usage: 2.0+ MB\n"
     ]
    }
   ],
   "source": [
    "data.info()"
   ]
  },
  {
   "cell_type": "markdown",
   "id": "5b319485",
   "metadata": {
    "deletable": false,
    "editable": false,
    "id": "333ec665"
   },
   "source": [
    "## Предобработка данных"
   ]
  },
  {
   "cell_type": "markdown",
   "id": "b635c930",
   "metadata": {
    "deletable": false,
    "editable": false,
    "id": "02d92d53"
   },
   "source": [
    "### Удаление пропусков"
   ]
  },
  {
   "cell_type": "markdown",
   "id": "9450056f",
   "metadata": {
    "deletable": false,
    "editable": false,
    "id": "cd84967c"
   },
   "source": [
    "**Задание 4. Выведите количество пропущенных значений для каждого столбца. Используйте комбинацию двух методов.**"
   ]
  },
  {
   "cell_type": "code",
   "execution_count": 4,
   "id": "0bf2d809",
   "metadata": {
    "deletable": false,
    "id": "7f9b2309",
    "outputId": "81f4d817-781c-465c-ed15-91ce4446810d"
   },
   "outputs": [
    {
     "data": {
      "text/plain": [
       "children               0\n",
       "days_employed       2174\n",
       "dob_years              0\n",
       "education              0\n",
       "education_id           0\n",
       "family_status          0\n",
       "family_status_id       0\n",
       "gender                 0\n",
       "income_type            0\n",
       "debt                   0\n",
       "total_income        2174\n",
       "purpose                0\n",
       "dtype: int64"
      ]
     },
     "execution_count": 4,
     "metadata": {},
     "output_type": "execute_result"
    }
   ],
   "source": [
    "data.isna().sum()"
   ]
  },
  {
   "cell_type": "markdown",
   "id": "b8361bb9",
   "metadata": {
    "deletable": false,
    "editable": false,
    "id": "db86e27b"
   },
   "source": [
    "**Задание 5. В двух столбцах есть пропущенные значения. Один из них — `days_employed`. Пропуски в этом столбце вы обработаете на следующем этапе. Другой столбец с пропущенными значениями — `total_income` — хранит данные о доходах. На сумму дохода сильнее всего влияет тип занятости, поэтому заполнить пропуски в этом столбце нужно медианным значением по каждому типу из столбца `income_type`. Например, у человека с типом занятости `сотрудник` пропуск в столбце `total_income` должен быть заполнен медианным доходом среди всех записей с тем же типом.**"
   ]
  },
  {
   "cell_type": "code",
   "execution_count": 5,
   "id": "20488bcf",
   "metadata": {
    "deletable": false,
    "id": "42006a93"
   },
   "outputs": [],
   "source": [
    "for t in data['income_type'].unique():\n",
    "    data.loc[(data['income_type'] == t) & (data['total_income'].isna()), 'total_income'] = \\\n",
    "    data.loc[(data['income_type'] == t), 'total_income'].median()"
   ]
  },
  {
   "cell_type": "markdown",
   "id": "70f03500",
   "metadata": {
    "deletable": false,
    "editable": false,
    "id": "89da5ece"
   },
   "source": [
    "### Обработка аномальных значений"
   ]
  },
  {
   "cell_type": "markdown",
   "id": "4a1db68a",
   "metadata": {
    "deletable": false,
    "editable": false,
    "id": "57964554"
   },
   "source": [
    "**Задание 6. В данных могут встречаться артефакты (аномалии) — значения, которые не отражают действительность и появились по какой-то ошибке. таким артефактом будет отрицательное количество дней трудового стажа в столбце `days_employed`. Для реальных данных это нормально. Обработайте значения в этом столбце: замените все отрицательные значения положительными с помощью метода `abs()`.**"
   ]
  },
  {
   "cell_type": "code",
   "execution_count": 6,
   "id": "49b8a3a6",
   "metadata": {
    "deletable": false,
    "id": "f6f055bf"
   },
   "outputs": [],
   "source": [
    "data['days_employed'] = data['days_employed'].abs()"
   ]
  },
  {
   "cell_type": "markdown",
   "id": "3c90f4f4",
   "metadata": {
    "deletable": false,
    "editable": false,
    "id": "6107dd2f"
   },
   "source": [
    "**Задание 7. Для каждого типа занятости выведите медианное значение трудового стажа `days_employed` в днях.**"
   ]
  },
  {
   "cell_type": "code",
   "execution_count": 7,
   "id": "6f39a4d7",
   "metadata": {
    "deletable": false,
    "id": "85a5faf6",
    "outputId": "801ef80e-522b-4668-f34e-565af7432bcf"
   },
   "outputs": [
    {
     "data": {
      "text/plain": [
       "income_type\n",
       "безработный        366413.652744\n",
       "в декрете            3296.759962\n",
       "госслужащий          2689.368353\n",
       "компаньон            1547.382223\n",
       "пенсионер          365213.306266\n",
       "предприниматель       520.848083\n",
       "сотрудник            1574.202821\n",
       "студент               578.751554\n",
       "Name: days_employed, dtype: float64"
      ]
     },
     "execution_count": 7,
     "metadata": {},
     "output_type": "execute_result"
    }
   ],
   "source": [
    "data.groupby('income_type')['days_employed'].agg('median')"
   ]
  },
  {
   "cell_type": "markdown",
   "id": "b4199d86",
   "metadata": {
    "deletable": false,
    "editable": false,
    "id": "38d1a030"
   },
   "source": [
    "У двух типов (безработные и пенсионеры) получатся аномально большие значения. Исправить такие значения сложно, поэтому оставьте их как есть. Тем более этот столбец не понадобится вам для исследования."
   ]
  },
  {
   "cell_type": "markdown",
   "id": "69af9a3e",
   "metadata": {
    "deletable": false,
    "editable": false,
    "id": "d8a9f147"
   },
   "source": [
    "**Задание 8. Выведите перечень уникальных значений столбца `children`.**"
   ]
  },
  {
   "cell_type": "code",
   "execution_count": 8,
   "id": "a5951105",
   "metadata": {
    "deletable": false,
    "id": "ef5056eb",
    "outputId": "6975b15c-7f95-4697-d16d-a0c79b657b03"
   },
   "outputs": [
    {
     "data": {
      "text/plain": [
       "array([ 1,  0,  3,  2, -1,  4, 20,  5])"
      ]
     },
     "execution_count": 8,
     "metadata": {},
     "output_type": "execute_result"
    }
   ],
   "source": [
    "data['children'].unique()"
   ]
  },
  {
   "cell_type": "markdown",
   "id": "b8b1dce2",
   "metadata": {
    "deletable": false,
    "editable": false,
    "id": "40b9ebf2"
   },
   "source": [
    "**Задание 9. В столбце `children` есть два аномальных значения. Удалите строки, в которых встречаются такие аномальные значения из датафрейма `data`.**"
   ]
  },
  {
   "cell_type": "code",
   "execution_count": 9,
   "id": "57a1ebb5",
   "metadata": {
    "deletable": false,
    "id": "3ff9801d"
   },
   "outputs": [],
   "source": [
    "data = data[(data['children'] != -1) & (data['children'] != 20)]"
   ]
  },
  {
   "cell_type": "markdown",
   "id": "c0bd0187",
   "metadata": {
    "deletable": false,
    "editable": false,
    "id": "bbc4d0ce"
   },
   "source": [
    "**Задание 10. Ещё раз выведите перечень уникальных значений столбца `children`, чтобы убедиться, что артефакты удалены.**"
   ]
  },
  {
   "cell_type": "code",
   "execution_count": 10,
   "id": "0261b031",
   "metadata": {
    "deletable": false,
    "id": "ad4fa8b7",
    "outputId": "b2097101-d49d-44d9-901b-32a65c9463d1"
   },
   "outputs": [
    {
     "data": {
      "text/plain": [
       "array([1, 0, 3, 2, 4, 5])"
      ]
     },
     "execution_count": 10,
     "metadata": {},
     "output_type": "execute_result"
    }
   ],
   "source": [
    "data['children'].unique()"
   ]
  },
  {
   "cell_type": "markdown",
   "id": "ea9f5d4e",
   "metadata": {
    "deletable": false,
    "editable": false,
    "id": "75440b63"
   },
   "source": [
    "### Удаление пропусков (продолжение)"
   ]
  },
  {
   "cell_type": "markdown",
   "id": "c819262b",
   "metadata": {
    "deletable": false,
    "editable": false,
    "id": "f4ea573f"
   },
   "source": [
    "**Задание 11. Заполните пропуски в столбце `days_employed` медианными значениями по каждого типа занятости `income_type`.**"
   ]
  },
  {
   "cell_type": "code",
   "execution_count": 11,
   "id": "51ca4690",
   "metadata": {
    "deletable": false,
    "id": "af6b1a7e"
   },
   "outputs": [],
   "source": [
    "for t in data['income_type'].unique():\n",
    "    data.loc[(data['income_type'] == t) & (data['days_employed'].isna()), 'days_employed'] = \\\n",
    "    data.loc[(data['income_type'] == t), 'days_employed'].median()"
   ]
  },
  {
   "cell_type": "markdown",
   "id": "c72cf0f6",
   "metadata": {
    "deletable": false,
    "editable": false,
    "id": "2753f40d"
   },
   "source": [
    "**Задание 12. Убедитесь, что все пропуски заполнены. Проверьте себя и ещё раз выведите количество пропущенных значений для каждого столбца с помощью двух методов.**"
   ]
  },
  {
   "cell_type": "code",
   "execution_count": 12,
   "id": "43d0d963",
   "metadata": {
    "deletable": false,
    "id": "55f78bc2",
    "outputId": "8da1e4e1-358e-4e87-98c9-f261bce0a7b2"
   },
   "outputs": [
    {
     "data": {
      "text/plain": [
       "children            0\n",
       "days_employed       0\n",
       "dob_years           0\n",
       "education           0\n",
       "education_id        0\n",
       "family_status       0\n",
       "family_status_id    0\n",
       "gender              0\n",
       "income_type         0\n",
       "debt                0\n",
       "total_income        0\n",
       "purpose             0\n",
       "dtype: int64"
      ]
     },
     "execution_count": 12,
     "metadata": {},
     "output_type": "execute_result"
    }
   ],
   "source": [
    "data.isna().sum()"
   ]
  },
  {
   "cell_type": "markdown",
   "id": "f89f6eed",
   "metadata": {
    "deletable": false,
    "editable": false,
    "id": "ddc81e43"
   },
   "source": [
    "### Изменение типов данных"
   ]
  },
  {
   "cell_type": "markdown",
   "id": "10f0147e",
   "metadata": {
    "deletable": false,
    "editable": false,
    "id": "42d19d24"
   },
   "source": [
    "**Задание 13. Замените вещественный тип данных в столбце `total_income` на целочисленный с помощью метода `astype()`.**"
   ]
  },
  {
   "cell_type": "code",
   "execution_count": 13,
   "id": "61913f7e",
   "metadata": {
    "deletable": false,
    "id": "920b65ad"
   },
   "outputs": [],
   "source": [
    "data['total_income'] = data['total_income'].astype(int)"
   ]
  },
  {
   "cell_type": "markdown",
   "id": "3416c5c5",
   "metadata": {
    "deletable": false,
    "editable": false,
    "id": "80c420ba"
   },
   "source": [
    "### Обработка дубликатов"
   ]
  },
  {
   "cell_type": "markdown",
   "id": "89c6fb80",
   "metadata": {
    "deletable": false,
    "editable": false
   },
   "source": [
    "**Задание 14. Обработайте неявные дубликаты в столбце `education`. В этом столбце есть одни и те же значения, но записанные по-разному: с использованием заглавных и строчных букв. Приведите их к нижнему регистру. Проверьте остальные столбцы.**"
   ]
  },
  {
   "cell_type": "code",
   "execution_count": 14,
   "id": "17dfe042",
   "metadata": {
    "deletable": false
   },
   "outputs": [],
   "source": [
    "data['education'] = data['education'].str.lower()"
   ]
  },
  {
   "cell_type": "markdown",
   "id": "24af5eda",
   "metadata": {
    "deletable": false,
    "editable": false,
    "id": "dc587695"
   },
   "source": [
    "**Задание 15. Выведите на экран количество строк-дубликатов в данных. Если такие строки присутствуют, удалите их.**"
   ]
  },
  {
   "cell_type": "code",
   "execution_count": 15,
   "id": "89f57e85",
   "metadata": {
    "deletable": false,
    "id": "3ee445e4",
    "outputId": "9684deba-1934-42d1-99e1-cda61740f822"
   },
   "outputs": [
    {
     "data": {
      "text/plain": [
       "71"
      ]
     },
     "execution_count": 15,
     "metadata": {},
     "output_type": "execute_result"
    }
   ],
   "source": [
    "data.duplicated().sum()"
   ]
  },
  {
   "cell_type": "code",
   "execution_count": 16,
   "id": "e4a9b25e",
   "metadata": {
    "deletable": false,
    "id": "8575fe05"
   },
   "outputs": [],
   "source": [
    "data = data.drop_duplicates()"
   ]
  },
  {
   "cell_type": "markdown",
   "id": "246fc0a2",
   "metadata": {
    "deletable": false,
    "editable": false,
    "id": "9904cf55"
   },
   "source": [
    "### Категоризация данных"
   ]
  },
  {
   "cell_type": "markdown",
   "id": "aa3a52be",
   "metadata": {
    "deletable": false,
    "editable": false,
    "id": "72fcc8a2"
   },
   "source": [
    "**Задание 16. На основании диапазонов, указанных ниже, создайте в датафрейме `data` столбец `total_income_category` с категориями:**\n",
    "\n",
    "- 0–30000 — `'E'`;\n",
    "- 30001–50000 — `'D'`;\n",
    "- 50001–200000 — `'C'`;\n",
    "- 200001–1000000 — `'B'`;\n",
    "- 1000001 и выше — `'A'`.\n",
    "\n",
    "\n",
    "**Например, кредитополучателю с доходом 25000 нужно назначить категорию `'E'`, а клиенту, получающему 235000, — `'B'`. Используйте собственную функцию с именем `categorize_income()` и метод `apply()`.**"
   ]
  },
  {
   "cell_type": "code",
   "execution_count": 17,
   "id": "1d154154",
   "metadata": {
    "deletable": false,
    "id": "e1771346"
   },
   "outputs": [],
   "source": [
    "def categorize_income(income):\n",
    "    try:\n",
    "        if 0 <= income <= 30000:\n",
    "            return 'E'\n",
    "        elif 30001 <= income <= 50000:\n",
    "            return 'D'\n",
    "        elif 50001 <= income <= 200000:\n",
    "            return 'C'\n",
    "        elif 200001 <= income <= 1000000:\n",
    "            return 'B'\n",
    "        elif income >= 1000001:\n",
    "            return 'A'\n",
    "    except:\n",
    "        pass"
   ]
  },
  {
   "cell_type": "code",
   "execution_count": 18,
   "id": "464b5004",
   "metadata": {
    "deletable": false,
    "id": "d5f3586d"
   },
   "outputs": [],
   "source": [
    "data['total_income_category'] = data['total_income'].apply(categorize_income)"
   ]
  },
  {
   "cell_type": "markdown",
   "id": "ecb6197a",
   "metadata": {
    "deletable": false,
    "editable": false,
    "id": "dde49b5c"
   },
   "source": [
    "**Задание 17. Выведите на экран перечень уникальных целей взятия кредита из столбца `purpose`.**"
   ]
  },
  {
   "cell_type": "code",
   "execution_count": 19,
   "id": "4bf2991b",
   "metadata": {
    "deletable": false,
    "id": "f67ce9b3",
    "outputId": "673c12d9-7d7e-4ae0-9812-c622c89dd244"
   },
   "outputs": [
    {
     "data": {
      "text/plain": [
       "array(['покупка жилья', 'приобретение автомобиля',\n",
       "       'дополнительное образование', 'сыграть свадьбу',\n",
       "       'операции с жильем', 'образование', 'на проведение свадьбы',\n",
       "       'покупка жилья для семьи', 'покупка недвижимости',\n",
       "       'покупка коммерческой недвижимости', 'покупка жилой недвижимости',\n",
       "       'строительство собственной недвижимости', 'недвижимость',\n",
       "       'строительство недвижимости', 'на покупку подержанного автомобиля',\n",
       "       'на покупку своего автомобиля',\n",
       "       'операции с коммерческой недвижимостью',\n",
       "       'строительство жилой недвижимости', 'жилье',\n",
       "       'операции со своей недвижимостью', 'автомобили',\n",
       "       'заняться образованием', 'сделка с подержанным автомобилем',\n",
       "       'получение образования', 'автомобиль', 'свадьба',\n",
       "       'получение дополнительного образования', 'покупка своего жилья',\n",
       "       'операции с недвижимостью', 'получение высшего образования',\n",
       "       'свой автомобиль', 'сделка с автомобилем',\n",
       "       'профильное образование', 'высшее образование',\n",
       "       'покупка жилья для сдачи', 'на покупку автомобиля', 'ремонт жилью',\n",
       "       'заняться высшим образованием'], dtype=object)"
      ]
     },
     "execution_count": 19,
     "metadata": {},
     "output_type": "execute_result"
    }
   ],
   "source": [
    "data['purpose'].unique()"
   ]
  },
  {
   "cell_type": "markdown",
   "id": "8d26c98f",
   "metadata": {
    "deletable": false,
    "editable": false,
    "id": "85d0aef0"
   },
   "source": [
    "**Задание 18. Создайте функцию, которая на основании данных из столбца `purpose` сформирует новый столбец `purpose_category`, в который войдут следующие категории:**\n",
    "\n",
    "- `'операции с автомобилем'`,\n",
    "- `'операции с недвижимостью'`,\n",
    "- `'проведение свадьбы'`,\n",
    "- `'получение образования'`.\n",
    "\n",
    "**Например, если в столбце `purpose` находится подстрока `'на покупку автомобиля'`, то в столбце `purpose_category` должна появиться строка `'операции с автомобилем'`.**\n",
    "\n",
    "**Используйте собственную функцию с именем `categorize_purpose()` и метод `apply()`. Изучите данные в столбце `purpose` и определите, какие подстроки помогут вам правильно определить категорию.**"
   ]
  },
  {
   "cell_type": "code",
   "execution_count": 20,
   "id": "b2bf37b1",
   "metadata": {
    "deletable": false,
    "id": "e149fab4"
   },
   "outputs": [],
   "source": [
    "def categorize_purpose(row):\n",
    "    try:\n",
    "        if 'автом' in row:\n",
    "            return 'операции с автомобилем'\n",
    "        elif 'жил' in row or 'недвиж' in row:\n",
    "            return 'операции с недвижимостью'\n",
    "        elif 'свад' in row:\n",
    "            return 'проведение свадьбы'\n",
    "        elif 'образов' in row:\n",
    "            return 'получение образования'\n",
    "    except:\n",
    "        return 'нет категории'"
   ]
  },
  {
   "cell_type": "code",
   "execution_count": 21,
   "id": "34700cc4",
   "metadata": {
    "deletable": false,
    "id": "bf36e69b"
   },
   "outputs": [],
   "source": [
    "data['purpose_category'] = data['purpose'].apply(categorize_purpose)"
   ]
  },
  {
   "cell_type": "markdown",
   "id": "f6f5aadc",
   "metadata": {
    "deletable": false,
    "editable": false,
    "id": "09b242bf"
   },
   "source": [
    "### Шаг 3. Исследуйте данные и ответьте на вопросы"
   ]
  },
  {
   "cell_type": "markdown",
   "id": "06de6b37",
   "metadata": {
    "deletable": false,
    "editable": false,
    "id": "c5d66278"
   },
   "source": [
    "#### 3.1 Есть ли зависимость между количеством детей и возвратом кредита в срок?"
   ]
  },
  {
   "cell_type": "code",
   "execution_count": 22,
   "id": "7f8f849e",
   "metadata": {
    "deletable": false,
    "id": "2cacfc4a"
   },
   "outputs": [
    {
     "name": "stdout",
     "output_type": "stream",
     "text": [
      "          count   sum  influence\n",
      "children                        \n",
      "0         14091  1063   0.075438\n",
      "1          4808   444   0.092346\n",
      "2          2052   194   0.094542\n",
      "3           330    27   0.081818\n",
      "4            41     4   0.097561\n",
      "5             9     0   0.000000\n",
      "\n",
      "count        7240.000000\n",
      "sum           669.000000\n",
      "influence       0.092403\n",
      "dtype: float64\n"
     ]
    }
   ],
   "source": [
    "children_grouped = data.groupby('children')['debt'].agg(['count', 'sum'])\n",
    "children_grouped['influence'] = children_grouped['sum'] / children_grouped['count']\n",
    "print(children_grouped)\n",
    "print()\n",
    "without_children = children_grouped.loc[1:,['count', 'sum']].sum()\n",
    "without_children['influence'] = without_children['sum'] / without_children['count']\n",
    "print(without_children)"
   ]
  },
  {
   "cell_type": "markdown",
   "id": "fdc0ecb3",
   "metadata": {
    "deletable": false,
    "id": "3a6b99ec"
   },
   "source": [
    "**Вывод:** \n",
    "\n",
    "В ходе исследования зависимости между наличием детей и несвоевременной оплатой кредита было установлено следующее:\n",
    "* Клиенты, не имеющие детей, имеют проблемы с оплатой кредита в срок в 7,54% случаев.\n",
    "* Клиентов с детьми, для более репрезентативной выборки, следует рассматривать не в разрезе количества детей, а как единое целое. В результате получаем 7240 клиентов и  669 случаев просрочки оплаты (что составляет 9,24% от числа клиентов с детьми).\n",
    "\n",
    "Как видно из расчетов клиенты без детей являются более платежеспособными (на 1,7%), чем клиенты с одним и более ребенком.\n",
    "\n",
    "Если рассматривать данный фактор именно в разрезе количества детей, то среди всех клиентов с детьми, меньше проблем с оплатой возникает у пользователей с 3 детьми (8,18%). У родителей 1,2 и 4 детей показатели несвоевременной оплаты варьируются не сильно (9,23-9,75%)\n",
    "\n",
    "Также, в качестве аномалии можно выделить полное отсутствие задолженности у клиентов с 5 детьми (однако их всего 9, что в масштабе всей выборки составляет менее 0,05%)."
   ]
  },
  {
   "cell_type": "markdown",
   "id": "3edbbd25",
   "metadata": {
    "deletable": false,
    "editable": false,
    "id": "97be82ca"
   },
   "source": [
    "#### 3.2 Есть ли зависимость между семейным положением и возвратом кредита в срок?"
   ]
  },
  {
   "cell_type": "code",
   "execution_count": 23,
   "id": "328c0912",
   "metadata": {
    "deletable": false,
    "id": "dc3f7ee8"
   },
   "outputs": [
    {
     "name": "stdout",
     "output_type": "stream",
     "text": [
      "                       count  sum  influence\n",
      "family_status                               \n",
      "Не женат / не замужем   2796  273   0.097639\n",
      "в разводе               1189   84   0.070648\n",
      "вдовец / вдова           951   63   0.066246\n",
      "гражданский брак        4134  385   0.093130\n",
      "женат / замужем        12261  927   0.075606\n"
     ]
    }
   ],
   "source": [
    "family_status_grouped = data.groupby('family_status')['debt'].agg(['count', 'sum'])\n",
    "family_status_grouped['influence'] = family_status_grouped['sum'] / family_status_grouped['count']\n",
    "print(family_status_grouped)"
   ]
  },
  {
   "cell_type": "markdown",
   "id": "f2ba2a7b",
   "metadata": {
    "deletable": false,
    "id": "1cef7837"
   },
   "source": [
    "**Вывод:** \n",
    "\n",
    "Существенной зависимости между семейным положением и своевременным погашением кредита не выявлено (разница между значениями не более 3,1%).\n",
    "При этом, стоит отметить, что минимальный показатель просроченной оплаты имеют вдовцы и клиенты в разводе, а максимальный - клиенты без семьи или состоящие в гражданском браке (9,7% и 9,3%, соответственно)"
   ]
  },
  {
   "cell_type": "markdown",
   "id": "ae68a495",
   "metadata": {
    "deletable": false,
    "editable": false,
    "id": "1e8b2fca"
   },
   "source": [
    "#### 3.3 Есть ли зависимость между уровнем дохода и возвратом кредита в срок?"
   ]
  },
  {
   "cell_type": "code",
   "execution_count": 24,
   "id": "2d97c7d3",
   "metadata": {
    "deletable": false,
    "id": "cd7e3720"
   },
   "outputs": [
    {
     "name": "stdout",
     "output_type": "stream",
     "text": [
      "                       count   sum  influence\n",
      "total_income_category                        \n",
      "A                         25     2   0.080000\n",
      "B                       5014   354   0.070602\n",
      "C                      15921  1353   0.084982\n",
      "D                        349    21   0.060172\n",
      "E                         22     2   0.090909\n"
     ]
    }
   ],
   "source": [
    "income_grouped = data.groupby('total_income_category')['debt'].agg(['count', 'sum'])\n",
    "income_grouped['influence'] = income_grouped['sum'] / income_grouped['count']\n",
    "print(income_grouped)"
   ]
  },
  {
   "cell_type": "markdown",
   "id": "582fe7e5",
   "metadata": {
    "deletable": false,
    "id": "e8593def"
   },
   "source": [
    "**Вывод:** \n",
    "\n",
    "При работе с данным фактором влияния на своевременность возврата кредита, следует рассматривать только 2 категории клиентов по типу доходов - В и С, в силу их репрезентативности (остальные категории имеют слишком малую выборку, что может исказить результаты исследования).\n",
    "\n",
    "Рассмотрим выделенные категории подробнее:\n",
    "* Кат. В - ежемесячный доход 200001-1000000 - включает в себя 5014 клиентов и 354 случая несвоевременной оплаты кредита (7%)\n",
    "* Кат. С - ежемесячный доход 50001-200000 - включает в себя 15921 клиента и 1353 случая несвоевременной оплаты кредита (8,49%)\n",
    "\n",
    "Как видно из рассчетов, потребители кредита с меньшим доходом имеют проблемы с выплатой кредита в срок на 1,49% чаще, чем те, кто зарабатывает больше.\n",
    "\n",
    "Отсюда следует, что влияние уровня доходов на возможность выплаты кредита в срок имеет место быть."
   ]
  },
  {
   "cell_type": "markdown",
   "id": "65de1108",
   "metadata": {
    "deletable": false,
    "editable": false,
    "id": "99ecbd1f"
   },
   "source": [
    "#### 3.4 Как разные цели кредита влияют на его возврат в срок?"
   ]
  },
  {
   "cell_type": "code",
   "execution_count": 25,
   "id": "0dd9f229",
   "metadata": {
    "deletable": false,
    "id": "2b687290"
   },
   "outputs": [
    {
     "name": "stdout",
     "output_type": "stream",
     "text": [
      "                          count  sum  influence\n",
      "purpose_category                               \n",
      "операции с автомобилем     4279  400   0.093480\n",
      "операции с недвижимостью  10751  780   0.072551\n",
      "получение образования      3988  369   0.092528\n",
      "проведение свадьбы         2313  183   0.079118\n"
     ]
    }
   ],
   "source": [
    "purpose_grouped = data.groupby('purpose_category')['debt'].agg(['count', 'sum'])\n",
    "purpose_grouped['influence'] = (purpose_grouped['sum'] / purpose_grouped['count'])\n",
    "print(purpose_grouped)"
   ]
  },
  {
   "cell_type": "markdown",
   "id": "be0dc97d",
   "metadata": {
    "deletable": false,
    "id": "b4bb2ce6"
   },
   "source": [
    "**Вывод:** \n",
    "\n",
    "При оценке влияния фактора цели кредита на его возврат в срок, было вявлено, что клиенты, чьей целью кредита были операции с недвижимостью и проведение свадьбы - отдают кредит вовремя в среднем на 2% чаще, чем те, кто брал его на операции с автомобилем или получение образования."
   ]
  },
  {
   "cell_type": "markdown",
   "id": "9711a4d1",
   "metadata": {
    "deletable": false,
    "editable": false,
    "id": "09c3ac4c"
   },
   "source": [
    "#### 3.5 Приведите возможные причины появления пропусков в исходных данных."
   ]
  },
  {
   "cell_type": "markdown",
   "id": "3f47a6df",
   "metadata": {
    "deletable": false,
    "id": "9da2ceda"
   },
   "source": [
    "**Ответ:**\n",
    "\n",
    "В ходе исследования, пропуски были выявлены в двух столбцах - 'days_employed' и 'total_income'.\n",
    "В обоих случаях по 2 174 пропуска, что позволяет сделать вывод - пропуски находятся в одних и тех же строках.\n",
    "\n",
    "Исходя из этого, можно предположить, что пропуски могли возникнуть по следующим причинам:\n",
    "* Оператор не внес данные значения в датафрейм\n",
    "* Данные не были внесены клиентом при заполнении анкеты на кредит"
   ]
  },
  {
   "cell_type": "markdown",
   "id": "33bfbcc6",
   "metadata": {
    "deletable": false,
    "editable": false,
    "id": "7b0487d6"
   },
   "source": [
    "#### 3.6 Объясните, почему заполнить пропуски медианным значением — лучшее решение для количественных переменных."
   ]
  },
  {
   "cell_type": "markdown",
   "id": "720ab0b9",
   "metadata": {
    "deletable": false,
    "id": "7ecf2b8e"
   },
   "source": [
    "**Ответ:** \n",
    "\n",
    "При работе с данным датафреймом пропуски были в столбцах с типом значений - float.\n",
    "Разбро значений в столбцах с пропусками (общий трудовой стаж и ежемесячный доход) очень велик, поэтому если заменять пропуски среднеарифметическим значением, то результаты исследования будут искажены.\n",
    "\n",
    "В данном случае коректнее было использовать именно медианные значения, которые наиболее точно показывают именно средний показатель при большом разбросе значений."
   ]
  },
  {
   "cell_type": "markdown",
   "id": "46ff0e2b",
   "metadata": {
    "deletable": false,
    "editable": false,
    "id": "6db5255a"
   },
   "source": [
    "### Шаг 4: общий вывод."
   ]
  },
  {
   "cell_type": "markdown",
   "id": "f2083e51",
   "metadata": {
    "deletable": false,
    "id": "bad65432"
   },
   "source": [
    "Было проведено исследование статистических данных о платежеспособности клиетов банка, с целью оценки, влияния таких показателей как семейное положение и количество детей на факт погашения кредита в срок.\n",
    "\n",
    "В ходе исследования была проведена предварительная подготовка данных, а именно:\n",
    "* Пропуски заменены на медианные значения по типу занятости\n",
    "* Строки-дубликаты были удалены\n",
    "\n",
    "В ходе работы были добавлены столбцы, с разбивкой клиентов по категориям, на оосновании следующих критериев:\n",
    "* ежемесячный доход\n",
    "* цель кредита\n",
    "\n",
    "В результате исследования влияния различных  факторов на возврат кредита в срок, было выявлено следующее:\n",
    "* Клиенты с детьми имеют сложности  выплатой кредита в срок на 1,7% чаще, чем клиенты без детей;\n",
    "* Вдовцы и пользователь кредита в разводе - на 2,3-3,1% реже сталкиваются с проблемой просрочки кредита, чем потребители  без семьи или состоящие в гражданском браке;\n",
    "* Клиенты с более высоким уровнем доходов выплачивают кредит в срок на 1,49% чаще;\n",
    "* Пользователи, чьей целью кредита являются операции с недвижимостью и проведение свадьбы, выплачивают кредит в срок в среднем на 2% чаще тех, кто берет его на операции с автомобилем или получение образования."
   ]
  },
  {
   "cell_type": "code",
   "execution_count": null,
   "id": "9df4957f",
   "metadata": {},
   "outputs": [],
   "source": []
  }
 ],
 "metadata": {
  "ExecuteTimeLog": [
   {
    "duration": 58,
    "start_time": "2022-12-18T13:31:19.521Z"
   },
   {
    "duration": 45,
    "start_time": "2022-12-18T13:31:29.453Z"
   },
   {
    "duration": 45,
    "start_time": "2022-12-18T13:31:42.573Z"
   },
   {
    "duration": 6,
    "start_time": "2022-12-18T13:31:58.170Z"
   },
   {
    "duration": 759,
    "start_time": "2022-12-18T13:32:28.319Z"
   },
   {
    "duration": 21,
    "start_time": "2022-12-18T13:32:29.080Z"
   },
   {
    "duration": 15,
    "start_time": "2022-12-18T13:32:29.103Z"
   },
   {
    "duration": 27,
    "start_time": "2022-12-18T13:32:29.119Z"
   },
   {
    "duration": 35,
    "start_time": "2022-12-18T13:32:29.148Z"
   },
   {
    "duration": 3,
    "start_time": "2022-12-18T13:32:29.184Z"
   },
   {
    "duration": 12,
    "start_time": "2022-12-18T13:32:29.189Z"
   },
   {
    "duration": 13,
    "start_time": "2022-12-18T13:32:29.203Z"
   },
   {
    "duration": 39,
    "start_time": "2022-12-18T13:32:29.218Z"
   },
   {
    "duration": 5,
    "start_time": "2022-12-18T13:32:29.259Z"
   },
   {
    "duration": 35,
    "start_time": "2022-12-18T13:32:29.266Z"
   },
   {
    "duration": 10,
    "start_time": "2022-12-18T13:32:29.303Z"
   },
   {
    "duration": 12,
    "start_time": "2022-12-18T13:32:29.314Z"
   },
   {
    "duration": 11,
    "start_time": "2022-12-18T13:32:29.334Z"
   },
   {
    "duration": 21,
    "start_time": "2022-12-18T13:32:29.347Z"
   },
   {
    "duration": 17,
    "start_time": "2022-12-18T13:32:29.369Z"
   },
   {
    "duration": 3,
    "start_time": "2022-12-18T13:32:29.388Z"
   },
   {
    "duration": 11,
    "start_time": "2022-12-18T13:32:29.393Z"
   },
   {
    "duration": 27,
    "start_time": "2022-12-18T13:32:29.405Z"
   },
   {
    "duration": 4,
    "start_time": "2022-12-18T13:32:29.434Z"
   },
   {
    "duration": 22,
    "start_time": "2022-12-18T13:32:29.440Z"
   },
   {
    "duration": 4,
    "start_time": "2022-12-18T13:32:33.533Z"
   },
   {
    "duration": 5,
    "start_time": "2022-12-18T13:33:02.546Z"
   },
   {
    "duration": 5,
    "start_time": "2022-12-18T13:33:20.640Z"
   },
   {
    "duration": 457,
    "start_time": "2022-12-18T13:33:54.255Z"
   },
   {
    "duration": 35,
    "start_time": "2022-12-18T13:33:54.714Z"
   },
   {
    "duration": 23,
    "start_time": "2022-12-18T13:33:54.751Z"
   },
   {
    "duration": 10,
    "start_time": "2022-12-18T13:33:54.777Z"
   },
   {
    "duration": 56,
    "start_time": "2022-12-18T13:33:54.789Z"
   },
   {
    "duration": 4,
    "start_time": "2022-12-18T13:33:54.847Z"
   },
   {
    "duration": 10,
    "start_time": "2022-12-18T13:33:54.852Z"
   },
   {
    "duration": 5,
    "start_time": "2022-12-18T13:33:54.864Z"
   },
   {
    "duration": 10,
    "start_time": "2022-12-18T13:33:54.871Z"
   },
   {
    "duration": 5,
    "start_time": "2022-12-18T13:33:54.883Z"
   },
   {
    "duration": 67,
    "start_time": "2022-12-18T13:33:54.889Z"
   },
   {
    "duration": 9,
    "start_time": "2022-12-18T13:33:54.957Z"
   },
   {
    "duration": 5,
    "start_time": "2022-12-18T13:33:54.968Z"
   },
   {
    "duration": 14,
    "start_time": "2022-12-18T13:33:54.975Z"
   },
   {
    "duration": 48,
    "start_time": "2022-12-18T13:33:54.990Z"
   },
   {
    "duration": 16,
    "start_time": "2022-12-18T13:33:55.040Z"
   },
   {
    "duration": 3,
    "start_time": "2022-12-18T13:33:55.058Z"
   },
   {
    "duration": 39,
    "start_time": "2022-12-18T13:33:55.063Z"
   },
   {
    "duration": 9,
    "start_time": "2022-12-18T13:33:55.103Z"
   },
   {
    "duration": 21,
    "start_time": "2022-12-18T13:33:55.114Z"
   },
   {
    "duration": 23,
    "start_time": "2022-12-18T13:33:55.137Z"
   },
   {
    "duration": 7,
    "start_time": "2022-12-18T13:33:57.996Z"
   },
   {
    "duration": 485,
    "start_time": "2022-12-18T13:35:57.022Z"
   },
   {
    "duration": 27,
    "start_time": "2022-12-18T13:35:57.509Z"
   },
   {
    "duration": 22,
    "start_time": "2022-12-18T13:35:57.538Z"
   },
   {
    "duration": 10,
    "start_time": "2022-12-18T13:35:57.562Z"
   },
   {
    "duration": 53,
    "start_time": "2022-12-18T13:35:57.574Z"
   },
   {
    "duration": 4,
    "start_time": "2022-12-18T13:35:57.634Z"
   },
   {
    "duration": 12,
    "start_time": "2022-12-18T13:35:57.640Z"
   },
   {
    "duration": 5,
    "start_time": "2022-12-18T13:35:57.653Z"
   },
   {
    "duration": 9,
    "start_time": "2022-12-18T13:35:57.659Z"
   },
   {
    "duration": 13,
    "start_time": "2022-12-18T13:35:57.669Z"
   },
   {
    "duration": 86,
    "start_time": "2022-12-18T13:35:57.683Z"
   },
   {
    "duration": 9,
    "start_time": "2022-12-18T13:35:57.771Z"
   },
   {
    "duration": 3,
    "start_time": "2022-12-18T13:35:57.782Z"
   },
   {
    "duration": 23,
    "start_time": "2022-12-18T13:35:57.788Z"
   },
   {
    "duration": 29,
    "start_time": "2022-12-18T13:35:57.813Z"
   },
   {
    "duration": 18,
    "start_time": "2022-12-18T13:35:57.844Z"
   },
   {
    "duration": 4,
    "start_time": "2022-12-18T13:35:57.863Z"
   },
   {
    "duration": 19,
    "start_time": "2022-12-18T13:35:57.868Z"
   },
   {
    "duration": 6,
    "start_time": "2022-12-18T13:35:57.889Z"
   },
   {
    "duration": 4,
    "start_time": "2022-12-18T13:35:57.897Z"
   },
   {
    "duration": 35,
    "start_time": "2022-12-18T13:35:57.902Z"
   },
   {
    "duration": 8,
    "start_time": "2022-12-18T13:36:01.111Z"
   },
   {
    "duration": 482,
    "start_time": "2022-12-18T13:36:16.836Z"
   },
   {
    "duration": 26,
    "start_time": "2022-12-18T13:36:17.319Z"
   },
   {
    "duration": 17,
    "start_time": "2022-12-18T13:36:17.347Z"
   },
   {
    "duration": 11,
    "start_time": "2022-12-18T13:36:17.365Z"
   },
   {
    "duration": 56,
    "start_time": "2022-12-18T13:36:17.378Z"
   },
   {
    "duration": 4,
    "start_time": "2022-12-18T13:36:17.436Z"
   },
   {
    "duration": 15,
    "start_time": "2022-12-18T13:36:17.441Z"
   },
   {
    "duration": 5,
    "start_time": "2022-12-18T13:36:17.457Z"
   },
   {
    "duration": 11,
    "start_time": "2022-12-18T13:36:17.463Z"
   },
   {
    "duration": 4,
    "start_time": "2022-12-18T13:36:17.475Z"
   },
   {
    "duration": 63,
    "start_time": "2022-12-18T13:36:17.480Z"
   },
   {
    "duration": 11,
    "start_time": "2022-12-18T13:36:17.545Z"
   },
   {
    "duration": 6,
    "start_time": "2022-12-18T13:36:17.559Z"
   },
   {
    "duration": 12,
    "start_time": "2022-12-18T13:36:17.568Z"
   },
   {
    "duration": 45,
    "start_time": "2022-12-18T13:36:17.582Z"
   },
   {
    "duration": 16,
    "start_time": "2022-12-18T13:36:17.636Z"
   },
   {
    "duration": 3,
    "start_time": "2022-12-18T13:36:17.654Z"
   },
   {
    "duration": 26,
    "start_time": "2022-12-18T13:36:17.659Z"
   },
   {
    "duration": 9,
    "start_time": "2022-12-18T13:36:17.686Z"
   },
   {
    "duration": 21,
    "start_time": "2022-12-18T13:36:17.696Z"
   },
   {
    "duration": 34,
    "start_time": "2022-12-18T13:36:17.719Z"
   },
   {
    "duration": 7,
    "start_time": "2022-12-18T13:36:20.369Z"
   },
   {
    "duration": 58,
    "start_time": "2022-12-18T13:36:40.079Z"
   },
   {
    "duration": 460,
    "start_time": "2022-12-18T13:37:00.782Z"
   },
   {
    "duration": 23,
    "start_time": "2022-12-18T13:37:01.244Z"
   },
   {
    "duration": 48,
    "start_time": "2022-12-18T13:37:01.268Z"
   },
   {
    "duration": 47,
    "start_time": "2022-12-18T13:37:01.317Z"
   },
   {
    "duration": 72,
    "start_time": "2022-12-18T13:37:01.366Z"
   },
   {
    "duration": 9,
    "start_time": "2022-12-18T13:37:01.441Z"
   },
   {
    "duration": 30,
    "start_time": "2022-12-18T13:37:01.452Z"
   },
   {
    "duration": 68,
    "start_time": "2022-12-18T13:37:01.484Z"
   },
   {
    "duration": 27,
    "start_time": "2022-12-18T13:37:01.553Z"
   },
   {
    "duration": 14,
    "start_time": "2022-12-18T13:37:01.584Z"
   },
   {
    "duration": 76,
    "start_time": "2022-12-18T13:37:01.599Z"
   },
   {
    "duration": 13,
    "start_time": "2022-12-18T13:37:01.677Z"
   },
   {
    "duration": 19,
    "start_time": "2022-12-18T13:37:01.693Z"
   },
   {
    "duration": 38,
    "start_time": "2022-12-18T13:37:01.713Z"
   },
   {
    "duration": 31,
    "start_time": "2022-12-18T13:37:01.753Z"
   },
   {
    "duration": 20,
    "start_time": "2022-12-18T13:37:01.786Z"
   },
   {
    "duration": 4,
    "start_time": "2022-12-18T13:37:01.807Z"
   },
   {
    "duration": 19,
    "start_time": "2022-12-18T13:37:01.812Z"
   },
   {
    "duration": 21,
    "start_time": "2022-12-18T13:37:01.834Z"
   },
   {
    "duration": 16,
    "start_time": "2022-12-18T13:37:01.856Z"
   },
   {
    "duration": 16,
    "start_time": "2022-12-18T13:37:01.873Z"
   },
   {
    "duration": 10,
    "start_time": "2022-12-18T13:37:03.384Z"
   },
   {
    "duration": 443,
    "start_time": "2022-12-18T13:37:34.372Z"
   },
   {
    "duration": 28,
    "start_time": "2022-12-18T13:37:34.817Z"
   },
   {
    "duration": 15,
    "start_time": "2022-12-18T13:37:34.847Z"
   },
   {
    "duration": 9,
    "start_time": "2022-12-18T13:37:34.864Z"
   },
   {
    "duration": 64,
    "start_time": "2022-12-18T13:37:34.875Z"
   },
   {
    "duration": 4,
    "start_time": "2022-12-18T13:37:34.940Z"
   },
   {
    "duration": 11,
    "start_time": "2022-12-18T13:37:34.945Z"
   },
   {
    "duration": 6,
    "start_time": "2022-12-18T13:37:34.957Z"
   },
   {
    "duration": 8,
    "start_time": "2022-12-18T13:37:34.964Z"
   },
   {
    "duration": 5,
    "start_time": "2022-12-18T13:37:34.974Z"
   },
   {
    "duration": 78,
    "start_time": "2022-12-18T13:37:34.980Z"
   },
   {
    "duration": 10,
    "start_time": "2022-12-18T13:37:35.060Z"
   },
   {
    "duration": 5,
    "start_time": "2022-12-18T13:37:35.071Z"
   },
   {
    "duration": 15,
    "start_time": "2022-12-18T13:37:35.077Z"
   },
   {
    "duration": 42,
    "start_time": "2022-12-18T13:37:35.094Z"
   },
   {
    "duration": 17,
    "start_time": "2022-12-18T13:37:35.138Z"
   },
   {
    "duration": 3,
    "start_time": "2022-12-18T13:37:35.157Z"
   },
   {
    "duration": 13,
    "start_time": "2022-12-18T13:37:35.162Z"
   },
   {
    "duration": 9,
    "start_time": "2022-12-18T13:37:35.176Z"
   },
   {
    "duration": 5,
    "start_time": "2022-12-18T13:37:35.188Z"
   },
   {
    "duration": 38,
    "start_time": "2022-12-18T13:37:35.195Z"
   },
   {
    "duration": 7,
    "start_time": "2022-12-18T13:37:37.340Z"
   },
   {
    "duration": 71,
    "start_time": "2022-12-18T19:41:24.535Z"
   },
   {
    "duration": 10,
    "start_time": "2022-12-18T19:41:44.085Z"
   },
   {
    "duration": 1226,
    "start_time": "2022-12-18T19:42:12.197Z"
   },
   {
    "duration": 24,
    "start_time": "2022-12-18T19:42:13.425Z"
   },
   {
    "duration": 26,
    "start_time": "2022-12-18T19:42:13.450Z"
   },
   {
    "duration": 27,
    "start_time": "2022-12-18T19:42:13.478Z"
   },
   {
    "duration": 36,
    "start_time": "2022-12-18T19:42:13.507Z"
   },
   {
    "duration": 16,
    "start_time": "2022-12-18T19:42:13.545Z"
   },
   {
    "duration": 22,
    "start_time": "2022-12-18T19:42:13.573Z"
   },
   {
    "duration": 4,
    "start_time": "2022-12-18T19:42:13.597Z"
   },
   {
    "duration": 11,
    "start_time": "2022-12-18T19:42:13.603Z"
   },
   {
    "duration": 6,
    "start_time": "2022-12-18T19:42:13.616Z"
   },
   {
    "duration": 101,
    "start_time": "2022-12-18T19:42:13.627Z"
   },
   {
    "duration": 19,
    "start_time": "2022-12-18T19:42:13.730Z"
   },
   {
    "duration": 31,
    "start_time": "2022-12-18T19:42:13.751Z"
   },
   {
    "duration": 52,
    "start_time": "2022-12-18T19:42:13.792Z"
   },
   {
    "duration": 31,
    "start_time": "2022-12-18T19:42:13.846Z"
   },
   {
    "duration": 26,
    "start_time": "2022-12-18T19:42:13.879Z"
   },
   {
    "duration": 5,
    "start_time": "2022-12-18T19:42:13.907Z"
   },
   {
    "duration": 12,
    "start_time": "2022-12-18T19:42:13.914Z"
   },
   {
    "duration": 11,
    "start_time": "2022-12-18T19:42:13.928Z"
   },
   {
    "duration": 6,
    "start_time": "2022-12-18T19:42:13.956Z"
   },
   {
    "duration": 41,
    "start_time": "2022-12-18T19:42:13.965Z"
   },
   {
    "duration": 11,
    "start_time": "2022-12-18T19:42:17.190Z"
   },
   {
    "duration": 25,
    "start_time": "2022-12-18T19:44:36.882Z"
   },
   {
    "duration": 8,
    "start_time": "2022-12-18T19:53:42.337Z"
   },
   {
    "duration": 7,
    "start_time": "2022-12-18T19:55:02.931Z"
   },
   {
    "duration": 18,
    "start_time": "2022-12-18T19:57:16.184Z"
   },
   {
    "duration": 553,
    "start_time": "2022-12-18T19:57:54.186Z"
   },
   {
    "duration": 40,
    "start_time": "2022-12-18T19:57:54.745Z"
   },
   {
    "duration": 52,
    "start_time": "2022-12-18T19:57:54.787Z"
   },
   {
    "duration": 29,
    "start_time": "2022-12-18T19:57:54.841Z"
   },
   {
    "duration": 58,
    "start_time": "2022-12-18T19:57:54.872Z"
   },
   {
    "duration": 4,
    "start_time": "2022-12-18T19:57:54.932Z"
   },
   {
    "duration": 24,
    "start_time": "2022-12-18T19:57:54.938Z"
   },
   {
    "duration": 36,
    "start_time": "2022-12-18T19:57:54.968Z"
   },
   {
    "duration": 12,
    "start_time": "2022-12-18T19:57:55.006Z"
   },
   {
    "duration": 11,
    "start_time": "2022-12-18T19:57:55.019Z"
   },
   {
    "duration": 48,
    "start_time": "2022-12-18T19:57:55.032Z"
   },
   {
    "duration": 11,
    "start_time": "2022-12-18T19:57:55.086Z"
   },
   {
    "duration": 6,
    "start_time": "2022-12-18T19:57:55.098Z"
   },
   {
    "duration": 13,
    "start_time": "2022-12-18T19:57:55.107Z"
   },
   {
    "duration": 19,
    "start_time": "2022-12-18T19:57:55.121Z"
   },
   {
    "duration": 31,
    "start_time": "2022-12-18T19:57:55.157Z"
   },
   {
    "duration": 5,
    "start_time": "2022-12-18T19:57:55.191Z"
   },
   {
    "duration": 18,
    "start_time": "2022-12-18T19:57:55.198Z"
   },
   {
    "duration": 8,
    "start_time": "2022-12-18T19:57:55.218Z"
   },
   {
    "duration": 16,
    "start_time": "2022-12-18T19:57:55.228Z"
   },
   {
    "duration": 21,
    "start_time": "2022-12-18T19:57:55.254Z"
   },
   {
    "duration": 14,
    "start_time": "2022-12-18T20:01:34.874Z"
   },
   {
    "duration": 55,
    "start_time": "2022-12-18T20:04:18.006Z"
   },
   {
    "duration": 22,
    "start_time": "2022-12-18T20:05:02.252Z"
   },
   {
    "duration": 558,
    "start_time": "2022-12-18T20:05:13.437Z"
   },
   {
    "duration": 23,
    "start_time": "2022-12-18T20:05:14.001Z"
   },
   {
    "duration": 16,
    "start_time": "2022-12-18T20:05:14.026Z"
   },
   {
    "duration": 39,
    "start_time": "2022-12-18T20:05:14.045Z"
   },
   {
    "duration": 45,
    "start_time": "2022-12-18T20:05:14.086Z"
   },
   {
    "duration": 4,
    "start_time": "2022-12-18T20:05:14.133Z"
   },
   {
    "duration": 14,
    "start_time": "2022-12-18T20:05:14.138Z"
   },
   {
    "duration": 40,
    "start_time": "2022-12-18T20:05:14.154Z"
   },
   {
    "duration": 9,
    "start_time": "2022-12-18T20:05:14.197Z"
   },
   {
    "duration": 5,
    "start_time": "2022-12-18T20:05:14.209Z"
   },
   {
    "duration": 70,
    "start_time": "2022-12-18T20:05:14.216Z"
   },
   {
    "duration": 11,
    "start_time": "2022-12-18T20:05:14.287Z"
   },
   {
    "duration": 6,
    "start_time": "2022-12-18T20:05:14.300Z"
   },
   {
    "duration": 13,
    "start_time": "2022-12-18T20:05:14.308Z"
   },
   {
    "duration": 35,
    "start_time": "2022-12-18T20:05:14.323Z"
   },
   {
    "duration": 35,
    "start_time": "2022-12-18T20:05:14.360Z"
   },
   {
    "duration": 4,
    "start_time": "2022-12-18T20:05:14.397Z"
   },
   {
    "duration": 12,
    "start_time": "2022-12-18T20:05:14.402Z"
   },
   {
    "duration": 9,
    "start_time": "2022-12-18T20:05:14.416Z"
   },
   {
    "duration": 5,
    "start_time": "2022-12-18T20:05:14.426Z"
   },
   {
    "duration": 32,
    "start_time": "2022-12-18T20:05:14.433Z"
   },
   {
    "duration": 55,
    "start_time": "2022-12-18T20:05:17.879Z"
   },
   {
    "duration": 24,
    "start_time": "2022-12-18T20:06:28.954Z"
   },
   {
    "duration": 17,
    "start_time": "2022-12-18T20:07:13.319Z"
   },
   {
    "duration": 23,
    "start_time": "2022-12-18T20:08:03.471Z"
   },
   {
    "duration": 592,
    "start_time": "2022-12-18T20:08:23.454Z"
   },
   {
    "duration": 37,
    "start_time": "2022-12-18T20:08:24.048Z"
   },
   {
    "duration": 26,
    "start_time": "2022-12-18T20:08:24.089Z"
   },
   {
    "duration": 19,
    "start_time": "2022-12-18T20:08:24.118Z"
   },
   {
    "duration": 59,
    "start_time": "2022-12-18T20:08:24.139Z"
   },
   {
    "duration": 5,
    "start_time": "2022-12-18T20:08:24.199Z"
   },
   {
    "duration": 13,
    "start_time": "2022-12-18T20:08:24.205Z"
   },
   {
    "duration": 8,
    "start_time": "2022-12-18T20:08:24.220Z"
   },
   {
    "duration": 19,
    "start_time": "2022-12-18T20:08:24.230Z"
   },
   {
    "duration": 12,
    "start_time": "2022-12-18T20:08:24.258Z"
   },
   {
    "duration": 64,
    "start_time": "2022-12-18T20:08:24.272Z"
   },
   {
    "duration": 10,
    "start_time": "2022-12-18T20:08:24.338Z"
   },
   {
    "duration": 50,
    "start_time": "2022-12-18T20:08:24.349Z"
   },
   {
    "duration": 24,
    "start_time": "2022-12-18T20:08:24.401Z"
   },
   {
    "duration": 37,
    "start_time": "2022-12-18T20:08:24.427Z"
   },
   {
    "duration": 27,
    "start_time": "2022-12-18T20:08:24.466Z"
   },
   {
    "duration": 16,
    "start_time": "2022-12-18T20:08:24.495Z"
   },
   {
    "duration": 23,
    "start_time": "2022-12-18T20:08:24.513Z"
   },
   {
    "duration": 7,
    "start_time": "2022-12-18T20:08:24.539Z"
   },
   {
    "duration": 25,
    "start_time": "2022-12-18T20:08:24.548Z"
   },
   {
    "duration": 39,
    "start_time": "2022-12-18T20:08:24.574Z"
   },
   {
    "duration": 21,
    "start_time": "2022-12-18T20:08:26.399Z"
   },
   {
    "duration": 478,
    "start_time": "2022-12-18T20:08:47.106Z"
   },
   {
    "duration": 23,
    "start_time": "2022-12-18T20:08:47.593Z"
   },
   {
    "duration": 17,
    "start_time": "2022-12-18T20:08:47.618Z"
   },
   {
    "duration": 10,
    "start_time": "2022-12-18T20:08:47.637Z"
   },
   {
    "duration": 59,
    "start_time": "2022-12-18T20:08:47.650Z"
   },
   {
    "duration": 4,
    "start_time": "2022-12-18T20:08:47.711Z"
   },
   {
    "duration": 12,
    "start_time": "2022-12-18T20:08:47.717Z"
   },
   {
    "duration": 4,
    "start_time": "2022-12-18T20:08:47.731Z"
   },
   {
    "duration": 14,
    "start_time": "2022-12-18T20:08:47.755Z"
   },
   {
    "duration": 28,
    "start_time": "2022-12-18T20:08:47.773Z"
   },
   {
    "duration": 36,
    "start_time": "2022-12-18T20:08:47.803Z"
   },
   {
    "duration": 10,
    "start_time": "2022-12-18T20:08:47.841Z"
   },
   {
    "duration": 8,
    "start_time": "2022-12-18T20:08:47.853Z"
   },
   {
    "duration": 42,
    "start_time": "2022-12-18T20:08:47.867Z"
   },
   {
    "duration": 24,
    "start_time": "2022-12-18T20:08:47.910Z"
   },
   {
    "duration": 19,
    "start_time": "2022-12-18T20:08:47.935Z"
   },
   {
    "duration": 11,
    "start_time": "2022-12-18T20:08:47.963Z"
   },
   {
    "duration": 47,
    "start_time": "2022-12-18T20:08:47.980Z"
   },
   {
    "duration": 9,
    "start_time": "2022-12-18T20:08:48.029Z"
   },
   {
    "duration": 4,
    "start_time": "2022-12-18T20:08:48.041Z"
   },
   {
    "duration": 27,
    "start_time": "2022-12-18T20:08:48.047Z"
   },
   {
    "duration": 91,
    "start_time": "2022-12-18T20:08:49.945Z"
   },
   {
    "duration": 14,
    "start_time": "2022-12-18T20:09:03.196Z"
   },
   {
    "duration": 639,
    "start_time": "2022-12-18T20:32:04.442Z"
   },
   {
    "duration": 40,
    "start_time": "2022-12-18T20:32:05.084Z"
   },
   {
    "duration": 17,
    "start_time": "2022-12-18T20:32:05.126Z"
   },
   {
    "duration": 28,
    "start_time": "2022-12-18T20:32:05.146Z"
   },
   {
    "duration": 64,
    "start_time": "2022-12-18T20:32:05.176Z"
   },
   {
    "duration": 4,
    "start_time": "2022-12-18T20:32:05.242Z"
   },
   {
    "duration": 21,
    "start_time": "2022-12-18T20:32:05.247Z"
   },
   {
    "duration": 36,
    "start_time": "2022-12-18T20:32:05.270Z"
   },
   {
    "duration": 12,
    "start_time": "2022-12-18T20:32:05.308Z"
   },
   {
    "duration": 6,
    "start_time": "2022-12-18T20:32:05.323Z"
   },
   {
    "duration": 54,
    "start_time": "2022-12-18T20:32:05.331Z"
   },
   {
    "duration": 16,
    "start_time": "2022-12-18T20:32:05.387Z"
   },
   {
    "duration": 10,
    "start_time": "2022-12-18T20:32:05.405Z"
   },
   {
    "duration": 28,
    "start_time": "2022-12-18T20:32:05.416Z"
   },
   {
    "duration": 43,
    "start_time": "2022-12-18T20:32:05.446Z"
   },
   {
    "duration": 47,
    "start_time": "2022-12-18T20:32:05.491Z"
   },
   {
    "duration": 6,
    "start_time": "2022-12-18T20:32:05.540Z"
   },
   {
    "duration": 26,
    "start_time": "2022-12-18T20:32:05.548Z"
   },
   {
    "duration": 35,
    "start_time": "2022-12-18T20:32:05.576Z"
   },
   {
    "duration": 6,
    "start_time": "2022-12-18T20:32:05.613Z"
   },
   {
    "duration": 16,
    "start_time": "2022-12-18T20:32:05.621Z"
   },
   {
    "duration": 95,
    "start_time": "2022-12-18T20:42:06.979Z"
   },
   {
    "duration": 24,
    "start_time": "2022-12-18T20:42:16.543Z"
   },
   {
    "duration": 562,
    "start_time": "2022-12-18T20:42:28.759Z"
   },
   {
    "duration": 24,
    "start_time": "2022-12-18T20:42:29.323Z"
   },
   {
    "duration": 21,
    "start_time": "2022-12-18T20:42:29.361Z"
   },
   {
    "duration": 29,
    "start_time": "2022-12-18T20:42:29.388Z"
   },
   {
    "duration": 45,
    "start_time": "2022-12-18T20:42:29.419Z"
   },
   {
    "duration": 3,
    "start_time": "2022-12-18T20:42:29.472Z"
   },
   {
    "duration": 32,
    "start_time": "2022-12-18T20:42:29.477Z"
   },
   {
    "duration": 4,
    "start_time": "2022-12-18T20:42:29.510Z"
   },
   {
    "duration": 9,
    "start_time": "2022-12-18T20:42:29.517Z"
   },
   {
    "duration": 7,
    "start_time": "2022-12-18T20:42:29.530Z"
   },
   {
    "duration": 61,
    "start_time": "2022-12-18T20:42:29.539Z"
   },
   {
    "duration": 11,
    "start_time": "2022-12-18T20:42:29.605Z"
   },
   {
    "duration": 6,
    "start_time": "2022-12-18T20:42:29.618Z"
   },
   {
    "duration": 12,
    "start_time": "2022-12-18T20:42:29.626Z"
   },
   {
    "duration": 61,
    "start_time": "2022-12-18T20:42:29.639Z"
   },
   {
    "duration": 18,
    "start_time": "2022-12-18T20:42:29.703Z"
   },
   {
    "duration": 4,
    "start_time": "2022-12-18T20:42:29.722Z"
   },
   {
    "duration": 14,
    "start_time": "2022-12-18T20:42:29.728Z"
   },
   {
    "duration": 12,
    "start_time": "2022-12-18T20:42:29.744Z"
   },
   {
    "duration": 4,
    "start_time": "2022-12-18T20:42:29.758Z"
   },
   {
    "duration": 48,
    "start_time": "2022-12-18T20:42:29.763Z"
   },
   {
    "duration": 105,
    "start_time": "2022-12-18T20:46:56.918Z"
   },
   {
    "duration": 461,
    "start_time": "2022-12-18T20:47:56.826Z"
   },
   {
    "duration": 24,
    "start_time": "2022-12-18T20:47:57.290Z"
   },
   {
    "duration": 43,
    "start_time": "2022-12-18T20:47:57.316Z"
   },
   {
    "duration": 36,
    "start_time": "2022-12-18T20:47:57.361Z"
   },
   {
    "duration": 34,
    "start_time": "2022-12-18T20:47:57.399Z"
   },
   {
    "duration": 3,
    "start_time": "2022-12-18T20:47:57.435Z"
   },
   {
    "duration": 12,
    "start_time": "2022-12-18T20:47:57.440Z"
   },
   {
    "duration": 27,
    "start_time": "2022-12-18T20:47:57.454Z"
   },
   {
    "duration": 14,
    "start_time": "2022-12-18T20:47:57.486Z"
   },
   {
    "duration": 6,
    "start_time": "2022-12-18T20:47:57.502Z"
   },
   {
    "duration": 35,
    "start_time": "2022-12-18T20:47:57.509Z"
   },
   {
    "duration": 23,
    "start_time": "2022-12-18T20:47:57.545Z"
   },
   {
    "duration": 16,
    "start_time": "2022-12-18T20:47:57.570Z"
   },
   {
    "duration": 12,
    "start_time": "2022-12-18T20:47:57.588Z"
   },
   {
    "duration": 25,
    "start_time": "2022-12-18T20:47:57.601Z"
   },
   {
    "duration": 16,
    "start_time": "2022-12-18T20:47:57.628Z"
   },
   {
    "duration": 4,
    "start_time": "2022-12-18T20:47:57.645Z"
   },
   {
    "duration": 33,
    "start_time": "2022-12-18T20:47:57.654Z"
   },
   {
    "duration": 9,
    "start_time": "2022-12-18T20:47:57.689Z"
   },
   {
    "duration": 3,
    "start_time": "2022-12-18T20:47:57.700Z"
   },
   {
    "duration": 13,
    "start_time": "2022-12-18T20:47:57.705Z"
   },
   {
    "duration": 15,
    "start_time": "2022-12-18T20:59:26.476Z"
   },
   {
    "duration": 12,
    "start_time": "2022-12-18T20:59:46.578Z"
   },
   {
    "duration": 71,
    "start_time": "2022-12-18T21:02:45.776Z"
   },
   {
    "duration": 12,
    "start_time": "2022-12-18T21:03:18.545Z"
   },
   {
    "duration": 541,
    "start_time": "2022-12-18T21:03:58.446Z"
   },
   {
    "duration": 24,
    "start_time": "2022-12-18T21:03:58.999Z"
   },
   {
    "duration": 15,
    "start_time": "2022-12-18T21:03:59.025Z"
   },
   {
    "duration": 28,
    "start_time": "2022-12-18T21:03:59.043Z"
   },
   {
    "duration": 64,
    "start_time": "2022-12-18T21:03:59.073Z"
   },
   {
    "duration": 4,
    "start_time": "2022-12-18T21:03:59.139Z"
   },
   {
    "duration": 44,
    "start_time": "2022-12-18T21:03:59.145Z"
   },
   {
    "duration": 11,
    "start_time": "2022-12-18T21:03:59.190Z"
   },
   {
    "duration": 11,
    "start_time": "2022-12-18T21:03:59.203Z"
   },
   {
    "duration": 23,
    "start_time": "2022-12-18T21:03:59.217Z"
   },
   {
    "duration": 79,
    "start_time": "2022-12-18T21:03:59.242Z"
   },
   {
    "duration": 10,
    "start_time": "2022-12-18T21:03:59.323Z"
   },
   {
    "duration": 7,
    "start_time": "2022-12-18T21:03:59.335Z"
   },
   {
    "duration": 23,
    "start_time": "2022-12-18T21:03:59.344Z"
   },
   {
    "duration": 41,
    "start_time": "2022-12-18T21:03:59.368Z"
   },
   {
    "duration": 19,
    "start_time": "2022-12-18T21:03:59.412Z"
   },
   {
    "duration": 4,
    "start_time": "2022-12-18T21:03:59.433Z"
   },
   {
    "duration": 26,
    "start_time": "2022-12-18T21:03:59.439Z"
   },
   {
    "duration": 15,
    "start_time": "2022-12-18T21:03:59.466Z"
   },
   {
    "duration": 17,
    "start_time": "2022-12-18T21:03:59.483Z"
   },
   {
    "duration": 20,
    "start_time": "2022-12-18T21:03:59.502Z"
   },
   {
    "duration": 13,
    "start_time": "2022-12-18T21:04:02.021Z"
   },
   {
    "duration": 13,
    "start_time": "2022-12-18T21:06:38.178Z"
   },
   {
    "duration": 88,
    "start_time": "2022-12-18T21:07:58.413Z"
   },
   {
    "duration": 10,
    "start_time": "2022-12-18T21:08:17.811Z"
   },
   {
    "duration": 15,
    "start_time": "2022-12-18T21:12:46.426Z"
   },
   {
    "duration": 611,
    "start_time": "2022-12-18T21:13:43.382Z"
   },
   {
    "duration": 23,
    "start_time": "2022-12-18T21:13:43.996Z"
   },
   {
    "duration": 16,
    "start_time": "2022-12-18T21:13:44.021Z"
   },
   {
    "duration": 36,
    "start_time": "2022-12-18T21:13:44.039Z"
   },
   {
    "duration": 67,
    "start_time": "2022-12-18T21:13:44.078Z"
   },
   {
    "duration": 4,
    "start_time": "2022-12-18T21:13:44.147Z"
   },
   {
    "duration": 48,
    "start_time": "2022-12-18T21:13:44.153Z"
   },
   {
    "duration": 5,
    "start_time": "2022-12-18T21:13:44.203Z"
   },
   {
    "duration": 12,
    "start_time": "2022-12-18T21:13:44.210Z"
   },
   {
    "duration": 6,
    "start_time": "2022-12-18T21:13:44.223Z"
   },
   {
    "duration": 46,
    "start_time": "2022-12-18T21:13:44.231Z"
   },
   {
    "duration": 16,
    "start_time": "2022-12-18T21:13:44.279Z"
   },
   {
    "duration": 14,
    "start_time": "2022-12-18T21:13:44.300Z"
   },
   {
    "duration": 21,
    "start_time": "2022-12-18T21:13:44.317Z"
   },
   {
    "duration": 37,
    "start_time": "2022-12-18T21:13:44.340Z"
   },
   {
    "duration": 24,
    "start_time": "2022-12-18T21:13:44.379Z"
   },
   {
    "duration": 3,
    "start_time": "2022-12-18T21:13:44.405Z"
   },
   {
    "duration": 22,
    "start_time": "2022-12-18T21:13:44.411Z"
   },
   {
    "duration": 7,
    "start_time": "2022-12-18T21:13:44.435Z"
   },
   {
    "duration": 24,
    "start_time": "2022-12-18T21:13:44.444Z"
   },
   {
    "duration": 28,
    "start_time": "2022-12-18T21:13:44.477Z"
   },
   {
    "duration": 12,
    "start_time": "2022-12-18T21:13:44.507Z"
   },
   {
    "duration": 14,
    "start_time": "2022-12-18T21:13:44.521Z"
   },
   {
    "duration": 19,
    "start_time": "2022-12-18T21:13:48.095Z"
   },
   {
    "duration": 554,
    "start_time": "2022-12-18T21:14:00.522Z"
   },
   {
    "duration": 28,
    "start_time": "2022-12-18T21:14:01.082Z"
   },
   {
    "duration": 17,
    "start_time": "2022-12-18T21:14:01.112Z"
   },
   {
    "duration": 43,
    "start_time": "2022-12-18T21:14:01.131Z"
   },
   {
    "duration": 51,
    "start_time": "2022-12-18T21:14:01.177Z"
   },
   {
    "duration": 4,
    "start_time": "2022-12-18T21:14:01.230Z"
   },
   {
    "duration": 35,
    "start_time": "2022-12-18T21:14:01.236Z"
   },
   {
    "duration": 29,
    "start_time": "2022-12-18T21:14:01.274Z"
   },
   {
    "duration": 23,
    "start_time": "2022-12-18T21:14:01.305Z"
   },
   {
    "duration": 16,
    "start_time": "2022-12-18T21:14:01.332Z"
   },
   {
    "duration": 75,
    "start_time": "2022-12-18T21:14:01.350Z"
   },
   {
    "duration": 15,
    "start_time": "2022-12-18T21:14:01.427Z"
   },
   {
    "duration": 72,
    "start_time": "2022-12-18T21:14:01.443Z"
   },
   {
    "duration": 20,
    "start_time": "2022-12-18T21:14:01.517Z"
   },
   {
    "duration": 51,
    "start_time": "2022-12-18T21:14:01.539Z"
   },
   {
    "duration": 35,
    "start_time": "2022-12-18T21:14:01.594Z"
   },
   {
    "duration": 5,
    "start_time": "2022-12-18T21:14:01.631Z"
   },
   {
    "duration": 81,
    "start_time": "2022-12-18T21:14:01.637Z"
   },
   {
    "duration": 15,
    "start_time": "2022-12-18T21:14:01.720Z"
   },
   {
    "duration": 52,
    "start_time": "2022-12-18T21:14:01.737Z"
   },
   {
    "duration": 48,
    "start_time": "2022-12-18T21:14:01.791Z"
   },
   {
    "duration": 60,
    "start_time": "2022-12-18T21:14:01.841Z"
   },
   {
    "duration": 38,
    "start_time": "2022-12-18T21:14:01.903Z"
   },
   {
    "duration": 11,
    "start_time": "2022-12-18T21:15:06.719Z"
   },
   {
    "duration": 81,
    "start_time": "2022-12-18T21:18:33.302Z"
   },
   {
    "duration": 19,
    "start_time": "2022-12-18T21:18:44.778Z"
   },
   {
    "duration": 506,
    "start_time": "2022-12-18T21:19:21.071Z"
   },
   {
    "duration": 25,
    "start_time": "2022-12-18T21:19:21.579Z"
   },
   {
    "duration": 15,
    "start_time": "2022-12-18T21:19:21.605Z"
   },
   {
    "duration": 9,
    "start_time": "2022-12-18T21:19:21.622Z"
   },
   {
    "duration": 52,
    "start_time": "2022-12-18T21:19:21.633Z"
   },
   {
    "duration": 4,
    "start_time": "2022-12-18T21:19:21.688Z"
   },
   {
    "duration": 17,
    "start_time": "2022-12-18T21:19:21.694Z"
   },
   {
    "duration": 5,
    "start_time": "2022-12-18T21:19:21.713Z"
   },
   {
    "duration": 25,
    "start_time": "2022-12-18T21:19:21.720Z"
   },
   {
    "duration": 17,
    "start_time": "2022-12-18T21:19:21.746Z"
   },
   {
    "duration": 59,
    "start_time": "2022-12-18T21:19:21.765Z"
   },
   {
    "duration": 11,
    "start_time": "2022-12-18T21:19:21.826Z"
   },
   {
    "duration": 7,
    "start_time": "2022-12-18T21:19:21.838Z"
   },
   {
    "duration": 37,
    "start_time": "2022-12-18T21:19:21.848Z"
   },
   {
    "duration": 28,
    "start_time": "2022-12-18T21:19:21.887Z"
   },
   {
    "duration": 17,
    "start_time": "2022-12-18T21:19:21.917Z"
   },
   {
    "duration": 4,
    "start_time": "2022-12-18T21:19:21.936Z"
   },
   {
    "duration": 24,
    "start_time": "2022-12-18T21:19:21.942Z"
   },
   {
    "duration": 24,
    "start_time": "2022-12-18T21:19:21.969Z"
   },
   {
    "duration": 5,
    "start_time": "2022-12-18T21:19:21.995Z"
   },
   {
    "duration": 12,
    "start_time": "2022-12-18T21:19:22.002Z"
   },
   {
    "duration": 11,
    "start_time": "2022-12-18T21:19:22.015Z"
   },
   {
    "duration": 10,
    "start_time": "2022-12-18T21:19:22.028Z"
   },
   {
    "duration": 49,
    "start_time": "2022-12-18T21:19:22.040Z"
   },
   {
    "duration": 11,
    "start_time": "2022-12-18T21:19:26.497Z"
   },
   {
    "duration": 473,
    "start_time": "2022-12-18T21:20:00.993Z"
   },
   {
    "duration": 27,
    "start_time": "2022-12-18T21:20:01.470Z"
   },
   {
    "duration": 22,
    "start_time": "2022-12-18T21:20:01.499Z"
   },
   {
    "duration": 10,
    "start_time": "2022-12-18T21:20:01.523Z"
   },
   {
    "duration": 63,
    "start_time": "2022-12-18T21:20:01.534Z"
   },
   {
    "duration": 4,
    "start_time": "2022-12-18T21:20:01.598Z"
   },
   {
    "duration": 26,
    "start_time": "2022-12-18T21:20:01.603Z"
   },
   {
    "duration": 18,
    "start_time": "2022-12-18T21:20:01.630Z"
   },
   {
    "duration": 50,
    "start_time": "2022-12-18T21:20:01.650Z"
   },
   {
    "duration": 17,
    "start_time": "2022-12-18T21:20:01.702Z"
   },
   {
    "duration": 64,
    "start_time": "2022-12-18T21:20:01.720Z"
   },
   {
    "duration": 10,
    "start_time": "2022-12-18T21:20:01.786Z"
   },
   {
    "duration": 15,
    "start_time": "2022-12-18T21:20:01.797Z"
   },
   {
    "duration": 23,
    "start_time": "2022-12-18T21:20:01.813Z"
   },
   {
    "duration": 42,
    "start_time": "2022-12-18T21:20:01.838Z"
   },
   {
    "duration": 26,
    "start_time": "2022-12-18T21:20:01.885Z"
   },
   {
    "duration": 4,
    "start_time": "2022-12-18T21:20:01.913Z"
   },
   {
    "duration": 81,
    "start_time": "2022-12-18T21:20:01.918Z"
   },
   {
    "duration": 20,
    "start_time": "2022-12-18T21:20:02.001Z"
   },
   {
    "duration": 4,
    "start_time": "2022-12-18T21:20:02.023Z"
   },
   {
    "duration": 19,
    "start_time": "2022-12-18T21:20:02.029Z"
   },
   {
    "duration": 64,
    "start_time": "2022-12-18T21:20:02.050Z"
   },
   {
    "duration": 23,
    "start_time": "2022-12-18T21:20:02.115Z"
   },
   {
    "duration": 46,
    "start_time": "2022-12-18T21:20:02.140Z"
   },
   {
    "duration": 10,
    "start_time": "2022-12-18T21:20:07.134Z"
   },
   {
    "duration": 471,
    "start_time": "2022-12-18T22:45:23.463Z"
   },
   {
    "duration": 22,
    "start_time": "2022-12-18T22:45:23.935Z"
   },
   {
    "duration": 14,
    "start_time": "2022-12-18T22:45:23.959Z"
   },
   {
    "duration": 8,
    "start_time": "2022-12-18T22:45:23.975Z"
   },
   {
    "duration": 43,
    "start_time": "2022-12-18T22:45:23.985Z"
   },
   {
    "duration": 4,
    "start_time": "2022-12-18T22:45:24.031Z"
   },
   {
    "duration": 21,
    "start_time": "2022-12-18T22:45:24.037Z"
   },
   {
    "duration": 6,
    "start_time": "2022-12-18T22:45:24.060Z"
   },
   {
    "duration": 13,
    "start_time": "2022-12-18T22:45:24.068Z"
   },
   {
    "duration": 5,
    "start_time": "2022-12-18T22:45:24.084Z"
   },
   {
    "duration": 54,
    "start_time": "2022-12-18T22:45:24.091Z"
   },
   {
    "duration": 12,
    "start_time": "2022-12-18T22:45:24.147Z"
   },
   {
    "duration": 14,
    "start_time": "2022-12-18T22:45:24.161Z"
   },
   {
    "duration": 17,
    "start_time": "2022-12-18T22:45:24.176Z"
   },
   {
    "duration": 32,
    "start_time": "2022-12-18T22:45:24.195Z"
   },
   {
    "duration": 16,
    "start_time": "2022-12-18T22:45:24.229Z"
   },
   {
    "duration": 3,
    "start_time": "2022-12-18T22:45:24.247Z"
   },
   {
    "duration": 11,
    "start_time": "2022-12-18T22:45:24.251Z"
   },
   {
    "duration": 9,
    "start_time": "2022-12-18T22:45:24.264Z"
   },
   {
    "duration": 3,
    "start_time": "2022-12-18T22:45:24.275Z"
   },
   {
    "duration": 12,
    "start_time": "2022-12-18T22:45:24.279Z"
   },
   {
    "duration": 29,
    "start_time": "2022-12-18T22:45:24.293Z"
   },
   {
    "duration": 10,
    "start_time": "2022-12-18T22:45:24.323Z"
   },
   {
    "duration": 8,
    "start_time": "2022-12-18T22:45:24.334Z"
   },
   {
    "duration": 8,
    "start_time": "2022-12-18T22:45:24.344Z"
   },
   {
    "duration": 50,
    "start_time": "2022-12-19T08:30:21.525Z"
   },
   {
    "duration": 7,
    "start_time": "2022-12-19T08:31:04.908Z"
   },
   {
    "duration": 689,
    "start_time": "2022-12-19T08:31:22.510Z"
   },
   {
    "duration": 23,
    "start_time": "2022-12-19T08:31:23.201Z"
   },
   {
    "duration": 15,
    "start_time": "2022-12-19T08:31:23.225Z"
   },
   {
    "duration": 9,
    "start_time": "2022-12-19T08:31:23.242Z"
   },
   {
    "duration": 52,
    "start_time": "2022-12-19T08:31:23.253Z"
   },
   {
    "duration": 5,
    "start_time": "2022-12-19T08:31:23.306Z"
   },
   {
    "duration": 13,
    "start_time": "2022-12-19T08:31:23.313Z"
   },
   {
    "duration": 5,
    "start_time": "2022-12-19T08:31:23.327Z"
   },
   {
    "duration": 11,
    "start_time": "2022-12-19T08:31:23.333Z"
   },
   {
    "duration": 4,
    "start_time": "2022-12-19T08:31:23.347Z"
   },
   {
    "duration": 35,
    "start_time": "2022-12-19T08:31:23.377Z"
   },
   {
    "duration": 12,
    "start_time": "2022-12-19T08:31:23.413Z"
   },
   {
    "duration": 5,
    "start_time": "2022-12-19T08:31:23.427Z"
   },
   {
    "duration": 12,
    "start_time": "2022-12-19T08:31:23.434Z"
   },
   {
    "duration": 49,
    "start_time": "2022-12-19T08:31:23.448Z"
   },
   {
    "duration": 20,
    "start_time": "2022-12-19T08:31:23.500Z"
   },
   {
    "duration": 5,
    "start_time": "2022-12-19T08:31:23.522Z"
   },
   {
    "duration": 15,
    "start_time": "2022-12-19T08:31:23.528Z"
   },
   {
    "duration": 36,
    "start_time": "2022-12-19T08:31:23.545Z"
   },
   {
    "duration": 7,
    "start_time": "2022-12-19T08:31:23.583Z"
   },
   {
    "duration": 16,
    "start_time": "2022-12-19T08:31:23.592Z"
   },
   {
    "duration": 14,
    "start_time": "2022-12-19T08:31:23.610Z"
   },
   {
    "duration": 10,
    "start_time": "2022-12-19T08:31:23.626Z"
   },
   {
    "duration": 11,
    "start_time": "2022-12-19T08:31:23.638Z"
   },
   {
    "duration": 15,
    "start_time": "2022-12-19T08:31:35.047Z"
   },
   {
    "duration": 12,
    "start_time": "2022-12-19T08:37:02.661Z"
   },
   {
    "duration": 484,
    "start_time": "2022-12-19T08:39:00.007Z"
   },
   {
    "duration": 24,
    "start_time": "2022-12-19T08:39:00.493Z"
   },
   {
    "duration": 32,
    "start_time": "2022-12-19T08:39:00.520Z"
   },
   {
    "duration": 10,
    "start_time": "2022-12-19T08:39:00.555Z"
   },
   {
    "duration": 54,
    "start_time": "2022-12-19T08:39:00.566Z"
   },
   {
    "duration": 3,
    "start_time": "2022-12-19T08:39:00.622Z"
   },
   {
    "duration": 51,
    "start_time": "2022-12-19T08:39:00.627Z"
   },
   {
    "duration": 16,
    "start_time": "2022-12-19T08:39:00.680Z"
   },
   {
    "duration": 19,
    "start_time": "2022-12-19T08:39:00.698Z"
   },
   {
    "duration": 11,
    "start_time": "2022-12-19T08:39:00.719Z"
   },
   {
    "duration": 50,
    "start_time": "2022-12-19T08:39:00.732Z"
   },
   {
    "duration": 10,
    "start_time": "2022-12-19T08:39:00.783Z"
   },
   {
    "duration": 30,
    "start_time": "2022-12-19T08:39:00.795Z"
   },
   {
    "duration": 30,
    "start_time": "2022-12-19T08:39:00.826Z"
   },
   {
    "duration": 39,
    "start_time": "2022-12-19T08:39:00.858Z"
   },
   {
    "duration": 19,
    "start_time": "2022-12-19T08:39:00.899Z"
   },
   {
    "duration": 4,
    "start_time": "2022-12-19T08:39:00.920Z"
   },
   {
    "duration": 33,
    "start_time": "2022-12-19T08:39:00.926Z"
   },
   {
    "duration": 13,
    "start_time": "2022-12-19T08:39:00.961Z"
   },
   {
    "duration": 6,
    "start_time": "2022-12-19T08:39:00.976Z"
   },
   {
    "duration": 33,
    "start_time": "2022-12-19T08:39:00.984Z"
   },
   {
    "duration": 452,
    "start_time": "2022-12-19T08:39:01.018Z"
   },
   {
    "duration": 0,
    "start_time": "2022-12-19T08:39:01.472Z"
   },
   {
    "duration": 0,
    "start_time": "2022-12-19T08:39:01.473Z"
   },
   {
    "duration": 0,
    "start_time": "2022-12-19T08:39:01.474Z"
   },
   {
    "duration": 506,
    "start_time": "2022-12-19T08:39:57.348Z"
   },
   {
    "duration": 33,
    "start_time": "2022-12-19T08:39:57.857Z"
   },
   {
    "duration": 29,
    "start_time": "2022-12-19T08:39:57.892Z"
   },
   {
    "duration": 17,
    "start_time": "2022-12-19T08:39:57.924Z"
   },
   {
    "duration": 53,
    "start_time": "2022-12-19T08:39:57.943Z"
   },
   {
    "duration": 4,
    "start_time": "2022-12-19T08:39:57.998Z"
   },
   {
    "duration": 20,
    "start_time": "2022-12-19T08:39:58.004Z"
   },
   {
    "duration": 6,
    "start_time": "2022-12-19T08:39:58.026Z"
   },
   {
    "duration": 12,
    "start_time": "2022-12-19T08:39:58.035Z"
   },
   {
    "duration": 7,
    "start_time": "2022-12-19T08:39:58.077Z"
   },
   {
    "duration": 44,
    "start_time": "2022-12-19T08:39:58.086Z"
   },
   {
    "duration": 10,
    "start_time": "2022-12-19T08:39:58.132Z"
   },
   {
    "duration": 7,
    "start_time": "2022-12-19T08:39:58.144Z"
   },
   {
    "duration": 38,
    "start_time": "2022-12-19T08:39:58.153Z"
   },
   {
    "duration": 28,
    "start_time": "2022-12-19T08:39:58.194Z"
   },
   {
    "duration": 26,
    "start_time": "2022-12-19T08:39:58.224Z"
   },
   {
    "duration": 26,
    "start_time": "2022-12-19T08:39:58.252Z"
   },
   {
    "duration": 13,
    "start_time": "2022-12-19T08:39:58.283Z"
   },
   {
    "duration": 18,
    "start_time": "2022-12-19T08:39:58.299Z"
   },
   {
    "duration": 12,
    "start_time": "2022-12-19T08:39:58.319Z"
   },
   {
    "duration": 25,
    "start_time": "2022-12-19T08:39:58.334Z"
   },
   {
    "duration": 25,
    "start_time": "2022-12-19T08:39:58.361Z"
   },
   {
    "duration": 19,
    "start_time": "2022-12-19T08:39:58.389Z"
   },
   {
    "duration": 23,
    "start_time": "2022-12-19T08:39:58.410Z"
   },
   {
    "duration": 25,
    "start_time": "2022-12-19T08:39:58.435Z"
   },
   {
    "duration": 498,
    "start_time": "2022-12-19T08:40:58.371Z"
   },
   {
    "duration": 23,
    "start_time": "2022-12-19T08:40:58.871Z"
   },
   {
    "duration": 17,
    "start_time": "2022-12-19T08:40:58.896Z"
   },
   {
    "duration": 11,
    "start_time": "2022-12-19T08:40:58.915Z"
   },
   {
    "duration": 76,
    "start_time": "2022-12-19T08:40:58.928Z"
   },
   {
    "duration": 4,
    "start_time": "2022-12-19T08:40:59.007Z"
   },
   {
    "duration": 17,
    "start_time": "2022-12-19T08:40:59.013Z"
   },
   {
    "duration": 5,
    "start_time": "2022-12-19T08:40:59.031Z"
   },
   {
    "duration": 11,
    "start_time": "2022-12-19T08:40:59.037Z"
   },
   {
    "duration": 8,
    "start_time": "2022-12-19T08:40:59.051Z"
   },
   {
    "duration": 34,
    "start_time": "2022-12-19T08:40:59.078Z"
   },
   {
    "duration": 10,
    "start_time": "2022-12-19T08:40:59.113Z"
   },
   {
    "duration": 4,
    "start_time": "2022-12-19T08:40:59.124Z"
   },
   {
    "duration": 12,
    "start_time": "2022-12-19T08:40:59.130Z"
   },
   {
    "duration": 43,
    "start_time": "2022-12-19T08:40:59.143Z"
   },
   {
    "duration": 18,
    "start_time": "2022-12-19T08:40:59.188Z"
   },
   {
    "duration": 4,
    "start_time": "2022-12-19T08:40:59.207Z"
   },
   {
    "duration": 13,
    "start_time": "2022-12-19T08:40:59.213Z"
   },
   {
    "duration": 6,
    "start_time": "2022-12-19T08:40:59.228Z"
   },
   {
    "duration": 42,
    "start_time": "2022-12-19T08:40:59.236Z"
   },
   {
    "duration": 17,
    "start_time": "2022-12-19T08:40:59.280Z"
   },
   {
    "duration": 702,
    "start_time": "2022-12-19T08:40:59.299Z"
   },
   {
    "duration": 0,
    "start_time": "2022-12-19T08:41:00.002Z"
   },
   {
    "duration": 0,
    "start_time": "2022-12-19T08:41:00.004Z"
   },
   {
    "duration": 0,
    "start_time": "2022-12-19T08:41:00.005Z"
   },
   {
    "duration": 509,
    "start_time": "2022-12-19T08:41:59.442Z"
   },
   {
    "duration": 25,
    "start_time": "2022-12-19T08:41:59.953Z"
   },
   {
    "duration": 17,
    "start_time": "2022-12-19T08:41:59.980Z"
   },
   {
    "duration": 10,
    "start_time": "2022-12-19T08:41:59.999Z"
   },
   {
    "duration": 40,
    "start_time": "2022-12-19T08:42:00.011Z"
   },
   {
    "duration": 26,
    "start_time": "2022-12-19T08:42:00.053Z"
   },
   {
    "duration": 32,
    "start_time": "2022-12-19T08:42:00.081Z"
   },
   {
    "duration": 23,
    "start_time": "2022-12-19T08:42:00.115Z"
   },
   {
    "duration": 21,
    "start_time": "2022-12-19T08:42:00.140Z"
   },
   {
    "duration": 13,
    "start_time": "2022-12-19T08:42:00.164Z"
   },
   {
    "duration": 49,
    "start_time": "2022-12-19T08:42:00.179Z"
   },
   {
    "duration": 10,
    "start_time": "2022-12-19T08:42:00.229Z"
   },
   {
    "duration": 23,
    "start_time": "2022-12-19T08:42:00.241Z"
   },
   {
    "duration": 27,
    "start_time": "2022-12-19T08:42:00.265Z"
   },
   {
    "duration": 43,
    "start_time": "2022-12-19T08:42:00.294Z"
   },
   {
    "duration": 28,
    "start_time": "2022-12-19T08:42:00.339Z"
   },
   {
    "duration": 7,
    "start_time": "2022-12-19T08:42:00.368Z"
   },
   {
    "duration": 30,
    "start_time": "2022-12-19T08:42:00.377Z"
   },
   {
    "duration": 15,
    "start_time": "2022-12-19T08:42:00.408Z"
   },
   {
    "duration": 21,
    "start_time": "2022-12-19T08:42:00.424Z"
   },
   {
    "duration": 25,
    "start_time": "2022-12-19T08:42:00.447Z"
   },
   {
    "duration": 477,
    "start_time": "2022-12-19T08:42:00.473Z"
   },
   {
    "duration": 0,
    "start_time": "2022-12-19T08:42:00.953Z"
   },
   {
    "duration": 0,
    "start_time": "2022-12-19T08:42:00.955Z"
   },
   {
    "duration": 0,
    "start_time": "2022-12-19T08:42:00.957Z"
   },
   {
    "duration": 504,
    "start_time": "2022-12-19T08:43:08.296Z"
   },
   {
    "duration": 22,
    "start_time": "2022-12-19T08:43:08.803Z"
   },
   {
    "duration": 16,
    "start_time": "2022-12-19T08:43:08.826Z"
   },
   {
    "duration": 9,
    "start_time": "2022-12-19T08:43:08.845Z"
   },
   {
    "duration": 37,
    "start_time": "2022-12-19T08:43:08.879Z"
   },
   {
    "duration": 4,
    "start_time": "2022-12-19T08:43:08.918Z"
   },
   {
    "duration": 17,
    "start_time": "2022-12-19T08:43:08.924Z"
   },
   {
    "duration": 5,
    "start_time": "2022-12-19T08:43:08.943Z"
   },
   {
    "duration": 33,
    "start_time": "2022-12-19T08:43:08.950Z"
   },
   {
    "duration": 7,
    "start_time": "2022-12-19T08:43:08.987Z"
   },
   {
    "duration": 52,
    "start_time": "2022-12-19T08:43:08.996Z"
   },
   {
    "duration": 10,
    "start_time": "2022-12-19T08:43:09.050Z"
   },
   {
    "duration": 4,
    "start_time": "2022-12-19T08:43:09.078Z"
   },
   {
    "duration": 14,
    "start_time": "2022-12-19T08:43:09.084Z"
   },
   {
    "duration": 23,
    "start_time": "2022-12-19T08:43:09.100Z"
   },
   {
    "duration": 20,
    "start_time": "2022-12-19T08:43:09.124Z"
   },
   {
    "duration": 4,
    "start_time": "2022-12-19T08:43:09.146Z"
   },
   {
    "duration": 11,
    "start_time": "2022-12-19T08:43:09.178Z"
   },
   {
    "duration": 10,
    "start_time": "2022-12-19T08:43:09.191Z"
   },
   {
    "duration": 3,
    "start_time": "2022-12-19T08:43:09.203Z"
   },
   {
    "duration": 16,
    "start_time": "2022-12-19T08:43:09.208Z"
   },
   {
    "duration": 99,
    "start_time": "2022-12-19T08:43:09.226Z"
   },
   {
    "duration": 0,
    "start_time": "2022-12-19T08:43:09.326Z"
   },
   {
    "duration": 0,
    "start_time": "2022-12-19T08:43:09.328Z"
   },
   {
    "duration": 0,
    "start_time": "2022-12-19T08:43:09.330Z"
   },
   {
    "duration": 520,
    "start_time": "2022-12-19T08:43:31.281Z"
   },
   {
    "duration": 32,
    "start_time": "2022-12-19T08:43:31.804Z"
   },
   {
    "duration": 36,
    "start_time": "2022-12-19T08:43:31.838Z"
   },
   {
    "duration": 20,
    "start_time": "2022-12-19T08:43:31.876Z"
   },
   {
    "duration": 43,
    "start_time": "2022-12-19T08:43:31.898Z"
   },
   {
    "duration": 3,
    "start_time": "2022-12-19T08:43:31.943Z"
   },
   {
    "duration": 27,
    "start_time": "2022-12-19T08:43:31.947Z"
   },
   {
    "duration": 26,
    "start_time": "2022-12-19T08:43:31.976Z"
   },
   {
    "duration": 18,
    "start_time": "2022-12-19T08:43:32.005Z"
   },
   {
    "duration": 25,
    "start_time": "2022-12-19T08:43:32.026Z"
   },
   {
    "duration": 67,
    "start_time": "2022-12-19T08:43:32.053Z"
   },
   {
    "duration": 11,
    "start_time": "2022-12-19T08:43:32.122Z"
   },
   {
    "duration": 9,
    "start_time": "2022-12-19T08:43:32.135Z"
   },
   {
    "duration": 25,
    "start_time": "2022-12-19T08:43:32.145Z"
   },
   {
    "duration": 33,
    "start_time": "2022-12-19T08:43:32.172Z"
   },
   {
    "duration": 19,
    "start_time": "2022-12-19T08:43:32.207Z"
   },
   {
    "duration": 5,
    "start_time": "2022-12-19T08:43:32.227Z"
   },
   {
    "duration": 30,
    "start_time": "2022-12-19T08:43:32.234Z"
   },
   {
    "duration": 17,
    "start_time": "2022-12-19T08:43:32.266Z"
   },
   {
    "duration": 5,
    "start_time": "2022-12-19T08:43:32.285Z"
   },
   {
    "duration": 13,
    "start_time": "2022-12-19T08:43:32.292Z"
   },
   {
    "duration": 13,
    "start_time": "2022-12-19T08:43:32.307Z"
   },
   {
    "duration": 15,
    "start_time": "2022-12-19T08:43:32.322Z"
   },
   {
    "duration": 40,
    "start_time": "2022-12-19T08:43:32.338Z"
   },
   {
    "duration": 9,
    "start_time": "2022-12-19T08:43:32.380Z"
   },
   {
    "duration": 465,
    "start_time": "2022-12-19T08:47:53.297Z"
   },
   {
    "duration": 24,
    "start_time": "2022-12-19T08:47:53.764Z"
   },
   {
    "duration": 19,
    "start_time": "2022-12-19T08:47:53.790Z"
   },
   {
    "duration": 14,
    "start_time": "2022-12-19T08:47:53.812Z"
   },
   {
    "duration": 58,
    "start_time": "2022-12-19T08:47:53.828Z"
   },
   {
    "duration": 4,
    "start_time": "2022-12-19T08:47:53.889Z"
   },
   {
    "duration": 27,
    "start_time": "2022-12-19T08:47:53.896Z"
   },
   {
    "duration": 14,
    "start_time": "2022-12-19T08:47:53.925Z"
   },
   {
    "duration": 24,
    "start_time": "2022-12-19T08:47:53.941Z"
   },
   {
    "duration": 12,
    "start_time": "2022-12-19T08:47:53.967Z"
   },
   {
    "duration": 53,
    "start_time": "2022-12-19T08:47:53.981Z"
   },
   {
    "duration": 10,
    "start_time": "2022-12-19T08:47:54.036Z"
   },
   {
    "duration": 5,
    "start_time": "2022-12-19T08:47:54.048Z"
   },
   {
    "duration": 25,
    "start_time": "2022-12-19T08:47:54.054Z"
   },
   {
    "duration": 33,
    "start_time": "2022-12-19T08:47:54.081Z"
   },
   {
    "duration": 21,
    "start_time": "2022-12-19T08:47:54.115Z"
   },
   {
    "duration": 18,
    "start_time": "2022-12-19T08:47:54.137Z"
   },
   {
    "duration": 29,
    "start_time": "2022-12-19T08:47:54.157Z"
   },
   {
    "duration": 20,
    "start_time": "2022-12-19T08:47:54.188Z"
   },
   {
    "duration": 27,
    "start_time": "2022-12-19T08:47:54.210Z"
   },
   {
    "duration": 30,
    "start_time": "2022-12-19T08:47:54.239Z"
   },
   {
    "duration": 89,
    "start_time": "2022-12-19T08:47:54.271Z"
   },
   {
    "duration": 0,
    "start_time": "2022-12-19T08:47:54.362Z"
   },
   {
    "duration": 0,
    "start_time": "2022-12-19T08:47:54.363Z"
   },
   {
    "duration": 0,
    "start_time": "2022-12-19T08:47:54.365Z"
   },
   {
    "duration": 530,
    "start_time": "2022-12-19T08:48:37.163Z"
   },
   {
    "duration": 26,
    "start_time": "2022-12-19T08:48:37.696Z"
   },
   {
    "duration": 17,
    "start_time": "2022-12-19T08:48:37.723Z"
   },
   {
    "duration": 10,
    "start_time": "2022-12-19T08:48:37.741Z"
   },
   {
    "duration": 64,
    "start_time": "2022-12-19T08:48:37.753Z"
   },
   {
    "duration": 4,
    "start_time": "2022-12-19T08:48:37.819Z"
   },
   {
    "duration": 18,
    "start_time": "2022-12-19T08:48:37.824Z"
   },
   {
    "duration": 11,
    "start_time": "2022-12-19T08:48:37.844Z"
   },
   {
    "duration": 31,
    "start_time": "2022-12-19T08:48:37.857Z"
   },
   {
    "duration": 11,
    "start_time": "2022-12-19T08:48:37.890Z"
   },
   {
    "duration": 52,
    "start_time": "2022-12-19T08:48:37.904Z"
   },
   {
    "duration": 11,
    "start_time": "2022-12-19T08:48:37.958Z"
   },
   {
    "duration": 5,
    "start_time": "2022-12-19T08:48:37.971Z"
   },
   {
    "duration": 17,
    "start_time": "2022-12-19T08:48:37.989Z"
   },
   {
    "duration": 23,
    "start_time": "2022-12-19T08:48:38.008Z"
   },
   {
    "duration": 17,
    "start_time": "2022-12-19T08:48:38.033Z"
   },
   {
    "duration": 4,
    "start_time": "2022-12-19T08:48:38.052Z"
   },
   {
    "duration": 25,
    "start_time": "2022-12-19T08:48:38.057Z"
   },
   {
    "duration": 19,
    "start_time": "2022-12-19T08:48:38.089Z"
   },
   {
    "duration": 5,
    "start_time": "2022-12-19T08:48:38.110Z"
   },
   {
    "duration": 14,
    "start_time": "2022-12-19T08:48:38.117Z"
   },
   {
    "duration": 101,
    "start_time": "2022-12-19T08:48:38.133Z"
   },
   {
    "duration": 0,
    "start_time": "2022-12-19T08:48:38.236Z"
   },
   {
    "duration": 0,
    "start_time": "2022-12-19T08:48:38.240Z"
   },
   {
    "duration": 0,
    "start_time": "2022-12-19T08:48:38.241Z"
   },
   {
    "duration": 444,
    "start_time": "2022-12-19T08:49:01.913Z"
   },
   {
    "duration": 23,
    "start_time": "2022-12-19T08:49:02.359Z"
   },
   {
    "duration": 14,
    "start_time": "2022-12-19T08:49:02.384Z"
   },
   {
    "duration": 9,
    "start_time": "2022-12-19T08:49:02.401Z"
   },
   {
    "duration": 36,
    "start_time": "2022-12-19T08:49:02.412Z"
   },
   {
    "duration": 3,
    "start_time": "2022-12-19T08:49:02.450Z"
   },
   {
    "duration": 29,
    "start_time": "2022-12-19T08:49:02.455Z"
   },
   {
    "duration": 5,
    "start_time": "2022-12-19T08:49:02.486Z"
   },
   {
    "duration": 15,
    "start_time": "2022-12-19T08:49:02.492Z"
   },
   {
    "duration": 8,
    "start_time": "2022-12-19T08:49:02.515Z"
   },
   {
    "duration": 57,
    "start_time": "2022-12-19T08:49:02.524Z"
   },
   {
    "duration": 9,
    "start_time": "2022-12-19T08:49:02.583Z"
   },
   {
    "duration": 5,
    "start_time": "2022-12-19T08:49:02.594Z"
   },
   {
    "duration": 11,
    "start_time": "2022-12-19T08:49:02.601Z"
   },
   {
    "duration": 22,
    "start_time": "2022-12-19T08:49:02.614Z"
   },
   {
    "duration": 40,
    "start_time": "2022-12-19T08:49:02.637Z"
   },
   {
    "duration": 4,
    "start_time": "2022-12-19T08:49:02.679Z"
   },
   {
    "duration": 13,
    "start_time": "2022-12-19T08:49:02.685Z"
   },
   {
    "duration": 5,
    "start_time": "2022-12-19T08:49:02.699Z"
   },
   {
    "duration": 7,
    "start_time": "2022-12-19T08:49:02.706Z"
   },
   {
    "duration": 27,
    "start_time": "2022-12-19T08:49:02.714Z"
   },
   {
    "duration": 25,
    "start_time": "2022-12-19T08:49:02.742Z"
   },
   {
    "duration": 10,
    "start_time": "2022-12-19T08:49:02.777Z"
   },
   {
    "duration": 23,
    "start_time": "2022-12-19T08:49:02.789Z"
   },
   {
    "duration": 15,
    "start_time": "2022-12-19T08:49:02.814Z"
   },
   {
    "duration": 505,
    "start_time": "2022-12-19T08:50:03.552Z"
   },
   {
    "duration": 23,
    "start_time": "2022-12-19T08:50:04.059Z"
   },
   {
    "duration": 19,
    "start_time": "2022-12-19T08:50:04.084Z"
   },
   {
    "duration": 19,
    "start_time": "2022-12-19T08:50:04.106Z"
   },
   {
    "duration": 53,
    "start_time": "2022-12-19T08:50:04.126Z"
   },
   {
    "duration": 4,
    "start_time": "2022-12-19T08:50:04.180Z"
   },
   {
    "duration": 24,
    "start_time": "2022-12-19T08:50:04.186Z"
   },
   {
    "duration": 15,
    "start_time": "2022-12-19T08:50:04.212Z"
   },
   {
    "duration": 31,
    "start_time": "2022-12-19T08:50:04.228Z"
   },
   {
    "duration": 25,
    "start_time": "2022-12-19T08:50:04.261Z"
   },
   {
    "duration": 57,
    "start_time": "2022-12-19T08:50:04.288Z"
   },
   {
    "duration": 11,
    "start_time": "2022-12-19T08:50:04.349Z"
   },
   {
    "duration": 25,
    "start_time": "2022-12-19T08:50:04.362Z"
   },
   {
    "duration": 26,
    "start_time": "2022-12-19T08:50:04.388Z"
   },
   {
    "duration": 41,
    "start_time": "2022-12-19T08:50:04.416Z"
   },
   {
    "duration": 33,
    "start_time": "2022-12-19T08:50:04.459Z"
   },
   {
    "duration": 3,
    "start_time": "2022-12-19T08:50:04.494Z"
   },
   {
    "duration": 35,
    "start_time": "2022-12-19T08:50:04.499Z"
   },
   {
    "duration": 30,
    "start_time": "2022-12-19T08:50:04.536Z"
   },
   {
    "duration": 24,
    "start_time": "2022-12-19T08:50:04.568Z"
   },
   {
    "duration": 47,
    "start_time": "2022-12-19T08:50:04.594Z"
   },
   {
    "duration": 27,
    "start_time": "2022-12-19T08:50:04.643Z"
   },
   {
    "duration": 37,
    "start_time": "2022-12-19T08:50:04.672Z"
   },
   {
    "duration": 26,
    "start_time": "2022-12-19T08:50:04.711Z"
   },
   {
    "duration": 18,
    "start_time": "2022-12-19T08:50:04.739Z"
   },
   {
    "duration": 570,
    "start_time": "2022-12-19T08:50:33.270Z"
   },
   {
    "duration": 24,
    "start_time": "2022-12-19T08:50:33.843Z"
   },
   {
    "duration": 41,
    "start_time": "2022-12-19T08:50:33.869Z"
   },
   {
    "duration": 10,
    "start_time": "2022-12-19T08:50:33.912Z"
   },
   {
    "duration": 55,
    "start_time": "2022-12-19T08:50:33.924Z"
   },
   {
    "duration": 5,
    "start_time": "2022-12-19T08:50:33.989Z"
   },
   {
    "duration": 31,
    "start_time": "2022-12-19T08:50:33.995Z"
   },
   {
    "duration": 18,
    "start_time": "2022-12-19T08:50:34.028Z"
   },
   {
    "duration": 18,
    "start_time": "2022-12-19T08:50:34.048Z"
   },
   {
    "duration": 29,
    "start_time": "2022-12-19T08:50:34.069Z"
   },
   {
    "duration": 62,
    "start_time": "2022-12-19T08:50:34.100Z"
   },
   {
    "duration": 9,
    "start_time": "2022-12-19T08:50:34.163Z"
   },
   {
    "duration": 32,
    "start_time": "2022-12-19T08:50:34.174Z"
   },
   {
    "duration": 31,
    "start_time": "2022-12-19T08:50:34.208Z"
   },
   {
    "duration": 49,
    "start_time": "2022-12-19T08:50:34.240Z"
   },
   {
    "duration": 38,
    "start_time": "2022-12-19T08:50:34.292Z"
   },
   {
    "duration": 4,
    "start_time": "2022-12-19T08:50:34.332Z"
   },
   {
    "duration": 26,
    "start_time": "2022-12-19T08:50:34.337Z"
   },
   {
    "duration": 8,
    "start_time": "2022-12-19T08:50:34.365Z"
   },
   {
    "duration": 42,
    "start_time": "2022-12-19T08:50:34.375Z"
   },
   {
    "duration": 30,
    "start_time": "2022-12-19T08:50:34.419Z"
   },
   {
    "duration": 31,
    "start_time": "2022-12-19T08:50:34.450Z"
   },
   {
    "duration": 37,
    "start_time": "2022-12-19T08:50:34.491Z"
   },
   {
    "duration": 34,
    "start_time": "2022-12-19T08:50:34.530Z"
   },
   {
    "duration": 46,
    "start_time": "2022-12-19T08:50:34.566Z"
   },
   {
    "duration": 495,
    "start_time": "2022-12-19T08:54:52.993Z"
   },
   {
    "duration": 25,
    "start_time": "2022-12-19T08:54:53.491Z"
   },
   {
    "duration": 17,
    "start_time": "2022-12-19T08:54:53.518Z"
   },
   {
    "duration": 11,
    "start_time": "2022-12-19T08:54:53.538Z"
   },
   {
    "duration": 68,
    "start_time": "2022-12-19T08:54:53.551Z"
   },
   {
    "duration": 3,
    "start_time": "2022-12-19T08:54:53.621Z"
   },
   {
    "duration": 12,
    "start_time": "2022-12-19T08:54:53.626Z"
   },
   {
    "duration": 6,
    "start_time": "2022-12-19T08:54:53.639Z"
   },
   {
    "duration": 8,
    "start_time": "2022-12-19T08:54:53.646Z"
   },
   {
    "duration": 12,
    "start_time": "2022-12-19T08:54:53.679Z"
   },
   {
    "duration": 44,
    "start_time": "2022-12-19T08:54:53.693Z"
   },
   {
    "duration": 12,
    "start_time": "2022-12-19T08:54:53.739Z"
   },
   {
    "duration": 4,
    "start_time": "2022-12-19T08:54:53.753Z"
   },
   {
    "duration": 32,
    "start_time": "2022-12-19T08:54:53.759Z"
   },
   {
    "duration": 34,
    "start_time": "2022-12-19T08:54:53.793Z"
   },
   {
    "duration": 19,
    "start_time": "2022-12-19T08:54:53.829Z"
   },
   {
    "duration": 5,
    "start_time": "2022-12-19T08:54:53.849Z"
   },
   {
    "duration": 39,
    "start_time": "2022-12-19T08:54:53.855Z"
   },
   {
    "duration": 19,
    "start_time": "2022-12-19T08:54:53.895Z"
   },
   {
    "duration": 10,
    "start_time": "2022-12-19T08:54:53.916Z"
   },
   {
    "duration": 18,
    "start_time": "2022-12-19T08:54:53.928Z"
   },
   {
    "duration": 58,
    "start_time": "2022-12-19T08:54:53.947Z"
   },
   {
    "duration": 0,
    "start_time": "2022-12-19T08:54:54.006Z"
   },
   {
    "duration": 0,
    "start_time": "2022-12-19T08:54:54.008Z"
   },
   {
    "duration": 0,
    "start_time": "2022-12-19T08:54:54.009Z"
   },
   {
    "duration": 503,
    "start_time": "2022-12-19T08:55:32.173Z"
   },
   {
    "duration": 36,
    "start_time": "2022-12-19T08:55:32.678Z"
   },
   {
    "duration": 41,
    "start_time": "2022-12-19T08:55:32.715Z"
   },
   {
    "duration": 9,
    "start_time": "2022-12-19T08:55:32.758Z"
   },
   {
    "duration": 43,
    "start_time": "2022-12-19T08:55:32.769Z"
   },
   {
    "duration": 3,
    "start_time": "2022-12-19T08:55:32.814Z"
   },
   {
    "duration": 11,
    "start_time": "2022-12-19T08:55:32.819Z"
   },
   {
    "duration": 4,
    "start_time": "2022-12-19T08:55:32.832Z"
   },
   {
    "duration": 11,
    "start_time": "2022-12-19T08:55:32.837Z"
   },
   {
    "duration": 5,
    "start_time": "2022-12-19T08:55:32.850Z"
   },
   {
    "duration": 63,
    "start_time": "2022-12-19T08:55:32.856Z"
   },
   {
    "duration": 10,
    "start_time": "2022-12-19T08:55:32.920Z"
   },
   {
    "duration": 4,
    "start_time": "2022-12-19T08:55:32.931Z"
   },
   {
    "duration": 15,
    "start_time": "2022-12-19T08:55:32.936Z"
   },
   {
    "duration": 55,
    "start_time": "2022-12-19T08:55:32.952Z"
   },
   {
    "duration": 20,
    "start_time": "2022-12-19T08:55:33.009Z"
   },
   {
    "duration": 5,
    "start_time": "2022-12-19T08:55:33.031Z"
   },
   {
    "duration": 12,
    "start_time": "2022-12-19T08:55:33.038Z"
   },
   {
    "duration": 7,
    "start_time": "2022-12-19T08:55:33.052Z"
   },
   {
    "duration": 44,
    "start_time": "2022-12-19T08:55:33.061Z"
   },
   {
    "duration": 17,
    "start_time": "2022-12-19T08:55:33.107Z"
   },
   {
    "duration": 531,
    "start_time": "2022-12-19T08:55:33.125Z"
   },
   {
    "duration": 0,
    "start_time": "2022-12-19T08:55:33.658Z"
   },
   {
    "duration": 0,
    "start_time": "2022-12-19T08:55:33.659Z"
   },
   {
    "duration": 0,
    "start_time": "2022-12-19T08:55:33.661Z"
   },
   {
    "duration": 93,
    "start_time": "2022-12-19T08:55:52.157Z"
   },
   {
    "duration": 17,
    "start_time": "2022-12-19T08:55:52.252Z"
   },
   {
    "duration": 59,
    "start_time": "2022-12-19T08:55:52.270Z"
   },
   {
    "duration": 19,
    "start_time": "2022-12-19T08:55:52.332Z"
   },
   {
    "duration": 58,
    "start_time": "2022-12-19T08:55:52.353Z"
   },
   {
    "duration": 9,
    "start_time": "2022-12-19T08:55:52.413Z"
   },
   {
    "duration": 24,
    "start_time": "2022-12-19T08:55:52.424Z"
   },
   {
    "duration": 55,
    "start_time": "2022-12-19T08:55:52.450Z"
   },
   {
    "duration": 18,
    "start_time": "2022-12-19T08:55:52.507Z"
   },
   {
    "duration": 28,
    "start_time": "2022-12-19T08:55:52.528Z"
   },
   {
    "duration": 75,
    "start_time": "2022-12-19T08:55:52.558Z"
   },
   {
    "duration": 12,
    "start_time": "2022-12-19T08:55:52.635Z"
   },
   {
    "duration": 5,
    "start_time": "2022-12-19T08:55:52.649Z"
   },
   {
    "duration": 14,
    "start_time": "2022-12-19T08:55:52.655Z"
   },
   {
    "duration": 40,
    "start_time": "2022-12-19T08:55:52.671Z"
   },
   {
    "duration": 28,
    "start_time": "2022-12-19T08:55:52.713Z"
   },
   {
    "duration": 3,
    "start_time": "2022-12-19T08:55:52.743Z"
   },
   {
    "duration": 20,
    "start_time": "2022-12-19T08:55:52.748Z"
   },
   {
    "duration": 26,
    "start_time": "2022-12-19T08:55:52.770Z"
   },
   {
    "duration": 15,
    "start_time": "2022-12-19T08:55:52.800Z"
   },
   {
    "duration": 14,
    "start_time": "2022-12-19T08:55:52.817Z"
   },
   {
    "duration": 25,
    "start_time": "2022-12-19T08:55:52.832Z"
   },
   {
    "duration": 13,
    "start_time": "2022-12-19T08:55:52.860Z"
   },
   {
    "duration": 55,
    "start_time": "2022-12-19T08:55:52.876Z"
   },
   {
    "duration": 13,
    "start_time": "2022-12-19T08:55:52.933Z"
   },
   {
    "duration": 503,
    "start_time": "2022-12-19T08:57:33.749Z"
   },
   {
    "duration": 25,
    "start_time": "2022-12-19T08:57:34.254Z"
   },
   {
    "duration": 23,
    "start_time": "2022-12-19T08:57:34.280Z"
   },
   {
    "duration": 16,
    "start_time": "2022-12-19T08:57:34.306Z"
   },
   {
    "duration": 35,
    "start_time": "2022-12-19T08:57:34.324Z"
   },
   {
    "duration": 3,
    "start_time": "2022-12-19T08:57:34.361Z"
   },
   {
    "duration": 18,
    "start_time": "2022-12-19T08:57:34.377Z"
   },
   {
    "duration": 5,
    "start_time": "2022-12-19T08:57:34.396Z"
   },
   {
    "duration": 12,
    "start_time": "2022-12-19T08:57:34.404Z"
   },
   {
    "duration": 5,
    "start_time": "2022-12-19T08:57:34.420Z"
   },
   {
    "duration": 64,
    "start_time": "2022-12-19T08:57:34.427Z"
   },
   {
    "duration": 9,
    "start_time": "2022-12-19T08:57:34.494Z"
   },
   {
    "duration": 4,
    "start_time": "2022-12-19T08:57:34.505Z"
   },
   {
    "duration": 18,
    "start_time": "2022-12-19T08:57:34.511Z"
   },
   {
    "duration": 31,
    "start_time": "2022-12-19T08:57:34.530Z"
   },
   {
    "duration": 34,
    "start_time": "2022-12-19T08:57:34.563Z"
   },
   {
    "duration": 4,
    "start_time": "2022-12-19T08:57:34.599Z"
   },
   {
    "duration": 16,
    "start_time": "2022-12-19T08:57:34.605Z"
   },
   {
    "duration": 10,
    "start_time": "2022-12-19T08:57:34.622Z"
   },
   {
    "duration": 6,
    "start_time": "2022-12-19T08:57:34.634Z"
   },
   {
    "duration": 15,
    "start_time": "2022-12-19T08:57:34.642Z"
   },
   {
    "duration": 35,
    "start_time": "2022-12-19T08:57:34.659Z"
   },
   {
    "duration": 16,
    "start_time": "2022-12-19T08:57:34.699Z"
   },
   {
    "duration": 11,
    "start_time": "2022-12-19T08:57:34.717Z"
   },
   {
    "duration": 14,
    "start_time": "2022-12-19T08:57:34.730Z"
   },
   {
    "duration": 502,
    "start_time": "2022-12-19T08:58:30.876Z"
   },
   {
    "duration": 26,
    "start_time": "2022-12-19T08:58:31.380Z"
   },
   {
    "duration": 16,
    "start_time": "2022-12-19T08:58:31.408Z"
   },
   {
    "duration": 10,
    "start_time": "2022-12-19T08:58:31.427Z"
   },
   {
    "duration": 62,
    "start_time": "2022-12-19T08:58:31.439Z"
   },
   {
    "duration": 4,
    "start_time": "2022-12-19T08:58:31.503Z"
   },
   {
    "duration": 23,
    "start_time": "2022-12-19T08:58:31.509Z"
   },
   {
    "duration": 7,
    "start_time": "2022-12-19T08:58:31.534Z"
   },
   {
    "duration": 19,
    "start_time": "2022-12-19T08:58:31.542Z"
   },
   {
    "duration": 13,
    "start_time": "2022-12-19T08:58:31.564Z"
   },
   {
    "duration": 49,
    "start_time": "2022-12-19T08:58:31.578Z"
   },
   {
    "duration": 9,
    "start_time": "2022-12-19T08:58:31.629Z"
   },
   {
    "duration": 4,
    "start_time": "2022-12-19T08:58:31.640Z"
   },
   {
    "duration": 17,
    "start_time": "2022-12-19T08:58:31.645Z"
   },
   {
    "duration": 27,
    "start_time": "2022-12-19T08:58:31.664Z"
   },
   {
    "duration": 19,
    "start_time": "2022-12-19T08:58:31.693Z"
   },
   {
    "duration": 3,
    "start_time": "2022-12-19T08:58:31.714Z"
   },
   {
    "duration": 15,
    "start_time": "2022-12-19T08:58:31.719Z"
   },
   {
    "duration": 6,
    "start_time": "2022-12-19T08:58:31.735Z"
   },
   {
    "duration": 7,
    "start_time": "2022-12-19T08:58:31.742Z"
   },
   {
    "duration": 31,
    "start_time": "2022-12-19T08:58:31.750Z"
   },
   {
    "duration": 20,
    "start_time": "2022-12-19T08:58:31.783Z"
   },
   {
    "duration": 12,
    "start_time": "2022-12-19T08:58:31.805Z"
   },
   {
    "duration": 12,
    "start_time": "2022-12-19T08:58:31.818Z"
   },
   {
    "duration": 16,
    "start_time": "2022-12-19T08:58:31.831Z"
   },
   {
    "duration": 522,
    "start_time": "2022-12-19T09:47:41.761Z"
   },
   {
    "duration": 26,
    "start_time": "2022-12-19T09:47:42.285Z"
   },
   {
    "duration": 15,
    "start_time": "2022-12-19T09:47:42.312Z"
   },
   {
    "duration": 9,
    "start_time": "2022-12-19T09:47:42.329Z"
   },
   {
    "duration": 69,
    "start_time": "2022-12-19T09:47:42.340Z"
   },
   {
    "duration": 4,
    "start_time": "2022-12-19T09:47:42.411Z"
   },
   {
    "duration": 13,
    "start_time": "2022-12-19T09:47:42.417Z"
   },
   {
    "duration": 7,
    "start_time": "2022-12-19T09:47:42.431Z"
   },
   {
    "duration": 8,
    "start_time": "2022-12-19T09:47:42.440Z"
   },
   {
    "duration": 6,
    "start_time": "2022-12-19T09:47:42.450Z"
   },
   {
    "duration": 60,
    "start_time": "2022-12-19T09:47:42.458Z"
   },
   {
    "duration": 9,
    "start_time": "2022-12-19T09:47:42.520Z"
   },
   {
    "duration": 8,
    "start_time": "2022-12-19T09:47:42.530Z"
   },
   {
    "duration": 14,
    "start_time": "2022-12-19T09:47:42.539Z"
   },
   {
    "duration": 45,
    "start_time": "2022-12-19T09:47:42.554Z"
   },
   {
    "duration": 22,
    "start_time": "2022-12-19T09:47:42.601Z"
   },
   {
    "duration": 4,
    "start_time": "2022-12-19T09:47:42.625Z"
   },
   {
    "duration": 22,
    "start_time": "2022-12-19T09:47:42.630Z"
   },
   {
    "duration": 8,
    "start_time": "2022-12-19T09:47:42.654Z"
   },
   {
    "duration": 13,
    "start_time": "2022-12-19T09:47:42.680Z"
   },
   {
    "duration": 14,
    "start_time": "2022-12-19T09:47:42.696Z"
   },
   {
    "duration": 24,
    "start_time": "2022-12-19T09:47:42.712Z"
   },
   {
    "duration": 17,
    "start_time": "2022-12-19T09:47:42.738Z"
   },
   {
    "duration": 9,
    "start_time": "2022-12-19T09:47:42.757Z"
   },
   {
    "duration": 23,
    "start_time": "2022-12-19T09:47:42.768Z"
   }
  ],
  "colab": {
   "name": "dpp_template_part2.ipynb",
   "provenance": []
  },
  "kernelspec": {
   "display_name": "Python 3 (ipykernel)",
   "language": "python",
   "name": "python3"
  },
  "language_info": {
   "codemirror_mode": {
    "name": "ipython",
    "version": 3
   },
   "file_extension": ".py",
   "mimetype": "text/x-python",
   "name": "python",
   "nbconvert_exporter": "python",
   "pygments_lexer": "ipython3",
   "version": "3.10.9"
  },
  "toc": {
   "base_numbering": 1,
   "nav_menu": {},
   "number_sections": true,
   "sideBar": true,
   "skip_h1_title": true,
   "title_cell": "Table of Contents",
   "title_sidebar": "Contents",
   "toc_cell": false,
   "toc_position": {},
   "toc_section_display": true,
   "toc_window_display": false
  }
 },
 "nbformat": 4,
 "nbformat_minor": 5
}
