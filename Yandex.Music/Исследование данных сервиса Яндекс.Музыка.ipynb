{
 "cells": [
  {
   "cell_type": "markdown",
   "metadata": {
    "deletable": false,
    "editable": false,
    "id": "E0vqbgi9ay0H"
   },
   "source": [
    "# Яндекс Музыка"
   ]
  },
  {
   "cell_type": "markdown",
   "metadata": {
    "deletable": false,
    "editable": false,
    "id": "VUC88oWjTJw2"
   },
   "source": [
    "Сравнение Москвы и Петербурга окружено мифами. Например:\n",
    " * Москва — мегаполис, подчинённый жёсткому ритму рабочей недели;\n",
    " * Петербург — культурная столица, со своими вкусами.\n",
    "\n",
    "На данных Яндекс Музыки вы сравните поведение пользователей двух столиц.\n",
    "\n",
    "**Цель исследования** — проверьте три гипотезы:\n",
    "1. Активность пользователей зависит от дня недели. Причём в Москве и Петербурге это проявляется по-разному.\n",
    "2. В понедельник утром в Москве преобладают одни жанры, а в Петербурге — другие. Так же и вечером пятницы преобладают разные жанры — в зависимости от города. \n",
    "3. Москва и Петербург предпочитают разные жанры музыки. В Москве чаще слушают поп-музыку, в Петербурге — русский рэп.\n",
    "\n",
    "**Ход исследования**\n",
    "\n",
    "Данные о поведении пользователей вы получите из файла `yandex_music_project.csv`. О качестве данных ничего не известно. Поэтому перед проверкой гипотез понадобится обзор данных. \n",
    "\n",
    "Вы проверите данные на ошибки и оцените их влияние на исследование. Затем, на этапе предобработки вы поищете возможность исправить самые критичные ошибки данных.\n",
    " \n",
    "Таким образом, исследование пройдёт в три этапа:\n",
    " 1. Обзор данных.\n",
    " 2. Предобработка данных.\n",
    " 3. Проверка гипотез.\n",
    "\n"
   ]
  },
  {
   "cell_type": "markdown",
   "metadata": {
    "deletable": false,
    "editable": false,
    "id": "Ml1hmfXC_Zcs"
   },
   "source": [
    "## Обзор данных\n",
    "\n",
    "Составьте первое представление о данных Яндекс Музыки.\n",
    "\n",
    "\n"
   ]
  },
  {
   "cell_type": "markdown",
   "metadata": {
    "deletable": false,
    "editable": false,
    "id": "57eAOGIz_Zcs",
    "tags": [
     "start_task"
    ]
   },
   "source": [
    "**Задание 1**\n",
    "\n",
    "Основной инструмент аналитика — `pandas`. Импортируйте эту библиотеку."
   ]
  },
  {
   "cell_type": "code",
   "execution_count": 1,
   "metadata": {
    "deletable": false,
    "id": "AXN7PHPN_Zcs"
   },
   "outputs": [],
   "source": [
    "import pandas as pd"
   ]
  },
  {
   "cell_type": "markdown",
   "metadata": {
    "deletable": false,
    "editable": false,
    "id": "SG23P8tt_Zcs",
    "tags": [
     "start_task"
    ]
   },
   "source": [
    "**Задание 2**\n",
    "\n",
    "Прочитайте файл `yandex_music_project.csv` из папки `/datasets` и сохраните его в переменной `df`:"
   ]
  },
  {
   "cell_type": "code",
   "execution_count": 2,
   "metadata": {
    "deletable": false,
    "id": "fFVu7vqh_Zct"
   },
   "outputs": [],
   "source": [
    "df = pd.read_csv('/datasets/yandex_music_project.csv')"
   ]
  },
  {
   "cell_type": "markdown",
   "metadata": {
    "deletable": false,
    "editable": false,
    "id": "rDoOMd3uTqnZ",
    "tags": [
     "start_task"
    ]
   },
   "source": [
    "**Задание 3**\n",
    "\n",
    "\n",
    "Выведите на экран первые десять строк таблицы:"
   ]
  },
  {
   "cell_type": "code",
   "execution_count": 3,
   "metadata": {
    "deletable": false,
    "id": "oWTVX3gW_Zct"
   },
   "outputs": [
    {
     "data": {
      "text/html": [
       "<div>\n",
       "<style scoped>\n",
       "    .dataframe tbody tr th:only-of-type {\n",
       "        vertical-align: middle;\n",
       "    }\n",
       "\n",
       "    .dataframe tbody tr th {\n",
       "        vertical-align: top;\n",
       "    }\n",
       "\n",
       "    .dataframe thead th {\n",
       "        text-align: right;\n",
       "    }\n",
       "</style>\n",
       "<table border=\"1\" class=\"dataframe\">\n",
       "  <thead>\n",
       "    <tr style=\"text-align: right;\">\n",
       "      <th></th>\n",
       "      <th>userID</th>\n",
       "      <th>Track</th>\n",
       "      <th>artist</th>\n",
       "      <th>genre</th>\n",
       "      <th>City</th>\n",
       "      <th>time</th>\n",
       "      <th>Day</th>\n",
       "    </tr>\n",
       "  </thead>\n",
       "  <tbody>\n",
       "    <tr>\n",
       "      <th>0</th>\n",
       "      <td>FFB692EC</td>\n",
       "      <td>Kamigata To Boots</td>\n",
       "      <td>The Mass Missile</td>\n",
       "      <td>rock</td>\n",
       "      <td>Saint-Petersburg</td>\n",
       "      <td>20:28:33</td>\n",
       "      <td>Wednesday</td>\n",
       "    </tr>\n",
       "    <tr>\n",
       "      <th>1</th>\n",
       "      <td>55204538</td>\n",
       "      <td>Delayed Because of Accident</td>\n",
       "      <td>Andreas Rönnberg</td>\n",
       "      <td>rock</td>\n",
       "      <td>Moscow</td>\n",
       "      <td>14:07:09</td>\n",
       "      <td>Friday</td>\n",
       "    </tr>\n",
       "    <tr>\n",
       "      <th>2</th>\n",
       "      <td>20EC38</td>\n",
       "      <td>Funiculì funiculà</td>\n",
       "      <td>Mario Lanza</td>\n",
       "      <td>pop</td>\n",
       "      <td>Saint-Petersburg</td>\n",
       "      <td>20:58:07</td>\n",
       "      <td>Wednesday</td>\n",
       "    </tr>\n",
       "    <tr>\n",
       "      <th>3</th>\n",
       "      <td>A3DD03C9</td>\n",
       "      <td>Dragons in the Sunset</td>\n",
       "      <td>Fire + Ice</td>\n",
       "      <td>folk</td>\n",
       "      <td>Saint-Petersburg</td>\n",
       "      <td>08:37:09</td>\n",
       "      <td>Monday</td>\n",
       "    </tr>\n",
       "    <tr>\n",
       "      <th>4</th>\n",
       "      <td>E2DC1FAE</td>\n",
       "      <td>Soul People</td>\n",
       "      <td>Space Echo</td>\n",
       "      <td>dance</td>\n",
       "      <td>Moscow</td>\n",
       "      <td>08:34:34</td>\n",
       "      <td>Monday</td>\n",
       "    </tr>\n",
       "    <tr>\n",
       "      <th>5</th>\n",
       "      <td>842029A1</td>\n",
       "      <td>Преданная</td>\n",
       "      <td>IMPERVTOR</td>\n",
       "      <td>rusrap</td>\n",
       "      <td>Saint-Petersburg</td>\n",
       "      <td>13:09:41</td>\n",
       "      <td>Friday</td>\n",
       "    </tr>\n",
       "    <tr>\n",
       "      <th>6</th>\n",
       "      <td>4CB90AA5</td>\n",
       "      <td>True</td>\n",
       "      <td>Roman Messer</td>\n",
       "      <td>dance</td>\n",
       "      <td>Moscow</td>\n",
       "      <td>13:00:07</td>\n",
       "      <td>Wednesday</td>\n",
       "    </tr>\n",
       "    <tr>\n",
       "      <th>7</th>\n",
       "      <td>F03E1C1F</td>\n",
       "      <td>Feeling This Way</td>\n",
       "      <td>Polina Griffith</td>\n",
       "      <td>dance</td>\n",
       "      <td>Moscow</td>\n",
       "      <td>20:47:49</td>\n",
       "      <td>Wednesday</td>\n",
       "    </tr>\n",
       "    <tr>\n",
       "      <th>8</th>\n",
       "      <td>8FA1D3BE</td>\n",
       "      <td>И вновь продолжается бой</td>\n",
       "      <td>NaN</td>\n",
       "      <td>ruspop</td>\n",
       "      <td>Moscow</td>\n",
       "      <td>09:17:40</td>\n",
       "      <td>Friday</td>\n",
       "    </tr>\n",
       "    <tr>\n",
       "      <th>9</th>\n",
       "      <td>E772D5C0</td>\n",
       "      <td>Pessimist</td>\n",
       "      <td>NaN</td>\n",
       "      <td>dance</td>\n",
       "      <td>Saint-Petersburg</td>\n",
       "      <td>21:20:49</td>\n",
       "      <td>Wednesday</td>\n",
       "    </tr>\n",
       "  </tbody>\n",
       "</table>\n",
       "</div>"
      ],
      "text/plain": [
       "     userID                        Track            artist   genre  \\\n",
       "0  FFB692EC            Kamigata To Boots  The Mass Missile    rock   \n",
       "1  55204538  Delayed Because of Accident  Andreas Rönnberg    rock   \n",
       "2    20EC38            Funiculì funiculà       Mario Lanza     pop   \n",
       "3  A3DD03C9        Dragons in the Sunset        Fire + Ice    folk   \n",
       "4  E2DC1FAE                  Soul People        Space Echo   dance   \n",
       "5  842029A1                    Преданная         IMPERVTOR  rusrap   \n",
       "6  4CB90AA5                         True      Roman Messer   dance   \n",
       "7  F03E1C1F             Feeling This Way   Polina Griffith   dance   \n",
       "8  8FA1D3BE     И вновь продолжается бой               NaN  ruspop   \n",
       "9  E772D5C0                    Pessimist               NaN   dance   \n",
       "\n",
       "             City        time        Day  \n",
       "0  Saint-Petersburg  20:28:33  Wednesday  \n",
       "1            Moscow  14:07:09     Friday  \n",
       "2  Saint-Petersburg  20:58:07  Wednesday  \n",
       "3  Saint-Petersburg  08:37:09     Monday  \n",
       "4            Moscow  08:34:34     Monday  \n",
       "5  Saint-Petersburg  13:09:41     Friday  \n",
       "6            Moscow  13:00:07  Wednesday  \n",
       "7            Moscow  20:47:49  Wednesday  \n",
       "8            Moscow  09:17:40     Friday  \n",
       "9  Saint-Petersburg  21:20:49  Wednesday  "
      ]
     },
     "execution_count": 3,
     "metadata": {},
     "output_type": "execute_result"
    }
   ],
   "source": [
    "df.head(10)"
   ]
  },
  {
   "cell_type": "markdown",
   "metadata": {
    "deletable": false,
    "editable": false,
    "id": "EO73Kwic_Zct",
    "tags": [
     "start_task"
    ]
   },
   "source": [
    "**Задание 4**\n",
    "\n",
    "\n",
    "Одной командой получить общую информацию о таблице c помощью метода `info()`:"
   ]
  },
  {
   "cell_type": "code",
   "execution_count": 4,
   "metadata": {
    "deletable": false,
    "id": "DSf2kIb-_Zct"
   },
   "outputs": [
    {
     "name": "stdout",
     "output_type": "stream",
     "text": [
      "<class 'pandas.core.frame.DataFrame'>\n",
      "RangeIndex: 65079 entries, 0 to 65078\n",
      "Data columns (total 7 columns):\n",
      " #   Column    Non-Null Count  Dtype \n",
      "---  ------    --------------  ----- \n",
      " 0     userID  65079 non-null  object\n",
      " 1   Track     63848 non-null  object\n",
      " 2   artist    57876 non-null  object\n",
      " 3   genre     63881 non-null  object\n",
      " 4     City    65079 non-null  object\n",
      " 5   time      65079 non-null  object\n",
      " 6   Day       65079 non-null  object\n",
      "dtypes: object(7)\n",
      "memory usage: 3.5+ MB\n"
     ]
    }
   ],
   "source": [
    "df.info()"
   ]
  },
  {
   "cell_type": "markdown",
   "metadata": {
    "deletable": false,
    "editable": false,
    "id": "TaQ2Iwbr_Zct"
   },
   "source": [
    "Итак, в таблице семь столбцов. Тип данных во всех столбцах — `object`.\n",
    "\n",
    "Согласно документации к данным:\n",
    "* `userID` — идентификатор пользователя;\n",
    "* `Track` — название трека;  \n",
    "* `artist` — имя исполнителя;\n",
    "* `genre` — название жанра;\n",
    "* `City` — город пользователя;\n",
    "* `time` — время начала прослушивания;\n",
    "* `Day` — день недели.\n",
    "\n",
    "Количество значений в столбцах различается. Значит, в данных есть пропущенные значения."
   ]
  },
  {
   "cell_type": "markdown",
   "metadata": {
    "deletable": false,
    "editable": false,
    "id": "rAfziTBDmf2h",
    "tags": [
     "start_task"
    ]
   },
   "source": [
    "**Задание 5**\n",
    "\n",
    "**Вопрос со свободной формой ответа**\n",
    "\n",
    "В названиях колонок видны нарушения стиля:\n",
    "* Строчные буквы сочетаются с прописными.\n",
    "* Встречаются пробелы.\n",
    "\n",
    "Какое третье нарушение?"
   ]
  },
  {
   "cell_type": "code",
   "execution_count": 5,
   "metadata": {
    "id": "jD8EXEIvmf2h"
   },
   "outputs": [],
   "source": [
    "# Слитное написание слов."
   ]
  },
  {
   "cell_type": "markdown",
   "metadata": {
    "deletable": false,
    "editable": false,
    "id": "MCB6-dXG_Zct"
   },
   "source": [
    "**Выводы**\n",
    "\n",
    "В каждой строке таблицы — данные о прослушанном треке. Часть колонок описывает саму композицию: название, исполнителя и жанр. Остальные данные рассказывают о пользователе: из какого он города, когда он слушал музыку. \n",
    "\n",
    "Предварительно можно утверждать, что данных достаточно для проверки гипотез. Но встречаются пропуски в данных, а в названиях колонок — расхождения с хорошим стилем.\n",
    "\n",
    "Чтобы двигаться дальше, нужно устранить проблемы в данных."
   ]
  },
  {
   "cell_type": "markdown",
   "metadata": {
    "deletable": false,
    "editable": false,
    "id": "SjYF6Ub9_Zct"
   },
   "source": [
    "## Предобработка данных\n",
    "Исправьте стиль в заголовках столбцов, исключите пропуски. Затем проверьте данные на дубликаты."
   ]
  },
  {
   "cell_type": "markdown",
   "metadata": {
    "deletable": false,
    "editable": false,
    "id": "dIaKXr29_Zct",
    "tags": [
     "start_task"
    ]
   },
   "source": [
    "### Стиль заголовков\n",
    "\n",
    "**Задание 6**\n",
    "\n",
    "Выведите на экран названия столбцов:"
   ]
  },
  {
   "cell_type": "code",
   "execution_count": 6,
   "metadata": {
    "deletable": false,
    "id": "oKOTdF_Q_Zct"
   },
   "outputs": [
    {
     "data": {
      "text/plain": [
       "Index(['  userID', 'Track', 'artist', 'genre', '  City  ', 'time', 'Day'], dtype='object')"
      ]
     },
     "execution_count": 6,
     "metadata": {},
     "output_type": "execute_result"
    }
   ],
   "source": [
    "df.columns"
   ]
  },
  {
   "cell_type": "markdown",
   "metadata": {
    "deletable": false,
    "editable": false,
    "id": "zj5534cv_Zct",
    "tags": [
     "start_task"
    ]
   },
   "source": [
    "**Задание 7**\n",
    "\n",
    "\n",
    "Приведите названия в соответствие с хорошим стилем:\n",
    "* несколько слов в названии запишите в «змеином_регистре»,\n",
    "* все символы сделайте строчными,\n",
    "* устраните пробелы.\n",
    "\n",
    "Для этого переименуйте колонки так:\n",
    "* `'  userID'` → `'user_id'`;\n",
    "* `'Track'` → `'track'`;\n",
    "* `'  City  '` → `'city'`;\n",
    "* `'Day'` → `'day'`."
   ]
  },
  {
   "cell_type": "code",
   "execution_count": 7,
   "metadata": {
    "deletable": false,
    "id": "ISlFqs5y_Zct"
   },
   "outputs": [],
   "source": [
    "df = df.rename(columns = {'  userID': 'user_id', 'Track': 'track', '  City  ': 'city', 'Day': 'day'})"
   ]
  },
  {
   "cell_type": "markdown",
   "metadata": {
    "deletable": false,
    "editable": false,
    "id": "1dqbh00J_Zct",
    "tags": [
     "start_task"
    ]
   },
   "source": [
    "**Задание 8**\n",
    "\n",
    "\n",
    "Проверьте результат. Для этого ещё раз выведите на экран названия столбцов:"
   ]
  },
  {
   "cell_type": "code",
   "execution_count": 8,
   "metadata": {
    "deletable": false,
    "id": "d4NOAmTW_Zct"
   },
   "outputs": [
    {
     "data": {
      "text/plain": [
       "Index(['user_id', 'track', 'artist', 'genre', 'city', 'time', 'day'], dtype='object')"
      ]
     },
     "execution_count": 8,
     "metadata": {},
     "output_type": "execute_result"
    }
   ],
   "source": [
    "df.columns"
   ]
  },
  {
   "cell_type": "markdown",
   "metadata": {
    "deletable": false,
    "editable": false,
    "id": "5ISfbcfY_Zct",
    "tags": [
     "start_task"
    ]
   },
   "source": [
    "### Пропуски значений\n",
    "\n",
    "**Задание 9**\n",
    "\n",
    "Сначала посчитайте, сколько в таблице пропущенных значений. Для этого достаточно двух методов `pandas`:"
   ]
  },
  {
   "cell_type": "code",
   "execution_count": 9,
   "metadata": {
    "deletable": false,
    "id": "RskX29qr_Zct"
   },
   "outputs": [
    {
     "data": {
      "text/plain": [
       "user_id       0\n",
       "track      1231\n",
       "artist     7203\n",
       "genre      1198\n",
       "city          0\n",
       "time          0\n",
       "day           0\n",
       "dtype: int64"
      ]
     },
     "execution_count": 9,
     "metadata": {},
     "output_type": "execute_result"
    }
   ],
   "source": [
    "df.isna().sum()"
   ]
  },
  {
   "cell_type": "markdown",
   "metadata": {
    "deletable": false,
    "editable": false,
    "id": "qubhgnlO_Zct"
   },
   "source": [
    "Не все пропущенные значения влияют на исследование. Так в `track` и `artist` пропуски не важны для вашей работы. Достаточно заменить их явными обозначениями.\n",
    "\n",
    "Но пропуски в `genre` могут помешать сравнению музыкальных вкусов в Москве и Санкт-Петербурге. На практике было бы правильно установить причину пропусков и восстановить данные. Такой возможности нет в учебном проекте. Придётся:\n",
    "* заполнить и эти пропуски явными обозначениями;\n",
    "* оценить, насколько они повредят расчётам. "
   ]
  },
  {
   "cell_type": "markdown",
   "metadata": {
    "deletable": false,
    "editable": false,
    "id": "fSv2laPA_Zct",
    "tags": [
     "start_task"
    ]
   },
   "source": [
    "**Задание 10**\n",
    "\n",
    "Замените пропущенные значения в столбцах `track`, `artist` и `genre` на строку `'unknown'`. Для этого создайте список `columns_to_replace`, переберите его элементы циклом `for` и для каждого столбца выполните замену пропущенных значений:"
   ]
  },
  {
   "cell_type": "code",
   "execution_count": 10,
   "metadata": {
    "deletable": false,
    "id": "KplB5qWs_Zct"
   },
   "outputs": [],
   "source": [
    "columns_to_replace = ['track', 'artist', 'genre']\n",
    "for column in columns_to_replace:\n",
    "    df[column] = df[column].fillna('unknown')"
   ]
  },
  {
   "cell_type": "markdown",
   "metadata": {
    "deletable": false,
    "editable": false,
    "id": "Ilsm-MZo_Zct",
    "tags": [
     "start_task"
    ]
   },
   "source": [
    "**Задание 11**\n",
    "\n",
    "Убедитесь, что в таблице не осталось пропусков. Для этого ещё раз посчитайте пропущенные значения."
   ]
  },
  {
   "cell_type": "code",
   "execution_count": 11,
   "metadata": {
    "deletable": false,
    "id": "Tq4nYRX4_Zct"
   },
   "outputs": [
    {
     "data": {
      "text/plain": [
       "user_id    0\n",
       "track      0\n",
       "artist     0\n",
       "genre      0\n",
       "city       0\n",
       "time       0\n",
       "day        0\n",
       "dtype: int64"
      ]
     },
     "execution_count": 11,
     "metadata": {},
     "output_type": "execute_result"
    }
   ],
   "source": [
    "df.isna().sum()"
   ]
  },
  {
   "cell_type": "markdown",
   "metadata": {
    "deletable": false,
    "editable": false,
    "id": "BWKRtBJ3_Zct",
    "tags": [
     "start_task"
    ]
   },
   "source": [
    "### Дубликаты\n",
    "\n",
    "**Задание 12**\n",
    "\n",
    "Посчитайте явные дубликаты в таблице одной командой:"
   ]
  },
  {
   "cell_type": "code",
   "execution_count": 12,
   "metadata": {
    "deletable": false,
    "id": "36eES_S0_Zct"
   },
   "outputs": [
    {
     "data": {
      "text/plain": [
       "3826"
      ]
     },
     "execution_count": 12,
     "metadata": {},
     "output_type": "execute_result"
    }
   ],
   "source": [
    "df.duplicated().sum()"
   ]
  },
  {
   "cell_type": "markdown",
   "metadata": {
    "deletable": false,
    "editable": false,
    "id": "Ot25h6XR_Zct",
    "tags": [
     "start_task"
    ]
   },
   "source": [
    "**Задание 13**\n",
    "\n",
    "Вызовите специальный метод `pandas`, чтобы удалить явные дубликаты:"
   ]
  },
  {
   "cell_type": "code",
   "execution_count": 13,
   "metadata": {
    "deletable": false,
    "id": "exFHq6tt_Zct"
   },
   "outputs": [],
   "source": [
    "df = df.drop_duplicates()"
   ]
  },
  {
   "cell_type": "markdown",
   "metadata": {
    "deletable": false,
    "editable": false,
    "id": "Im2YwBEG_Zct",
    "tags": [
     "start_task"
    ]
   },
   "source": [
    "**Задание 14**\n",
    "\n",
    "Ещё раз посчитайте явные дубликаты в таблице — убедитесь, что полностью от них избавились:"
   ]
  },
  {
   "cell_type": "code",
   "execution_count": 14,
   "metadata": {
    "deletable": false,
    "id": "-8PuNWQ0_Zct"
   },
   "outputs": [
    {
     "data": {
      "text/plain": [
       "0"
      ]
     },
     "execution_count": 14,
     "metadata": {},
     "output_type": "execute_result"
    }
   ],
   "source": [
    "df.duplicated().sum()"
   ]
  },
  {
   "cell_type": "markdown",
   "metadata": {
    "deletable": false,
    "editable": false,
    "id": "QlFBsxAr_Zct"
   },
   "source": [
    "Теперь избавьтесь от неявных дубликатов в колонке `genre`. Например, название одного и того же жанра может быть записано немного по-разному. Такие ошибки тоже повлияют на результат исследования."
   ]
  },
  {
   "cell_type": "markdown",
   "metadata": {
    "deletable": false,
    "editable": false,
    "id": "eSjWwsOh_Zct",
    "tags": [
     "start_task"
    ]
   },
   "source": [
    "**Задание 15**\n",
    "\n",
    "Выведите на экран список уникальных названий жанров, отсортированный в алфавитном порядке. Для этого:\n",
    "1. извлеките нужный столбец датафрейма; \n",
    "2. примените к нему метод сортировки;\n",
    "3. для отсортированного столбца вызовите метод, который вернёт уникальные значения из столбца."
   ]
  },
  {
   "cell_type": "code",
   "execution_count": 15,
   "metadata": {
    "deletable": false,
    "id": "JIUcqzZN_Zct"
   },
   "outputs": [
    {
     "data": {
      "text/plain": [
       "array(['acid', 'acoustic', 'action', 'adult', 'africa', 'afrikaans',\n",
       "       'alternative', 'alternativepunk', 'ambient', 'americana',\n",
       "       'animated', 'anime', 'arabesk', 'arabic', 'arena',\n",
       "       'argentinetango', 'art', 'audiobook', 'author', 'avantgarde',\n",
       "       'axé', 'baile', 'balkan', 'beats', 'bigroom', 'black', 'bluegrass',\n",
       "       'blues', 'bollywood', 'bossa', 'brazilian', 'breakbeat', 'breaks',\n",
       "       'broadway', 'cantautori', 'cantopop', 'canzone', 'caribbean',\n",
       "       'caucasian', 'celtic', 'chamber', 'chanson', 'children', 'chill',\n",
       "       'chinese', 'choral', 'christian', 'christmas', 'classical',\n",
       "       'classicmetal', 'club', 'colombian', 'comedy', 'conjazz',\n",
       "       'contemporary', 'country', 'cuban', 'dance', 'dancehall',\n",
       "       'dancepop', 'dark', 'death', 'deep', 'deutschrock', 'deutschspr',\n",
       "       'dirty', 'disco', 'dnb', 'documentary', 'downbeat', 'downtempo',\n",
       "       'drum', 'dub', 'dubstep', 'eastern', 'easy', 'electronic',\n",
       "       'electropop', 'emo', 'entehno', 'epicmetal', 'estrada', 'ethnic',\n",
       "       'eurofolk', 'european', 'experimental', 'extrememetal', 'fado',\n",
       "       'fairytail', 'film', 'fitness', 'flamenco', 'folk', 'folklore',\n",
       "       'folkmetal', 'folkrock', 'folktronica', 'forró', 'frankreich',\n",
       "       'französisch', 'french', 'funk', 'future', 'gangsta', 'garage',\n",
       "       'german', 'ghazal', 'gitarre', 'glitch', 'gospel', 'gothic',\n",
       "       'grime', 'grunge', 'gypsy', 'handsup', \"hard'n'heavy\", 'hardcore',\n",
       "       'hardstyle', 'hardtechno', 'hip', 'hip-hop', 'hiphop',\n",
       "       'historisch', 'holiday', 'hop', 'horror', 'house', 'hymn', 'idm',\n",
       "       'independent', 'indian', 'indie', 'indipop', 'industrial',\n",
       "       'inspirational', 'instrumental', 'international', 'irish', 'jam',\n",
       "       'japanese', 'jazz', 'jewish', 'jpop', 'jungle', 'k-pop',\n",
       "       'karadeniz', 'karaoke', 'kayokyoku', 'korean', 'laiko', 'latin',\n",
       "       'latino', 'leftfield', 'local', 'lounge', 'loungeelectronic',\n",
       "       'lovers', 'malaysian', 'mandopop', 'marschmusik', 'meditative',\n",
       "       'mediterranean', 'melodic', 'metal', 'metalcore', 'mexican',\n",
       "       'middle', 'minimal', 'miscellaneous', 'modern', 'mood', 'mpb',\n",
       "       'muslim', 'native', 'neoklassik', 'neue', 'new', 'newage',\n",
       "       'newwave', 'nu', 'nujazz', 'numetal', 'oceania', 'old', 'opera',\n",
       "       'orchestral', 'other', 'piano', 'podcasts', 'pop', 'popdance',\n",
       "       'popelectronic', 'popeurodance', 'poprussian', 'post',\n",
       "       'posthardcore', 'postrock', 'power', 'progmetal', 'progressive',\n",
       "       'psychedelic', 'punjabi', 'punk', 'quebecois', 'ragga', 'ram',\n",
       "       'rancheras', 'rap', 'rave', 'reggae', 'reggaeton', 'regional',\n",
       "       'relax', 'religious', 'retro', 'rhythm', 'rnb', 'rnr', 'rock',\n",
       "       'rockabilly', 'rockalternative', 'rockindie', 'rockother',\n",
       "       'romance', 'roots', 'ruspop', 'rusrap', 'rusrock', 'russian',\n",
       "       'salsa', 'samba', 'scenic', 'schlager', 'self', 'sertanejo',\n",
       "       'shanson', 'shoegazing', 'showtunes', 'singer', 'ska', 'skarock',\n",
       "       'slow', 'smooth', 'soft', 'soul', 'soulful', 'sound', 'soundtrack',\n",
       "       'southern', 'specialty', 'speech', 'spiritual', 'sport',\n",
       "       'stonerrock', 'surf', 'swing', 'synthpop', 'synthrock',\n",
       "       'sängerportrait', 'tango', 'tanzorchester', 'taraftar', 'tatar',\n",
       "       'tech', 'techno', 'teen', 'thrash', 'top', 'traditional',\n",
       "       'tradjazz', 'trance', 'tribal', 'trip', 'triphop', 'tropical',\n",
       "       'türk', 'türkçe', 'ukrrock', 'unknown', 'urban', 'uzbek',\n",
       "       'variété', 'vi', 'videogame', 'vocal', 'western', 'world',\n",
       "       'worldbeat', 'ïîï', 'электроника'], dtype=object)"
      ]
     },
     "execution_count": 15,
     "metadata": {},
     "output_type": "execute_result"
    }
   ],
   "source": [
    "df['genre'].sort_values().unique()\n"
   ]
  },
  {
   "cell_type": "markdown",
   "metadata": {
    "deletable": false,
    "editable": false,
    "id": "qej-Qmuo_Zct",
    "tags": [
     "start_task"
    ]
   },
   "source": [
    "**Задание 16**\n",
    "\n",
    "Просмотрите список и найдите неявные дубликаты названия `hiphop`. Это могут быть названия с ошибками или альтернативные названия того же жанра.\n",
    "\n",
    "Вы увидите следующие неявные дубликаты:\n",
    "* *hip*,\n",
    "* *hop*,\n",
    "* *hip-hop*.\n",
    "\n",
    "Чтобы очистить от них таблицу используйте метод `replace()` с двумя аргументами: списком строк-дубликатов (включащий *hip*, *hop* и *hip-hop*) и строкой с правильным значением. Вам нужно исправить колонку `genre` в таблице `df`: заменить каждое значение из списка дубликатов на верное. Вместо `hip`, `hop` и `hip-hop` в таблице должно быть значение `hiphop`:"
   ]
  },
  {
   "cell_type": "code",
   "execution_count": 16,
   "metadata": {
    "deletable": false,
    "id": "ErNDkmns_Zct"
   },
   "outputs": [],
   "source": [
    "df['genre'] = df['genre'].replace(['hip', 'hop', 'hip-hop'], 'hiphop')"
   ]
  },
  {
   "cell_type": "markdown",
   "metadata": {
    "deletable": false,
    "editable": false,
    "id": "zQKF16_RG15m",
    "tags": [
     "start_task"
    ]
   },
   "source": [
    "**Задание 17**\n",
    "\n",
    "Проверьте, что заменили неправильные названия:\n",
    "\n",
    "*   hip,\n",
    "*   hop,\n",
    "*   hip-hop.\n",
    "\n",
    "Выведите отсортированный список уникальных значений столбца `genre`:"
   ]
  },
  {
   "cell_type": "code",
   "execution_count": 17,
   "metadata": {
    "deletable": false,
    "id": "wvixALnFG15m"
   },
   "outputs": [
    {
     "data": {
      "text/plain": [
       "array(['acid', 'acoustic', 'action', 'adult', 'africa', 'afrikaans',\n",
       "       'alternative', 'alternativepunk', 'ambient', 'americana',\n",
       "       'animated', 'anime', 'arabesk', 'arabic', 'arena',\n",
       "       'argentinetango', 'art', 'audiobook', 'author', 'avantgarde',\n",
       "       'axé', 'baile', 'balkan', 'beats', 'bigroom', 'black', 'bluegrass',\n",
       "       'blues', 'bollywood', 'bossa', 'brazilian', 'breakbeat', 'breaks',\n",
       "       'broadway', 'cantautori', 'cantopop', 'canzone', 'caribbean',\n",
       "       'caucasian', 'celtic', 'chamber', 'chanson', 'children', 'chill',\n",
       "       'chinese', 'choral', 'christian', 'christmas', 'classical',\n",
       "       'classicmetal', 'club', 'colombian', 'comedy', 'conjazz',\n",
       "       'contemporary', 'country', 'cuban', 'dance', 'dancehall',\n",
       "       'dancepop', 'dark', 'death', 'deep', 'deutschrock', 'deutschspr',\n",
       "       'dirty', 'disco', 'dnb', 'documentary', 'downbeat', 'downtempo',\n",
       "       'drum', 'dub', 'dubstep', 'eastern', 'easy', 'electronic',\n",
       "       'electropop', 'emo', 'entehno', 'epicmetal', 'estrada', 'ethnic',\n",
       "       'eurofolk', 'european', 'experimental', 'extrememetal', 'fado',\n",
       "       'fairytail', 'film', 'fitness', 'flamenco', 'folk', 'folklore',\n",
       "       'folkmetal', 'folkrock', 'folktronica', 'forró', 'frankreich',\n",
       "       'französisch', 'french', 'funk', 'future', 'gangsta', 'garage',\n",
       "       'german', 'ghazal', 'gitarre', 'glitch', 'gospel', 'gothic',\n",
       "       'grime', 'grunge', 'gypsy', 'handsup', \"hard'n'heavy\", 'hardcore',\n",
       "       'hardstyle', 'hardtechno', 'hiphop', 'historisch', 'holiday',\n",
       "       'horror', 'house', 'hymn', 'idm', 'independent', 'indian', 'indie',\n",
       "       'indipop', 'industrial', 'inspirational', 'instrumental',\n",
       "       'international', 'irish', 'jam', 'japanese', 'jazz', 'jewish',\n",
       "       'jpop', 'jungle', 'k-pop', 'karadeniz', 'karaoke', 'kayokyoku',\n",
       "       'korean', 'laiko', 'latin', 'latino', 'leftfield', 'local',\n",
       "       'lounge', 'loungeelectronic', 'lovers', 'malaysian', 'mandopop',\n",
       "       'marschmusik', 'meditative', 'mediterranean', 'melodic', 'metal',\n",
       "       'metalcore', 'mexican', 'middle', 'minimal', 'miscellaneous',\n",
       "       'modern', 'mood', 'mpb', 'muslim', 'native', 'neoklassik', 'neue',\n",
       "       'new', 'newage', 'newwave', 'nu', 'nujazz', 'numetal', 'oceania',\n",
       "       'old', 'opera', 'orchestral', 'other', 'piano', 'podcasts', 'pop',\n",
       "       'popdance', 'popelectronic', 'popeurodance', 'poprussian', 'post',\n",
       "       'posthardcore', 'postrock', 'power', 'progmetal', 'progressive',\n",
       "       'psychedelic', 'punjabi', 'punk', 'quebecois', 'ragga', 'ram',\n",
       "       'rancheras', 'rap', 'rave', 'reggae', 'reggaeton', 'regional',\n",
       "       'relax', 'religious', 'retro', 'rhythm', 'rnb', 'rnr', 'rock',\n",
       "       'rockabilly', 'rockalternative', 'rockindie', 'rockother',\n",
       "       'romance', 'roots', 'ruspop', 'rusrap', 'rusrock', 'russian',\n",
       "       'salsa', 'samba', 'scenic', 'schlager', 'self', 'sertanejo',\n",
       "       'shanson', 'shoegazing', 'showtunes', 'singer', 'ska', 'skarock',\n",
       "       'slow', 'smooth', 'soft', 'soul', 'soulful', 'sound', 'soundtrack',\n",
       "       'southern', 'specialty', 'speech', 'spiritual', 'sport',\n",
       "       'stonerrock', 'surf', 'swing', 'synthpop', 'synthrock',\n",
       "       'sängerportrait', 'tango', 'tanzorchester', 'taraftar', 'tatar',\n",
       "       'tech', 'techno', 'teen', 'thrash', 'top', 'traditional',\n",
       "       'tradjazz', 'trance', 'tribal', 'trip', 'triphop', 'tropical',\n",
       "       'türk', 'türkçe', 'ukrrock', 'unknown', 'urban', 'uzbek',\n",
       "       'variété', 'vi', 'videogame', 'vocal', 'western', 'world',\n",
       "       'worldbeat', 'ïîï', 'электроника'], dtype=object)"
      ]
     },
     "execution_count": 17,
     "metadata": {},
     "output_type": "execute_result"
    }
   ],
   "source": [
    "df['genre'].sort_values().unique()"
   ]
  },
  {
   "cell_type": "markdown",
   "metadata": {
    "deletable": false,
    "editable": false,
    "id": "jz6a9-7HQUDd"
   },
   "source": [
    "**Выводы**\n",
    "\n",
    "Предобработка обнаружила три проблемы в данных:\n",
    "\n",
    "- нарушения в стиле заголовков,\n",
    "- пропущенные значения,\n",
    "- дубликаты — явные и неявные.\n",
    "\n",
    "Вы исправили заголовки, чтобы упростить работу с таблицей. Без дубликатов исследование станет более точным.\n",
    "\n",
    "Пропущенные значения вы заменили на `'unknown'`. Ещё предстоит увидеть, не повредят ли исследованию пропуски в колонке `genre`.\n",
    "\n",
    "Теперь можно перейти к проверке гипотез. "
   ]
  },
  {
   "cell_type": "markdown",
   "metadata": {
    "deletable": false,
    "editable": false,
    "id": "WttZHXH0SqKk"
   },
   "source": [
    "## Проверка гипотез"
   ]
  },
  {
   "cell_type": "markdown",
   "metadata": {
    "deletable": false,
    "editable": false,
    "id": "Im936VVi_Zcu"
   },
   "source": [
    "### Сравнение поведения пользователей двух столиц"
   ]
  },
  {
   "cell_type": "markdown",
   "metadata": {
    "deletable": false,
    "editable": false,
    "id": "nwt_MuaL_Zcu"
   },
   "source": [
    "Первая гипотеза утверждает, что пользователи по-разному слушают музыку в Москве и Санкт-Петербурге. Проверьте это предположение по данным о трёх днях недели — понедельнике, среде и пятнице. Для этого:\n",
    "\n",
    "* Разделите пользователей Москвы и Санкт-Петербурга.\n",
    "* Сравните, сколько треков послушала каждая группа пользователей в понедельник, среду и пятницу.\n"
   ]
  },
  {
   "cell_type": "markdown",
   "metadata": {
    "deletable": false,
    "editable": false,
    "id": "8Dw_YMmT_Zcu",
    "tags": [
     "start_task"
    ]
   },
   "source": [
    "**Задание 18**\n",
    "\n",
    "Для тренировки сначала выполните каждый из расчётов по отдельности. \n",
    "\n",
    "Оцените активность пользователей в каждом городе. Сгруппируйте данные по городу и посчитайте прослушивания в каждой группе.\n",
    "\n"
   ]
  },
  {
   "cell_type": "code",
   "execution_count": 18,
   "metadata": {
    "deletable": false,
    "id": "0_Qs96oh_Zcu"
   },
   "outputs": [
    {
     "data": {
      "text/plain": [
       "city\n",
       "Moscow              42741\n",
       "Saint-Petersburg    18512\n",
       "Name: time, dtype: int64"
      ]
     },
     "execution_count": 18,
     "metadata": {},
     "output_type": "execute_result"
    }
   ],
   "source": [
    "df.groupby('city')['time'].count()"
   ]
  },
  {
   "cell_type": "markdown",
   "metadata": {
    "deletable": false,
    "editable": false,
    "id": "dzli3w8o_Zcu",
    "tags": [
     "start_task"
    ]
   },
   "source": [
    "В Москве прослушиваний больше, чем в Петербурге. Из этого не следует, что московские пользователи чаще слушают музыку. Просто самих пользователей в Москве больше.\n",
    "\n",
    "**Задание 19**\n",
    "\n",
    "Теперь сгруппируйте данные по дню недели и посчитайте прослушивания в понедельник, среду и пятницу. Учтите, что в данных есть информация о прослушиваниях только за эти дни.\n"
   ]
  },
  {
   "cell_type": "code",
   "execution_count": 19,
   "metadata": {
    "deletable": false,
    "id": "uZMKjiJz_Zcu"
   },
   "outputs": [
    {
     "data": {
      "text/plain": [
       "day\n",
       "Friday       21840\n",
       "Monday       21354\n",
       "Wednesday    18059\n",
       "Name: time, dtype: int64"
      ]
     },
     "execution_count": 19,
     "metadata": {},
     "output_type": "execute_result"
    }
   ],
   "source": [
    "df.groupby('day')['time'].count()"
   ]
  },
  {
   "cell_type": "markdown",
   "metadata": {
    "deletable": false,
    "editable": false,
    "id": "cC2tNrlL_Zcu"
   },
   "source": [
    "В среднем пользователи из двух городов менее активны по средам. Но картина может измениться, если рассмотреть каждый город в отдельности."
   ]
  },
  {
   "cell_type": "markdown",
   "metadata": {
    "deletable": false,
    "editable": false,
    "id": "POzs8bGa_Zcu",
    "tags": [
     "start_task"
    ]
   },
   "source": [
    "**Задание 20**\n",
    "\n",
    "\n",
    "Вы видели, как работает группировка по городу и по дням недели. Теперь напишите функцию, которая объединит два эти расчёта.\n",
    "\n",
    "Создайте функцию `number_tracks()`, которая посчитает прослушивания для заданного дня и города. Ей понадобятся два параметра:\n",
    "* день недели,\n",
    "* название города.\n",
    "\n",
    "В функции сохраните в переменную строки исходной таблицы, у которых значение:\n",
    "  * в колонке `day` равно параметру `day`,\n",
    "  * в колонке `city` равно параметру `city`.\n",
    "\n",
    "Для этого примените последовательную фильтрацию с логической индексацией (или сложные логические выражения в одну строку, если вы уже знакомы с ними).\n",
    "\n",
    "Затем посчитайте значения в столбце `user_id` получившейся таблицы. Результат сохраните в новую переменную. Верните эту переменную из функции."
   ]
  },
  {
   "cell_type": "code",
   "execution_count": 20,
   "metadata": {
    "deletable": false,
    "id": "Nz3GdQB1_Zcu"
   },
   "outputs": [],
   "source": [
    "def number_tracks(day, city):\n",
    "    track_list = df[df['day'] == day]\n",
    "    track_list = track_list[track_list['city'] == city]\n",
    "    track_list_count = track_list['user_id'].count()\n",
    "    return track_list_count"
   ]
  },
  {
   "cell_type": "markdown",
   "metadata": {
    "deletable": false,
    "editable": false,
    "id": "ytf7xFrFJQ2r",
    "tags": [
     "start_task"
    ]
   },
   "source": [
    "**Задание 21**\n",
    "\n",
    "Вызовите `number_tracks()` шесть раз, меняя значение параметров — так, чтобы получить данные для каждого города в каждый из трёх дней."
   ]
  },
  {
   "cell_type": "code",
   "execution_count": 21,
   "metadata": {
    "deletable": false,
    "id": "rJcRATNQ_Zcu"
   },
   "outputs": [
    {
     "data": {
      "text/plain": [
       "15740"
      ]
     },
     "execution_count": 21,
     "metadata": {},
     "output_type": "execute_result"
    }
   ],
   "source": [
    "number_tracks('Monday', 'Moscow')"
   ]
  },
  {
   "cell_type": "code",
   "execution_count": 22,
   "metadata": {
    "deletable": false,
    "id": "hq_ncZ5T_Zcu"
   },
   "outputs": [
    {
     "data": {
      "text/plain": [
       "5614"
      ]
     },
     "execution_count": 22,
     "metadata": {},
     "output_type": "execute_result"
    }
   ],
   "source": [
    "number_tracks('Monday', \"Saint-Petersburg\")"
   ]
  },
  {
   "cell_type": "code",
   "execution_count": 23,
   "metadata": {
    "deletable": false,
    "id": "_NTy2VPU_Zcu"
   },
   "outputs": [
    {
     "data": {
      "text/plain": [
       "11056"
      ]
     },
     "execution_count": 23,
     "metadata": {},
     "output_type": "execute_result"
    }
   ],
   "source": [
    "number_tracks(\"Wednesday\", 'Moscow')"
   ]
  },
  {
   "cell_type": "code",
   "execution_count": 24,
   "metadata": {
    "deletable": false,
    "id": "j2y3TAwo_Zcu"
   },
   "outputs": [
    {
     "data": {
      "text/plain": [
       "7003"
      ]
     },
     "execution_count": 24,
     "metadata": {},
     "output_type": "execute_result"
    }
   ],
   "source": [
    "number_tracks('Wednesday', 'Saint-Petersburg')"
   ]
  },
  {
   "cell_type": "code",
   "execution_count": 25,
   "metadata": {
    "deletable": false,
    "id": "vYDw5u_K_Zcu"
   },
   "outputs": [
    {
     "data": {
      "text/plain": [
       "15945"
      ]
     },
     "execution_count": 25,
     "metadata": {},
     "output_type": "execute_result"
    }
   ],
   "source": [
    "number_tracks('Friday', 'Moscow')"
   ]
  },
  {
   "cell_type": "code",
   "execution_count": 26,
   "metadata": {
    "deletable": false,
    "id": "8_yzFtW3_Zcu"
   },
   "outputs": [
    {
     "data": {
      "text/plain": [
       "5895"
      ]
     },
     "execution_count": 26,
     "metadata": {},
     "output_type": "execute_result"
    }
   ],
   "source": [
    "number_tracks('Friday', 'Saint-Petersburg')"
   ]
  },
  {
   "cell_type": "markdown",
   "metadata": {
    "deletable": false,
    "editable": false,
    "id": "7QXffbO-_Zcu",
    "tags": [
     "start_task"
    ]
   },
   "source": [
    "**Задание 22**\n",
    "\n",
    "Создайте c помощью конструктора `pd.DataFrame` таблицу, где\n",
    "* названия колонок — `['city', 'monday', 'wednesday', 'friday']`;\n",
    "* данные — результаты, которые вы получили с помощью `number_tracks`."
   ]
  },
  {
   "cell_type": "code",
   "execution_count": 27,
   "metadata": {
    "deletable": false,
    "id": "APAcLpOr_Zcu"
   },
   "outputs": [
    {
     "data": {
      "text/html": [
       "<div>\n",
       "<style scoped>\n",
       "    .dataframe tbody tr th:only-of-type {\n",
       "        vertical-align: middle;\n",
       "    }\n",
       "\n",
       "    .dataframe tbody tr th {\n",
       "        vertical-align: top;\n",
       "    }\n",
       "\n",
       "    .dataframe thead th {\n",
       "        text-align: right;\n",
       "    }\n",
       "</style>\n",
       "<table border=\"1\" class=\"dataframe\">\n",
       "  <thead>\n",
       "    <tr style=\"text-align: right;\">\n",
       "      <th></th>\n",
       "      <th>city</th>\n",
       "      <th>monday</th>\n",
       "      <th>wednesday</th>\n",
       "      <th>friday</th>\n",
       "    </tr>\n",
       "  </thead>\n",
       "  <tbody>\n",
       "    <tr>\n",
       "      <th>0</th>\n",
       "      <td>Moscow</td>\n",
       "      <td>15740</td>\n",
       "      <td>11056</td>\n",
       "      <td>15945</td>\n",
       "    </tr>\n",
       "    <tr>\n",
       "      <th>1</th>\n",
       "      <td>Saint-Petersburg</td>\n",
       "      <td>5614</td>\n",
       "      <td>7003</td>\n",
       "      <td>5895</td>\n",
       "    </tr>\n",
       "  </tbody>\n",
       "</table>\n",
       "</div>"
      ],
      "text/plain": [
       "               city  monday  wednesday  friday\n",
       "0            Moscow   15740      11056   15945\n",
       "1  Saint-Petersburg    5614       7003    5895"
      ]
     },
     "execution_count": 27,
     "metadata": {},
     "output_type": "execute_result"
    }
   ],
   "source": [
    "info = pd.DataFrame(data =[['Moscow', number_tracks('Monday', 'Moscow'), number_tracks(\"Wednesday\", 'Moscow'), number_tracks('Friday', 'Moscow')], ['Saint-Petersburg', number_tracks('Monday', \"Saint-Petersburg\"), number_tracks('Wednesday', 'Saint-Petersburg'), number_tracks('Friday', 'Saint-Petersburg')]], columns=['city', 'monday', 'wednesday', 'friday'])\n",
    "info"
   ]
  },
  {
   "cell_type": "markdown",
   "metadata": {
    "deletable": false,
    "editable": false,
    "id": "-EgPIHYu_Zcu"
   },
   "source": [
    "**Выводы**\n",
    "\n",
    "Данные показывают разницу поведения пользователей:\n",
    "\n",
    "- В Москве пик прослушиваний приходится на понедельник и пятницу, а в среду заметен спад.\n",
    "- В Петербурге, наоборот, больше слушают музыку по средам. Активность в понедельник и пятницу здесь почти в равной мере уступает среде.\n",
    "\n",
    "Значит, данные говорят в пользу первой гипотезы."
   ]
  },
  {
   "cell_type": "markdown",
   "metadata": {
    "deletable": false,
    "editable": false,
    "id": "atZAxtq4_Zcu"
   },
   "source": [
    "### Музыка в начале и в конце недели"
   ]
  },
  {
   "cell_type": "markdown",
   "metadata": {
    "deletable": false,
    "editable": false,
    "id": "eXrQqXFH_Zcu"
   },
   "source": [
    "Согласно второй гипотезе, утром в понедельник в Москве преобладают одни жанры, а в Петербурге — другие. Так же и вечером пятницы преобладают разные жанры — в зависимости от города."
   ]
  },
  {
   "cell_type": "markdown",
   "metadata": {
    "deletable": false,
    "editable": false,
    "id": "S8UcW6Hw_Zcu",
    "tags": [
     "start_task"
    ]
   },
   "source": [
    "**Задание 23**\n",
    "\n",
    "Сохраните таблицы с данными в две переменные:\n",
    "* по Москве — в `moscow_general`;\n",
    "* по Санкт-Петербургу — в `spb_general`."
   ]
  },
  {
   "cell_type": "code",
   "execution_count": 28,
   "metadata": {
    "deletable": false,
    "id": "qeaFfM_P_Zcu"
   },
   "outputs": [],
   "source": [
    "moscow_general = df[df['city'] == 'Moscow']\n"
   ]
  },
  {
   "cell_type": "code",
   "execution_count": 29,
   "metadata": {
    "deletable": false,
    "id": "ORaVRKto_Zcu"
   },
   "outputs": [],
   "source": [
    "spb_general = df[df['city'] == 'Saint-Petersburg']\n"
   ]
  },
  {
   "cell_type": "markdown",
   "metadata": {
    "deletable": false,
    "editable": false,
    "id": "MEJV-CX2_Zcu",
    "tags": [
     "start_task"
    ]
   },
   "source": [
    "**Задание 24**\n",
    "\n",
    "Создайте функцию `genre_weekday()` с четырьмя параметрами:\n",
    "* таблица (датафрейм) с данными,\n",
    "* день недели,\n",
    "* начальная временная метка в формате 'hh:mm', \n",
    "* последняя временная метка в формате 'hh:mm'.\n",
    "\n",
    "Функция должна вернуть информацию о топ-10 жанров тех треков, которые прослушивали в указанный день, в промежутке между двумя отметками времени."
   ]
  },
  {
   "cell_type": "code",
   "execution_count": 30,
   "metadata": {
    "deletable": false,
    "id": "laJT9BYl_Zcu"
   },
   "outputs": [],
   "source": [
    "# Объявление функции genre_weekday() с параметрами table, day, time1, time2,\n",
    "# которая возвращает информацию о самых популярных жанрах в указанный день в\n",
    "# заданное время:\n",
    "# 1) в переменную genre_df сохраняются те строки переданного датафрейма table, для\n",
    "#    которых одновременно:\n",
    "#    - значение в столбце day равно значению аргумента day\n",
    "#    - значение в столбце time больше значения аргумента time1\n",
    "#    - значение в столбце time меньше значения аргумента time2\n",
    "#    Используйте последовательную фильтрацию с помощью логической индексации.\n",
    "# 2) сгруппировать датафрейм genre_df по столбцу genre, взять один из его\n",
    "#    столбцов и посчитать методом count() количество записей для каждого из\n",
    "#    присутствующих жанров, получившийся Series записать в переменную\n",
    "#    genre_df_count\n",
    "# 3) отсортировать genre_df_count по убыванию встречаемости и сохранить\n",
    "#    в переменную genre_df_sorted\n",
    "# 4) вернуть Series из 10 первых значений genre_df_sorted, это будут топ-10\n",
    "#    популярных жанров (в указанный день, в заданное время)\n",
    "\n",
    "def genre_weekday(df, day, time1, time2):\n",
    "    # последовательная фильтрация\n",
    "    # оставляем в genre_df только те строки df, у которых день равен day\n",
    "    genre_df = df[df['day'] == day]\n",
    "    # оставляем в genre_df только те строки genre_df, у которых время меньше time2\n",
    "    genre_df = genre_df[genre_df['time'] < time2]\n",
    "    # оставляем в genre_df только те строки genre_df, у которых время больше time1\n",
    "    genre_df = genre_df[genre_df['time'] > time1]\n",
    "    # сгруппируем отфильтрованный датафрейм по столбцу с названиями жанров, возьмём столбец genre и посчитаем кол-во строк для каждого жанра методом count()\n",
    "    genre_df_grouped = genre_df.groupby('genre')['genre'].count()\n",
    "    # отсортируем результат по убыванию (чтобы в начале Series оказались самые популярные жанры)\n",
    "    genre_df_sorted = genre_df_grouped.sort_values(ascending=False)\n",
    "    # вернём Series с 10 самыми популярными жанрами в указанный отрезок времени заданного дня\n",
    "    return genre_df_sorted[:10]"
   ]
  },
  {
   "cell_type": "markdown",
   "metadata": {
    "deletable": false,
    "editable": false,
    "id": "la2s2_PF_Zcu",
    "tags": [
     "start_task"
    ]
   },
   "source": [
    "**Задание 25**\n",
    "\n",
    "\n",
    "Cравните результаты функции `genre_weekday()` для Москвы и Санкт-Петербурга в понедельник утром (с 7:00 до 11:00) и в пятницу вечером (с 17:00 до 23:00):"
   ]
  },
  {
   "cell_type": "code",
   "execution_count": 31,
   "metadata": {
    "deletable": false,
    "id": "yz7itPUQ_Zcu"
   },
   "outputs": [
    {
     "data": {
      "text/plain": [
       "genre\n",
       "pop            781\n",
       "dance          549\n",
       "electronic     480\n",
       "rock           474\n",
       "hiphop         286\n",
       "ruspop         186\n",
       "world          181\n",
       "rusrap         175\n",
       "alternative    164\n",
       "unknown        161\n",
       "Name: genre, dtype: int64"
      ]
     },
     "execution_count": 31,
     "metadata": {},
     "output_type": "execute_result"
    }
   ],
   "source": [
    "genre_weekday(moscow_general, 'Monday', '07:00', '11:00')"
   ]
  },
  {
   "cell_type": "code",
   "execution_count": 32,
   "metadata": {
    "deletable": false,
    "id": "kwUcHPdy_Zcu"
   },
   "outputs": [
    {
     "data": {
      "text/plain": [
       "genre\n",
       "pop            218\n",
       "dance          182\n",
       "rock           162\n",
       "electronic     147\n",
       "hiphop          80\n",
       "ruspop          64\n",
       "alternative     58\n",
       "rusrap          55\n",
       "jazz            44\n",
       "classical       40\n",
       "Name: genre, dtype: int64"
      ]
     },
     "execution_count": 32,
     "metadata": {},
     "output_type": "execute_result"
    }
   ],
   "source": [
    "genre_weekday(spb_general, 'Monday', '07:00', '11:00')"
   ]
  },
  {
   "cell_type": "code",
   "execution_count": 33,
   "metadata": {
    "deletable": false,
    "id": "EzXVRE1o_Zcu"
   },
   "outputs": [
    {
     "data": {
      "text/plain": [
       "genre\n",
       "pop            713\n",
       "rock           517\n",
       "dance          495\n",
       "electronic     482\n",
       "hiphop         273\n",
       "world          208\n",
       "ruspop         170\n",
       "alternative    163\n",
       "classical      163\n",
       "rusrap         142\n",
       "Name: genre, dtype: int64"
      ]
     },
     "execution_count": 33,
     "metadata": {},
     "output_type": "execute_result"
    }
   ],
   "source": [
    "genre_weekday(moscow_general, 'Friday','17:00', '23:00')"
   ]
  },
  {
   "cell_type": "code",
   "execution_count": 34,
   "metadata": {
    "deletable": false,
    "id": "JZaEKu5v_Zcu"
   },
   "outputs": [
    {
     "data": {
      "text/plain": [
       "genre\n",
       "pop            256\n",
       "electronic     216\n",
       "rock           216\n",
       "dance          210\n",
       "hiphop          97\n",
       "alternative     63\n",
       "jazz            61\n",
       "classical       60\n",
       "rusrap          59\n",
       "world           54\n",
       "Name: genre, dtype: int64"
      ]
     },
     "execution_count": 34,
     "metadata": {},
     "output_type": "execute_result"
    }
   ],
   "source": [
    "genre_weekday(spb_general, 'Friday', '17:00', '23:00')"
   ]
  },
  {
   "cell_type": "markdown",
   "metadata": {
    "deletable": false,
    "editable": false,
    "id": "wrCe4MNX_Zcu"
   },
   "source": [
    "**Выводы**\n",
    "\n",
    "Если сравнить топ-10 жанров в понедельник утром, можно сделать такие выводы:\n",
    "\n",
    "1. В Москве и Петербурге слушают похожую музыку. Единственное отличие — в московский рейтинг вошёл жанр “world”, а в петербургский — джаз и классика.\n",
    "\n",
    "2. В Москве пропущенных значений оказалось так много, что значение `'unknown'` заняло десятое место среди самых популярных жанров. Значит, пропущенные значения занимают существенную долю в данных и угрожают достоверности исследования.\n",
    "\n",
    "Вечер пятницы не меняет эту картину. Некоторые жанры поднимаются немного выше, другие спускаются, но в целом топ-10 остаётся тем же самым.\n",
    "\n",
    "Таким образом, вторая гипотеза подтвердилась лишь частично:\n",
    "* Пользователи слушают похожую музыку в начале недели и в конце.\n",
    "* Разница между Москвой и Петербургом не слишком выражена. В Москве чаще слушают русскую популярную музыку, в Петербурге — джаз.\n",
    "\n",
    "Однако пропуски в данных ставят под сомнение этот результат. В Москве их так много, что рейтинг топ-10 мог бы выглядеть иначе, если бы не утерянные  данные о жанрах."
   ]
  },
  {
   "cell_type": "markdown",
   "metadata": {
    "deletable": false,
    "editable": false,
    "id": "JolODAqr_Zcu"
   },
   "source": [
    "### Жанровые предпочтения в Москве и Петербурге\n",
    "\n",
    "Гипотеза: Петербург — столица рэпа, музыку этого жанра там слушают чаще, чем в Москве.  А Москва — город контрастов, в котором, тем не менее, преобладает поп-музыка."
   ]
  },
  {
   "cell_type": "markdown",
   "metadata": {
    "deletable": false,
    "editable": false,
    "id": "DlegSvaT_Zcu",
    "tags": [
     "start_task"
    ]
   },
   "source": [
    "**Задание 26**\n",
    "\n",
    "Сгруппируйте таблицу `moscow_general` по жанру и посчитайте прослушивания треков каждого жанра методом `count()`. Затем отсортируйте результат в порядке убывания и сохраните его в таблице `moscow_genres`."
   ]
  },
  {
   "cell_type": "code",
   "execution_count": 35,
   "metadata": {
    "deletable": false,
    "id": "r19lIPke_Zcu"
   },
   "outputs": [],
   "source": [
    "moscow_genres = moscow_general.groupby('genre')['genre'].count()\n",
    "moscow_genres = moscow_genres.sort_values(ascending=False)"
   ]
  },
  {
   "cell_type": "markdown",
   "metadata": {
    "deletable": false,
    "editable": false,
    "id": "6kMuomxTiIr8",
    "tags": [
     "start_task"
    ]
   },
   "source": [
    "**Задание 27**\n",
    "\n",
    "Выведите на экран первые десять строк `moscow_genres`:"
   ]
  },
  {
   "cell_type": "code",
   "execution_count": 36,
   "metadata": {
    "deletable": false,
    "id": "WhCSooF8_Zcv"
   },
   "outputs": [
    {
     "data": {
      "text/plain": [
       "genre\n",
       "pop            5892\n",
       "dance          4435\n",
       "rock           3965\n",
       "electronic     3786\n",
       "hiphop         2096\n",
       "classical      1616\n",
       "world          1432\n",
       "alternative    1379\n",
       "ruspop         1372\n",
       "rusrap         1161\n",
       "Name: genre, dtype: int64"
      ]
     },
     "execution_count": 36,
     "metadata": {},
     "output_type": "execute_result"
    }
   ],
   "source": [
    "moscow_genres.head(10)"
   ]
  },
  {
   "cell_type": "markdown",
   "metadata": {
    "deletable": false,
    "editable": false,
    "id": "cnPG2vnN_Zcv",
    "tags": [
     "start_task"
    ]
   },
   "source": [
    "**Задание 28**\n",
    "\n",
    "\n",
    "Теперь повторите то же и для Петербурга.\n",
    "\n",
    "Сгруппируйте таблицу `spb_general` по жанру. Посчитайте прослушивания треков каждого жанра. Результат отсортируйте в порядке убывания и сохраните в таблице `spb_genres`:\n"
   ]
  },
  {
   "cell_type": "code",
   "execution_count": 37,
   "metadata": {
    "deletable": false,
    "id": "gluLIpE7_Zcv"
   },
   "outputs": [],
   "source": [
    "spb_genres = spb_general.groupby('genre')['genre'].count()\n",
    "spb_genres = spb_genres.sort_values(ascending=False)"
   ]
  },
  {
   "cell_type": "markdown",
   "metadata": {
    "deletable": false,
    "editable": false,
    "id": "5Doha_ODgyQ8",
    "tags": [
     "start_task"
    ]
   },
   "source": [
    "**Задание 29**\n",
    "\n",
    "Выведите на экран первые десять строк `spb_genres`:"
   ]
  },
  {
   "cell_type": "code",
   "execution_count": 38,
   "metadata": {
    "deletable": false,
    "id": "uaGJHjVU_Zcv"
   },
   "outputs": [
    {
     "data": {
      "text/plain": [
       "genre\n",
       "pop            2431\n",
       "dance          1932\n",
       "rock           1879\n",
       "electronic     1736\n",
       "hiphop          960\n",
       "alternative     649\n",
       "classical       646\n",
       "rusrap          564\n",
       "ruspop          538\n",
       "world           515\n",
       "Name: genre, dtype: int64"
      ]
     },
     "execution_count": 38,
     "metadata": {},
     "output_type": "execute_result"
    }
   ],
   "source": [
    "spb_genres.head(10)"
   ]
  },
  {
   "cell_type": "markdown",
   "metadata": {
    "deletable": false,
    "editable": false,
    "id": "RY51YJYu_Zcv"
   },
   "source": [
    "**Выводы**"
   ]
  },
  {
   "cell_type": "markdown",
   "metadata": {
    "deletable": false,
    "editable": false,
    "id": "nVhnJEm__Zcv"
   },
   "source": [
    "Гипотеза частично подтвердилась:\n",
    "* Поп-музыка — самый популярный жанр в Москве, как и предполагала гипотеза. Более того, в топ-10 жанров встречается близкий жанр — русская популярная музыка.\n",
    "* Вопреки ожиданиям, рэп одинаково популярен в Москве и Петербурге. \n"
   ]
  },
  {
   "cell_type": "markdown",
   "metadata": {
    "deletable": false,
    "editable": false,
    "id": "ykKQ0N65_Zcv"
   },
   "source": [
    "## Итоги исследования"
   ]
  },
  {
   "cell_type": "markdown",
   "metadata": {
    "deletable": false,
    "editable": false,
    "id": "tjUwbHb3_Zcv"
   },
   "source": [
    "Вы проверили три гипотезы и установили:\n",
    "\n",
    "1. День недели по-разному влияет на активность пользователей в Москве и Петербурге. \n",
    "\n",
    "Первая гипотеза полностью подтвердилась.\n",
    "\n",
    "2. Музыкальные предпочтения не сильно меняются в течение недели — будь то Москва или Петербург. Небольшие различия заметны в начале недели, по понедельникам:\n",
    "* в Москве слушают музыку жанра “world”,\n",
    "* в Петербурге — джаз и классику.\n",
    "\n",
    "Таким образом, вторая гипотеза подтвердилась лишь отчасти. Этот результат мог оказаться иным, если бы не пропуски в данных.\n",
    "\n",
    "3. Во вкусах пользователей Москвы и Петербурга больше общего чем различий. Вопреки ожиданиям, предпочтения жанров в Петербурге напоминают московские.\n",
    "\n",
    "Третья гипотеза не подтвердилась. Если различия в предпочтениях и существуют, на основной массе пользователей они незаметны.\n",
    "\n",
    "**На практике исследования содержат проверки статистических гипотез.**\n",
    "Из данных одного сервиса не всегда можно сделать вывод о всех жителях города.\n",
    "Проверки статистических гипотез покажут, насколько они достоверны, исходя из имеющихся данных. \n",
    "С методами проверок гипотез вы ещё познакомитесь в следующих темах."
   ]
  }
 ],
 "metadata": {
  "ExecuteTimeLog": [
   {
    "duration": 463,
    "start_time": "2022-12-06T13:56:08.797Z"
   },
   {
    "duration": 445,
    "start_time": "2022-12-06T13:57:07.040Z"
   },
   {
    "duration": 18,
    "start_time": "2022-12-06T13:58:40.696Z"
   },
   {
    "duration": 31,
    "start_time": "2022-12-06T14:10:18.347Z"
   },
   {
    "duration": 3,
    "start_time": "2022-12-06T14:15:27.680Z"
   },
   {
    "duration": 2,
    "start_time": "2022-12-06T14:20:05.094Z"
   },
   {
    "duration": 5,
    "start_time": "2022-12-06T14:20:34.275Z"
   },
   {
    "duration": 11,
    "start_time": "2022-12-06T14:31:33.020Z"
   },
   {
    "duration": 3,
    "start_time": "2022-12-06T14:31:45.075Z"
   },
   {
    "duration": 14,
    "start_time": "2022-12-06T14:32:16.202Z"
   },
   {
    "duration": 5,
    "start_time": "2022-12-06T14:32:19.265Z"
   },
   {
    "duration": 32,
    "start_time": "2022-12-06T14:36:16.362Z"
   },
   {
    "duration": 25,
    "start_time": "2022-12-06T14:36:42.720Z"
   },
   {
    "duration": 249,
    "start_time": "2022-12-06T14:59:35.417Z"
   },
   {
    "duration": 76,
    "start_time": "2022-12-06T15:02:27.408Z"
   },
   {
    "duration": 160,
    "start_time": "2022-12-06T15:02:34.030Z"
   },
   {
    "duration": 22,
    "start_time": "2022-12-06T15:05:06.785Z"
   },
   {
    "duration": 31,
    "start_time": "2022-12-06T15:05:21.511Z"
   },
   {
    "duration": 76,
    "start_time": "2022-12-06T15:35:48.208Z"
   },
   {
    "duration": 89,
    "start_time": "2022-12-06T15:39:29.272Z"
   },
   {
    "duration": 96,
    "start_time": "2022-12-06T15:40:23.479Z"
   },
   {
    "duration": 62,
    "start_time": "2022-12-06T15:42:14.519Z"
   },
   {
    "duration": 73,
    "start_time": "2022-12-06T15:43:02.742Z"
   },
   {
    "duration": 65,
    "start_time": "2022-12-06T15:43:07.238Z"
   },
   {
    "duration": 83,
    "start_time": "2022-12-06T15:43:13.095Z"
   },
   {
    "duration": 79,
    "start_time": "2022-12-06T15:46:04.558Z"
   },
   {
    "duration": 63,
    "start_time": "2022-12-06T15:46:09.212Z"
   },
   {
    "duration": 40,
    "start_time": "2022-12-06T15:56:30.081Z"
   },
   {
    "duration": 57,
    "start_time": "2022-12-06T15:57:23.656Z"
   },
   {
    "duration": 41,
    "start_time": "2022-12-06T15:58:30.290Z"
   },
   {
    "duration": 86,
    "start_time": "2022-12-06T17:15:16.351Z"
   },
   {
    "duration": 43,
    "start_time": "2022-12-06T17:16:15.068Z"
   },
   {
    "duration": 6,
    "start_time": "2022-12-06T17:16:53.445Z"
   },
   {
    "duration": 7,
    "start_time": "2022-12-06T17:17:21.210Z"
   },
   {
    "duration": 6,
    "start_time": "2022-12-06T17:17:40.727Z"
   },
   {
    "duration": 6,
    "start_time": "2022-12-06T17:18:42.442Z"
   },
   {
    "duration": 6,
    "start_time": "2022-12-06T17:31:05.634Z"
   },
   {
    "duration": 7,
    "start_time": "2022-12-06T17:35:26.442Z"
   },
   {
    "duration": 6,
    "start_time": "2022-12-06T17:49:09.116Z"
   },
   {
    "duration": 6,
    "start_time": "2022-12-06T17:49:14.045Z"
   },
   {
    "duration": 49,
    "start_time": "2022-12-06T20:57:29.022Z"
   },
   {
    "duration": 411,
    "start_time": "2022-12-06T20:57:58.709Z"
   },
   {
    "duration": 161,
    "start_time": "2022-12-06T20:57:59.121Z"
   },
   {
    "duration": 16,
    "start_time": "2022-12-06T20:57:59.283Z"
   },
   {
    "duration": 39,
    "start_time": "2022-12-06T20:57:59.300Z"
   },
   {
    "duration": 9,
    "start_time": "2022-12-06T20:57:59.341Z"
   },
   {
    "duration": 10,
    "start_time": "2022-12-06T20:57:59.351Z"
   },
   {
    "duration": 24,
    "start_time": "2022-12-06T20:57:59.363Z"
   },
   {
    "duration": 21,
    "start_time": "2022-12-06T20:57:59.389Z"
   },
   {
    "duration": 41,
    "start_time": "2022-12-06T20:57:59.412Z"
   },
   {
    "duration": 34,
    "start_time": "2022-12-06T20:57:59.454Z"
   },
   {
    "duration": 26,
    "start_time": "2022-12-06T20:57:59.490Z"
   },
   {
    "duration": 98,
    "start_time": "2022-12-06T20:57:59.518Z"
   },
   {
    "duration": 69,
    "start_time": "2022-12-06T20:57:59.618Z"
   },
   {
    "duration": 70,
    "start_time": "2022-12-06T20:57:59.691Z"
   },
   {
    "duration": 60,
    "start_time": "2022-12-06T20:57:59.763Z"
   },
   {
    "duration": 12,
    "start_time": "2022-12-06T20:57:59.825Z"
   },
   {
    "duration": 60,
    "start_time": "2022-12-06T20:58:02.924Z"
   },
   {
    "duration": 145,
    "start_time": "2022-12-06T21:07:07.283Z"
   },
   {
    "duration": 421,
    "start_time": "2022-12-06T21:37:54.307Z"
   },
   {
    "duration": 80,
    "start_time": "2022-12-06T21:38:06.019Z"
   },
   {
    "duration": 401,
    "start_time": "2022-12-06T21:38:19.523Z"
   },
   {
    "duration": 171,
    "start_time": "2022-12-06T21:38:19.926Z"
   },
   {
    "duration": 17,
    "start_time": "2022-12-06T21:38:20.099Z"
   },
   {
    "duration": 30,
    "start_time": "2022-12-06T21:38:20.118Z"
   },
   {
    "duration": 2,
    "start_time": "2022-12-06T21:38:20.150Z"
   },
   {
    "duration": 19,
    "start_time": "2022-12-06T21:38:20.153Z"
   },
   {
    "duration": 17,
    "start_time": "2022-12-06T21:38:20.173Z"
   },
   {
    "duration": 6,
    "start_time": "2022-12-06T21:38:20.192Z"
   },
   {
    "duration": 34,
    "start_time": "2022-12-06T21:38:20.200Z"
   },
   {
    "duration": 20,
    "start_time": "2022-12-06T21:38:20.236Z"
   },
   {
    "duration": 28,
    "start_time": "2022-12-06T21:38:20.258Z"
   },
   {
    "duration": 84,
    "start_time": "2022-12-06T21:38:20.288Z"
   },
   {
    "duration": 78,
    "start_time": "2022-12-06T21:38:20.373Z"
   },
   {
    "duration": 64,
    "start_time": "2022-12-06T21:38:20.452Z"
   },
   {
    "duration": 38,
    "start_time": "2022-12-06T21:38:20.518Z"
   },
   {
    "duration": 11,
    "start_time": "2022-12-06T21:38:20.558Z"
   },
   {
    "duration": 38,
    "start_time": "2022-12-06T21:38:24.239Z"
   },
   {
    "duration": 416,
    "start_time": "2022-12-06T21:39:42.074Z"
   },
   {
    "duration": 170,
    "start_time": "2022-12-06T21:39:42.493Z"
   },
   {
    "duration": 17,
    "start_time": "2022-12-06T21:39:42.665Z"
   },
   {
    "duration": 42,
    "start_time": "2022-12-06T21:39:42.685Z"
   },
   {
    "duration": 2,
    "start_time": "2022-12-06T21:39:42.729Z"
   },
   {
    "duration": 6,
    "start_time": "2022-12-06T21:39:42.732Z"
   },
   {
    "duration": 12,
    "start_time": "2022-12-06T21:39:42.740Z"
   },
   {
    "duration": 6,
    "start_time": "2022-12-06T21:39:42.753Z"
   },
   {
    "duration": 25,
    "start_time": "2022-12-06T21:39:42.760Z"
   },
   {
    "duration": 44,
    "start_time": "2022-12-06T21:39:42.787Z"
   },
   {
    "duration": 22,
    "start_time": "2022-12-06T21:39:42.833Z"
   },
   {
    "duration": 73,
    "start_time": "2022-12-06T21:39:42.856Z"
   },
   {
    "duration": 67,
    "start_time": "2022-12-06T21:39:42.931Z"
   },
   {
    "duration": 66,
    "start_time": "2022-12-06T21:39:43.000Z"
   },
   {
    "duration": 55,
    "start_time": "2022-12-06T21:39:43.067Z"
   },
   {
    "duration": 10,
    "start_time": "2022-12-06T21:39:43.123Z"
   },
   {
    "duration": 45,
    "start_time": "2022-12-06T21:39:46.134Z"
   },
   {
    "duration": 32,
    "start_time": "2022-12-06T22:04:29.364Z"
   },
   {
    "duration": 12,
    "start_time": "2022-12-06T22:05:31.365Z"
   },
   {
    "duration": 11,
    "start_time": "2022-12-06T22:08:16.068Z"
   },
   {
    "duration": 9,
    "start_time": "2022-12-07T13:19:44.458Z"
   },
   {
    "duration": 47,
    "start_time": "2022-12-07T13:24:14.159Z"
   },
   {
    "duration": 438,
    "start_time": "2022-12-07T13:24:49.537Z"
   },
   {
    "duration": 468,
    "start_time": "2022-12-07T13:24:49.977Z"
   },
   {
    "duration": 18,
    "start_time": "2022-12-07T13:24:50.447Z"
   },
   {
    "duration": 33,
    "start_time": "2022-12-07T13:24:50.467Z"
   },
   {
    "duration": 2,
    "start_time": "2022-12-07T13:24:50.502Z"
   },
   {
    "duration": 7,
    "start_time": "2022-12-07T13:24:50.506Z"
   },
   {
    "duration": 34,
    "start_time": "2022-12-07T13:24:50.515Z"
   },
   {
    "duration": 12,
    "start_time": "2022-12-07T13:24:50.552Z"
   },
   {
    "duration": 31,
    "start_time": "2022-12-07T13:24:50.566Z"
   },
   {
    "duration": 20,
    "start_time": "2022-12-07T13:24:50.600Z"
   },
   {
    "duration": 27,
    "start_time": "2022-12-07T13:24:50.638Z"
   },
   {
    "duration": 95,
    "start_time": "2022-12-07T13:24:50.668Z"
   },
   {
    "duration": 81,
    "start_time": "2022-12-07T13:24:50.765Z"
   },
   {
    "duration": 71,
    "start_time": "2022-12-07T13:24:50.848Z"
   },
   {
    "duration": 68,
    "start_time": "2022-12-07T13:24:50.921Z"
   },
   {
    "duration": 12,
    "start_time": "2022-12-07T13:24:50.990Z"
   },
   {
    "duration": 64,
    "start_time": "2022-12-07T13:24:51.003Z"
   },
   {
    "duration": 14,
    "start_time": "2022-12-07T13:24:51.069Z"
   },
   {
    "duration": 25,
    "start_time": "2022-12-07T13:24:51.085Z"
   },
   {
    "duration": 4,
    "start_time": "2022-12-07T13:24:57.920Z"
   },
   {
    "duration": 25,
    "start_time": "2022-12-07T13:25:01.904Z"
   },
   {
    "duration": 3,
    "start_time": "2022-12-07T13:25:09.976Z"
   },
   {
    "duration": 190,
    "start_time": "2022-12-07T13:25:09.983Z"
   },
   {
    "duration": 12,
    "start_time": "2022-12-07T13:25:10.175Z"
   },
   {
    "duration": 31,
    "start_time": "2022-12-07T13:25:10.189Z"
   },
   {
    "duration": 2,
    "start_time": "2022-12-07T13:25:10.237Z"
   },
   {
    "duration": 9,
    "start_time": "2022-12-07T13:25:10.241Z"
   },
   {
    "duration": 13,
    "start_time": "2022-12-07T13:25:10.252Z"
   },
   {
    "duration": 6,
    "start_time": "2022-12-07T13:25:10.267Z"
   },
   {
    "duration": 30,
    "start_time": "2022-12-07T13:25:10.275Z"
   },
   {
    "duration": 46,
    "start_time": "2022-12-07T13:25:10.307Z"
   },
   {
    "duration": 30,
    "start_time": "2022-12-07T13:25:10.356Z"
   },
   {
    "duration": 85,
    "start_time": "2022-12-07T13:25:10.388Z"
   },
   {
    "duration": 72,
    "start_time": "2022-12-07T13:25:10.475Z"
   },
   {
    "duration": 60,
    "start_time": "2022-12-07T13:25:10.549Z"
   },
   {
    "duration": 55,
    "start_time": "2022-12-07T13:25:10.611Z"
   },
   {
    "duration": 12,
    "start_time": "2022-12-07T13:25:10.668Z"
   },
   {
    "duration": 64,
    "start_time": "2022-12-07T13:25:10.682Z"
   },
   {
    "duration": 15,
    "start_time": "2022-12-07T13:25:10.749Z"
   },
   {
    "duration": 13,
    "start_time": "2022-12-07T13:25:10.766Z"
   },
   {
    "duration": 2,
    "start_time": "2022-12-07T13:25:10.781Z"
   },
   {
    "duration": 28,
    "start_time": "2022-12-07T13:25:10.785Z"
   },
   {
    "duration": 37,
    "start_time": "2022-12-07T13:25:10.815Z"
   },
   {
    "duration": 9,
    "start_time": "2022-12-07T13:25:10.854Z"
   },
   {
    "duration": 19,
    "start_time": "2022-12-07T13:25:10.865Z"
   },
   {
    "duration": 18,
    "start_time": "2022-12-07T13:25:10.886Z"
   },
   {
    "duration": 426,
    "start_time": "2022-12-07T13:25:33.113Z"
   },
   {
    "duration": 180,
    "start_time": "2022-12-07T13:25:33.541Z"
   },
   {
    "duration": 24,
    "start_time": "2022-12-07T13:25:33.722Z"
   },
   {
    "duration": 34,
    "start_time": "2022-12-07T13:25:33.749Z"
   },
   {
    "duration": 3,
    "start_time": "2022-12-07T13:25:33.785Z"
   },
   {
    "duration": 8,
    "start_time": "2022-12-07T13:25:33.790Z"
   },
   {
    "duration": 47,
    "start_time": "2022-12-07T13:25:33.800Z"
   },
   {
    "duration": 11,
    "start_time": "2022-12-07T13:25:33.850Z"
   },
   {
    "duration": 41,
    "start_time": "2022-12-07T13:25:33.863Z"
   },
   {
    "duration": 26,
    "start_time": "2022-12-07T13:25:33.911Z"
   },
   {
    "duration": 29,
    "start_time": "2022-12-07T13:25:33.939Z"
   },
   {
    "duration": 122,
    "start_time": "2022-12-07T13:25:33.970Z"
   },
   {
    "duration": 95,
    "start_time": "2022-12-07T13:25:34.095Z"
   },
   {
    "duration": 105,
    "start_time": "2022-12-07T13:25:34.192Z"
   },
   {
    "duration": 83,
    "start_time": "2022-12-07T13:25:34.300Z"
   },
   {
    "duration": 16,
    "start_time": "2022-12-07T13:25:34.385Z"
   },
   {
    "duration": 58,
    "start_time": "2022-12-07T13:25:34.403Z"
   },
   {
    "duration": 12,
    "start_time": "2022-12-07T13:25:34.463Z"
   },
   {
    "duration": 12,
    "start_time": "2022-12-07T13:25:34.477Z"
   },
   {
    "duration": 4,
    "start_time": "2022-12-07T13:25:34.490Z"
   },
   {
    "duration": 48,
    "start_time": "2022-12-07T13:25:34.496Z"
   },
   {
    "duration": 17,
    "start_time": "2022-12-07T13:25:34.546Z"
   },
   {
    "duration": 10,
    "start_time": "2022-12-07T13:25:34.564Z"
   },
   {
    "duration": 25,
    "start_time": "2022-12-07T13:25:34.577Z"
   },
   {
    "duration": 50,
    "start_time": "2022-12-07T13:25:34.605Z"
   },
   {
    "duration": 16,
    "start_time": "2022-12-07T13:25:34.657Z"
   },
   {
    "duration": 474,
    "start_time": "2022-12-07T13:26:28.657Z"
   },
   {
    "duration": 196,
    "start_time": "2022-12-07T13:26:29.137Z"
   },
   {
    "duration": 25,
    "start_time": "2022-12-07T13:26:29.338Z"
   },
   {
    "duration": 37,
    "start_time": "2022-12-07T13:26:29.365Z"
   },
   {
    "duration": 3,
    "start_time": "2022-12-07T13:26:29.404Z"
   },
   {
    "duration": 28,
    "start_time": "2022-12-07T13:26:29.409Z"
   },
   {
    "duration": 13,
    "start_time": "2022-12-07T13:26:29.439Z"
   },
   {
    "duration": 10,
    "start_time": "2022-12-07T13:26:29.454Z"
   },
   {
    "duration": 41,
    "start_time": "2022-12-07T13:26:29.466Z"
   },
   {
    "duration": 43,
    "start_time": "2022-12-07T13:26:29.509Z"
   },
   {
    "duration": 27,
    "start_time": "2022-12-07T13:26:29.554Z"
   },
   {
    "duration": 80,
    "start_time": "2022-12-07T13:26:29.583Z"
   },
   {
    "duration": 101,
    "start_time": "2022-12-07T13:26:29.665Z"
   },
   {
    "duration": 74,
    "start_time": "2022-12-07T13:26:29.769Z"
   },
   {
    "duration": 50,
    "start_time": "2022-12-07T13:26:29.845Z"
   },
   {
    "duration": 16,
    "start_time": "2022-12-07T13:26:29.897Z"
   },
   {
    "duration": 64,
    "start_time": "2022-12-07T13:26:29.937Z"
   },
   {
    "duration": 36,
    "start_time": "2022-12-07T13:26:30.003Z"
   },
   {
    "duration": 18,
    "start_time": "2022-12-07T13:26:30.041Z"
   },
   {
    "duration": 4,
    "start_time": "2022-12-07T13:26:30.062Z"
   },
   {
    "duration": 31,
    "start_time": "2022-12-07T13:26:30.068Z"
   },
   {
    "duration": 37,
    "start_time": "2022-12-07T13:26:30.102Z"
   },
   {
    "duration": 16,
    "start_time": "2022-12-07T13:26:30.141Z"
   },
   {
    "duration": 33,
    "start_time": "2022-12-07T13:26:30.159Z"
   },
   {
    "duration": 34,
    "start_time": "2022-12-07T13:26:30.194Z"
   },
   {
    "duration": 24,
    "start_time": "2022-12-07T13:26:30.230Z"
   },
   {
    "duration": 6,
    "start_time": "2022-12-07T13:36:38.172Z"
   },
   {
    "duration": 212,
    "start_time": "2022-12-07T13:48:07.655Z"
   },
   {
    "duration": 143,
    "start_time": "2022-12-07T13:51:03.231Z"
   },
   {
    "duration": 91,
    "start_time": "2022-12-07T13:51:32.622Z"
   },
   {
    "duration": 12,
    "start_time": "2022-12-07T13:53:37.334Z"
   },
   {
    "duration": 10,
    "start_time": "2022-12-07T13:53:44.619Z"
   },
   {
    "duration": 15,
    "start_time": "2022-12-07T13:56:24.617Z"
   },
   {
    "duration": 405,
    "start_time": "2022-12-07T13:56:44.769Z"
   },
   {
    "duration": 202,
    "start_time": "2022-12-07T13:56:45.176Z"
   },
   {
    "duration": 26,
    "start_time": "2022-12-07T13:56:45.380Z"
   },
   {
    "duration": 52,
    "start_time": "2022-12-07T13:56:45.409Z"
   },
   {
    "duration": 3,
    "start_time": "2022-12-07T13:56:45.464Z"
   },
   {
    "duration": 10,
    "start_time": "2022-12-07T13:56:45.470Z"
   },
   {
    "duration": 19,
    "start_time": "2022-12-07T13:56:45.482Z"
   },
   {
    "duration": 27,
    "start_time": "2022-12-07T13:56:45.504Z"
   },
   {
    "duration": 30,
    "start_time": "2022-12-07T13:56:45.537Z"
   },
   {
    "duration": 30,
    "start_time": "2022-12-07T13:56:45.571Z"
   },
   {
    "duration": 52,
    "start_time": "2022-12-07T13:56:45.603Z"
   },
   {
    "duration": 130,
    "start_time": "2022-12-07T13:56:45.657Z"
   },
   {
    "duration": 137,
    "start_time": "2022-12-07T13:56:45.790Z"
   },
   {
    "duration": 109,
    "start_time": "2022-12-07T13:56:45.930Z"
   },
   {
    "duration": 78,
    "start_time": "2022-12-07T13:56:46.041Z"
   },
   {
    "duration": 32,
    "start_time": "2022-12-07T13:56:46.122Z"
   },
   {
    "duration": 83,
    "start_time": "2022-12-07T13:56:46.157Z"
   },
   {
    "duration": 19,
    "start_time": "2022-12-07T13:56:46.243Z"
   },
   {
    "duration": 19,
    "start_time": "2022-12-07T13:56:46.265Z"
   },
   {
    "duration": 4,
    "start_time": "2022-12-07T13:56:46.287Z"
   },
   {
    "duration": 65,
    "start_time": "2022-12-07T13:56:46.293Z"
   },
   {
    "duration": 16,
    "start_time": "2022-12-07T13:56:46.360Z"
   },
   {
    "duration": 28,
    "start_time": "2022-12-07T13:56:46.379Z"
   },
   {
    "duration": 42,
    "start_time": "2022-12-07T13:56:46.409Z"
   },
   {
    "duration": 27,
    "start_time": "2022-12-07T13:56:46.453Z"
   },
   {
    "duration": 23,
    "start_time": "2022-12-07T13:56:46.482Z"
   },
   {
    "duration": 85,
    "start_time": "2022-12-07T13:56:48.634Z"
   },
   {
    "duration": 422,
    "start_time": "2022-12-07T13:57:40.060Z"
   },
   {
    "duration": 202,
    "start_time": "2022-12-07T13:57:40.484Z"
   },
   {
    "duration": 20,
    "start_time": "2022-12-07T13:57:40.689Z"
   },
   {
    "duration": 66,
    "start_time": "2022-12-07T13:57:40.712Z"
   },
   {
    "duration": 3,
    "start_time": "2022-12-07T13:57:40.781Z"
   },
   {
    "duration": 10,
    "start_time": "2022-12-07T13:57:40.786Z"
   },
   {
    "duration": 19,
    "start_time": "2022-12-07T13:57:40.799Z"
   },
   {
    "duration": 5,
    "start_time": "2022-12-07T13:57:40.837Z"
   },
   {
    "duration": 32,
    "start_time": "2022-12-07T13:57:40.844Z"
   },
   {
    "duration": 26,
    "start_time": "2022-12-07T13:57:40.879Z"
   },
   {
    "duration": 53,
    "start_time": "2022-12-07T13:57:40.907Z"
   },
   {
    "duration": 102,
    "start_time": "2022-12-07T13:57:40.962Z"
   },
   {
    "duration": 92,
    "start_time": "2022-12-07T13:57:41.066Z"
   },
   {
    "duration": 86,
    "start_time": "2022-12-07T13:57:41.160Z"
   },
   {
    "duration": 45,
    "start_time": "2022-12-07T13:57:41.248Z"
   },
   {
    "duration": 11,
    "start_time": "2022-12-07T13:57:41.295Z"
   },
   {
    "duration": 91,
    "start_time": "2022-12-07T13:57:41.308Z"
   },
   {
    "duration": 14,
    "start_time": "2022-12-07T13:57:41.402Z"
   },
   {
    "duration": 13,
    "start_time": "2022-12-07T13:57:41.438Z"
   },
   {
    "duration": 4,
    "start_time": "2022-12-07T13:57:41.453Z"
   },
   {
    "duration": 24,
    "start_time": "2022-12-07T13:57:41.459Z"
   },
   {
    "duration": 18,
    "start_time": "2022-12-07T13:57:41.485Z"
   },
   {
    "duration": 47,
    "start_time": "2022-12-07T13:57:41.505Z"
   },
   {
    "duration": 18,
    "start_time": "2022-12-07T13:57:41.555Z"
   },
   {
    "duration": 18,
    "start_time": "2022-12-07T13:57:41.575Z"
   },
   {
    "duration": 46,
    "start_time": "2022-12-07T13:57:41.595Z"
   },
   {
    "duration": 8,
    "start_time": "2022-12-07T13:57:43.466Z"
   },
   {
    "duration": 440,
    "start_time": "2022-12-07T14:03:10.664Z"
   },
   {
    "duration": 187,
    "start_time": "2022-12-07T14:03:11.106Z"
   },
   {
    "duration": 16,
    "start_time": "2022-12-07T14:03:11.295Z"
   },
   {
    "duration": 42,
    "start_time": "2022-12-07T14:03:11.313Z"
   },
   {
    "duration": 2,
    "start_time": "2022-12-07T14:03:11.357Z"
   },
   {
    "duration": 15,
    "start_time": "2022-12-07T14:03:11.362Z"
   },
   {
    "duration": 21,
    "start_time": "2022-12-07T14:03:11.379Z"
   },
   {
    "duration": 8,
    "start_time": "2022-12-07T14:03:11.402Z"
   },
   {
    "duration": 72,
    "start_time": "2022-12-07T14:03:11.412Z"
   },
   {
    "duration": 23,
    "start_time": "2022-12-07T14:03:11.488Z"
   },
   {
    "duration": 65,
    "start_time": "2022-12-07T14:03:11.513Z"
   },
   {
    "duration": 103,
    "start_time": "2022-12-07T14:03:11.580Z"
   },
   {
    "duration": 87,
    "start_time": "2022-12-07T14:03:11.685Z"
   },
   {
    "duration": 82,
    "start_time": "2022-12-07T14:03:11.774Z"
   },
   {
    "duration": 50,
    "start_time": "2022-12-07T14:03:11.857Z"
   },
   {
    "duration": 32,
    "start_time": "2022-12-07T14:03:11.909Z"
   },
   {
    "duration": 56,
    "start_time": "2022-12-07T14:03:11.943Z"
   },
   {
    "duration": 14,
    "start_time": "2022-12-07T14:03:12.001Z"
   },
   {
    "duration": 15,
    "start_time": "2022-12-07T14:03:12.036Z"
   },
   {
    "duration": 4,
    "start_time": "2022-12-07T14:03:12.053Z"
   },
   {
    "duration": 23,
    "start_time": "2022-12-07T14:03:12.060Z"
   },
   {
    "duration": 17,
    "start_time": "2022-12-07T14:03:12.085Z"
   },
   {
    "duration": 48,
    "start_time": "2022-12-07T14:03:12.104Z"
   },
   {
    "duration": 16,
    "start_time": "2022-12-07T14:03:12.153Z"
   },
   {
    "duration": 26,
    "start_time": "2022-12-07T14:03:12.171Z"
   },
   {
    "duration": 47,
    "start_time": "2022-12-07T14:03:12.200Z"
   },
   {
    "duration": 87,
    "start_time": "2022-12-07T14:03:15.317Z"
   },
   {
    "duration": 11,
    "start_time": "2022-12-07T14:18:43.359Z"
   },
   {
    "duration": 15,
    "start_time": "2022-12-07T14:18:44.970Z"
   },
   {
    "duration": 5,
    "start_time": "2022-12-07T15:05:28.222Z"
   },
   {
    "duration": 2,
    "start_time": "2022-12-07T15:16:34.386Z"
   },
   {
    "duration": 202,
    "start_time": "2022-12-07T15:16:34.392Z"
   },
   {
    "duration": 11,
    "start_time": "2022-12-07T15:16:34.596Z"
   },
   {
    "duration": 54,
    "start_time": "2022-12-07T15:16:34.609Z"
   },
   {
    "duration": 2,
    "start_time": "2022-12-07T15:16:34.665Z"
   },
   {
    "duration": 6,
    "start_time": "2022-12-07T15:16:34.669Z"
   },
   {
    "duration": 9,
    "start_time": "2022-12-07T15:16:34.677Z"
   },
   {
    "duration": 4,
    "start_time": "2022-12-07T15:16:34.688Z"
   },
   {
    "duration": 53,
    "start_time": "2022-12-07T15:16:34.693Z"
   },
   {
    "duration": 19,
    "start_time": "2022-12-07T15:16:34.748Z"
   },
   {
    "duration": 26,
    "start_time": "2022-12-07T15:16:34.769Z"
   },
   {
    "duration": 97,
    "start_time": "2022-12-07T15:16:34.797Z"
   },
   {
    "duration": 98,
    "start_time": "2022-12-07T15:16:34.896Z"
   },
   {
    "duration": 76,
    "start_time": "2022-12-07T15:16:34.996Z"
   },
   {
    "duration": 41,
    "start_time": "2022-12-07T15:16:35.074Z"
   },
   {
    "duration": 26,
    "start_time": "2022-12-07T15:16:35.117Z"
   },
   {
    "duration": 45,
    "start_time": "2022-12-07T15:16:35.144Z"
   },
   {
    "duration": 13,
    "start_time": "2022-12-07T15:16:35.191Z"
   },
   {
    "duration": 32,
    "start_time": "2022-12-07T15:16:35.206Z"
   },
   {
    "duration": 4,
    "start_time": "2022-12-07T15:16:35.240Z"
   },
   {
    "duration": 22,
    "start_time": "2022-12-07T15:16:35.246Z"
   },
   {
    "duration": 18,
    "start_time": "2022-12-07T15:16:35.270Z"
   },
   {
    "duration": 19,
    "start_time": "2022-12-07T15:16:35.290Z"
   },
   {
    "duration": 40,
    "start_time": "2022-12-07T15:16:35.311Z"
   },
   {
    "duration": 19,
    "start_time": "2022-12-07T15:16:35.353Z"
   },
   {
    "duration": 17,
    "start_time": "2022-12-07T15:16:35.374Z"
   },
   {
    "duration": 108,
    "start_time": "2022-12-07T15:16:35.393Z"
   },
   {
    "duration": 13,
    "start_time": "2022-12-07T15:16:35.503Z"
   },
   {
    "duration": 19,
    "start_time": "2022-12-07T15:16:35.518Z"
   },
   {
    "duration": 4,
    "start_time": "2022-12-07T15:16:35.539Z"
   },
   {
    "duration": 23,
    "start_time": "2022-12-07T15:16:35.545Z"
   },
   {
    "duration": 12,
    "start_time": "2022-12-07T15:16:35.570Z"
   },
   {
    "duration": 22,
    "start_time": "2022-12-07T15:16:35.584Z"
   },
   {
    "duration": 403,
    "start_time": "2022-12-07T15:16:52.152Z"
   },
   {
    "duration": 188,
    "start_time": "2022-12-07T15:16:52.558Z"
   },
   {
    "duration": 18,
    "start_time": "2022-12-07T15:16:52.748Z"
   },
   {
    "duration": 36,
    "start_time": "2022-12-07T15:16:52.768Z"
   },
   {
    "duration": 2,
    "start_time": "2022-12-07T15:16:52.806Z"
   },
   {
    "duration": 28,
    "start_time": "2022-12-07T15:16:52.810Z"
   },
   {
    "duration": 11,
    "start_time": "2022-12-07T15:16:52.840Z"
   },
   {
    "duration": 7,
    "start_time": "2022-12-07T15:16:52.853Z"
   },
   {
    "duration": 29,
    "start_time": "2022-12-07T15:16:52.862Z"
   },
   {
    "duration": 49,
    "start_time": "2022-12-07T15:16:52.894Z"
   },
   {
    "duration": 25,
    "start_time": "2022-12-07T15:16:52.945Z"
   },
   {
    "duration": 80,
    "start_time": "2022-12-07T15:16:52.972Z"
   },
   {
    "duration": 69,
    "start_time": "2022-12-07T15:16:53.054Z"
   },
   {
    "duration": 74,
    "start_time": "2022-12-07T15:16:53.125Z"
   },
   {
    "duration": 53,
    "start_time": "2022-12-07T15:16:53.201Z"
   },
   {
    "duration": 12,
    "start_time": "2022-12-07T15:16:53.255Z"
   },
   {
    "duration": 43,
    "start_time": "2022-12-07T15:16:53.270Z"
   },
   {
    "duration": 33,
    "start_time": "2022-12-07T15:16:53.315Z"
   },
   {
    "duration": 13,
    "start_time": "2022-12-07T15:16:53.350Z"
   },
   {
    "duration": 3,
    "start_time": "2022-12-07T15:16:53.365Z"
   },
   {
    "duration": 24,
    "start_time": "2022-12-07T15:16:53.370Z"
   },
   {
    "duration": 42,
    "start_time": "2022-12-07T15:16:53.396Z"
   },
   {
    "duration": 16,
    "start_time": "2022-12-07T15:16:53.440Z"
   },
   {
    "duration": 22,
    "start_time": "2022-12-07T15:16:53.458Z"
   },
   {
    "duration": 18,
    "start_time": "2022-12-07T15:16:53.482Z"
   },
   {
    "duration": 45,
    "start_time": "2022-12-07T15:16:53.502Z"
   },
   {
    "duration": 88,
    "start_time": "2022-12-07T15:16:53.549Z"
   },
   {
    "duration": 11,
    "start_time": "2022-12-07T15:16:53.641Z"
   },
   {
    "duration": 10,
    "start_time": "2022-12-07T15:16:53.654Z"
   },
   {
    "duration": 4,
    "start_time": "2022-12-07T15:16:53.666Z"
   },
   {
    "duration": 23,
    "start_time": "2022-12-07T15:16:53.672Z"
   },
   {
    "duration": 12,
    "start_time": "2022-12-07T15:16:53.697Z"
   },
   {
    "duration": 45,
    "start_time": "2022-12-07T15:16:53.710Z"
   },
   {
    "duration": 200,
    "start_time": "2022-12-07T15:16:53.756Z"
   },
   {
    "duration": 15,
    "start_time": "2022-12-07T15:17:20.393Z"
   },
   {
    "duration": 11,
    "start_time": "2022-12-07T15:25:39.480Z"
   },
   {
    "duration": 5,
    "start_time": "2022-12-07T15:25:42.926Z"
   },
   {
    "duration": 394,
    "start_time": "2022-12-07T15:28:35.170Z"
   },
   {
    "duration": 187,
    "start_time": "2022-12-07T15:28:35.565Z"
   },
   {
    "duration": 19,
    "start_time": "2022-12-07T15:28:35.754Z"
   },
   {
    "duration": 36,
    "start_time": "2022-12-07T15:28:35.776Z"
   },
   {
    "duration": 23,
    "start_time": "2022-12-07T15:28:35.814Z"
   },
   {
    "duration": 5,
    "start_time": "2022-12-07T15:28:35.840Z"
   },
   {
    "duration": 13,
    "start_time": "2022-12-07T15:28:35.847Z"
   },
   {
    "duration": 6,
    "start_time": "2022-12-07T15:28:35.862Z"
   },
   {
    "duration": 27,
    "start_time": "2022-12-07T15:28:35.870Z"
   },
   {
    "duration": 48,
    "start_time": "2022-12-07T15:28:35.900Z"
   },
   {
    "duration": 29,
    "start_time": "2022-12-07T15:28:35.950Z"
   },
   {
    "duration": 87,
    "start_time": "2022-12-07T15:28:35.981Z"
   },
   {
    "duration": 73,
    "start_time": "2022-12-07T15:28:36.070Z"
   },
   {
    "duration": 63,
    "start_time": "2022-12-07T15:28:36.145Z"
   },
   {
    "duration": 52,
    "start_time": "2022-12-07T15:28:36.210Z"
   },
   {
    "duration": 11,
    "start_time": "2022-12-07T15:28:36.264Z"
   },
   {
    "duration": 40,
    "start_time": "2022-12-07T15:28:36.277Z"
   },
   {
    "duration": 14,
    "start_time": "2022-12-07T15:28:36.337Z"
   },
   {
    "duration": 13,
    "start_time": "2022-12-07T15:28:36.353Z"
   },
   {
    "duration": 8,
    "start_time": "2022-12-07T15:28:36.367Z"
   },
   {
    "duration": 19,
    "start_time": "2022-12-07T15:28:36.377Z"
   },
   {
    "duration": 46,
    "start_time": "2022-12-07T15:28:36.398Z"
   },
   {
    "duration": 17,
    "start_time": "2022-12-07T15:28:36.446Z"
   },
   {
    "duration": 15,
    "start_time": "2022-12-07T15:28:36.465Z"
   },
   {
    "duration": 17,
    "start_time": "2022-12-07T15:28:36.482Z"
   },
   {
    "duration": 44,
    "start_time": "2022-12-07T15:28:36.500Z"
   },
   {
    "duration": 74,
    "start_time": "2022-12-07T15:28:36.546Z"
   },
   {
    "duration": 12,
    "start_time": "2022-12-07T15:28:36.637Z"
   },
   {
    "duration": 11,
    "start_time": "2022-12-07T15:28:36.650Z"
   },
   {
    "duration": 5,
    "start_time": "2022-12-07T15:28:36.662Z"
   },
   {
    "duration": 22,
    "start_time": "2022-12-07T15:28:36.669Z"
   },
   {
    "duration": 11,
    "start_time": "2022-12-07T15:28:36.693Z"
   },
   {
    "duration": 48,
    "start_time": "2022-12-07T15:28:36.706Z"
   },
   {
    "duration": 15,
    "start_time": "2022-12-07T15:28:36.755Z"
   },
   {
    "duration": 8,
    "start_time": "2022-12-07T15:28:36.772Z"
   },
   {
    "duration": 4,
    "start_time": "2022-12-07T15:28:36.782Z"
   },
   {
    "duration": 8,
    "start_time": "2022-12-07T15:31:34.794Z"
   },
   {
    "duration": 5,
    "start_time": "2022-12-07T15:31:51.403Z"
   }
  ],
  "colab": {
   "collapsed_sections": [
    "E0vqbgi9ay0H",
    "VUC88oWjTJw2"
   ],
   "name": "automatization_template_upd4.ipynb",
   "provenance": []
  },
  "kernelspec": {
   "display_name": "Python 3 (ipykernel)",
   "language": "python",
   "name": "python3"
  },
  "language_info": {
   "codemirror_mode": {
    "name": "ipython",
    "version": 3
   },
   "file_extension": ".py",
   "mimetype": "text/x-python",
   "name": "python",
   "nbconvert_exporter": "python",
   "pygments_lexer": "ipython3",
   "version": "3.9.5"
  },
  "toc": {
   "base_numbering": 1,
   "nav_menu": {
    "height": "215px",
    "width": "403px"
   },
   "number_sections": true,
   "sideBar": true,
   "skip_h1_title": true,
   "title_cell": "Table of Contents",
   "title_sidebar": "Contents",
   "toc_cell": false,
   "toc_position": {
    "height": "calc(100% - 180px)",
    "left": "10px",
    "top": "150px",
    "width": "285.825px"
   },
   "toc_section_display": true,
   "toc_window_display": false
  }
 },
 "nbformat": 4,
 "nbformat_minor": 1
}
