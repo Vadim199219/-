{
 "cells": [
  {
   "cell_type": "markdown",
   "metadata": {},
   "source": [
    "**Объект исследования** - Крупный интернет-магазин\n",
    "\n",
    "**Вводная информация** - Вместе с отделом маркетинга был подготовлен список гипотез для увеличения выручки.\n",
    "\n",
    "**Этапы проекта:**\n",
    "* Этап №1 - Приоритезация гипотез методами ICE и RICE.\n",
    "* Этап №2 - Анализ результатов проведенного A/B теста. "
   ]
  },
  {
   "cell_type": "markdown",
   "metadata": {},
   "source": [
    "### Приоритизация гипотез."
   ]
  },
  {
   "cell_type": "code",
   "execution_count": 1,
   "metadata": {},
   "outputs": [],
   "source": [
    "# Загрузим необходимые для работы библиотеки:\n",
    "import pandas as pd\n",
    "import os\n",
    "import seaborn as sns \n",
    "import numpy as np\n",
    "import datetime as dt\n",
    "from matplotlib import pyplot as plt\n",
    "import scipy.stats as stats"
   ]
  },
  {
   "cell_type": "code",
   "execution_count": 2,
   "metadata": {},
   "outputs": [
    {
     "data": {
      "text/html": [
       "<div>\n",
       "<style scoped>\n",
       "    .dataframe tbody tr th:only-of-type {\n",
       "        vertical-align: middle;\n",
       "    }\n",
       "\n",
       "    .dataframe tbody tr th {\n",
       "        vertical-align: top;\n",
       "    }\n",
       "\n",
       "    .dataframe thead th {\n",
       "        text-align: right;\n",
       "    }\n",
       "</style>\n",
       "<table border=\"1\" class=\"dataframe\">\n",
       "  <thead>\n",
       "    <tr style=\"text-align: right;\">\n",
       "      <th></th>\n",
       "      <th>Hypothesis</th>\n",
       "      <th>Reach</th>\n",
       "      <th>Impact</th>\n",
       "      <th>Confidence</th>\n",
       "      <th>Efforts</th>\n",
       "    </tr>\n",
       "  </thead>\n",
       "  <tbody>\n",
       "    <tr>\n",
       "      <th>0</th>\n",
       "      <td>Добавить два новых канала привлечения трафика, что позволит привлекать на 30% больше пользователей</td>\n",
       "      <td>3</td>\n",
       "      <td>10</td>\n",
       "      <td>8</td>\n",
       "      <td>6</td>\n",
       "    </tr>\n",
       "    <tr>\n",
       "      <th>1</th>\n",
       "      <td>Запустить собственную службу доставки, что сократит срок доставки заказов</td>\n",
       "      <td>2</td>\n",
       "      <td>5</td>\n",
       "      <td>4</td>\n",
       "      <td>10</td>\n",
       "    </tr>\n",
       "    <tr>\n",
       "      <th>2</th>\n",
       "      <td>Добавить блоки рекомендаций товаров на сайт интернет магазина, чтобы повысить конверсию и средний чек заказа</td>\n",
       "      <td>8</td>\n",
       "      <td>3</td>\n",
       "      <td>7</td>\n",
       "      <td>3</td>\n",
       "    </tr>\n",
       "    <tr>\n",
       "      <th>3</th>\n",
       "      <td>Изменить структура категорий, что увеличит конверсию, т.к. пользователи быстрее найдут нужный товар</td>\n",
       "      <td>8</td>\n",
       "      <td>3</td>\n",
       "      <td>3</td>\n",
       "      <td>8</td>\n",
       "    </tr>\n",
       "    <tr>\n",
       "      <th>4</th>\n",
       "      <td>Изменить цвет фона главной страницы, чтобы увеличить вовлеченность пользователей</td>\n",
       "      <td>3</td>\n",
       "      <td>1</td>\n",
       "      <td>1</td>\n",
       "      <td>1</td>\n",
       "    </tr>\n",
       "    <tr>\n",
       "      <th>5</th>\n",
       "      <td>Добавить страницу отзывов клиентов о магазине, что позволит увеличить количество заказов</td>\n",
       "      <td>3</td>\n",
       "      <td>2</td>\n",
       "      <td>2</td>\n",
       "      <td>3</td>\n",
       "    </tr>\n",
       "    <tr>\n",
       "      <th>6</th>\n",
       "      <td>Показать на главной странице баннеры с актуальными акциями и распродажами, чтобы увеличить конверсию</td>\n",
       "      <td>5</td>\n",
       "      <td>3</td>\n",
       "      <td>8</td>\n",
       "      <td>3</td>\n",
       "    </tr>\n",
       "    <tr>\n",
       "      <th>7</th>\n",
       "      <td>Добавить форму подписки на все основные страницы, чтобы собрать базу клиентов для email-рассылок</td>\n",
       "      <td>10</td>\n",
       "      <td>7</td>\n",
       "      <td>8</td>\n",
       "      <td>5</td>\n",
       "    </tr>\n",
       "    <tr>\n",
       "      <th>8</th>\n",
       "      <td>Запустить акцию, дающую скидку на товар в день рождения</td>\n",
       "      <td>1</td>\n",
       "      <td>9</td>\n",
       "      <td>9</td>\n",
       "      <td>5</td>\n",
       "    </tr>\n",
       "  </tbody>\n",
       "</table>\n",
       "</div>"
      ],
      "text/plain": [
       "                                                                                                     Hypothesis  \\\n",
       "0            Добавить два новых канала привлечения трафика, что позволит привлекать на 30% больше пользователей   \n",
       "1                                     Запустить собственную службу доставки, что сократит срок доставки заказов   \n",
       "2  Добавить блоки рекомендаций товаров на сайт интернет магазина, чтобы повысить конверсию и средний чек заказа   \n",
       "3           Изменить структура категорий, что увеличит конверсию, т.к. пользователи быстрее найдут нужный товар   \n",
       "4                              Изменить цвет фона главной страницы, чтобы увеличить вовлеченность пользователей   \n",
       "5                      Добавить страницу отзывов клиентов о магазине, что позволит увеличить количество заказов   \n",
       "6          Показать на главной странице баннеры с актуальными акциями и распродажами, чтобы увеличить конверсию   \n",
       "7              Добавить форму подписки на все основные страницы, чтобы собрать базу клиентов для email-рассылок   \n",
       "8                                                       Запустить акцию, дающую скидку на товар в день рождения   \n",
       "\n",
       "   Reach  Impact  Confidence  Efforts  \n",
       "0      3      10           8        6  \n",
       "1      2       5           4       10  \n",
       "2      8       3           7        3  \n",
       "3      8       3           3        8  \n",
       "4      3       1           1        1  \n",
       "5      3       2           2        3  \n",
       "6      5       3           8        3  \n",
       "7     10       7           8        5  \n",
       "8      1       9           9        5  "
      ]
     },
     "execution_count": 2,
     "metadata": {},
     "output_type": "execute_result"
    }
   ],
   "source": [
    "# Сохраним данные из csv-файлов в созданных переменных. Выведем на экран все предложенные гипотезы:\n",
    "pth1='/datasets/hypothesis.csv'\n",
    "pth2='/Users/User//Downloads/datasets/hypothesis.csv'\n",
    "\n",
    "if os.path.exists(pth1):\n",
    "    hypothesis = pd.read_csv(pth1)\n",
    "elif os.path.exists(pth2):\n",
    "    hypothesis = pd.read_csv(pth2)\n",
    "else:\n",
    "    print('Проверьте правильность пути к датасету')\n",
    "\n",
    "pd.options.display.max_colwidth = 130\n",
    "hypothesis"
   ]
  },
  {
   "cell_type": "code",
   "execution_count": 3,
   "metadata": {},
   "outputs": [
    {
     "data": {
      "text/html": [
       "<div>\n",
       "<style scoped>\n",
       "    .dataframe tbody tr th:only-of-type {\n",
       "        vertical-align: middle;\n",
       "    }\n",
       "\n",
       "    .dataframe tbody tr th {\n",
       "        vertical-align: top;\n",
       "    }\n",
       "\n",
       "    .dataframe thead th {\n",
       "        text-align: right;\n",
       "    }\n",
       "</style>\n",
       "<table border=\"1\" class=\"dataframe\">\n",
       "  <thead>\n",
       "    <tr style=\"text-align: right;\">\n",
       "      <th></th>\n",
       "      <th>Hypothesis</th>\n",
       "      <th>ice</th>\n",
       "    </tr>\n",
       "  </thead>\n",
       "  <tbody>\n",
       "    <tr>\n",
       "      <th>8</th>\n",
       "      <td>Запустить акцию, дающую скидку на товар в день рождения</td>\n",
       "      <td>16.20</td>\n",
       "    </tr>\n",
       "    <tr>\n",
       "      <th>0</th>\n",
       "      <td>Добавить два новых канала привлечения трафика, что позволит привлекать на 30% больше пользователей</td>\n",
       "      <td>13.33</td>\n",
       "    </tr>\n",
       "    <tr>\n",
       "      <th>7</th>\n",
       "      <td>Добавить форму подписки на все основные страницы, чтобы собрать базу клиентов для email-рассылок</td>\n",
       "      <td>11.20</td>\n",
       "    </tr>\n",
       "    <tr>\n",
       "      <th>6</th>\n",
       "      <td>Показать на главной странице баннеры с актуальными акциями и распродажами, чтобы увеличить конверсию</td>\n",
       "      <td>8.00</td>\n",
       "    </tr>\n",
       "    <tr>\n",
       "      <th>2</th>\n",
       "      <td>Добавить блоки рекомендаций товаров на сайт интернет магазина, чтобы повысить конверсию и средний чек заказа</td>\n",
       "      <td>7.00</td>\n",
       "    </tr>\n",
       "    <tr>\n",
       "      <th>1</th>\n",
       "      <td>Запустить собственную службу доставки, что сократит срок доставки заказов</td>\n",
       "      <td>2.00</td>\n",
       "    </tr>\n",
       "    <tr>\n",
       "      <th>5</th>\n",
       "      <td>Добавить страницу отзывов клиентов о магазине, что позволит увеличить количество заказов</td>\n",
       "      <td>1.33</td>\n",
       "    </tr>\n",
       "    <tr>\n",
       "      <th>3</th>\n",
       "      <td>Изменить структура категорий, что увеличит конверсию, т.к. пользователи быстрее найдут нужный товар</td>\n",
       "      <td>1.12</td>\n",
       "    </tr>\n",
       "    <tr>\n",
       "      <th>4</th>\n",
       "      <td>Изменить цвет фона главной страницы, чтобы увеличить вовлеченность пользователей</td>\n",
       "      <td>1.00</td>\n",
       "    </tr>\n",
       "  </tbody>\n",
       "</table>\n",
       "</div>"
      ],
      "text/plain": [
       "                                                                                                     Hypothesis  \\\n",
       "8                                                       Запустить акцию, дающую скидку на товар в день рождения   \n",
       "0            Добавить два новых канала привлечения трафика, что позволит привлекать на 30% больше пользователей   \n",
       "7              Добавить форму подписки на все основные страницы, чтобы собрать базу клиентов для email-рассылок   \n",
       "6          Показать на главной странице баннеры с актуальными акциями и распродажами, чтобы увеличить конверсию   \n",
       "2  Добавить блоки рекомендаций товаров на сайт интернет магазина, чтобы повысить конверсию и средний чек заказа   \n",
       "1                                     Запустить собственную службу доставки, что сократит срок доставки заказов   \n",
       "5                      Добавить страницу отзывов клиентов о магазине, что позволит увеличить количество заказов   \n",
       "3           Изменить структура категорий, что увеличит конверсию, т.к. пользователи быстрее найдут нужный товар   \n",
       "4                              Изменить цвет фона главной страницы, чтобы увеличить вовлеченность пользователей   \n",
       "\n",
       "     ice  \n",
       "8  16.20  \n",
       "0  13.33  \n",
       "7  11.20  \n",
       "6   8.00  \n",
       "2   7.00  \n",
       "1   2.00  \n",
       "5   1.33  \n",
       "3   1.12  \n",
       "4   1.00  "
      ]
     },
     "metadata": {},
     "output_type": "display_data"
    }
   ],
   "source": [
    "hypothesis['ice'] = round((hypothesis['Impact'] * hypothesis['Confidence']) / hypothesis['Efforts'], 2)\n",
    "display(hypothesis[['Hypothesis', 'ice']].sort_values(by='ice', ascending=False))"
   ]
  },
  {
   "cell_type": "markdown",
   "metadata": {},
   "source": [
    "**Выводы:** После назначения приоритета заданным нипотезам методом ICE, на основе таких параметров как: оценка влияния гипотезы на поведение пользователей, уверенность в эффективности предложенных изменений и оценочной стоимости тестирования гипотезы, показало, что наиболее перспективной является uипотеза с индексом 8 - \"Запустить акцию, дающую скидку на товар в день рождения\" (приоритет 16,2). Следом идут гитозеты под индесами 0 - \"Добавить два новых канала привлечения трафика, что позволит привлекать на 30% больше пользователей\" и 7 - \"Добавить форму подписки на все основные страницы, чтобы собрать базу клиентов для email-рассылок\" (оценки приоритета 13,33 и 11,2, соответственно)."
   ]
  },
  {
   "cell_type": "code",
   "execution_count": 4,
   "metadata": {},
   "outputs": [
    {
     "data": {
      "text/html": [
       "<div>\n",
       "<style scoped>\n",
       "    .dataframe tbody tr th:only-of-type {\n",
       "        vertical-align: middle;\n",
       "    }\n",
       "\n",
       "    .dataframe tbody tr th {\n",
       "        vertical-align: top;\n",
       "    }\n",
       "\n",
       "    .dataframe thead th {\n",
       "        text-align: right;\n",
       "    }\n",
       "</style>\n",
       "<table border=\"1\" class=\"dataframe\">\n",
       "  <thead>\n",
       "    <tr style=\"text-align: right;\">\n",
       "      <th></th>\n",
       "      <th>Hypothesis</th>\n",
       "      <th>ice</th>\n",
       "      <th>rice</th>\n",
       "    </tr>\n",
       "  </thead>\n",
       "  <tbody>\n",
       "    <tr>\n",
       "      <th>7</th>\n",
       "      <td>Добавить форму подписки на все основные страницы, чтобы собрать базу клиентов для email-рассылок</td>\n",
       "      <td>11.20</td>\n",
       "      <td>112.0</td>\n",
       "    </tr>\n",
       "    <tr>\n",
       "      <th>2</th>\n",
       "      <td>Добавить блоки рекомендаций товаров на сайт интернет магазина, чтобы повысить конверсию и средний чек заказа</td>\n",
       "      <td>7.00</td>\n",
       "      <td>56.0</td>\n",
       "    </tr>\n",
       "    <tr>\n",
       "      <th>0</th>\n",
       "      <td>Добавить два новых канала привлечения трафика, что позволит привлекать на 30% больше пользователей</td>\n",
       "      <td>13.33</td>\n",
       "      <td>40.0</td>\n",
       "    </tr>\n",
       "    <tr>\n",
       "      <th>6</th>\n",
       "      <td>Показать на главной странице баннеры с актуальными акциями и распродажами, чтобы увеличить конверсию</td>\n",
       "      <td>8.00</td>\n",
       "      <td>40.0</td>\n",
       "    </tr>\n",
       "    <tr>\n",
       "      <th>8</th>\n",
       "      <td>Запустить акцию, дающую скидку на товар в день рождения</td>\n",
       "      <td>16.20</td>\n",
       "      <td>16.2</td>\n",
       "    </tr>\n",
       "    <tr>\n",
       "      <th>3</th>\n",
       "      <td>Изменить структура категорий, что увеличит конверсию, т.к. пользователи быстрее найдут нужный товар</td>\n",
       "      <td>1.12</td>\n",
       "      <td>9.0</td>\n",
       "    </tr>\n",
       "    <tr>\n",
       "      <th>1</th>\n",
       "      <td>Запустить собственную службу доставки, что сократит срок доставки заказов</td>\n",
       "      <td>2.00</td>\n",
       "      <td>4.0</td>\n",
       "    </tr>\n",
       "    <tr>\n",
       "      <th>5</th>\n",
       "      <td>Добавить страницу отзывов клиентов о магазине, что позволит увеличить количество заказов</td>\n",
       "      <td>1.33</td>\n",
       "      <td>4.0</td>\n",
       "    </tr>\n",
       "    <tr>\n",
       "      <th>4</th>\n",
       "      <td>Изменить цвет фона главной страницы, чтобы увеличить вовлеченность пользователей</td>\n",
       "      <td>1.00</td>\n",
       "      <td>3.0</td>\n",
       "    </tr>\n",
       "  </tbody>\n",
       "</table>\n",
       "</div>"
      ],
      "text/plain": [
       "                                                                                                     Hypothesis  \\\n",
       "7              Добавить форму подписки на все основные страницы, чтобы собрать базу клиентов для email-рассылок   \n",
       "2  Добавить блоки рекомендаций товаров на сайт интернет магазина, чтобы повысить конверсию и средний чек заказа   \n",
       "0            Добавить два новых канала привлечения трафика, что позволит привлекать на 30% больше пользователей   \n",
       "6          Показать на главной странице баннеры с актуальными акциями и распродажами, чтобы увеличить конверсию   \n",
       "8                                                       Запустить акцию, дающую скидку на товар в день рождения   \n",
       "3           Изменить структура категорий, что увеличит конверсию, т.к. пользователи быстрее найдут нужный товар   \n",
       "1                                     Запустить собственную службу доставки, что сократит срок доставки заказов   \n",
       "5                      Добавить страницу отзывов клиентов о магазине, что позволит увеличить количество заказов   \n",
       "4                              Изменить цвет фона главной страницы, чтобы увеличить вовлеченность пользователей   \n",
       "\n",
       "     ice   rice  \n",
       "7  11.20  112.0  \n",
       "2   7.00   56.0  \n",
       "0  13.33   40.0  \n",
       "6   8.00   40.0  \n",
       "8  16.20   16.2  \n",
       "3   1.12    9.0  \n",
       "1   2.00    4.0  \n",
       "5   1.33    4.0  \n",
       "4   1.00    3.0  "
      ]
     },
     "metadata": {},
     "output_type": "display_data"
    }
   ],
   "source": [
    "hypothesis['rice'] = round((hypothesis['Reach'] * hypothesis['Impact'] * hypothesis['Confidence']) / hypothesis['Efforts'], 2)\n",
    "display(hypothesis[['Hypothesis', 'ice', 'rice']].sort_values(by='rice', ascending=False))"
   ]
  },
  {
   "cell_type": "markdown",
   "metadata": {},
   "source": [
    "**Выводы:**  Добавив в уранение оценку охвата гипотезы, приоритетность заметно меняется. Самой перспективной, с двойным отрывом от ближайшего конкурента, стала гипотеза с индексом 7 - \"Добавить форму подписки на все основные страницы, чтобы собрать базу клиентов для email-рассылок\" (коэффициент приоритета по RICE равен 112). Это произошло, главным образом за счет максимальной оценки охвата аудитории - 10. В то время, как наиболее успешная, с точки зрения оценки ICE, гипотеза с индексом 8 - \"Запустить акцию, дающую скидку на товар в день рождения\", имеет оценку охвата всего лишь единицу."
   ]
  },
  {
   "cell_type": "markdown",
   "metadata": {},
   "source": [
    "### Анализ A/B-теста"
   ]
  },
  {
   "cell_type": "code",
   "execution_count": 5,
   "metadata": {},
   "outputs": [
    {
     "data": {
      "text/html": [
       "<div>\n",
       "<style scoped>\n",
       "    .dataframe tbody tr th:only-of-type {\n",
       "        vertical-align: middle;\n",
       "    }\n",
       "\n",
       "    .dataframe tbody tr th {\n",
       "        vertical-align: top;\n",
       "    }\n",
       "\n",
       "    .dataframe thead th {\n",
       "        text-align: right;\n",
       "    }\n",
       "</style>\n",
       "<table border=\"1\" class=\"dataframe\">\n",
       "  <thead>\n",
       "    <tr style=\"text-align: right;\">\n",
       "      <th></th>\n",
       "      <th>transactionId</th>\n",
       "      <th>visitorId</th>\n",
       "      <th>date</th>\n",
       "      <th>revenue</th>\n",
       "      <th>group</th>\n",
       "    </tr>\n",
       "  </thead>\n",
       "  <tbody>\n",
       "    <tr>\n",
       "      <th>0</th>\n",
       "      <td>3667963787</td>\n",
       "      <td>3312258926</td>\n",
       "      <td>2019-08-15</td>\n",
       "      <td>1650</td>\n",
       "      <td>B</td>\n",
       "    </tr>\n",
       "    <tr>\n",
       "      <th>1</th>\n",
       "      <td>2804400009</td>\n",
       "      <td>3642806036</td>\n",
       "      <td>2019-08-15</td>\n",
       "      <td>730</td>\n",
       "      <td>B</td>\n",
       "    </tr>\n",
       "    <tr>\n",
       "      <th>2</th>\n",
       "      <td>2961555356</td>\n",
       "      <td>4069496402</td>\n",
       "      <td>2019-08-15</td>\n",
       "      <td>400</td>\n",
       "      <td>A</td>\n",
       "    </tr>\n",
       "    <tr>\n",
       "      <th>3</th>\n",
       "      <td>3797467345</td>\n",
       "      <td>1196621759</td>\n",
       "      <td>2019-08-15</td>\n",
       "      <td>9759</td>\n",
       "      <td>B</td>\n",
       "    </tr>\n",
       "    <tr>\n",
       "      <th>4</th>\n",
       "      <td>2282983706</td>\n",
       "      <td>2322279887</td>\n",
       "      <td>2019-08-15</td>\n",
       "      <td>2308</td>\n",
       "      <td>B</td>\n",
       "    </tr>\n",
       "  </tbody>\n",
       "</table>\n",
       "</div>"
      ],
      "text/plain": [
       "   transactionId   visitorId       date  revenue group\n",
       "0     3667963787  3312258926 2019-08-15     1650     B\n",
       "1     2804400009  3642806036 2019-08-15      730     B\n",
       "2     2961555356  4069496402 2019-08-15      400     A\n",
       "3     3797467345  1196621759 2019-08-15     9759     B\n",
       "4     2282983706  2322279887 2019-08-15     2308     B"
      ]
     },
     "execution_count": 5,
     "metadata": {},
     "output_type": "execute_result"
    }
   ],
   "source": [
    "# Сохраним данные из второго csv-файла в переменной orders. Выведем на экран первые 5 строк датафрейма:\n",
    "pth3='/datasets/orders.csv'\n",
    "pth4='/Users/User//Downloads/datasets/orders.csv'\n",
    "\n",
    "if os.path.exists(pth3):\n",
    "    orders = pd.read_csv(pth3)\n",
    "elif os.path.exists(pth4):\n",
    "    orders = pd.read_csv(pth4)\n",
    "else:\n",
    "    print('Проверьте правильность пути к датасету')\n",
    "\n",
    "orders['date'] = orders['date'].map(lambda x: dt.datetime.strptime(x, '%Y-%m-%d'))\n",
    "\n",
    "orders.head()"
   ]
  },
  {
   "cell_type": "code",
   "execution_count": 6,
   "metadata": {},
   "outputs": [
    {
     "data": {
      "text/html": [
       "<div>\n",
       "<style scoped>\n",
       "    .dataframe tbody tr th:only-of-type {\n",
       "        vertical-align: middle;\n",
       "    }\n",
       "\n",
       "    .dataframe tbody tr th {\n",
       "        vertical-align: top;\n",
       "    }\n",
       "\n",
       "    .dataframe thead th {\n",
       "        text-align: right;\n",
       "    }\n",
       "</style>\n",
       "<table border=\"1\" class=\"dataframe\">\n",
       "  <thead>\n",
       "    <tr style=\"text-align: right;\">\n",
       "      <th></th>\n",
       "      <th>date</th>\n",
       "      <th>group</th>\n",
       "      <th>visitors</th>\n",
       "    </tr>\n",
       "  </thead>\n",
       "  <tbody>\n",
       "    <tr>\n",
       "      <th>0</th>\n",
       "      <td>2019-08-01</td>\n",
       "      <td>A</td>\n",
       "      <td>719</td>\n",
       "    </tr>\n",
       "    <tr>\n",
       "      <th>1</th>\n",
       "      <td>2019-08-02</td>\n",
       "      <td>A</td>\n",
       "      <td>619</td>\n",
       "    </tr>\n",
       "    <tr>\n",
       "      <th>2</th>\n",
       "      <td>2019-08-03</td>\n",
       "      <td>A</td>\n",
       "      <td>507</td>\n",
       "    </tr>\n",
       "    <tr>\n",
       "      <th>3</th>\n",
       "      <td>2019-08-04</td>\n",
       "      <td>A</td>\n",
       "      <td>717</td>\n",
       "    </tr>\n",
       "    <tr>\n",
       "      <th>4</th>\n",
       "      <td>2019-08-05</td>\n",
       "      <td>A</td>\n",
       "      <td>756</td>\n",
       "    </tr>\n",
       "  </tbody>\n",
       "</table>\n",
       "</div>"
      ],
      "text/plain": [
       "        date group  visitors\n",
       "0 2019-08-01     A       719\n",
       "1 2019-08-02     A       619\n",
       "2 2019-08-03     A       507\n",
       "3 2019-08-04     A       717\n",
       "4 2019-08-05     A       756"
      ]
     },
     "execution_count": 6,
     "metadata": {},
     "output_type": "execute_result"
    }
   ],
   "source": [
    "# Сохраним данные из третьего csv-файла в переменной visitors. Выведем на экран первые 5 строк датафрейма:\n",
    "pth5='/datasets/visitors.csv'\n",
    "pth6='/Users/User//Downloads/datasets/visitors.csv'\n",
    "\n",
    "if os.path.exists(pth5):\n",
    "    visitors = pd.read_csv(pth5)\n",
    "elif os.path.exists(pth6):\n",
    "    visitors = pd.read_csv(pth6)\n",
    "else:\n",
    "    print('Проверьте правильность пути к датасету')\n",
    "\n",
    "visitors['date'] = visitors['date'].map(lambda x: dt.datetime.strptime(x, '%Y-%m-%d'))\n",
    "\n",
    "visitors.head()"
   ]
  },
  {
   "cell_type": "code",
   "execution_count": 7,
   "metadata": {},
   "outputs": [
    {
     "name": "stdout",
     "output_type": "stream",
     "text": [
      "<class 'pandas.core.frame.DataFrame'>\n",
      "RangeIndex: 1197 entries, 0 to 1196\n",
      "Data columns (total 5 columns):\n",
      " #   Column         Non-Null Count  Dtype         \n",
      "---  ------         --------------  -----         \n",
      " 0   transactionId  1197 non-null   int64         \n",
      " 1   visitorId      1197 non-null   int64         \n",
      " 2   date           1197 non-null   datetime64[ns]\n",
      " 3   revenue        1197 non-null   int64         \n",
      " 4   group          1197 non-null   object        \n",
      "dtypes: datetime64[ns](1), int64(3), object(1)\n",
      "memory usage: 46.9+ KB\n"
     ]
    },
    {
     "data": {
      "text/plain": [
       "None"
      ]
     },
     "metadata": {},
     "output_type": "display_data"
    },
    {
     "name": "stdout",
     "output_type": "stream",
     "text": [
      "<class 'pandas.core.frame.DataFrame'>\n",
      "RangeIndex: 62 entries, 0 to 61\n",
      "Data columns (total 3 columns):\n",
      " #   Column    Non-Null Count  Dtype         \n",
      "---  ------    --------------  -----         \n",
      " 0   date      62 non-null     datetime64[ns]\n",
      " 1   group     62 non-null     object        \n",
      " 2   visitors  62 non-null     int64         \n",
      "dtypes: datetime64[ns](1), int64(1), object(1)\n",
      "memory usage: 1.6+ KB\n"
     ]
    },
    {
     "data": {
      "text/plain": [
       "None"
      ]
     },
     "metadata": {},
     "output_type": "display_data"
    }
   ],
   "source": [
    "# Выведем общую информацию о датафреймах:\n",
    "display(orders.info())\n",
    "display(visitors.info())"
   ]
  },
  {
   "cell_type": "markdown",
   "metadata": {},
   "source": [
    "**Пропуски отсутствуют**"
   ]
  },
  {
   "cell_type": "code",
   "execution_count": 8,
   "metadata": {},
   "outputs": [
    {
     "name": "stdout",
     "output_type": "stream",
     "text": [
      "Количество дубликатов в датафрейме orders: 0\n",
      "Количество дубликатов в датафрейме visitors: 0\n"
     ]
    }
   ],
   "source": [
    "print('Количество дубликатов в датафрейме orders:', orders.duplicated().sum())\n",
    "print('Количество дубликатов в датафрейме visitors:', visitors.duplicated().sum())"
   ]
  },
  {
   "cell_type": "markdown",
   "metadata": {},
   "source": [
    "**Явные дубликаты отсутствуют**"
   ]
  },
  {
   "cell_type": "code",
   "execution_count": 9,
   "metadata": {},
   "outputs": [
    {
     "name": "stdout",
     "output_type": "stream",
     "text": [
      "       visitors\n",
      "group          \n",
      "A         18736\n",
      "B         18916\n",
      "...\n",
      "group\n",
      "A    503\n",
      "B    586\n",
      "Name: visitorId, dtype: int64\n",
      "...\n",
      "Дата начала теста: 2019-08-01\n",
      "Дата окончания теста: 2019-08-31\n",
      "...\n",
      "group    58\n",
      "dtype: int64\n",
      "...\n"
     ]
    },
    {
     "data": {
      "image/png": "[encoded data removed]",
      "text/plain": [
       "<Figure size 1080x360 with 1 Axes>"
      ]
     },
     "metadata": {
      "needs_background": "light"
     },
     "output_type": "display_data"
    },
    {
     "data": {
      "image/png": "[encoded data removed]",
      "text/plain": [
       "<Figure size 1080x360 with 1 Axes>"
      ]
     },
     "metadata": {
      "needs_background": "light"
     },
     "output_type": "display_data"
    }
   ],
   "source": [
    "# Посмотрим на распределение участников AB-теста по группам:\n",
    "print(visitors.groupby('group').sum())\n",
    "print('...')\n",
    "\n",
    "# Посмотрим на распределение участников AB-теста, совершивших хотя бы одну покупку, по группам:\n",
    "print(orders.groupby('group')['visitorId'].nunique())\n",
    "print('...')\n",
    "\n",
    "# Определим период проведения теста:\n",
    "print('Дата начала теста:', visitors['date'].dt.date.min())\n",
    "print('Дата окончания теста:', visitors['date'].dt.date.max())\n",
    "print('...')\n",
    "\n",
    "# Проверяем сколько пользователей попало одновременно в обе группы:\n",
    "print(orders.groupby('visitorId').agg({'group' : 'nunique'}).query('group>1').count())\n",
    "print('...')\n",
    "\n",
    "# Отобразим динамику посетителей группы А по дням:\n",
    "visitors.query('group == \"A\"').pivot_table(index='date', values='visitors'\n",
    "            ).sort_values(by='date', ascending=True)\\\n",
    "            .plot(kind='bar', figsize=(15, 5), title='Количество посетителей группы A по дням', \n",
    "            xlabel='День', ylabel='Количество посетителей')\n",
    "plt.show()\n",
    "\n",
    "# Отобразим динамику посетителей группы B по дням:\n",
    "visitors.query('group == \"B\"').pivot_table(index='date', values='visitors'\n",
    "            ).sort_values(by='date', ascending=True)\\\n",
    "            .plot(kind='bar', figsize=(15, 5), title='Количество посетителей группы B по дням', \n",
    "            xlabel='День', ylabel='Количество посетителей')\n",
    "plt.show()"
   ]
  },
  {
   "cell_type": "markdown",
   "metadata": {},
   "source": [
    "**2.1. Построим график кумулятивной выручки по группам:**"
   ]
  },
  {
   "cell_type": "code",
   "execution_count": 10,
   "metadata": {},
   "outputs": [
    {
     "data": {
      "text/html": [
       "<div>\n",
       "<style scoped>\n",
       "    .dataframe tbody tr th:only-of-type {\n",
       "        vertical-align: middle;\n",
       "    }\n",
       "\n",
       "    .dataframe tbody tr th {\n",
       "        vertical-align: top;\n",
       "    }\n",
       "\n",
       "    .dataframe thead th {\n",
       "        text-align: right;\n",
       "    }\n",
       "</style>\n",
       "<table border=\"1\" class=\"dataframe\">\n",
       "  <thead>\n",
       "    <tr style=\"text-align: right;\">\n",
       "      <th></th>\n",
       "      <th>date</th>\n",
       "      <th>group</th>\n",
       "      <th>orders</th>\n",
       "      <th>buyers</th>\n",
       "      <th>revenue</th>\n",
       "      <th>visitors</th>\n",
       "    </tr>\n",
       "  </thead>\n",
       "  <tbody>\n",
       "    <tr>\n",
       "      <th>0</th>\n",
       "      <td>2019-08-01</td>\n",
       "      <td>A</td>\n",
       "      <td>24</td>\n",
       "      <td>20</td>\n",
       "      <td>148579</td>\n",
       "      <td>719</td>\n",
       "    </tr>\n",
       "    <tr>\n",
       "      <th>1</th>\n",
       "      <td>2019-08-01</td>\n",
       "      <td>B</td>\n",
       "      <td>21</td>\n",
       "      <td>20</td>\n",
       "      <td>101217</td>\n",
       "      <td>713</td>\n",
       "    </tr>\n",
       "    <tr>\n",
       "      <th>2</th>\n",
       "      <td>2019-08-02</td>\n",
       "      <td>A</td>\n",
       "      <td>44</td>\n",
       "      <td>38</td>\n",
       "      <td>242401</td>\n",
       "      <td>1338</td>\n",
       "    </tr>\n",
       "    <tr>\n",
       "      <th>3</th>\n",
       "      <td>2019-08-02</td>\n",
       "      <td>B</td>\n",
       "      <td>45</td>\n",
       "      <td>43</td>\n",
       "      <td>266748</td>\n",
       "      <td>1294</td>\n",
       "    </tr>\n",
       "    <tr>\n",
       "      <th>4</th>\n",
       "      <td>2019-08-03</td>\n",
       "      <td>A</td>\n",
       "      <td>68</td>\n",
       "      <td>62</td>\n",
       "      <td>354874</td>\n",
       "      <td>1845</td>\n",
       "    </tr>\n",
       "  </tbody>\n",
       "</table>\n",
       "</div>"
      ],
      "text/plain": [
       "        date group  orders  buyers  revenue  visitors\n",
       "0 2019-08-01     A      24      20   148579       719\n",
       "1 2019-08-01     B      21      20   101217       713\n",
       "2 2019-08-02     A      44      38   242401      1338\n",
       "3 2019-08-02     B      45      43   266748      1294\n",
       "4 2019-08-03     A      68      62   354874      1845"
      ]
     },
     "execution_count": 10,
     "metadata": {},
     "output_type": "execute_result"
    }
   ],
   "source": [
    "# создаем массив уникальных пар значений дат и групп теста:\n",
    "datesGroups = orders[['date','group']].drop_duplicates()\n",
    "\n",
    "# получаем агрегированные кумулятивные по дням данные о заказах: \n",
    "ordersAggregated = datesGroups.apply(lambda x: orders[np.logical_and(orders['date'] <= x['date'], orders['group'] == x['group'])].agg({'date' : 'max', 'group' : 'max', 'transactionId' : 'nunique', 'visitorId' : 'nunique', 'revenue' : 'sum'}), axis=1).sort_values(by=['date','group'])\n",
    "\n",
    "# получаем агрегированные кумулятивные по дням данные о посетителях интернет-магазина: \n",
    "visitorsAggregated = datesGroups.apply(lambda x: visitors[np.logical_and(visitors['date'] <= x['date'], visitors['group'] == x['group'])].agg({'date' : 'max', 'group' : 'max', 'visitors' : 'sum'}), axis=1).sort_values(by=['date','group'])\n",
    "\n",
    "# объединяем кумулятивные данные в одной таблице и присваиваем ее столбцам понятные названия:\n",
    "cumulativeData = ordersAggregated.merge(visitorsAggregated, left_on=['date', 'group'], right_on=['date', 'group'])\n",
    "cumulativeData.columns = ['date', 'group', 'orders', 'buyers', 'revenue', 'visitors']\n",
    "\n",
    "cumulativeData.head()"
   ]
  },
  {
   "cell_type": "code",
   "execution_count": 11,
   "metadata": {},
   "outputs": [
    {
     "name": "stdout",
     "output_type": "stream",
     "text": [
      "Минимум в cumulativeData: 2019-08-01\n",
      "Максимум в cumulativeData: 2019-08-31\n"
     ]
    }
   ],
   "source": [
    "# Проверим, корректно ли был создан датафрейм cumulativeData.\n",
    "# Посмотрим, совпадают ли минимальные и максимальные даты нового и исходных датафреймов (были определены ранее):\n",
    "print('Минимум в cumulativeData:', cumulativeData['date'].dt.date.min())\n",
    "print('Максимум в cumulativeData:', cumulativeData['date'].dt.date.max())"
   ]
  },
  {
   "cell_type": "markdown",
   "metadata": {},
   "source": [
    "**Крайние даты нового и исходных датафреймов - идентичны!**"
   ]
  },
  {
   "cell_type": "code",
   "execution_count": 12,
   "metadata": {},
   "outputs": [
    {
     "data": {
      "image/png": "[encoded data removed]",
      "text/plain": [
       "<Figure size 720x360 with 1 Axes>"
      ]
     },
     "metadata": {
      "needs_background": "light"
     },
     "output_type": "display_data"
    }
   ],
   "source": [
    "# датафрейм с кумулятивным количеством заказов и кумулятивной выручкой по дням в группе А\n",
    "cumulativeRevenueA = cumulativeData[cumulativeData['group']=='A'][['date','revenue', 'orders']]\n",
    "\n",
    "# датафрейм с кумулятивным количеством заказов и кумулятивной выручкой по дням в группе B\n",
    "cumulativeRevenueB = cumulativeData[cumulativeData['group']=='B'][['date','revenue', 'orders']]\n",
    "\n",
    "# Строим график выручки по группам\n",
    "fig, axs = plt.subplots(figsize=(10, 5))\n",
    "plt.plot(cumulativeRevenueA['date'], cumulativeRevenueA['revenue'], label='A')\n",
    "plt.plot(cumulativeRevenueB['date'], cumulativeRevenueB['revenue'], label='B')\n",
    "\n",
    "plt.title(\"Кумулятивная выручка по группам\")\n",
    "plt.ylabel(\"Выручка, млн.руб.\")\n",
    "plt.xlabel(\"Дата\")\n",
    "plt.legend()\n",
    "plt.show()"
   ]
  },
  {
   "cell_type": "markdown",
   "metadata": {},
   "source": [
    "**Выводы:** \n",
    "\n",
    "* Выручка у группы А равномерно увеличивается в течение всего теста. \n",
    "* Однако график выручки группы В имеет резкий рост в середине эксперимента. Это может быть признаком либо резкого роста числа заказов, либо о появления очень дорогих заказов в выборке."
   ]
  },
  {
   "cell_type": "markdown",
   "metadata": {},
   "source": [
    "**2.2. Построим график кумулятивного среднего чека по группам:**"
   ]
  },
  {
   "cell_type": "code",
   "execution_count": 13,
   "metadata": {},
   "outputs": [
    {
     "data": {
      "image/png": "[encoded data removed]",
      "text/plain": [
       "<Figure size 720x360 with 1 Axes>"
      ]
     },
     "metadata": {
      "needs_background": "light"
     },
     "output_type": "display_data"
    }
   ],
   "source": [
    "fig, axs = plt.subplots(figsize=(10, 5))\n",
    "plt.plot(cumulativeRevenueA['date'], cumulativeRevenueA['revenue']/cumulativeRevenueA['orders'], label='A')\n",
    "plt.plot(cumulativeRevenueB['date'], cumulativeRevenueB['revenue']/cumulativeRevenueB['orders'], label='B')\n",
    "plt.title(\"Кумулятивный средний чек по группам\")\n",
    "plt.ylabel(\"Средний чек (руб.)\")\n",
    "plt.xlabel(\"Дата\")\n",
    "plt.legend()\n",
    "plt.show()"
   ]
  },
  {
   "cell_type": "markdown",
   "metadata": {},
   "source": [
    "**Выводы:**\n",
    "\n",
    "* Средний чек группы А тоже становится боле-менее равномерным ближе к концу теста\n",
    "* Однако у группы В также виден резкий скачок вверх. Скорее всего, ближе к концу теста, туда попали очень большие заказы, что логично объясняет данный всплеск. В связи с этим, нужно больше данных, чтобы определить реальный средний чек данной группы."
   ]
  },
  {
   "cell_type": "markdown",
   "metadata": {},
   "source": [
    "**2.3. Построим график относительного изменения кумулятивного среднего чека группы B к группе A:**"
   ]
  },
  {
   "cell_type": "code",
   "execution_count": 14,
   "metadata": {},
   "outputs": [
    {
     "data": {
      "image/png": "[encoded data removed]",
      "text/plain": [
       "<Figure size 720x360 with 1 Axes>"
      ]
     },
     "metadata": {
      "needs_background": "light"
     },
     "output_type": "display_data"
    }
   ],
   "source": [
    "# собираем данные в одном датафрейме\n",
    "mergedCumulativeRevenue = cumulativeRevenueA.merge(cumulativeRevenueB, left_on='date', right_on='date', how='left', suffixes=['A', 'B'])\n",
    "\n",
    "# cтроим отношение средних чеков\n",
    "fig, axs = plt.subplots(figsize=(10, 5))\n",
    "plt.plot(mergedCumulativeRevenue['date'], (mergedCumulativeRevenue['revenueB']/mergedCumulativeRevenue['ordersB'])/(mergedCumulativeRevenue['revenueA']/mergedCumulativeRevenue['ordersA'])-1)\n",
    "\n",
    "# добавляем ось X\n",
    "plt.title(\"Относительное изменения кумулятивного среднего чека группы B к группе A\")\n",
    "plt.ylabel(\"Изменение\")\n",
    "plt.xlabel(\"Дата\")\n",
    "plt.axhline(y=0, color='black', linestyle='--')\n",
    "plt.show()"
   ]
  },
  {
   "cell_type": "markdown",
   "metadata": {},
   "source": [
    "**Выводы:** На графике отчетливо видно несколько резких скачков то вверх, то вниз. Это подтверждает наличие выбросов (аномально дорогих покупок)."
   ]
  },
  {
   "cell_type": "markdown",
   "metadata": {},
   "source": [
    "**2.4. Построим график кумулятивного среднего количества заказов на посетителя по группам:**"
   ]
  },
  {
   "cell_type": "code",
   "execution_count": 15,
   "metadata": {},
   "outputs": [
    {
     "data": {
      "image/png": "[encoded data removed]",
      "text/plain": [
       "<Figure size 720x360 with 1 Axes>"
      ]
     },
     "metadata": {
      "needs_background": "light"
     },
     "output_type": "display_data"
    }
   ],
   "source": [
    "# считаем кумулятивную конверсию\n",
    "cumulativeData['conversion'] = cumulativeData['orders']/cumulativeData['visitors']\n",
    "\n",
    "# отделяем данные по группам:\n",
    "cumulativeDataA = cumulativeData[cumulativeData['group']=='A']\n",
    "cumulativeDataB = cumulativeData[cumulativeData['group']=='B']\n",
    "\n",
    "# строим графики\n",
    "fig, axs = plt.subplots(figsize=(10, 5))\n",
    "plt.plot(cumulativeDataA['date'], cumulativeDataA['conversion'], label='A')\n",
    "plt.plot(cumulativeDataB['date'], cumulativeDataB['conversion'], label='B')\n",
    "plt.axis([dt.datetime(2019,8,1), dt.datetime(2019,9,1), 0, 0.05])\n",
    "plt.title(\"Кумулятивное среднее количество заказов\")\n",
    "plt.ylabel(\"Количество заказов на одного посетителя\")\n",
    "plt.xlabel(\"Дата\")\n",
    "plt.legend()\n",
    "plt.show()"
   ]
  },
  {
   "cell_type": "markdown",
   "metadata": {},
   "source": [
    "**Выводы:** \n",
    "* На выходе мы получили симметричный график. В начале цикла (до 5 августа) обе группы шли по схожему графику, с небольшим опережением группы А. \n",
    "* Однако  конверсия группы А началадемонстрировать резкое снижение и к 13 августа зафиксировалась в районе 0,030 без резких рывков. \n",
    "* В свою очередь, группа В наоборот - продемонстрировала рост, начиная с 5 августа, и, к середине теста, располажилась на уровне 0,035."
   ]
  },
  {
   "cell_type": "markdown",
   "metadata": {},
   "source": [
    "**2.5. Построим график относительного изменения кумулятивного среднего количества заказов на посетителя группы B к группе A:**"
   ]
  },
  {
   "cell_type": "code",
   "execution_count": 16,
   "metadata": {},
   "outputs": [
    {
     "data": {
      "image/png": "[encoded data removed]",
      "text/plain": [
       "<Figure size 720x360 with 1 Axes>"
      ]
     },
     "metadata": {
      "needs_background": "light"
     },
     "output_type": "display_data"
    }
   ],
   "source": [
    "mergedCumulativeConversions = cumulativeDataA[['date','conversion']].merge(cumulativeDataB[['date','conversion']], left_on='date', right_on='date', how='left', suffixes=['A', 'B'])\n",
    "\n",
    "fig, axs = plt.subplots(figsize=(10, 5))\n",
    "plt.plot(mergedCumulativeConversions['date'], mergedCumulativeConversions['conversionB']/mergedCumulativeConversions['conversionA']-1, label=\"Относительный прирост конверсии группы B относительно группы A\")\n",
    "plt.legend()\n",
    "\n",
    "plt.title(\"Относительное изменения кумулятивного среднего количества заказов на посетителя группы B к группе A\")\n",
    "plt.ylabel(\"Изменение\")\n",
    "plt.xlabel(\"Дата\")\n",
    "plt.axhline(y=0, color='black', linestyle='--')\n",
    "plt.axis([dt.datetime(2019,8,1), dt.datetime(2019,9,1), -0.4, 0.4])\n",
    "\n",
    "plt.show()"
   ]
  },
  {
   "cell_type": "markdown",
   "metadata": {},
   "source": [
    "**Выводы:** \n",
    "\n",
    "* В начале теста, группа В уступала группе А.\n",
    "* Однако уже буквально на третий день начала демонстрировать рост и к 15 августа выходит пик (в сравнении с группой А), после чего слегка опускается и стабилизируется."
   ]
  },
  {
   "cell_type": "markdown",
   "metadata": {},
   "source": [
    "**2.6. Построим точечный график количества заказов по пользователям:**"
   ]
  },
  {
   "cell_type": "code",
   "execution_count": 17,
   "metadata": {},
   "outputs": [
    {
     "name": "stdout",
     "output_type": "stream",
     "text": [
      "       visitorId  orders\n",
      "1023  4256040402      11\n",
      "591   2458001652      11\n",
      "569   2378935119       9\n",
      "487   2038680547       8\n",
      "44     199603092       5\n",
      "744   3062433592       5\n",
      "55     237748145       5\n",
      "917   3803269165       5\n",
      "299   1230306981       5\n",
      "897   3717692402       5\n"
     ]
    }
   ],
   "source": [
    "# Подсчитаем количество заказов по пользователям:\n",
    "ordersByUsers = (orders.groupby('visitorId', as_index=False).agg({'transactionId': 'nunique'}))\n",
    "\n",
    "ordersByUsers.columns = ['visitorId', 'orders']\n",
    "\n",
    "print(ordersByUsers.sort_values(by='orders', ascending=False).head(10))\n"
   ]
  },
  {
   "cell_type": "code",
   "execution_count": 18,
   "metadata": {},
   "outputs": [
    {
     "data": {
      "image/png": "[encoded data removed]",
      "text/plain": [
       "<Figure size 432x288 with 1 Axes>"
      ]
     },
     "metadata": {
      "needs_background": "light"
     },
     "output_type": "display_data"
    }
   ],
   "source": [
    "x_values = pd.Series(range(0,len(ordersByUsers)))\n",
    "\n",
    "plt.scatter(x_values, ordersByUsers['orders'])\n",
    "plt.title(\"Точечный график количества заказов по пользователям\")\n",
    "plt.ylabel(\"КОличество заказов\")\n",
    "plt.show()"
   ]
  },
  {
   "cell_type": "markdown",
   "metadata": {},
   "source": [
    "**2.7. Посчитаем 95-й и 99-й перцентили количества заказов на пользователя:**"
   ]
  },
  {
   "cell_type": "code",
   "execution_count": 19,
   "metadata": {},
   "outputs": [
    {
     "name": "stdout",
     "output_type": "stream",
     "text": [
      "[2. 4.]\n"
     ]
    }
   ],
   "source": [
    "print(np.percentile(ordersByUsers['orders'], [95, 99]))"
   ]
  },
  {
   "cell_type": "markdown",
   "metadata": {},
   "source": [
    "**Выводы:**\n",
    "\n",
    "* Не более 5% пользователей совершило 2 покупки и не более 1% оформили 4 и более заказа.\n",
    "* Т.к. исходя из графика, 4 заказа оформили всего 3 пользователя, ограничимся верхней границей в 3 заказа. Пользователей, с 4 и более заказами признаем аномалиями."
   ]
  },
  {
   "cell_type": "markdown",
   "metadata": {},
   "source": [
    "**2.8. Построим точечный график стоимостей заказов:**"
   ]
  },
  {
   "cell_type": "code",
   "execution_count": 20,
   "metadata": {},
   "outputs": [
    {
     "data": {
      "image/png": "[encoded data removed]",
      "text/plain": [
       "<Figure size 432x288 with 1 Axes>"
      ]
     },
     "metadata": {
      "needs_background": "light"
     },
     "output_type": "display_data"
    }
   ],
   "source": [
    "x_values = pd.Series(range(0,len(orders['revenue'])))\n",
    "plt.scatter(x_values, orders['revenue'])\n",
    "plt.title(\"Точечный график стоимостей заказов по пользователям\")\n",
    "plt.ylabel(\"Стоимость заказа, млн.руб.\")\n",
    "plt.show()"
   ]
  },
  {
   "cell_type": "markdown",
   "metadata": {},
   "source": [
    "**2.9. Посчитаем 95-й и 99-й перцентили стоимости заказов:**"
   ]
  },
  {
   "cell_type": "code",
   "execution_count": 21,
   "metadata": {},
   "outputs": [
    {
     "name": "stdout",
     "output_type": "stream",
     "text": [
      "[28000.  35485.  58233.2]\n"
     ]
    }
   ],
   "source": [
    "print(np.percentile(orders['revenue'], [95, 97, 99]))"
   ]
  },
  {
   "cell_type": "markdown",
   "metadata": {},
   "source": [
    "**Выводы:**\n",
    "\n",
    "* Не более 5% заказов дороже 28 000 рублей и не более 1% дороже 58 233 рублей.\n",
    "* На графике видно 2 четкие аномалии - на отметках ~ 200 000 и 1 300 000 рублей.\n",
    "* Принято решение считать за аномальные, значения выше 97 персентиля (как промежуточный показатель между 95 и 97м) , т.к. они могут значительно исказить данные."
   ]
  },
  {
   "cell_type": "markdown",
   "metadata": {},
   "source": [
    "**2.10. Посчитаем статистическую значимость различий в среднем количестве заказов на посетителя между группами по «сырым» данным:**"
   ]
  },
  {
   "cell_type": "code",
   "execution_count": 22,
   "metadata": {},
   "outputs": [],
   "source": [
    "# Подготовим данные:\n",
    "visitorsADaily = visitors[visitors['group'] == 'A'][['date', 'visitors']]\n",
    "visitorsADaily.columns = ['date', 'visitorsPerDateA']\n",
    "\n",
    "visitorsACummulative = visitorsADaily.apply(\n",
    "    lambda x: visitorsADaily[visitorsADaily['date'] <= x['date']].agg(\n",
    "        {'date': 'max', 'visitorsPerDateA': 'sum'}\n",
    "    ),\n",
    "    axis=1,\n",
    ")\n",
    "visitorsACummulative.columns = ['date', 'visitorsCummulativeA']\n",
    "\n",
    "visitorsBDaily = visitors[visitors['group'] == 'B'][['date', 'visitors']]\n",
    "visitorsBDaily.columns = ['date', 'visitorsPerDateB']\n",
    "\n",
    "visitorsBCummulative = visitorsBDaily.apply(\n",
    "    lambda x: visitorsBDaily[visitorsBDaily['date'] <= x['date']].agg(\n",
    "        {'date': 'max', 'visitorsPerDateB': 'sum'}\n",
    "    ),\n",
    "    axis=1,\n",
    ")\n",
    "visitorsBCummulative.columns = ['date', 'visitorsCummulativeB']\n",
    "\n",
    "ordersADaily = (\n",
    "    orders[orders['group'] == 'A'][['date', 'transactionId', 'visitorId', 'revenue']]\n",
    "    .groupby('date', as_index=False)\n",
    "    .agg({'transactionId': pd.Series.nunique, 'revenue': 'sum'})\n",
    ")\n",
    "ordersADaily.columns = ['date', 'ordersPerDateA', 'revenuePerDateA']\n",
    "\n",
    "ordersACummulative = ordersADaily.apply(\n",
    "    lambda x: ordersADaily[ordersADaily['date'] <= x['date']].agg(\n",
    "        {'date': 'max', 'ordersPerDateA': 'sum', 'revenuePerDateA': 'sum'}\n",
    "    ),\n",
    "    axis=1,\n",
    ").sort_values(by=['date'])\n",
    "ordersACummulative.columns = [\n",
    "    'date',\n",
    "    'ordersCummulativeA',\n",
    "    'revenueCummulativeA',\n",
    "]\n",
    "\n",
    "ordersBDaily = (\n",
    "    orders[orders['group'] == 'B'][['date', 'transactionId', 'visitorId', 'revenue']]\n",
    "    .groupby('date', as_index=False)\n",
    "    .agg({'transactionId': pd.Series.nunique, 'revenue': 'sum'})\n",
    ")\n",
    "ordersBDaily.columns = ['date', 'ordersPerDateB', 'revenuePerDateB']\n",
    "\n",
    "ordersBCummulative = ordersBDaily.apply(\n",
    "    lambda x: ordersBDaily[ordersBDaily['date'] <= x['date']].agg(\n",
    "        {'date': 'max', 'ordersPerDateB': 'sum', 'revenuePerDateB': 'sum'}\n",
    "    ),\n",
    "    axis=1,\n",
    ").sort_values(by=['date'])\n",
    "ordersBCummulative.columns = [\n",
    "    'date',\n",
    "    'ordersCummulativeB',\n",
    "    'revenueCummulativeB',\n",
    "]\n",
    "\n",
    "data = (\n",
    "    ordersADaily.merge(\n",
    "        ordersBDaily, left_on='date', right_on='date', how='left'\n",
    "    )\n",
    "    .merge(ordersACummulative, left_on='date', right_on='date', how='left')\n",
    "    .merge(ordersBCummulative, left_on='date', right_on='date', how='left')\n",
    "    .merge(visitorsADaily, left_on='date', right_on='date', how='left')\n",
    "    .merge(visitorsBDaily, left_on='date', right_on='date', how='left')\n",
    "    .merge(visitorsACummulative, left_on='date', right_on='date', how='left')\n",
    "    .merge(visitorsBCummulative, left_on='date', right_on='date', how='left')\n",
    ")"
   ]
  },
  {
   "cell_type": "markdown",
   "metadata": {},
   "source": [
    "**Выдвинем гипотезы:**\n",
    "\n",
    "* H0: различия в количестве заказов между группами отсутствуют.\n",
    "* H1: различия в количестве заказов между группами присутствуют."
   ]
  },
  {
   "cell_type": "code",
   "execution_count": 23,
   "metadata": {},
   "outputs": [
    {
     "name": "stdout",
     "output_type": "stream",
     "text": [
      "p-value: 0.017\n",
      "Отвергаем нулевую гипотезу\n",
      "Относительный рост среднего числа заказов группы B к результатам группы А составляет 13.81%\n"
     ]
    }
   ],
   "source": [
    "# Посчитаем статистическую значимость различия в среднем количестве заказов между группами:\n",
    "ordersByUsersA = (\n",
    "    orders[orders['group'] == 'A']\n",
    "    .groupby('visitorId', as_index=False)\n",
    "    .agg({'transactionId': pd.Series.nunique})\n",
    ")\n",
    "ordersByUsersA.columns = ['visitorId', 'orders']\n",
    "\n",
    "ordersByUsersB = (\n",
    "    orders[orders['group'] == 'B']\n",
    "    .groupby('visitorId', as_index=False)\n",
    "    .agg({'transactionId': pd.Series.nunique})\n",
    ")\n",
    "ordersByUsersB.columns = ['visitorId', 'orders']\n",
    "\n",
    "sampleA = pd.concat(\n",
    "    [\n",
    "        ordersByUsersA['orders'],\n",
    "        pd.Series(\n",
    "            0,\n",
    "            index=np.arange(\n",
    "                data['visitorsPerDateA'].sum() - len(ordersByUsersA['orders'])\n",
    "            ),\n",
    "            name='orders',\n",
    "        ),\n",
    "    ],\n",
    "    axis=0,\n",
    ")\n",
    "\n",
    "sampleB = pd.concat(\n",
    "    [\n",
    "        ordersByUsersB['orders'],\n",
    "        pd.Series(\n",
    "            0,\n",
    "            index=np.arange(\n",
    "                data['visitorsPerDateB'].sum() - len(ordersByUsersB['orders'])\n",
    "            ),\n",
    "            name='orders',\n",
    "        ),\n",
    "    ],\n",
    "    axis=0,\n",
    ")\n",
    "\n",
    "print('p-value:', \"{0:.3f}\".format(stats.mannwhitneyu(sampleA, sampleB)[1]))\n",
    "if (float(stats.mannwhitneyu(sampleA, sampleB)[1]) > 0.05):\n",
    "    print(\"Не получилось отвергнуть нулевую гипотезу\")\n",
    "else:\n",
    "    print(\"Отвергаем нулевую гипотезу\") \n",
    "print('Относительный рост среднего числа заказов группы B к результатам группы А составляет', \"{0:.2%}\".format(sampleB.mean() / sampleA.mean() - 1))"
   ]
  },
  {
   "cell_type": "markdown",
   "metadata": {},
   "source": [
    "**Выводы:**\n",
    "\n",
    "* По «сырым» данным различия в среднем числе заказов между группами A и B - имеются.\n",
    "* Показатель p-value значительно меньше 0,05, что дает нам полное право отвергнуть нулевую гипотезу о том, что статистически значимых различий в среднем числе заказов между группами нет. \n",
    "* Относительный прирост среднего числа заказов группы B к результатам группы А составляет 13.81%"
   ]
  },
  {
   "cell_type": "markdown",
   "metadata": {},
   "source": [
    "**2.11. Посчитаем статистическую значимость различий в среднем чеке заказа между группами по «сырым» данным:**"
   ]
  },
  {
   "cell_type": "markdown",
   "metadata": {},
   "source": [
    "**Зададим гипотезы:**\n",
    "\n",
    "* H0: различия в среднем чеке заказа между клиентами из разных групп отсутствуют.\n",
    "* H1: различия в среднем чеке заказа между клиентами из разных групп присутствуют."
   ]
  },
  {
   "cell_type": "code",
   "execution_count": 24,
   "metadata": {},
   "outputs": [
    {
     "name": "stdout",
     "output_type": "stream",
     "text": [
      "p-value: 0.729\n",
      "Не получилось отвергнуть нулевую гипотезу\n",
      "Относительный рост среднего чека группы B к среднему чеку группы А составляет 25.87%\n"
     ]
    }
   ],
   "source": [
    "print('p-value:', '{0:.3f}'.format(stats.mannwhitneyu(orders[orders['group']=='A']['revenue'], orders[orders['group']=='B']['revenue'])[1]))\n",
    "if (float('{0:.3f}'.format(stats.mannwhitneyu(orders[orders['group']=='A']['revenue'], orders[orders['group']=='B']['revenue'])[1])) > 0.05):\n",
    "    print(\"Не получилось отвергнуть нулевую гипотезу\")\n",
    "else:\n",
    "    print(\"Отвергаем нулевую гипотезу\") \n",
    "print('Относительный рост среднего чека группы B к среднему чеку группы А составляет','{0:.2%}'.format(orders[orders['group']=='B']['revenue'].mean()/orders[orders['group']=='A']['revenue'].mean()-1))"
   ]
  },
  {
   "cell_type": "markdown",
   "metadata": {},
   "source": [
    "**Выводы:**\n",
    "* P-value больше 0,05 – следовательно статистически значимых отличий в среднем чеке между группами нет. \n",
    "* Относительное различие между средними чеками сегментов составляет 25,87%"
   ]
  },
  {
   "cell_type": "markdown",
   "metadata": {},
   "source": [
    "**2.12. Посчитаем статистическую значимость различий в среднем количестве заказов на посетителя между группами по «очищенным» данным:**"
   ]
  },
  {
   "cell_type": "code",
   "execution_count": 25,
   "metadata": {},
   "outputs": [
    {
     "name": "stdout",
     "output_type": "stream",
     "text": [
      "1099    148427295\n",
      "18      199603092\n",
      "23      237748145\n",
      "684     358944393\n",
      "648     382846391\n",
      "Name: visitorId, dtype: int64\n",
      "42\n"
     ]
    }
   ],
   "source": [
    "# Очистим данные от аномальных значений:\n",
    "usersWithManyOrders = pd.concat(\n",
    "    [\n",
    "        ordersByUsersA[ordersByUsersA['orders'] >= np.percentile(ordersByUsers['orders'], 99)]['visitorId'],\n",
    "        ordersByUsersB[ordersByUsersB['orders'] >= np.percentile(ordersByUsers['orders'], 99)]['visitorId'],\n",
    "    ],\n",
    "    axis=0,\n",
    ")\n",
    "usersWithExpensiveOrders = orders[orders['revenue'] >= np.percentile(orders['revenue'], 97)]['visitorId']\n",
    "abnormalUsers = (\n",
    "    pd.concat([usersWithManyOrders, usersWithExpensiveOrders], axis=0)\n",
    "    .drop_duplicates()\n",
    "    .sort_values()\n",
    ")\n",
    "\n",
    "print(abnormalUsers.head(5))\n",
    "print(abnormalUsers.shape[0])"
   ]
  },
  {
   "cell_type": "markdown",
   "metadata": {},
   "source": [
    "**Всего выявлено 42 аномальных пользователя**"
   ]
  },
  {
   "cell_type": "code",
   "execution_count": 26,
   "metadata": {},
   "outputs": [
    {
     "name": "stdout",
     "output_type": "stream",
     "text": [
      "0.014\n",
      "15.49%\n"
     ]
    }
   ],
   "source": [
    "# Посчитаем статистическую значимость различия среднего количества заказов после удаления аномальных пользователей:\n",
    "sampleAFiltered = pd.concat(\n",
    "    [\n",
    "        ordersByUsersA[\n",
    "            np.logical_not(ordersByUsersA['visitorId'].isin(abnormalUsers))\n",
    "        ]['orders'],\n",
    "        pd.Series(\n",
    "            0,\n",
    "            index=np.arange(\n",
    "                data['visitorsPerDateA'].sum() - len(ordersByUsersA['orders'])\n",
    "            ),\n",
    "            name='orders',\n",
    "        ),\n",
    "    ],\n",
    "    axis=0,\n",
    ")\n",
    "\n",
    "sampleBFiltered = pd.concat(\n",
    "    [\n",
    "        ordersByUsersB[\n",
    "            np.logical_not(ordersByUsersB['visitorId'].isin(abnormalUsers))\n",
    "        ]['orders'],\n",
    "        pd.Series(\n",
    "            0,\n",
    "            index=np.arange(\n",
    "                data['visitorsPerDateB'].sum() - len(ordersByUsersB['orders'])\n",
    "            ),\n",
    "            name='orders',\n",
    "        ),\n",
    "    ],\n",
    "    axis=0,\n",
    ")\n",
    "\n",
    "print('{0:.3f}'.format(stats.mannwhitneyu(sampleAFiltered, sampleBFiltered)[1]))\n",
    "print('{0:.2%}'.format(sampleBFiltered.mean()/sampleAFiltered.mean()-1))\n"
   ]
  },
  {
   "cell_type": "markdown",
   "metadata": {},
   "source": [
    "**Выводы:**\n",
    "* Результаты по среднему количеству заказов практически не изменились. \n",
    "* P-значение уменьшилось на 0,003. Статистически значимые различия в среднем числе заказов между группами A и B - по прежнему имеются.\n",
    "* Относительный рост среднего числа заказов группы B к группе А - увеличился на 1,65%"
   ]
  },
  {
   "cell_type": "markdown",
   "metadata": {},
   "source": [
    "**2.13. Посчитаем статистическую значимость различий в среднем чеке между группами по «очищенным» данным:**"
   ]
  },
  {
   "cell_type": "code",
   "execution_count": 27,
   "metadata": {},
   "outputs": [
    {
     "name": "stdout",
     "output_type": "stream",
     "text": [
      "0.87\n",
      "2.47%\n"
     ]
    }
   ],
   "source": [
    "# Посчитаем статистическую значимость различия средних чеков после удаления аномальных пользователей:\n",
    "print(\n",
    "    '{0:.2f}'.format(\n",
    "        stats.mannwhitneyu(\n",
    "            orders[\n",
    "                np.logical_and(\n",
    "                    orders['group'] == 'A',\n",
    "                    np.logical_not(orders['visitorId'].isin(abnormalUsers)),\n",
    "                )\n",
    "            ]['revenue'],\n",
    "            orders[\n",
    "                np.logical_and(\n",
    "                    orders['group'] == 'B',\n",
    "                    np.logical_not(orders['visitorId'].isin(abnormalUsers)),\n",
    "                )\n",
    "            ]['revenue'],\n",
    "        )[1]\n",
    "    )\n",
    ")\n",
    "\n",
    "print(\n",
    "    \"{0:.2%}\".format(\n",
    "        orders[\n",
    "            np.logical_and(\n",
    "                orders['group'] == 'B',\n",
    "                np.logical_not(orders['visitorId'].isin(abnormalUsers)),\n",
    "            )\n",
    "        ]['revenue'].mean()\n",
    "        / orders[\n",
    "            np.logical_and(\n",
    "                orders['group'] == 'A',\n",
    "                np.logical_not(orders['visitorId'].isin(abnormalUsers)),\n",
    "            )\n",
    "        ]['revenue'].mean()\n",
    "        - 1\n",
    "    )\n",
    ")"
   ]
  },
  {
   "cell_type": "markdown",
   "metadata": {},
   "source": [
    "**Выводы:**\n",
    "* Результаты по среднему чеку, наоборот, существенно преобразовались. \n",
    "* P-значение увеличилось на 0,16. Что усилило тот факт, что статистически значимых отличий по среднему чеку между группами нет.\n",
    "* А вот относительный рост среднего числа заказов группы B к группе А - сократился аж на 23,58% и в итоге составил 2,29%. Это вполне подтверждает выявленные ранее на графиках, аномальные скачки в поведении кривой группы B."
   ]
  },
  {
   "cell_type": "markdown",
   "metadata": {},
   "source": [
    "**2.14. Принимаем решение по результатам теста:**\n",
    "\n",
    "* Имеет место наличие статистически значимых различий по среднему количеству заказов между группами A и B, причем как по «сырым», так и по данным после фильтрации аномалий;\n",
    "* Нет статистически значимого различия по среднему чеку между группами - ни по «сырым», ни по данным после фильтрации аномалий;\n",
    "* График различия среднего количества заказов между группами дает четкое представление о том, что результаты группы B в значительной степени превосходят аналогичные показатели группы А.\n",
    "* График различия среднего чека свиделеьствует о том, что результаты группы B резко выросли в районе 20 августа, за счет аномально дорогой продажи общей суммой примерно 1,2 млн.руб. Дальнейшая кривая логично показывает небольшой спад (за счет нормальзации средней стоимости заказов).\n",
    "\n",
    "**Подводя итог, опираясь на вышеуказанные факты, тест следует остановить и признать его успешным. Группа B статистически значимо лучше группы A по обеим метрикам, а график конверсии говорит о стабилизации результата.**"
   ]
  }
 ],
 "metadata": {
  "ExecuteTimeLog": [
   {
    "duration": 575,
    "start_time": "2023-04-03T14:20:12.217Z"
   },
   {
    "duration": 148,
    "start_time": "2023-04-03T14:20:31.221Z"
   },
   {
    "duration": 169,
    "start_time": "2023-04-03T14:20:54.094Z"
   },
   {
    "duration": 6,
    "start_time": "2023-04-03T14:21:06.415Z"
   },
   {
    "duration": 50,
    "start_time": "2023-04-03T14:21:11.564Z"
   },
   {
    "duration": 45,
    "start_time": "2023-04-03T14:21:25.266Z"
   },
   {
    "duration": 11,
    "start_time": "2023-04-03T14:28:18.507Z"
   },
   {
    "duration": 15,
    "start_time": "2023-04-03T14:29:00.421Z"
   },
   {
    "duration": 111,
    "start_time": "2023-04-03T14:30:01.206Z"
   },
   {
    "duration": 22,
    "start_time": "2023-04-03T14:30:14.600Z"
   },
   {
    "duration": 11,
    "start_time": "2023-04-03T14:41:53.376Z"
   },
   {
    "duration": 17,
    "start_time": "2023-04-03T14:42:20.284Z"
   },
   {
    "duration": 44,
    "start_time": "2023-04-03T14:47:00.545Z"
   },
   {
    "duration": 496,
    "start_time": "2023-04-03T14:47:28.403Z"
   },
   {
    "duration": 40,
    "start_time": "2023-04-03T14:47:28.905Z"
   },
   {
    "duration": 16,
    "start_time": "2023-04-03T14:47:28.947Z"
   },
   {
    "duration": 59,
    "start_time": "2023-04-03T14:47:28.966Z"
   },
   {
    "duration": 21,
    "start_time": "2023-04-03T14:56:29.907Z"
   },
   {
    "duration": 105,
    "start_time": "2023-04-03T14:57:30.052Z"
   },
   {
    "duration": 17,
    "start_time": "2023-04-03T14:57:37.364Z"
   },
   {
    "duration": 505,
    "start_time": "2023-04-03T14:57:53.800Z"
   },
   {
    "duration": 35,
    "start_time": "2023-04-03T14:57:54.308Z"
   },
   {
    "duration": 12,
    "start_time": "2023-04-03T14:57:54.345Z"
   },
   {
    "duration": 12,
    "start_time": "2023-04-03T14:57:54.360Z"
   },
   {
    "duration": 73,
    "start_time": "2023-04-03T15:20:22.242Z"
   },
   {
    "duration": 13,
    "start_time": "2023-04-03T15:20:26.812Z"
   },
   {
    "duration": 435,
    "start_time": "2023-04-03T15:20:46.344Z"
   },
   {
    "duration": 59,
    "start_time": "2023-04-03T15:20:46.782Z"
   },
   {
    "duration": 24,
    "start_time": "2023-04-03T15:20:46.844Z"
   },
   {
    "duration": 55,
    "start_time": "2023-04-03T15:20:46.870Z"
   },
   {
    "duration": 1411,
    "start_time": "2023-04-03T15:26:40.763Z"
   },
   {
    "duration": 50,
    "start_time": "2023-04-03T15:29:28.252Z"
   },
   {
    "duration": 37,
    "start_time": "2023-04-03T15:29:40.048Z"
   },
   {
    "duration": 1117,
    "start_time": "2023-04-03T15:31:56.537Z"
   },
   {
    "duration": 40,
    "start_time": "2023-04-03T15:31:59.309Z"
   },
   {
    "duration": 12,
    "start_time": "2023-04-03T15:32:02.309Z"
   },
   {
    "duration": 20,
    "start_time": "2023-04-03T15:32:12.629Z"
   },
   {
    "duration": 152,
    "start_time": "2023-04-03T15:32:18.433Z"
   },
   {
    "duration": 1248,
    "start_time": "2023-04-03T15:40:38.109Z"
   },
   {
    "duration": 36,
    "start_time": "2023-04-03T15:40:39.359Z"
   },
   {
    "duration": 10,
    "start_time": "2023-04-03T15:40:39.397Z"
   },
   {
    "duration": 20,
    "start_time": "2023-04-03T15:40:39.409Z"
   },
   {
    "duration": 52,
    "start_time": "2023-04-03T15:40:39.432Z"
   },
   {
    "duration": 100,
    "start_time": "2023-04-03T15:40:39.486Z"
   },
   {
    "duration": 1201,
    "start_time": "2023-04-03T15:41:26.235Z"
   },
   {
    "duration": 37,
    "start_time": "2023-04-03T15:41:27.439Z"
   },
   {
    "duration": 11,
    "start_time": "2023-04-03T15:41:27.479Z"
   },
   {
    "duration": 12,
    "start_time": "2023-04-03T15:41:27.492Z"
   },
   {
    "duration": 53,
    "start_time": "2023-04-03T15:41:27.507Z"
   },
   {
    "duration": 22,
    "start_time": "2023-04-03T15:41:27.562Z"
   },
   {
    "duration": 1451,
    "start_time": "2023-04-03T20:37:21.911Z"
   },
   {
    "duration": 67,
    "start_time": "2023-04-03T20:37:23.364Z"
   },
   {
    "duration": 9,
    "start_time": "2023-04-03T20:37:23.433Z"
   },
   {
    "duration": 8,
    "start_time": "2023-04-03T20:37:23.444Z"
   },
   {
    "duration": 99,
    "start_time": "2023-04-03T20:37:23.454Z"
   },
   {
    "duration": 61,
    "start_time": "2023-04-03T20:37:23.555Z"
   },
   {
    "duration": 308,
    "start_time": "2023-04-03T20:37:23.618Z"
   },
   {
    "duration": 303,
    "start_time": "2023-04-03T20:37:23.927Z"
   },
   {
    "duration": 201,
    "start_time": "2023-04-03T20:37:24.232Z"
   },
   {
    "duration": 383,
    "start_time": "2023-04-03T20:37:24.436Z"
   },
   {
    "duration": 218,
    "start_time": "2023-04-03T20:37:24.821Z"
   },
   {
    "duration": 322,
    "start_time": "2023-04-03T20:37:25.041Z"
   },
   {
    "duration": 10,
    "start_time": "2023-04-03T20:37:25.364Z"
   },
   {
    "duration": 142,
    "start_time": "2023-04-03T20:37:25.375Z"
   },
   {
    "duration": 5,
    "start_time": "2023-04-03T20:37:25.519Z"
   },
   {
    "duration": 154,
    "start_time": "2023-04-03T20:37:25.526Z"
   },
   {
    "duration": 4,
    "start_time": "2023-04-03T20:37:25.682Z"
   },
   {
    "duration": 255,
    "start_time": "2023-04-03T20:37:25.688Z"
   },
   {
    "duration": 204,
    "start_time": "2023-04-03T20:37:25.945Z"
   },
   {
    "duration": 60,
    "start_time": "2023-04-04T08:36:03.468Z"
   },
   {
    "duration": 1445,
    "start_time": "2023-04-04T08:36:15.868Z"
   },
   {
    "duration": 108,
    "start_time": "2023-04-04T08:36:17.316Z"
   },
   {
    "duration": 9,
    "start_time": "2023-04-04T08:36:17.426Z"
   },
   {
    "duration": 48,
    "start_time": "2023-04-04T08:36:17.437Z"
   },
   {
    "duration": 167,
    "start_time": "2023-04-04T08:36:17.490Z"
   },
   {
    "duration": 96,
    "start_time": "2023-04-04T08:36:17.660Z"
   },
   {
    "duration": 362,
    "start_time": "2023-04-04T08:36:17.758Z"
   },
   {
    "duration": 336,
    "start_time": "2023-04-04T08:36:18.122Z"
   },
   {
    "duration": 212,
    "start_time": "2023-04-04T08:36:18.460Z"
   },
   {
    "duration": 369,
    "start_time": "2023-04-04T08:36:18.675Z"
   },
   {
    "duration": 215,
    "start_time": "2023-04-04T08:36:19.045Z"
   },
   {
    "duration": 374,
    "start_time": "2023-04-04T08:36:19.262Z"
   },
   {
    "duration": 9,
    "start_time": "2023-04-04T08:36:19.637Z"
   },
   {
    "duration": 159,
    "start_time": "2023-04-04T08:36:19.648Z"
   },
   {
    "duration": 11,
    "start_time": "2023-04-04T08:36:19.808Z"
   },
   {
    "duration": 178,
    "start_time": "2023-04-04T08:36:19.821Z"
   },
   {
    "duration": 12,
    "start_time": "2023-04-04T08:36:20.000Z"
   },
   {
    "duration": 241,
    "start_time": "2023-04-04T08:36:20.015Z"
   },
   {
    "duration": 193,
    "start_time": "2023-04-04T08:36:20.258Z"
   },
   {
    "duration": 12,
    "start_time": "2023-04-04T08:36:25.209Z"
   },
   {
    "duration": 152,
    "start_time": "2023-04-04T08:49:11.225Z"
   },
   {
    "duration": 280,
    "start_time": "2023-04-04T08:49:19.569Z"
   },
   {
    "duration": 260,
    "start_time": "2023-04-04T08:49:29.501Z"
   },
   {
    "duration": 156,
    "start_time": "2023-04-04T08:49:37.200Z"
   },
   {
    "duration": 242,
    "start_time": "2023-04-04T08:49:54.704Z"
   },
   {
    "duration": 209,
    "start_time": "2023-04-04T08:50:43.649Z"
   },
   {
    "duration": 188,
    "start_time": "2023-04-04T08:50:50.264Z"
   },
   {
    "duration": 7,
    "start_time": "2023-04-04T08:51:44.367Z"
   },
   {
    "duration": 15,
    "start_time": "2023-04-04T08:54:46.775Z"
   },
   {
    "duration": 47,
    "start_time": "2023-04-04T08:56:27.138Z"
   },
   {
    "duration": 46,
    "start_time": "2023-04-04T08:56:44.002Z"
   },
   {
    "duration": 39,
    "start_time": "2023-04-04T08:56:50.884Z"
   },
   {
    "duration": 21,
    "start_time": "2023-04-04T08:58:43.961Z"
   },
   {
    "duration": 17,
    "start_time": "2023-04-04T08:58:57.731Z"
   },
   {
    "duration": 15,
    "start_time": "2023-04-04T08:59:04.336Z"
   },
   {
    "duration": 16,
    "start_time": "2023-04-04T08:59:11.448Z"
   },
   {
    "duration": 19,
    "start_time": "2023-04-04T08:59:20.431Z"
   },
   {
    "duration": 11,
    "start_time": "2023-04-04T09:03:04.469Z"
   },
   {
    "duration": 1221,
    "start_time": "2023-04-04T09:19:21.053Z"
   },
   {
    "duration": 53,
    "start_time": "2023-04-04T09:19:22.276Z"
   },
   {
    "duration": 27,
    "start_time": "2023-04-04T09:19:22.331Z"
   },
   {
    "duration": 37,
    "start_time": "2023-04-04T09:19:22.361Z"
   },
   {
    "duration": 129,
    "start_time": "2023-04-04T09:19:22.400Z"
   },
   {
    "duration": 24,
    "start_time": "2023-04-04T09:19:22.531Z"
   },
   {
    "duration": 324,
    "start_time": "2023-04-04T09:19:22.557Z"
   },
   {
    "duration": 294,
    "start_time": "2023-04-04T09:19:22.884Z"
   },
   {
    "duration": 206,
    "start_time": "2023-04-04T09:19:23.179Z"
   },
   {
    "duration": 301,
    "start_time": "2023-04-04T09:19:23.388Z"
   },
   {
    "duration": 208,
    "start_time": "2023-04-04T09:19:23.691Z"
   },
   {
    "duration": 343,
    "start_time": "2023-04-04T09:19:23.901Z"
   },
   {
    "duration": 10,
    "start_time": "2023-04-04T09:19:24.246Z"
   },
   {
    "duration": 169,
    "start_time": "2023-04-04T09:19:24.257Z"
   },
   {
    "duration": 4,
    "start_time": "2023-04-04T09:19:24.428Z"
   },
   {
    "duration": 186,
    "start_time": "2023-04-04T09:19:24.434Z"
   },
   {
    "duration": 4,
    "start_time": "2023-04-04T09:19:24.622Z"
   },
   {
    "duration": 248,
    "start_time": "2023-04-04T09:19:24.627Z"
   },
   {
    "duration": 265,
    "start_time": "2023-04-04T09:19:24.877Z"
   },
   {
    "duration": 9,
    "start_time": "2023-04-04T09:19:25.143Z"
   },
   {
    "duration": 37,
    "start_time": "2023-04-04T09:19:25.153Z"
   },
   {
    "duration": 57,
    "start_time": "2023-04-04T09:19:25.192Z"
   },
   {
    "duration": 27,
    "start_time": "2023-04-04T09:19:25.251Z"
   },
   {
    "duration": 1112,
    "start_time": "2023-04-04T09:56:59.923Z"
   },
   {
    "duration": 37,
    "start_time": "2023-04-04T09:57:01.037Z"
   },
   {
    "duration": 47,
    "start_time": "2023-04-04T09:57:01.076Z"
   },
   {
    "duration": 79,
    "start_time": "2023-04-04T09:57:01.125Z"
   },
   {
    "duration": 100,
    "start_time": "2023-04-04T09:57:01.206Z"
   },
   {
    "duration": 22,
    "start_time": "2023-04-04T09:57:01.308Z"
   },
   {
    "duration": 324,
    "start_time": "2023-04-04T09:57:01.332Z"
   },
   {
    "duration": 289,
    "start_time": "2023-04-04T09:57:01.657Z"
   },
   {
    "duration": 197,
    "start_time": "2023-04-04T09:57:01.948Z"
   },
   {
    "duration": 317,
    "start_time": "2023-04-04T09:57:02.147Z"
   },
   {
    "duration": 205,
    "start_time": "2023-04-04T09:57:02.465Z"
   },
   {
    "duration": 345,
    "start_time": "2023-04-04T09:57:02.672Z"
   },
   {
    "duration": 9,
    "start_time": "2023-04-04T09:57:03.018Z"
   },
   {
    "duration": 167,
    "start_time": "2023-04-04T09:57:03.029Z"
   },
   {
    "duration": 4,
    "start_time": "2023-04-04T09:57:03.198Z"
   },
   {
    "duration": 154,
    "start_time": "2023-04-04T09:57:03.203Z"
   },
   {
    "duration": 4,
    "start_time": "2023-04-04T09:57:03.359Z"
   },
   {
    "duration": 218,
    "start_time": "2023-04-04T09:57:03.365Z"
   },
   {
    "duration": 173,
    "start_time": "2023-04-04T09:57:03.585Z"
   },
   {
    "duration": 23,
    "start_time": "2023-04-04T09:57:03.760Z"
   },
   {
    "duration": 23,
    "start_time": "2023-04-04T09:57:03.785Z"
   },
   {
    "duration": 60,
    "start_time": "2023-04-04T09:57:03.809Z"
   },
   {
    "duration": 13,
    "start_time": "2023-04-04T09:57:03.870Z"
   },
   {
    "duration": 1127,
    "start_time": "2023-04-04T15:19:28.881Z"
   },
   {
    "duration": 77,
    "start_time": "2023-04-04T15:19:30.010Z"
   },
   {
    "duration": 9,
    "start_time": "2023-04-04T15:19:30.089Z"
   },
   {
    "duration": 25,
    "start_time": "2023-04-04T15:19:30.099Z"
   },
   {
    "duration": 116,
    "start_time": "2023-04-04T15:19:30.125Z"
   },
   {
    "duration": 72,
    "start_time": "2023-04-04T15:19:30.243Z"
   },
   {
    "duration": 268,
    "start_time": "2023-04-04T15:19:30.317Z"
   },
   {
    "duration": 261,
    "start_time": "2023-04-04T15:19:30.587Z"
   },
   {
    "duration": 183,
    "start_time": "2023-04-04T15:19:30.849Z"
   },
   {
    "duration": 275,
    "start_time": "2023-04-04T15:19:31.033Z"
   },
   {
    "duration": 180,
    "start_time": "2023-04-04T15:19:31.310Z"
   },
   {
    "duration": 298,
    "start_time": "2023-04-04T15:19:31.491Z"
   },
   {
    "duration": 8,
    "start_time": "2023-04-04T15:19:31.790Z"
   },
   {
    "duration": 131,
    "start_time": "2023-04-04T15:19:31.800Z"
   },
   {
    "duration": 4,
    "start_time": "2023-04-04T15:19:31.932Z"
   },
   {
    "duration": 158,
    "start_time": "2023-04-04T15:19:31.938Z"
   },
   {
    "duration": 5,
    "start_time": "2023-04-04T15:19:32.098Z"
   },
   {
    "duration": 233,
    "start_time": "2023-04-04T15:19:32.104Z"
   },
   {
    "duration": 164,
    "start_time": "2023-04-04T15:19:32.339Z"
   },
   {
    "duration": 10,
    "start_time": "2023-04-04T15:19:32.505Z"
   },
   {
    "duration": 9,
    "start_time": "2023-04-04T15:19:32.516Z"
   },
   {
    "duration": 51,
    "start_time": "2023-04-04T15:19:32.527Z"
   },
   {
    "duration": 17,
    "start_time": "2023-04-04T15:19:32.580Z"
   },
   {
    "duration": 49,
    "start_time": "2023-04-04T17:58:47.117Z"
   },
   {
    "duration": 1654,
    "start_time": "2023-04-04T17:59:14.909Z"
   },
   {
    "duration": 91,
    "start_time": "2023-04-04T17:59:19.595Z"
   },
   {
    "duration": 35,
    "start_time": "2023-04-04T18:01:41.004Z"
   },
   {
    "duration": 13,
    "start_time": "2023-04-04T18:03:38.686Z"
   },
   {
    "duration": 14,
    "start_time": "2023-04-04T18:03:56.835Z"
   },
   {
    "duration": 12,
    "start_time": "2023-04-04T18:23:23.607Z"
   },
   {
    "duration": 11,
    "start_time": "2023-04-04T18:23:43.591Z"
   },
   {
    "duration": 17,
    "start_time": "2023-04-04T18:23:47.063Z"
   },
   {
    "duration": 1157,
    "start_time": "2023-04-04T18:24:32.229Z"
   },
   {
    "duration": 47,
    "start_time": "2023-04-04T18:24:35.624Z"
   },
   {
    "duration": 19,
    "start_time": "2023-04-04T18:24:41.329Z"
   },
   {
    "duration": 12,
    "start_time": "2023-04-04T18:24:54.098Z"
   },
   {
    "duration": 142,
    "start_time": "2023-04-04T18:33:56.289Z"
   },
   {
    "duration": 80,
    "start_time": "2023-04-04T18:34:14.738Z"
   },
   {
    "duration": 67,
    "start_time": "2023-04-04T18:34:20.079Z"
   },
   {
    "duration": 96,
    "start_time": "2023-04-04T18:34:24.439Z"
   },
   {
    "duration": 20,
    "start_time": "2023-04-04T18:34:28.417Z"
   },
   {
    "duration": 8,
    "start_time": "2023-04-04T18:36:45.429Z"
   },
   {
    "duration": 7,
    "start_time": "2023-04-04T18:37:11.786Z"
   },
   {
    "duration": 8,
    "start_time": "2023-04-04T18:38:47.120Z"
   },
   {
    "duration": 7,
    "start_time": "2023-04-04T18:38:57.272Z"
   },
   {
    "duration": 300,
    "start_time": "2023-04-04T18:42:31.655Z"
   },
   {
    "duration": 6,
    "start_time": "2023-04-04T18:44:45.113Z"
   },
   {
    "duration": 1147,
    "start_time": "2023-04-04T18:46:02.552Z"
   },
   {
    "duration": 37,
    "start_time": "2023-04-04T18:46:03.701Z"
   },
   {
    "duration": 23,
    "start_time": "2023-04-04T18:46:03.739Z"
   },
   {
    "duration": 11,
    "start_time": "2023-04-04T18:46:03.764Z"
   },
   {
    "duration": 65,
    "start_time": "2023-04-04T18:46:03.776Z"
   },
   {
    "duration": 24,
    "start_time": "2023-04-04T18:46:03.843Z"
   },
   {
    "duration": 18,
    "start_time": "2023-04-04T18:46:03.869Z"
   },
   {
    "duration": 6,
    "start_time": "2023-04-04T18:46:03.889Z"
   },
   {
    "duration": 301,
    "start_time": "2023-04-04T18:46:03.896Z"
   },
   {
    "duration": 7,
    "start_time": "2023-04-04T18:46:13.860Z"
   },
   {
    "duration": 108,
    "start_time": "2023-04-04T18:48:38.697Z"
   },
   {
    "duration": 1163,
    "start_time": "2023-04-04T18:49:56.191Z"
   },
   {
    "duration": 35,
    "start_time": "2023-04-04T18:49:57.357Z"
   },
   {
    "duration": 10,
    "start_time": "2023-04-04T18:49:57.394Z"
   },
   {
    "duration": 30,
    "start_time": "2023-04-04T18:49:57.406Z"
   },
   {
    "duration": 74,
    "start_time": "2023-04-04T18:49:57.438Z"
   },
   {
    "duration": 24,
    "start_time": "2023-04-04T18:49:57.514Z"
   },
   {
    "duration": 30,
    "start_time": "2023-04-04T18:49:57.539Z"
   },
   {
    "duration": 24,
    "start_time": "2023-04-04T18:49:57.570Z"
   },
   {
    "duration": 303,
    "start_time": "2023-04-04T18:49:57.596Z"
   },
   {
    "duration": 5,
    "start_time": "2023-04-04T18:50:00.657Z"
   },
   {
    "duration": 6,
    "start_time": "2023-04-04T18:53:35.703Z"
   },
   {
    "duration": 110,
    "start_time": "2023-04-04T18:54:30.472Z"
   },
   {
    "duration": 8,
    "start_time": "2023-04-04T18:54:39.065Z"
   },
   {
    "duration": 7,
    "start_time": "2023-04-04T18:55:23.380Z"
   },
   {
    "duration": 6,
    "start_time": "2023-04-04T18:55:33.476Z"
   },
   {
    "duration": 7,
    "start_time": "2023-04-04T18:55:51.591Z"
   },
   {
    "duration": 16,
    "start_time": "2023-04-04T18:57:16.261Z"
   },
   {
    "duration": 11,
    "start_time": "2023-04-04T18:57:24.794Z"
   },
   {
    "duration": 10,
    "start_time": "2023-04-04T18:57:50.621Z"
   },
   {
    "duration": 8,
    "start_time": "2023-04-04T18:57:57.895Z"
   },
   {
    "duration": 9,
    "start_time": "2023-04-04T18:58:28.963Z"
   },
   {
    "duration": 1423,
    "start_time": "2023-04-04T19:00:52.436Z"
   },
   {
    "duration": 51,
    "start_time": "2023-04-04T19:00:53.865Z"
   },
   {
    "duration": 15,
    "start_time": "2023-04-04T19:00:53.918Z"
   },
   {
    "duration": 48,
    "start_time": "2023-04-04T19:00:53.934Z"
   },
   {
    "duration": 110,
    "start_time": "2023-04-04T19:00:53.986Z"
   },
   {
    "duration": 28,
    "start_time": "2023-04-04T19:00:54.098Z"
   },
   {
    "duration": 73,
    "start_time": "2023-04-04T19:00:54.128Z"
   },
   {
    "duration": 17,
    "start_time": "2023-04-04T19:00:54.203Z"
   },
   {
    "duration": 321,
    "start_time": "2023-04-04T19:00:54.222Z"
   },
   {
    "duration": 11,
    "start_time": "2023-04-04T19:00:54.545Z"
   },
   {
    "duration": 355,
    "start_time": "2023-04-04T19:00:54.558Z"
   },
   {
    "duration": 235,
    "start_time": "2023-04-04T19:00:54.915Z"
   },
   {
    "duration": 378,
    "start_time": "2023-04-04T19:00:55.157Z"
   },
   {
    "duration": 286,
    "start_time": "2023-04-04T19:00:55.543Z"
   },
   {
    "duration": 407,
    "start_time": "2023-04-04T19:00:55.832Z"
   },
   {
    "duration": 311,
    "start_time": "2023-04-04T19:02:23.766Z"
   },
   {
    "duration": 12,
    "start_time": "2023-04-04T19:02:43.296Z"
   },
   {
    "duration": 150,
    "start_time": "2023-04-04T19:02:45.709Z"
   },
   {
    "duration": 5,
    "start_time": "2023-04-04T19:02:48.994Z"
   },
   {
    "duration": 5,
    "start_time": "2023-04-04T19:03:03.007Z"
   },
   {
    "duration": 6,
    "start_time": "2023-04-04T19:03:12.470Z"
   },
   {
    "duration": 202,
    "start_time": "2023-04-04T19:03:17.318Z"
   },
   {
    "duration": 4,
    "start_time": "2023-04-04T19:03:20.194Z"
   },
   {
    "duration": 17,
    "start_time": "2023-04-04T19:31:36.938Z"
   },
   {
    "duration": 112,
    "start_time": "2023-04-04T19:39:34.887Z"
   },
   {
    "duration": 1273,
    "start_time": "2023-04-04T19:40:01.658Z"
   },
   {
    "duration": 49,
    "start_time": "2023-04-04T19:40:02.933Z"
   },
   {
    "duration": 12,
    "start_time": "2023-04-04T19:40:02.984Z"
   },
   {
    "duration": 34,
    "start_time": "2023-04-04T19:40:02.999Z"
   },
   {
    "duration": 133,
    "start_time": "2023-04-04T19:40:03.035Z"
   },
   {
    "duration": 25,
    "start_time": "2023-04-04T19:40:03.170Z"
   },
   {
    "duration": 52,
    "start_time": "2023-04-04T19:40:03.196Z"
   },
   {
    "duration": 27,
    "start_time": "2023-04-04T19:40:03.249Z"
   },
   {
    "duration": 309,
    "start_time": "2023-04-04T19:40:03.278Z"
   },
   {
    "duration": 12,
    "start_time": "2023-04-04T19:40:03.591Z"
   },
   {
    "duration": 301,
    "start_time": "2023-04-04T19:40:03.605Z"
   },
   {
    "duration": 196,
    "start_time": "2023-04-04T19:40:03.907Z"
   },
   {
    "duration": 337,
    "start_time": "2023-04-04T19:40:04.104Z"
   },
   {
    "duration": 204,
    "start_time": "2023-04-04T19:40:04.445Z"
   },
   {
    "duration": 337,
    "start_time": "2023-04-04T19:40:04.651Z"
   },
   {
    "duration": 9,
    "start_time": "2023-04-04T19:40:04.990Z"
   },
   {
    "duration": 174,
    "start_time": "2023-04-04T19:40:05.000Z"
   },
   {
    "duration": 5,
    "start_time": "2023-04-04T19:40:05.177Z"
   },
   {
    "duration": 168,
    "start_time": "2023-04-04T19:40:05.184Z"
   },
   {
    "duration": 5,
    "start_time": "2023-04-04T19:40:05.354Z"
   },
   {
    "duration": 218,
    "start_time": "2023-04-04T19:40:05.361Z"
   },
   {
    "duration": 177,
    "start_time": "2023-04-04T19:40:05.581Z"
   },
   {
    "duration": 18,
    "start_time": "2023-04-04T19:40:05.761Z"
   },
   {
    "duration": 17,
    "start_time": "2023-04-04T19:40:05.782Z"
   },
   {
    "duration": 67,
    "start_time": "2023-04-04T19:40:40.888Z"
   },
   {
    "duration": 27,
    "start_time": "2023-04-04T19:41:08.500Z"
   },
   {
    "duration": 15,
    "start_time": "2023-04-04T19:41:10.583Z"
   },
   {
    "duration": 11,
    "start_time": "2023-04-04T19:54:53.543Z"
   },
   {
    "duration": 9,
    "start_time": "2023-04-04T19:58:10.395Z"
   },
   {
    "duration": 10,
    "start_time": "2023-04-04T19:58:29.858Z"
   },
   {
    "duration": 115,
    "start_time": "2023-04-04T20:00:21.316Z"
   },
   {
    "duration": 18,
    "start_time": "2023-04-04T20:00:32.611Z"
   },
   {
    "duration": 18,
    "start_time": "2023-04-04T20:01:10.860Z"
   },
   {
    "duration": 13,
    "start_time": "2023-04-04T20:01:22.019Z"
   },
   {
    "duration": 25,
    "start_time": "2023-04-04T20:02:41.714Z"
   },
   {
    "duration": 15,
    "start_time": "2023-04-04T20:03:04.529Z"
   },
   {
    "duration": 22,
    "start_time": "2023-04-04T20:03:51.713Z"
   },
   {
    "duration": 18,
    "start_time": "2023-04-04T20:04:49.161Z"
   },
   {
    "duration": 15,
    "start_time": "2023-04-04T20:05:14.213Z"
   },
   {
    "duration": 15,
    "start_time": "2023-04-04T20:06:56.032Z"
   },
   {
    "duration": 7,
    "start_time": "2023-04-04T20:11:12.958Z"
   },
   {
    "duration": 26,
    "start_time": "2023-04-04T20:14:50.475Z"
   },
   {
    "duration": 21,
    "start_time": "2023-04-04T20:16:06.758Z"
   },
   {
    "duration": 20,
    "start_time": "2023-04-04T20:16:27.118Z"
   },
   {
    "duration": 481,
    "start_time": "2023-04-04T20:23:39.381Z"
   },
   {
    "duration": 797,
    "start_time": "2023-04-04T20:26:05.204Z"
   },
   {
    "duration": 1247,
    "start_time": "2023-04-04T20:28:33.020Z"
   },
   {
    "duration": 38,
    "start_time": "2023-04-04T20:28:34.271Z"
   },
   {
    "duration": 17,
    "start_time": "2023-04-04T20:28:34.311Z"
   },
   {
    "duration": 15,
    "start_time": "2023-04-04T20:28:34.329Z"
   },
   {
    "duration": 85,
    "start_time": "2023-04-04T20:28:34.347Z"
   },
   {
    "duration": 38,
    "start_time": "2023-04-04T20:28:34.434Z"
   },
   {
    "duration": 30,
    "start_time": "2023-04-04T20:28:34.474Z"
   },
   {
    "duration": 10,
    "start_time": "2023-04-04T20:28:34.507Z"
   },
   {
    "duration": 879,
    "start_time": "2023-04-04T20:28:34.519Z"
   },
   {
    "duration": 350,
    "start_time": "2023-04-04T20:28:35.401Z"
   },
   {
    "duration": 17,
    "start_time": "2023-04-04T20:28:35.753Z"
   },
   {
    "duration": 407,
    "start_time": "2023-04-04T20:28:35.772Z"
   },
   {
    "duration": 263,
    "start_time": "2023-04-04T20:28:36.181Z"
   },
   {
    "duration": 359,
    "start_time": "2023-04-04T20:28:36.448Z"
   },
   {
    "duration": 251,
    "start_time": "2023-04-04T20:28:36.809Z"
   },
   {
    "duration": 443,
    "start_time": "2023-04-04T20:28:37.062Z"
   },
   {
    "duration": 10,
    "start_time": "2023-04-04T20:28:37.507Z"
   },
   {
    "duration": 162,
    "start_time": "2023-04-04T20:28:37.519Z"
   },
   {
    "duration": 4,
    "start_time": "2023-04-04T20:28:37.683Z"
   },
   {
    "duration": 184,
    "start_time": "2023-04-04T20:28:37.689Z"
   },
   {
    "duration": 5,
    "start_time": "2023-04-04T20:28:37.876Z"
   },
   {
    "duration": 260,
    "start_time": "2023-04-04T20:28:37.883Z"
   },
   {
    "duration": 210,
    "start_time": "2023-04-04T20:28:38.146Z"
   },
   {
    "duration": 19,
    "start_time": "2023-04-04T20:28:38.359Z"
   },
   {
    "duration": 21,
    "start_time": "2023-04-04T20:28:38.380Z"
   },
   {
    "duration": 43,
    "start_time": "2023-04-04T20:28:38.402Z"
   },
   {
    "duration": 19,
    "start_time": "2023-04-04T20:28:38.446Z"
   },
   {
    "duration": 862,
    "start_time": "2023-04-04T20:29:29.506Z"
   },
   {
    "duration": 1237,
    "start_time": "2023-04-04T20:30:00.091Z"
   },
   {
    "duration": 52,
    "start_time": "2023-04-04T20:30:01.330Z"
   },
   {
    "duration": 41,
    "start_time": "2023-04-04T20:30:01.383Z"
   },
   {
    "duration": 47,
    "start_time": "2023-04-04T20:30:01.426Z"
   },
   {
    "duration": 237,
    "start_time": "2023-04-04T20:30:01.475Z"
   },
   {
    "duration": 69,
    "start_time": "2023-04-04T20:30:01.714Z"
   },
   {
    "duration": 89,
    "start_time": "2023-04-04T20:30:01.785Z"
   },
   {
    "duration": 18,
    "start_time": "2023-04-04T20:30:01.875Z"
   },
   {
    "duration": 869,
    "start_time": "2023-04-04T20:30:01.895Z"
   },
   {
    "duration": 349,
    "start_time": "2023-04-04T20:30:02.767Z"
   },
   {
    "duration": 6,
    "start_time": "2023-04-04T20:30:03.118Z"
   },
   {
    "duration": 376,
    "start_time": "2023-04-04T20:30:03.126Z"
   },
   {
    "duration": 249,
    "start_time": "2023-04-04T20:30:03.504Z"
   },
   {
    "duration": 314,
    "start_time": "2023-04-04T20:30:03.755Z"
   },
   {
    "duration": 217,
    "start_time": "2023-04-04T20:30:04.071Z"
   },
   {
    "duration": 417,
    "start_time": "2023-04-04T20:30:04.291Z"
   },
   {
    "duration": 9,
    "start_time": "2023-04-04T20:30:04.710Z"
   },
   {
    "duration": 148,
    "start_time": "2023-04-04T20:30:04.721Z"
   },
   {
    "duration": 5,
    "start_time": "2023-04-04T20:30:04.872Z"
   },
   {
    "duration": 176,
    "start_time": "2023-04-04T20:30:04.879Z"
   },
   {
    "duration": 6,
    "start_time": "2023-04-04T20:30:05.056Z"
   },
   {
    "duration": 258,
    "start_time": "2023-04-04T20:30:05.065Z"
   },
   {
    "duration": 205,
    "start_time": "2023-04-04T20:30:05.325Z"
   },
   {
    "duration": 22,
    "start_time": "2023-04-04T20:30:05.532Z"
   },
   {
    "duration": 28,
    "start_time": "2023-04-04T20:30:05.556Z"
   },
   {
    "duration": 40,
    "start_time": "2023-04-04T20:30:05.587Z"
   },
   {
    "duration": 25,
    "start_time": "2023-04-04T20:30:05.629Z"
   }
  ],
  "kernelspec": {
   "display_name": "Python 3 (ipykernel)",
   "language": "python",
   "name": "python3"
  },
  "language_info": {
   "codemirror_mode": {
    "name": "ipython",
    "version": 3
   },
   "file_extension": ".py",
   "mimetype": "text/x-python",
   "name": "python",
   "nbconvert_exporter": "python",
   "pygments_lexer": "ipython3",
   "version": "3.10.9"
  },
  "toc": {
   "base_numbering": 1,
   "nav_menu": {},
   "number_sections": true,
   "sideBar": true,
   "skip_h1_title": true,
   "title_cell": "Table of Contents",
   "title_sidebar": "Contents",
   "toc_cell": false,
   "toc_position": {},
   "toc_section_display": true,
   "toc_window_display": false
  }
 },
 "nbformat": 4,
 "nbformat_minor": 2
}
